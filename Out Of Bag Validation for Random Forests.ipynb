{
 "cells": [
  {
   "cell_type": "markdown",
   "id": "8846d03f",
   "metadata": {},
   "source": [
    "# The Hidden Validation Set You Might Not Be Using\n",
    "\n",
    "I love Random Forests. Really, I love all decision tree based models.  The concept of learning by partitioning is simple and intuitive and is easy to reason about when you’re trying to understand how a model might be “seeing” your data.\n",
    "\n",
    "For me, unless it’s not a good match for the dataset, a Random Forest is the way I like to start playing around with a dataset.\n",
    "\n",
    "One of the reasons is that some random forest implementations have a built-in validation set of sorts.  If you’re not familiar with “out of bag” validation, it’s an excellent addition to your ML development toolkit that I find is underutilized.  In fact – I almost never run into anybody else who regularly uses it!\n",
    "\n",
    "Check out this notebook in which we explore how out-of-bag validation can speed up your workflow and potentially even give you a more accurate estimate of model performance than your k-fold cross-validation at a fraction of the computational cost!"
   ]
  },
  {
   "cell_type": "code",
   "execution_count": 14,
   "id": "baa7671c",
   "metadata": {},
   "outputs": [],
   "source": [
    "%matplotlib inline\n",
    "from matplotlib import pyplot as plt\n",
    "import pandas as pd\n",
    "import numpy as np\n",
    "\n",
    "from sklearn.datasets import make_regression\n",
    "from sklearn.ensemble import RandomForestRegressor\n",
    "from sklearn.metrics import mean_squared_error"
   ]
  },
  {
   "cell_type": "code",
   "execution_count": 2,
   "id": "0884dbb3",
   "metadata": {},
   "outputs": [],
   "source": [
    "rf_params = dict(n_jobs=-1, n_estimators=256, min_samples_leaf=20)"
   ]
  },
  {
   "cell_type": "code",
   "execution_count": 3,
   "id": "714bc33c",
   "metadata": {},
   "outputs": [
    {
     "data": {
      "text/html": [
       "<div>\n",
       "<style scoped>\n",
       "    .dataframe tbody tr th:only-of-type {\n",
       "        vertical-align: middle;\n",
       "    }\n",
       "\n",
       "    .dataframe tbody tr th {\n",
       "        vertical-align: top;\n",
       "    }\n",
       "\n",
       "    .dataframe thead th {\n",
       "        text-align: right;\n",
       "    }\n",
       "</style>\n",
       "<table border=\"1\" class=\"dataframe\">\n",
       "  <thead>\n",
       "    <tr style=\"text-align: right;\">\n",
       "      <th></th>\n",
       "      <th>0</th>\n",
       "      <th>1</th>\n",
       "      <th>2</th>\n",
       "      <th>3</th>\n",
       "      <th>4</th>\n",
       "      <th>5</th>\n",
       "      <th>6</th>\n",
       "      <th>7</th>\n",
       "      <th>8</th>\n",
       "      <th>9</th>\n",
       "      <th>...</th>\n",
       "      <th>21</th>\n",
       "      <th>22</th>\n",
       "      <th>23</th>\n",
       "      <th>24</th>\n",
       "      <th>25</th>\n",
       "      <th>26</th>\n",
       "      <th>27</th>\n",
       "      <th>28</th>\n",
       "      <th>29</th>\n",
       "      <th>target</th>\n",
       "    </tr>\n",
       "  </thead>\n",
       "  <tbody>\n",
       "    <tr>\n",
       "      <th>0</th>\n",
       "      <td>-0.032432</td>\n",
       "      <td>-0.013066</td>\n",
       "      <td>0.004673</td>\n",
       "      <td>-0.017611</td>\n",
       "      <td>0.035532</td>\n",
       "      <td>-0.014728</td>\n",
       "      <td>-0.014885</td>\n",
       "      <td>-0.005247</td>\n",
       "      <td>0.003580</td>\n",
       "      <td>-0.008661</td>\n",
       "      <td>...</td>\n",
       "      <td>-0.007763</td>\n",
       "      <td>0.016018</td>\n",
       "      <td>-0.017136</td>\n",
       "      <td>-0.025479</td>\n",
       "      <td>-0.038388</td>\n",
       "      <td>-0.032405</td>\n",
       "      <td>-0.004957</td>\n",
       "      <td>-0.005976</td>\n",
       "      <td>-0.016520</td>\n",
       "      <td>-1.007347</td>\n",
       "    </tr>\n",
       "    <tr>\n",
       "      <th>1</th>\n",
       "      <td>0.008624</td>\n",
       "      <td>-0.032773</td>\n",
       "      <td>-0.020031</td>\n",
       "      <td>0.020145</td>\n",
       "      <td>-0.006798</td>\n",
       "      <td>0.003736</td>\n",
       "      <td>0.023822</td>\n",
       "      <td>-0.040737</td>\n",
       "      <td>0.025638</td>\n",
       "      <td>-0.004040</td>\n",
       "      <td>...</td>\n",
       "      <td>-0.031387</td>\n",
       "      <td>-0.014356</td>\n",
       "      <td>0.001716</td>\n",
       "      <td>0.038014</td>\n",
       "      <td>0.016288</td>\n",
       "      <td>0.008245</td>\n",
       "      <td>-0.004310</td>\n",
       "      <td>0.001984</td>\n",
       "      <td>0.016031</td>\n",
       "      <td>16.710669</td>\n",
       "    </tr>\n",
       "    <tr>\n",
       "      <th>2</th>\n",
       "      <td>-0.015039</td>\n",
       "      <td>0.034703</td>\n",
       "      <td>0.031771</td>\n",
       "      <td>0.001136</td>\n",
       "      <td>-0.000144</td>\n",
       "      <td>0.041739</td>\n",
       "      <td>-0.010032</td>\n",
       "      <td>0.005467</td>\n",
       "      <td>0.003280</td>\n",
       "      <td>0.015583</td>\n",
       "      <td>...</td>\n",
       "      <td>-0.001197</td>\n",
       "      <td>0.028461</td>\n",
       "      <td>-0.032698</td>\n",
       "      <td>-0.021573</td>\n",
       "      <td>0.013873</td>\n",
       "      <td>0.024355</td>\n",
       "      <td>-0.015747</td>\n",
       "      <td>0.005714</td>\n",
       "      <td>0.021787</td>\n",
       "      <td>-4.883995</td>\n",
       "    </tr>\n",
       "    <tr>\n",
       "      <th>3</th>\n",
       "      <td>0.009395</td>\n",
       "      <td>0.024268</td>\n",
       "      <td>-0.031028</td>\n",
       "      <td>-0.029758</td>\n",
       "      <td>-0.040502</td>\n",
       "      <td>0.029972</td>\n",
       "      <td>0.011669</td>\n",
       "      <td>0.017631</td>\n",
       "      <td>-0.034498</td>\n",
       "      <td>0.003571</td>\n",
       "      <td>...</td>\n",
       "      <td>0.005521</td>\n",
       "      <td>-0.001306</td>\n",
       "      <td>-0.009699</td>\n",
       "      <td>-0.007910</td>\n",
       "      <td>0.025553</td>\n",
       "      <td>-0.048658</td>\n",
       "      <td>-0.008468</td>\n",
       "      <td>0.045984</td>\n",
       "      <td>0.004110</td>\n",
       "      <td>-3.864474</td>\n",
       "    </tr>\n",
       "    <tr>\n",
       "      <th>4</th>\n",
       "      <td>0.003794</td>\n",
       "      <td>0.009415</td>\n",
       "      <td>0.006692</td>\n",
       "      <td>-0.012750</td>\n",
       "      <td>-0.013199</td>\n",
       "      <td>-0.006064</td>\n",
       "      <td>0.015940</td>\n",
       "      <td>0.023851</td>\n",
       "      <td>0.017628</td>\n",
       "      <td>-0.001793</td>\n",
       "      <td>...</td>\n",
       "      <td>0.010429</td>\n",
       "      <td>-0.000769</td>\n",
       "      <td>-0.037190</td>\n",
       "      <td>0.039113</td>\n",
       "      <td>0.005426</td>\n",
       "      <td>-0.007129</td>\n",
       "      <td>0.001969</td>\n",
       "      <td>0.004865</td>\n",
       "      <td>-0.020894</td>\n",
       "      <td>6.945772</td>\n",
       "    </tr>\n",
       "  </tbody>\n",
       "</table>\n",
       "<p>5 rows × 31 columns</p>\n",
       "</div>"
      ],
      "text/plain": [
       "          0         1         2         3         4         5         6  \\\n",
       "0 -0.032432 -0.013066  0.004673 -0.017611  0.035532 -0.014728 -0.014885   \n",
       "1  0.008624 -0.032773 -0.020031  0.020145 -0.006798  0.003736  0.023822   \n",
       "2 -0.015039  0.034703  0.031771  0.001136 -0.000144  0.041739 -0.010032   \n",
       "3  0.009395  0.024268 -0.031028 -0.029758 -0.040502  0.029972  0.011669   \n",
       "4  0.003794  0.009415  0.006692 -0.012750 -0.013199 -0.006064  0.015940   \n",
       "\n",
       "          7         8         9  ...        21        22        23        24  \\\n",
       "0 -0.005247  0.003580 -0.008661  ... -0.007763  0.016018 -0.017136 -0.025479   \n",
       "1 -0.040737  0.025638 -0.004040  ... -0.031387 -0.014356  0.001716  0.038014   \n",
       "2  0.005467  0.003280  0.015583  ... -0.001197  0.028461 -0.032698 -0.021573   \n",
       "3  0.017631 -0.034498  0.003571  ...  0.005521 -0.001306 -0.009699 -0.007910   \n",
       "4  0.023851  0.017628 -0.001793  ...  0.010429 -0.000769 -0.037190  0.039113   \n",
       "\n",
       "         25        26        27        28        29     target  \n",
       "0 -0.038388 -0.032405 -0.004957 -0.005976 -0.016520  -1.007347  \n",
       "1  0.016288  0.008245 -0.004310  0.001984  0.016031  16.710669  \n",
       "2  0.013873  0.024355 -0.015747  0.005714  0.021787  -4.883995  \n",
       "3  0.025553 -0.048658 -0.008468  0.045984  0.004110  -3.864474  \n",
       "4  0.005426 -0.007129  0.001969  0.004865 -0.020894   6.945772  \n",
       "\n",
       "[5 rows x 31 columns]"
      ]
     },
     "execution_count": 3,
     "metadata": {},
     "output_type": "execute_result"
    }
   ],
   "source": [
    "def generate_toy_dataset(n_train):\n",
    "    # Generating an unbalanced dataset\n",
    "    X, y = make_regression(\n",
    "        n_samples=n_train,\n",
    "        n_features=30,\n",
    "        n_informative=5,\n",
    "        effective_rank=12,\n",
    "        tail_strength=0.5,\n",
    "        noise=10.0,\n",
    "        random_state=42\n",
    "    )\n",
    "    df = pd.DataFrame(X)\n",
    "    df.columns = df.columns.astype(str)\n",
    "    _X = df.columns\n",
    "    _y = 'target'\n",
    "    df[_y] = y\n",
    "    return df, _X, _y\n",
    "\n",
    "df, _X, _y = generate_toy_dataset(n_train=1000)\n",
    "df.head()"
   ]
  },
  {
   "cell_type": "markdown",
   "id": "cebd2fa0",
   "metadata": {},
   "source": [
    "# Bootstrapping and the Out of Bag Sample\n",
    "\n",
    "By default in scikit-learn, the Random Forest Regressor uses boostrap sampling.  That is, if you feed in \"n\" samples, every decision tree in the forest is trained on \"n\" samples chosen with replacement from the original \"n\".  \n",
    "\n",
    "Since the sampling happens with replacement, there will almost always be some samples left out of training on each tree.  Those rows are described as being \"out of bag\".\n",
    "\n",
    "The \"out of bag\" sample is interesting because it has the properties of a randomly selected validation set.  For each estimator added to the forest we have a \"free\" validation set sitting there which can be used in a manner similar to other forms of validation like \"leave one out\" or \"k-fold cross validation\".\n",
    "\n",
    "# oob_prediction\n",
    "\n",
    "We can form a prediction for the out of bag samples simply by feeding them into the decision tree that was trained during the round in which they were left out of training.\n",
    "\n",
    "These predictions are generated for each estimator, so in general each sample will have many out-of-bag predictions.\n",
    "\n",
    "The standard way of producing a prediction from a random forest is to feed a sample into each decision tree, get a prediction from each, and then average all of the predictions together.In a similar way, we can form an \"out-of-bag prediction\" for each sample in the training set by averaging together all of the individual out-of-bag predictions for that sample.  \n",
    "\n",
    "Since a given sample was never involved in the training of the tree that produces its out of bag prediction, the out-of-bag prediction can provide an estimate of generalization to unseen samples. In fact, it can be proven that the out-of-bag prediction is in general a *slightly pessimistic* evaluation of generalization performance.\n",
    "\n",
    "# The oob_prediction is like having a \"free\" set of cross-validation predictions\n",
    "\n",
    "The best thing about the oob_prediction is that it comes \"for free\" (small computational cost) as long as you ask for it, simply by specifying \"oob_score=True\". \n",
    "\n",
    "Do that and train the model and you'll be given access to \"oob_prediction\" which you can use to compute out-of-bag statistics which are very similar to cross validation statistics.  \n"
   ]
  },
  {
   "cell_type": "code",
   "execution_count": 4,
   "id": "6d4be54a",
   "metadata": {},
   "outputs": [
    {
     "data": {
      "text/plain": [
       "RandomForestRegressor(min_samples_leaf=20, n_estimators=256, n_jobs=-1,\n",
       "                      oob_score=True)"
      ]
     },
     "execution_count": 4,
     "metadata": {},
     "output_type": "execute_result"
    }
   ],
   "source": [
    "RandomForestRegressor(oob_score=True, **rf_params)"
   ]
  },
  {
   "cell_type": "markdown",
   "id": "896a0b08",
   "metadata": {},
   "source": [
    "note: in what follows, we're specifically investigating OOB as an alternative to cross-validation within the context of bagging models like random forests and not boosting models, for which oob estimates of performance can also be obtained (but which don't have as desirable of properties necessarily)"
   ]
  },
  {
   "cell_type": "markdown",
   "id": "c7bd2b55",
   "metadata": {},
   "source": [
    "# Compare oob to xval\n",
    "\n",
    "I'd like to argue that OOB Validation is simply generally better than KFold Cross Validation\n",
    "\n",
    "Why it's better:\n",
    "- it's easier and simpler to code up. \n",
    "- it's more precise (performance metric estimates have less variation)\n",
    "- train only 1 model instead of k models.  It's k times faster!  \n",
    "\n",
    "In addition, there are downstream tasks like stacking, calibration, and potentially more - which are easier to do with OOB predictions than with a kfold-based approach."
   ]
  },
  {
   "cell_type": "markdown",
   "id": "445f3f3c",
   "metadata": {},
   "source": [
    "# The code is simpler than kfold\n",
    "\n",
    "The code is just easier to write.  I don't know about you - but for me there's always a little bit of mental overhead or boilerplate in setting up a kfold loop or using a cross-val convenience wrapper.  OOB just totally eliminates that.\n",
    "\n",
    "No loops, no cross-val wrappers - just a single extra param and you've got your OOB predictions ready to go!"
   ]
  },
  {
   "cell_type": "code",
   "execution_count": 5,
   "id": "12f6e4ce",
   "metadata": {},
   "outputs": [],
   "source": [
    "def oob_mse(additional_rf_params={}):\n",
    "    model = RandomForestRegressor(oob_score=True, **{**rf_params, **additional_rf_params})\n",
    "    P = model.fit(df[_X], df[_y]).oob_prediction_ #boom - one and done\n",
    "    return mean_squared_error(P, df[_y])"
   ]
  },
  {
   "cell_type": "markdown",
   "id": "4b3299b5",
   "metadata": {},
   "source": [
    "### Compare to Kfold"
   ]
  },
  {
   "cell_type": "markdown",
   "id": "32da3b2e",
   "metadata": {},
   "source": [
    "Compare to using \"KFold\" + manually indexing folds:"
   ]
  },
  {
   "cell_type": "code",
   "execution_count": 6,
   "id": "79f7ebbc",
   "metadata": {},
   "outputs": [],
   "source": [
    "from sklearn.model_selection import KFold\n",
    "def kfold_mse(n_folds):\n",
    "    mses = []\n",
    "    for train_index, val_index in KFold(n_splits=n_folds, random_state=None, shuffle=True).split(df):\n",
    "        X_train = df.loc[train_index, _X]\n",
    "        y_train = df.loc[train_index, _y]\n",
    "        X_val   = df.loc[val_index, _X]\n",
    "        y_val   = df.loc[val_index, _y]\n",
    "        model = RandomForestRegressor(oob_score=False, **rf_params)\n",
    "        P_val = model.fit(X_train, y_train).predict(X_val)\n",
    "        mses.append(mean_squared_error(P_val, y_val))\n",
    "    return np.mean(mses)"
   ]
  },
  {
   "cell_type": "markdown",
   "id": "43ba2d18",
   "metadata": {},
   "source": [
    "There's a lot to track here in terms of indexing etc. \n",
    "\n",
    "To be fair, there are things you can do with this approach that you can't do with the OOB technique.  For example: stratified sampling. "
   ]
  },
  {
   "cell_type": "markdown",
   "id": "43791230",
   "metadata": {},
   "source": [
    "### Compare to Xval Convenience Wrapper"
   ]
  },
  {
   "cell_type": "markdown",
   "id": "6115184a",
   "metadata": {},
   "source": [
    "Or compare to scikit-learn's cross validation convenience functions which can be less elegant and less flexible than the OOB approach:"
   ]
  },
  {
   "cell_type": "code",
   "execution_count": 7,
   "id": "5b86ef14",
   "metadata": {},
   "outputs": [],
   "source": [
    "from sklearn.model_selection import cross_validate\n",
    "from sklearn.metrics import make_scorer\n",
    "def sklearn_cv_mse(n_folds):\n",
    "    mse = make_scorer(mean_squared_error)\n",
    "    model = RandomForestRegressor(oob_score=False, **rf_params)\n",
    "    cv_results = cross_validate(model, df[_X], df[_y], cv=n_folds, scoring=mse) \n",
    "    return np.mean(cv_results['test_score'])"
   ]
  },
  {
   "cell_type": "markdown",
   "id": "152fb6ce",
   "metadata": {},
   "source": [
    "In this example you need to remember to make your own \"mean_squared_error\" scorer using \"make_scorer\" or you have to feed in \"neg_mean_squared_error\" which results in the output score being negative.\n",
    "\n",
    "It's a bit awkward!  \n",
    "\n",
    "I went with making my own scorer to avoid any downstream effects from potentially forgetting to negate the output of cv_results['test_score'] (for example - accidentally selecting the worst model instead of the best model from a hyperparam search).\n",
    "\n",
    "Even the somewhat streamlined cross_validate convenience function isn't as clean, simple, and terse as the OOB validation method.\n",
    "\n",
    "It's not a huge difference on its own but efficiencies in code add up!"
   ]
  },
  {
   "cell_type": "markdown",
   "id": "59c79fbe",
   "metadata": {},
   "source": [
    "# OOB Validation is more precise than kfold cross-validation\n",
    "\n",
    "Let's measure the precision of out of bag validation compared to kfold cross validation .\n",
    "\n",
    "We'll do this by repeatedly running en experiment in which we compute a validation statistic (mean squared error) and then analyze the variation of that statistic across repeated runs."
   ]
  },
  {
   "cell_type": "code",
   "execution_count": 15,
   "id": "e11f4fd1",
   "metadata": {
    "scrolled": true
   },
   "outputs": [
    {
     "data": {
      "application/vnd.jupyter.widget-view+json": {
       "model_id": "af68f1ad02d243ce9b935709b09712fb",
       "version_major": 2,
       "version_minor": 0
      },
      "text/plain": [
       "  0%|          | 0/100 [00:00<?, ?it/s]"
      ]
     },
     "metadata": {},
     "output_type": "display_data"
    },
    {
     "data": {
      "application/vnd.jupyter.widget-view+json": {
       "model_id": "85cd67a97eab45e8b9b4e9b71a235988",
       "version_major": 2,
       "version_minor": 0
      },
      "text/plain": [
       "  0%|          | 0/100 [00:00<?, ?it/s]"
      ]
     },
     "metadata": {},
     "output_type": "display_data"
    },
    {
     "data": {
      "application/vnd.jupyter.widget-view+json": {
       "model_id": "43720336843c4e1182cba0f14a2a473c",
       "version_major": 2,
       "version_minor": 0
      },
      "text/plain": [
       "  0%|          | 0/100 [00:00<?, ?it/s]"
      ]
     },
     "metadata": {},
     "output_type": "display_data"
    },
    {
     "data": {
      "application/vnd.jupyter.widget-view+json": {
       "model_id": "a5747814f0994a8ea8d64b9824bbfb84",
       "version_major": 2,
       "version_minor": 0
      },
      "text/plain": [
       "  0%|          | 0/100 [00:00<?, ?it/s]"
      ]
     },
     "metadata": {},
     "output_type": "display_data"
    },
    {
     "data": {
      "application/vnd.jupyter.widget-view+json": {
       "model_id": "24dc2d07df6946578bd6572f232b4883",
       "version_major": 2,
       "version_minor": 0
      },
      "text/plain": [
       "  0%|          | 0/100 [00:00<?, ?it/s]"
      ]
     },
     "metadata": {},
     "output_type": "display_data"
    }
   ],
   "source": [
    "from tqdm.notebook import tqdm\n",
    "def oob_vs_kfold():\n",
    "    n_experiment_rounds = 100\n",
    "    \n",
    "    oob_mses      = [oob_mse() for _ in tqdm(range(n_experiment_rounds))]\n",
    "    kfold_mses_3  = [kfold_mse(n_folds=3)  for _ in tqdm(range(n_experiment_rounds))]\n",
    "    kfold_mses_5  = [kfold_mse(n_folds=5)  for _ in tqdm(range(n_experiment_rounds))]\n",
    "    kfold_mses_10 = [kfold_mse(n_folds=10) for _ in tqdm(range(n_experiment_rounds))]\n",
    "    kfold_mses_20 = [kfold_mse(n_folds=20) for _ in tqdm(range(n_experiment_rounds))]\n",
    "      \n",
    "    mses = pd.DataFrame(dict(oob=oob_mses, \n",
    "                             kfold_3=kfold_mses_3,\n",
    "                             kfold_5=kfold_mses_5,\n",
    "                             kfold_10=kfold_mses_10,\n",
    "                             kfold_20=kfold_mses_20\n",
    "                            ))\n",
    "    \n",
    "    return mses\n",
    "    \n",
    "mses = oob_vs_kfold()"
   ]
  },
  {
   "cell_type": "code",
   "execution_count": 16,
   "id": "3e424af1",
   "metadata": {
    "scrolled": true
   },
   "outputs": [
    {
     "data": {
      "text/html": [
       "<div>\n",
       "<style scoped>\n",
       "    .dataframe tbody tr th:only-of-type {\n",
       "        vertical-align: middle;\n",
       "    }\n",
       "\n",
       "    .dataframe tbody tr th {\n",
       "        vertical-align: top;\n",
       "    }\n",
       "\n",
       "    .dataframe thead th {\n",
       "        text-align: right;\n",
       "    }\n",
       "</style>\n",
       "<table border=\"1\" class=\"dataframe\">\n",
       "  <thead>\n",
       "    <tr style=\"text-align: right;\">\n",
       "      <th></th>\n",
       "      <th>oob</th>\n",
       "      <th>kfold_3</th>\n",
       "      <th>kfold_5</th>\n",
       "      <th>kfold_10</th>\n",
       "      <th>kfold_20</th>\n",
       "    </tr>\n",
       "  </thead>\n",
       "  <tbody>\n",
       "    <tr>\n",
       "      <th>0</th>\n",
       "      <td>101.655721</td>\n",
       "      <td>102.324322</td>\n",
       "      <td>101.771559</td>\n",
       "      <td>101.712926</td>\n",
       "      <td>103.355493</td>\n",
       "    </tr>\n",
       "    <tr>\n",
       "      <th>1</th>\n",
       "      <td>101.932552</td>\n",
       "      <td>101.985818</td>\n",
       "      <td>102.859353</td>\n",
       "      <td>102.679487</td>\n",
       "      <td>101.696226</td>\n",
       "    </tr>\n",
       "    <tr>\n",
       "      <th>2</th>\n",
       "      <td>102.196427</td>\n",
       "      <td>102.804625</td>\n",
       "      <td>101.749743</td>\n",
       "      <td>101.721900</td>\n",
       "      <td>102.195220</td>\n",
       "    </tr>\n",
       "    <tr>\n",
       "      <th>3</th>\n",
       "      <td>101.830217</td>\n",
       "      <td>103.121709</td>\n",
       "      <td>102.142025</td>\n",
       "      <td>102.446361</td>\n",
       "      <td>101.457749</td>\n",
       "    </tr>\n",
       "    <tr>\n",
       "      <th>4</th>\n",
       "      <td>102.632782</td>\n",
       "      <td>101.132519</td>\n",
       "      <td>101.631642</td>\n",
       "      <td>101.208073</td>\n",
       "      <td>101.584012</td>\n",
       "    </tr>\n",
       "    <tr>\n",
       "      <th>...</th>\n",
       "      <td>...</td>\n",
       "      <td>...</td>\n",
       "      <td>...</td>\n",
       "      <td>...</td>\n",
       "      <td>...</td>\n",
       "    </tr>\n",
       "    <tr>\n",
       "      <th>95</th>\n",
       "      <td>102.309104</td>\n",
       "      <td>104.792745</td>\n",
       "      <td>101.627126</td>\n",
       "      <td>102.832689</td>\n",
       "      <td>101.708615</td>\n",
       "    </tr>\n",
       "    <tr>\n",
       "      <th>96</th>\n",
       "      <td>102.740184</td>\n",
       "      <td>103.219084</td>\n",
       "      <td>102.123598</td>\n",
       "      <td>102.539162</td>\n",
       "      <td>101.445996</td>\n",
       "    </tr>\n",
       "    <tr>\n",
       "      <th>97</th>\n",
       "      <td>102.645872</td>\n",
       "      <td>100.526466</td>\n",
       "      <td>102.710142</td>\n",
       "      <td>102.273256</td>\n",
       "      <td>101.981646</td>\n",
       "    </tr>\n",
       "    <tr>\n",
       "      <th>98</th>\n",
       "      <td>101.835856</td>\n",
       "      <td>100.928727</td>\n",
       "      <td>102.407724</td>\n",
       "      <td>101.954604</td>\n",
       "      <td>102.354257</td>\n",
       "    </tr>\n",
       "    <tr>\n",
       "      <th>99</th>\n",
       "      <td>101.700386</td>\n",
       "      <td>100.789548</td>\n",
       "      <td>101.953574</td>\n",
       "      <td>102.620575</td>\n",
       "      <td>102.056914</td>\n",
       "    </tr>\n",
       "  </tbody>\n",
       "</table>\n",
       "<p>100 rows × 5 columns</p>\n",
       "</div>"
      ],
      "text/plain": [
       "           oob     kfold_3     kfold_5    kfold_10    kfold_20\n",
       "0   101.655721  102.324322  101.771559  101.712926  103.355493\n",
       "1   101.932552  101.985818  102.859353  102.679487  101.696226\n",
       "2   102.196427  102.804625  101.749743  101.721900  102.195220\n",
       "3   101.830217  103.121709  102.142025  102.446361  101.457749\n",
       "4   102.632782  101.132519  101.631642  101.208073  101.584012\n",
       "..         ...         ...         ...         ...         ...\n",
       "95  102.309104  104.792745  101.627126  102.832689  101.708615\n",
       "96  102.740184  103.219084  102.123598  102.539162  101.445996\n",
       "97  102.645872  100.526466  102.710142  102.273256  101.981646\n",
       "98  101.835856  100.928727  102.407724  101.954604  102.354257\n",
       "99  101.700386  100.789548  101.953574  102.620575  102.056914\n",
       "\n",
       "[100 rows x 5 columns]"
      ]
     },
     "execution_count": 16,
     "metadata": {},
     "output_type": "execute_result"
    }
   ],
   "source": [
    "mses"
   ]
  },
  {
   "cell_type": "code",
   "execution_count": 17,
   "id": "a3e93621",
   "metadata": {},
   "outputs": [
    {
     "data": {
      "text/html": [
       "<div>\n",
       "<style scoped>\n",
       "    .dataframe tbody tr th:only-of-type {\n",
       "        vertical-align: middle;\n",
       "    }\n",
       "\n",
       "    .dataframe tbody tr th {\n",
       "        vertical-align: top;\n",
       "    }\n",
       "\n",
       "    .dataframe thead th {\n",
       "        text-align: right;\n",
       "    }\n",
       "</style>\n",
       "<table border=\"1\" class=\"dataframe\">\n",
       "  <thead>\n",
       "    <tr style=\"text-align: right;\">\n",
       "      <th></th>\n",
       "      <th>oob</th>\n",
       "      <th>kfold_3</th>\n",
       "      <th>kfold_5</th>\n",
       "      <th>kfold_10</th>\n",
       "      <th>kfold_20</th>\n",
       "    </tr>\n",
       "  </thead>\n",
       "  <tbody>\n",
       "    <tr>\n",
       "      <th>mean</th>\n",
       "      <td>102.035529</td>\n",
       "      <td>102.356826</td>\n",
       "      <td>102.050711</td>\n",
       "      <td>101.946890</td>\n",
       "      <td>101.893951</td>\n",
       "    </tr>\n",
       "    <tr>\n",
       "      <th>std</th>\n",
       "      <td>0.373525</td>\n",
       "      <td>1.074809</td>\n",
       "      <td>0.799415</td>\n",
       "      <td>0.563184</td>\n",
       "      <td>0.400006</td>\n",
       "    </tr>\n",
       "    <tr>\n",
       "      <th>min</th>\n",
       "      <td>100.981443</td>\n",
       "      <td>99.803611</td>\n",
       "      <td>100.038969</td>\n",
       "      <td>100.211718</td>\n",
       "      <td>100.665326</td>\n",
       "    </tr>\n",
       "    <tr>\n",
       "      <th>max</th>\n",
       "      <td>103.031720</td>\n",
       "      <td>104.792745</td>\n",
       "      <td>103.664005</td>\n",
       "      <td>103.379787</td>\n",
       "      <td>103.355493</td>\n",
       "    </tr>\n",
       "  </tbody>\n",
       "</table>\n",
       "</div>"
      ],
      "text/plain": [
       "             oob     kfold_3     kfold_5    kfold_10    kfold_20\n",
       "mean  102.035529  102.356826  102.050711  101.946890  101.893951\n",
       "std     0.373525    1.074809    0.799415    0.563184    0.400006\n",
       "min   100.981443   99.803611  100.038969  100.211718  100.665326\n",
       "max   103.031720  104.792745  103.664005  103.379787  103.355493"
      ]
     },
     "execution_count": 17,
     "metadata": {},
     "output_type": "execute_result"
    }
   ],
   "source": [
    "mses.agg(['mean', 'std', 'min', 'max'])"
   ]
  },
  {
   "cell_type": "code",
   "execution_count": 18,
   "id": "3b229841",
   "metadata": {},
   "outputs": [
    {
     "data": {
      "text/plain": [
       "<AxesSubplot:ylabel='Frequency'>"
      ]
     },
     "execution_count": 18,
     "metadata": {},
     "output_type": "execute_result"
    },
    {
     "data": {
      "image/png": "[encoded data removed]",
      "text/plain": [
       "<Figure size 640x480 with 1 Axes>"
      ]
     },
     "metadata": {},
     "output_type": "display_data"
    }
   ],
   "source": [
    "mses.plot(kind='hist', bins=40)"
   ]
  },
  {
   "cell_type": "markdown",
   "id": "c51a800b",
   "metadata": {},
   "source": [
    "You can see from these stats as well as the histogram that each of these methods converge on a very similar estimate of the mean squared error.\n",
    "\n",
    "However, the out of bag estimate exhibits lower variance than each of the kfold methods.\n",
    "\n",
    "While tuning a model - those kinds of swings in the estimation of the model performance can have an influence on hyperparameter decisions.  "
   ]
  },
  {
   "cell_type": "markdown",
   "id": "00b6bf43",
   "metadata": {},
   "source": [
    "# OOB Validation is WAY Faster than KFold XVal"
   ]
  },
  {
   "cell_type": "markdown",
   "id": "e8d8ff10",
   "metadata": {},
   "source": [
    "At 20 folds, our kfold estimate of the MSE comparable variation to our OOB estimate - and it takes 20 times as long to compute!\n",
    "\n",
    "In general, you can think of OOB validation as only requiring \"1x\" computation while kfold cross validation requires \"kx\"- that is, it takes k times as long or k times as much compute.\n",
    "\n",
    "That can be a HUGE difference in compute time.\n",
    "\n",
    "If you want to squeeze all you can out of your model while tuning, out of bag is often a superior option - being either much more stable than comparably fast kfold estimates (though it's still more than twice as fast as 3-fold x-val), or an order of magnitude faster than comparably stable kfold estimates.\n",
    "\n",
    "The impact of this can't be overestimated - having your experiments run 2-20x faster can be transformative in terms of your ability to iterate on a model."
   ]
  },
  {
   "cell_type": "markdown",
   "id": "f4be3b9a",
   "metadata": {},
   "source": [
    "# Bonus 1: One more time!\n",
    "\n",
    "In addition, you'll probably want to retrain the model one more time after performing kfold x-val.  This is because your kfold models will each have only been trained on a subset of the data.  \n",
    "\n",
    "You could just use one of the models from one of the folds, but depending on how many folds you've chosen you might be missing out on e.g. 33%, 25%, 20% etc of the dataset. That's usually enough to make a difference.\n",
    "\n",
    "This isn't necessarily the case with OOB.  If you know what hyperparams you're using (or you have the model sitting around after training), it's already trained after having performed OOB validation - there's no need to train it again.  It's already been trained on all of the data."
   ]
  },
  {
   "cell_type": "markdown",
   "id": "c234d774",
   "metadata": {},
   "source": [
    "# Bonus 2: Its even more precise as you crank up the number of estimators\n",
    "\n",
    "As you add estimators, you get more \"out of bag folds\" so your OOB performance estimates become more precise.  This also tracks along with generally better model performance.\n",
    "\n",
    "Adding estimators also linearly increases the training time - which makes the added speed of OOB methods that much more crucial when you're tuning a model with a large number of trees"
   ]
  },
  {
   "cell_type": "code",
   "execution_count": 12,
   "id": "235acc15",
   "metadata": {},
   "outputs": [
    {
     "data": {
      "application/vnd.jupyter.widget-view+json": {
       "model_id": "27ea5367d08e48fbb80672fbb334482d",
       "version_major": 2,
       "version_minor": 0
      },
      "text/plain": [
       "  0%|          | 0/10 [00:00<?, ?it/s]"
      ]
     },
     "metadata": {},
     "output_type": "display_data"
    },
    {
     "name": "stderr",
     "output_type": "stream",
     "text": [
      "C:\\Users\\padkins\\Anaconda3\\lib\\site-packages\\sklearn\\ensemble\\_forest.py:560: UserWarning: Some inputs do not have OOB scores. This probably means too few trees were used to compute any reliable OOB estimates.\n",
      "  warn(\n",
      "C:\\Users\\padkins\\Anaconda3\\lib\\site-packages\\sklearn\\ensemble\\_forest.py:560: UserWarning: Some inputs do not have OOB scores. This probably means too few trees were used to compute any reliable OOB estimates.\n",
      "  warn(\n",
      "C:\\Users\\padkins\\Anaconda3\\lib\\site-packages\\sklearn\\ensemble\\_forest.py:560: UserWarning: Some inputs do not have OOB scores. This probably means too few trees were used to compute any reliable OOB estimates.\n",
      "  warn(\n",
      "C:\\Users\\padkins\\Anaconda3\\lib\\site-packages\\sklearn\\ensemble\\_forest.py:560: UserWarning: Some inputs do not have OOB scores. This probably means too few trees were used to compute any reliable OOB estimates.\n",
      "  warn(\n"
     ]
    },
    {
     "data": {
      "application/vnd.jupyter.widget-view+json": {
       "model_id": "d8ffe619540e4cd49a6ca3ddb1fb09ba",
       "version_major": 2,
       "version_minor": 0
      },
      "text/plain": [
       "  0%|          | 0/10 [00:00<?, ?it/s]"
      ]
     },
     "metadata": {},
     "output_type": "display_data"
    },
    {
     "data": {
      "application/vnd.jupyter.widget-view+json": {
       "model_id": "11077f645d9e47179c5493f03602688e",
       "version_major": 2,
       "version_minor": 0
      },
      "text/plain": [
       "  0%|          | 0/10 [00:00<?, ?it/s]"
      ]
     },
     "metadata": {},
     "output_type": "display_data"
    },
    {
     "data": {
      "text/html": [
       "<div>\n",
       "<style scoped>\n",
       "    .dataframe tbody tr th:only-of-type {\n",
       "        vertical-align: middle;\n",
       "    }\n",
       "\n",
       "    .dataframe tbody tr th {\n",
       "        vertical-align: top;\n",
       "    }\n",
       "\n",
       "    .dataframe thead th {\n",
       "        text-align: right;\n",
       "    }\n",
       "</style>\n",
       "<table border=\"1\" class=\"dataframe\">\n",
       "  <thead>\n",
       "    <tr style=\"text-align: right;\">\n",
       "      <th></th>\n",
       "      <th>oob_16</th>\n",
       "      <th>oob_64</th>\n",
       "      <th>oob_256</th>\n",
       "    </tr>\n",
       "  </thead>\n",
       "  <tbody>\n",
       "    <tr>\n",
       "      <th>0</th>\n",
       "      <td>104.892203</td>\n",
       "      <td>104.096593</td>\n",
       "      <td>102.100955</td>\n",
       "    </tr>\n",
       "    <tr>\n",
       "      <th>1</th>\n",
       "      <td>105.889410</td>\n",
       "      <td>103.769406</td>\n",
       "      <td>102.387141</td>\n",
       "    </tr>\n",
       "    <tr>\n",
       "      <th>2</th>\n",
       "      <td>108.761226</td>\n",
       "      <td>103.107335</td>\n",
       "      <td>102.148795</td>\n",
       "    </tr>\n",
       "    <tr>\n",
       "      <th>3</th>\n",
       "      <td>107.913874</td>\n",
       "      <td>103.906723</td>\n",
       "      <td>101.808575</td>\n",
       "    </tr>\n",
       "    <tr>\n",
       "      <th>4</th>\n",
       "      <td>106.020240</td>\n",
       "      <td>103.632222</td>\n",
       "      <td>101.864493</td>\n",
       "    </tr>\n",
       "    <tr>\n",
       "      <th>5</th>\n",
       "      <td>106.482416</td>\n",
       "      <td>102.061029</td>\n",
       "      <td>102.014666</td>\n",
       "    </tr>\n",
       "    <tr>\n",
       "      <th>6</th>\n",
       "      <td>108.738301</td>\n",
       "      <td>102.935395</td>\n",
       "      <td>101.523997</td>\n",
       "    </tr>\n",
       "    <tr>\n",
       "      <th>7</th>\n",
       "      <td>109.016659</td>\n",
       "      <td>105.082479</td>\n",
       "      <td>101.723573</td>\n",
       "    </tr>\n",
       "    <tr>\n",
       "      <th>8</th>\n",
       "      <td>105.420502</td>\n",
       "      <td>103.368622</td>\n",
       "      <td>102.261296</td>\n",
       "    </tr>\n",
       "    <tr>\n",
       "      <th>9</th>\n",
       "      <td>108.932833</td>\n",
       "      <td>102.831308</td>\n",
       "      <td>102.726787</td>\n",
       "    </tr>\n",
       "  </tbody>\n",
       "</table>\n",
       "</div>"
      ],
      "text/plain": [
       "       oob_16      oob_64     oob_256\n",
       "0  104.892203  104.096593  102.100955\n",
       "1  105.889410  103.769406  102.387141\n",
       "2  108.761226  103.107335  102.148795\n",
       "3  107.913874  103.906723  101.808575\n",
       "4  106.020240  103.632222  101.864493\n",
       "5  106.482416  102.061029  102.014666\n",
       "6  108.738301  102.935395  101.523997\n",
       "7  109.016659  105.082479  101.723573\n",
       "8  105.420502  103.368622  102.261296\n",
       "9  108.932833  102.831308  102.726787"
      ]
     },
     "execution_count": 12,
     "metadata": {},
     "output_type": "execute_result"
    }
   ],
   "source": [
    "from tqdm.notebook import tqdm\n",
    "def oob_vs_n_estimators():\n",
    "    n_experiment_rounds = 10\n",
    "    \n",
    "    oob_mses_16 = [oob_mse(dict(n_estimators=16)) for _ in tqdm(range(n_experiment_rounds))]\n",
    "    oob_mses_64 = [oob_mse(dict(n_estimators=64)) for _ in tqdm(range(n_experiment_rounds))]\n",
    "    oob_mses_256 = [oob_mse(dict(n_estimators=256)) for _ in tqdm(range(n_experiment_rounds))]\n",
    "    \n",
    "    mses = pd.DataFrame(dict(oob_16=oob_mses_16, \n",
    "                             oob_64=oob_mses_64,\n",
    "                             oob_256=oob_mses_256\n",
    "                            ))\n",
    "    \n",
    "    return mses\n",
    "    \n",
    "mses = oob_vs_n_estimators()\n",
    "mses"
   ]
  },
  {
   "cell_type": "code",
   "execution_count": 13,
   "id": "3226b8fd",
   "metadata": {},
   "outputs": [
    {
     "data": {
      "text/plain": [
       "<AxesSubplot:title={'center':'standard deviation of mse estimate'}>"
      ]
     },
     "execution_count": 13,
     "metadata": {},
     "output_type": "execute_result"
    },
    {
     "data": {
      "image/png": "[encoded data removed]",
      "text/plain": [
       "<Figure size 640x480 with 1 Axes>"
      ]
     },
     "metadata": {},
     "output_type": "display_data"
    }
   ],
   "source": [
    "mses.std().plot(kind='bar', title='standard deviation of mse estimate')"
   ]
  },
  {
   "cell_type": "markdown",
   "id": "d48b888a",
   "metadata": {},
   "source": [
    "# Why WOULDNT You Want to use OOB Validation?\n",
    "\n",
    "As always in machine learning: horses for courses!  You need to choose the right algorithm / approach for the task at hand.\n",
    "\n",
    "### Very large data? Even if you weren't planning on kfold cross-validation, you might still want to do OOB\n",
    "If you've got a large enough dataset, you might be considering using a simple validation set (e.g. 80/20 split) in which case you wouldn't be using kfold and you wouldn't necessarily see speed-up benefits from using OOB validation.  \n",
    "\n",
    "However I'd suggest that OOB Validation will still give you a more accurate and precise validation score in this context (because you're scoring on all of the data, not just 20%) AND at the end you'll have a model that's been trained on 100% of the data and not 80%.  And if you do decide to go back and train a model on the full dataset after doing an 80/20 validation - now we're back in a case in which the OOB method is 2x as fast!  It still looks like a clear winner. \n",
    "\n",
    "### Very small datasets - might want to stratify\n",
    "It may be the case that on small datasets (~100 samples) OOB's sampling doesn't give you a good estimate of the generalization error.  Neither may CV for that matter.  However, better sampling - like stratified sampling - may solve that issue for you.  The easiest way to perform stratified sampling using scikit-learn is to use a cross-validation procedure; so if you think you might need to do stratified sampling: maybe skip the OOB.   \n",
    "\n",
    "### There's a temporal component to the data\n",
    "If you need to do something like a back test - then an OOB validation score might not be what you want.  If you're forecasting ahead in time, you should probably do some sort of backtest.\n",
    "\n",
    "However I will say - I'd still personally want to see the OOB validation stats even if I was also getting stats from a back test!  They tell you something different about what kind of signal the model is capturing.  As long as you don't interpret the OOB results as represtentative of the quality of a forecast into the future, you'll be able to leverage these as additional information about what your model is learning (or is failing to learn).\n",
    "\n",
    "\n",
    "### If you're not using a bagging-based model like a Random Forest!\n",
    "If a Random Forest or a related model isn't the right choice for your problem - then of course OOB Validation may not be a good choice for you, as the best model for the problem may not even support OOB Validation.\n",
    "\n",
    "Although ... you can turn any model into a bagging model!"
   ]
  },
  {
   "cell_type": "markdown",
   "id": "3b780967",
   "metadata": {},
   "source": [
    "# But wait ... there's more!\n",
    "\n",
    "There are even more benefits to using OOB predictions.  There are also benefits to creating bagged versions of models which traditionally don't use bagging. We'll potentially discuss those in a future article..."
   ]
  }
 ],
 "metadata": {
  "kernelspec": {
   "display_name": "Python 3 (ipykernel)",
   "language": "python",
   "name": "python3"
  },
  "language_info": {
   "codemirror_mode": {
    "name": "ipython",
    "version": 3
   },
   "file_extension": ".py",
   "mimetype": "text/x-python",
   "name": "python",
   "nbconvert_exporter": "python",
   "pygments_lexer": "ipython3",
   "version": "3.9.7"
  }
 },
 "nbformat": 4,
 "nbformat_minor": 5
}
