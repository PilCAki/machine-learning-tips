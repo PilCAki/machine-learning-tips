{
 "cells": [
  {
   "cell_type": "markdown",
   "id": "80127330",
   "metadata": {},
   "source": [
    "# Don't Explode - Encode\n",
    "\n",
    "by Phillip Adkins, Principal Machine Learning Science Manager, Microsoft IDEAs \n",
    "\n",
    "\n",
    "#  Read This Before You Start Preprocessing Your Data for Tree Based Models!\n",
    "\n",
    "Preprocessing data is huge part of building a Machine Learning model.  Data in its raw form often can't be fed directly into an algorithm.  Preprocessing enables ML algorithms to ingest and learn from data.\n",
    "\n",
    "There are standard preprocessing techniques which are useful in a variety of contexts.  Techniques such as standardization, one-hot-encoding, missing-value imputation and more are a great way to shape your data up for feeding into and algorith ... unless they're not!  \n",
    "\n",
    "And when you're working with tree-based models - these techniques can vary from useless to harmful.  These techniques can be time wasters, increase the likelihood of errors, and can blow up memory, time and compute requirements while *lowering* model quality! \n",
    "\n",
    "Let's talk about one particular preprocessing technique to think twice about when you're working with tree-based models, and what to do instead.\n",
    "\n",
    "\n",
    "# One-Hot-Encoding - Not So Hot?\n",
    "\n",
    "When working with categorical data, the #1 go-to method for converting categories into something which an ML algorithm can ingest is One-Hot-Encoding.  And it's a great technique!  However there are several reasons why One-Hot-Encoding is a poor choice for tree-based algorithms.\n",
    "\n",
    "1) The number 1 reason is that tree-based algorithms simply don't work very well with one-hot-encodings. Because they work based on partitioning, one-hot encoding forces the decision trees to sequester data points by individual categorical values - there's no way for the model to say \"if country == \"USA\" or \"UK\" then X\".  If it wants to use \"country\", there will have to be a \"USA only\" branch in the tree, a \"UK only\" branch in the tree etc ...\n",
    "\n",
    "2) It can either blow up memory consumption or forces you to work with a sparse matrix\n",
    "\n",
    "3) It alters the shape of your data so the columns no longer 1:1 coincide with your original data frame / table\n",
    "\n",
    "Think about mapping feature importance back to the original features!  It's now very difficult to the point that you might just opt not to do it, or you may be forced to look at your feature importances very differently than you otherwise would have.  \n",
    "\n",
    "For example, instead of a feature importance for \"country\", you'll have a feature importance for \"country=USA\", another one for \"country=UK\" etc - from which it will be hard to determine the relative importance of \"country\" as a whole unless you do some extra math and transformations on top of these fractured feature importances.\n",
    "\n",
    "What if you want to do feature selection using feature importances?  Will you drop individual values of categorical variables from your dataframe?  These will be the first to go when you filter on feature importance if you've done one-hot-encoding.\n",
    "\n",
    "One-hot-encoding makes a mess!\n",
    "\n",
    "4) There's a simpler, more accurate, faster method\n",
    "\n",
    "\n",
    "## Another Class of Encoding\n",
    "\n",
    "There are many methods to encode categoricals.  One-Hot-Encoding, while it has many drawbacks, it ideal in one sense: you can essentially feed it into any algorithm, and the algorithm will have a reasonable chance at extracting signal from the categorical. This is especially true for models which use dot products or matrix multiplications - like linear models, neural networks etc.\n",
    "\n",
    "However, tree models are much more flexible in how they can extract information from a single feature.  Since tree models work by chopping up a given feature into partitions, a tree model is capable of carving the data up into segments which are defined by the categorical without having a one-hot-encoding handed to it.\n",
    "\n",
    "A whole class of encodings is defined by mapping a categorical vector to a single numeric vector.  There are many strategies for doing this, and there's an oppotunity here for a ML Scientist to imbue the categorical representation with some extra usefulness with some clever thinking while engineering features.\n",
    "\n",
    "A good example of this is *target encoding*.\n",
    "\n",
    "With target encoding, we map the categorical to the mean value of the target.  This can be an especially useful encoding method for converting the categorical to something ordinal that is clearly relevant to the predictive task.  \n",
    "\n",
    "A caveat here is that it's easy to overfit if you're not careful.  Some ways around this include: using older historical data to compute the encoding (rather than your current training set), doing stacking etc.\n",
    "\n",
    "However, you might be surprised to find out that a tree-based model can work exceedingly well with encodings that at-a-glance seem like they wouldn't be any good, or that the model would be unlikely to extract signal from.  \n",
    "\n",
    "Here are some examples of these types of encodings:\n",
    "- map categorical to random float\n",
    "- sort categorical alphabetically, map to index in that list (ordinal encoding)\n",
    "- map categorical to its frequency in the data\n",
    "- map categorical to its frequency RANK in the data\n",
    "etc.  \n",
    "\n",
    "Amazingly, tree-based models are totally fine using encodings like this - which has been demonstrated repeatedly in data science competitions and in professional applications."
   ]
  },
  {
   "cell_type": "markdown",
   "id": "8efa25df",
   "metadata": {},
   "source": [
    "# When do these encodings NOT work?\n",
    "\n",
    "Here are some reasons these encodings may not work:\n",
    "\n",
    "1) collisions in the map\n",
    "2) too many categorical values\n",
    "3) model not tuned properly to allow partitioning fine enough to zero in on specific categoricals\n",
    "4) luck - the encoding might just for whatever reason obscure information from the splitting criterion and may prevent the tree from deciding to use the feature even though it's got information content. "
   ]
  },
  {
   "cell_type": "markdown",
   "id": "c4303b6d",
   "metadata": {},
   "source": [
    "# Other Encodings\n",
    "\n",
    "In order to circumvent some of these issues, there are other ways of encoding categoricals to help ensure that information can be extract.\n",
    "\n",
    "There is also \"binary encoding\" - (which is not the same as one-hot-encoding even though one-hot-encoding does produce binary features)\n",
    "\n",
    "Dimensionality reduction applied to the one-hot-encoding - like PCA, or random projection is another alternative that may retain much of the information in the categorical while keeping the representation skinny and dense.\n",
    "\n",
    "Binary encoding and projects-based methods do have the undesirable attribute that they may destroy the alignment between the raw data and the transformed input data, but they do retain density so can still be a good compromise if the other encodings aren't working for some reason."
   ]
  },
  {
   "cell_type": "markdown",
   "id": "4a4d7788",
   "metadata": {},
   "source": [
    "# Experiments\n",
    "\n",
    "Let's run some quick experiments to demonstrate the effectiveness of some of these methods.\n",
    "\n",
    "This is easy to extend.  For now, we'll test the following 3 methods on a variety of datasets:\n",
    "- one-hot-encoding\n",
    "- ordinal encoding\n",
    "- binary encoding\n",
    "- target encoding\n",
    "- count encoding (frequency encoding)\n",
    "\n",
    "The Category Encoder package's ordinal encoder (which we're using here) maps categoricals to randomly selected integers.  Scikit-learn also has an Ordinal Encoder, but it maps categories to their rank in the alphabetically sorted list of categories.   \n",
    "\n",
    "On each dataset, we do a mini random hyperparam optimization on xgboost to attempt to find good params for each method.\n",
    "\n",
    "We'll then get a look at a table of output scores with which we can compare the results."
   ]
  },
  {
   "cell_type": "markdown",
   "id": "d549db95",
   "metadata": {},
   "source": [
    "## Run a Single Experiment"
   ]
  },
  {
   "cell_type": "code",
   "execution_count": 11,
   "id": "d949eb8c",
   "metadata": {},
   "outputs": [],
   "source": [
    "import pandas as pd\n",
    "import numpy as np\n",
    "import time\n",
    "from sklearn.compose import ColumnTransformer\n",
    "from sklearn.pipeline import Pipeline\n",
    "from sklearn.preprocessing import StandardScaler, OneHotEncoder, OrdinalEncoder\n",
    "from sklearn.model_selection import train_test_split\n",
    "from xgboost import XGBClassifier, XGBRegressor\n",
    "from sklearn.metrics import accuracy_score, mean_squared_error, log_loss\n",
    "from sklearn.base import BaseEstimator, TransformerMixin\n",
    "import category_encoders as ce\n",
    "\n",
    "\n",
    "class ContinuousToFloatTransformer(BaseEstimator, TransformerMixin):\n",
    "    def __init__(self, continuous_columns):\n",
    "        self.continuous_columns = continuous_columns\n",
    "\n",
    "    def fit(self, X, y=None):\n",
    "        return self\n",
    "\n",
    "    def transform(self, X, y=None):\n",
    "        X_continuous = X[self.continuous_columns].astype(np.float64)\n",
    "        return X_continuous\n",
    "\n",
    "def categorical_encoding_experiment(dataset_filename, feature_names, target_name, categoricals,\n",
    "                                    continuous, encoding_method, problem_type):\n",
    "    \n",
    "    def run_experiment(X_train, y_train, X_val, y_val, problem_type, params):\n",
    "        if problem_type == \"classification\":\n",
    "            model = XGBClassifier(**params)\n",
    "            model.fit(\n",
    "                X_train,\n",
    "                y_train,\n",
    "                early_stopping_rounds=10,\n",
    "                eval_set=[(X_val, y_val)],\n",
    "                eval_metric=\"logloss\",\n",
    "                verbose=False\n",
    "            )\n",
    "            preds = model.predict(X_val)\n",
    "            return accuracy_score(y_val, preds)\n",
    "\n",
    "        else:\n",
    "            model = XGBRegressor(**params)\n",
    "            model.fit(\n",
    "                X_train,\n",
    "                y_train,\n",
    "                early_stopping_rounds=10,\n",
    "                eval_set=[(X_val, y_val)],\n",
    "                eval_metric=\"rmse\",\n",
    "                verbose=False\n",
    "            )\n",
    "            preds = model.predict(X_val)\n",
    "            return mean_squared_error(y_val, preds)\n",
    "\n",
    "    df = pd.read_csv(dataset_filename)\n",
    "\n",
    "    X = df.drop(target_name, axis=1)\n",
    "    y = df[target_name]\n",
    "\n",
    "    # Define categorical encoding method\n",
    "    if encoding_method == \"one_hot\":\n",
    "        encoder = ce.OneHotEncoder(cols=categoricals)\n",
    "    elif encoding_method == \"ordinal\":\n",
    "        encoder = ce.OrdinalEncoder(cols=categoricals)\n",
    "    elif encoding_method == \"binary\":\n",
    "        encoder = ce.BinaryEncoder(cols=categoricals)\n",
    "    elif encoding_method == \"target\":\n",
    "        encoder = ce.TargetEncoder(cols=categoricals)\n",
    "    elif encoding_method == \"count\":\n",
    "        encoder = ce.CountEncoder(cols=categoricals)\n",
    "    else:\n",
    "        raise ValueError(\"Invalid encoding_method\")\n",
    "        \n",
    "    # Define column transformer\n",
    "    preprocessor = ColumnTransformer(transformers=[(\"categorical\", encoder, categoricals)], remainder=\"passthrough\")\n",
    "\n",
    "    X_train, X_test, y_train, y_test = train_test_split(X, y, test_size=0.2, random_state=42)\n",
    "    X_train, X_val, y_train, y_val = train_test_split(X_train, y_train, test_size=0.1, random_state=42)\n",
    "\n",
    "    X_train = preprocessor.fit_transform(X_train, y_train)\n",
    "    X_val = preprocessor.transform(X_val)\n",
    "    X_test = preprocessor.transform(X_test)\n",
    "\n",
    "    random_search_results = []\n",
    "\n",
    "    for i in range(30):\n",
    "        learning_rate = np.random.uniform(0.01, 0.3)\n",
    "        max_depth = np.random.randint(2, 5)\n",
    "        n_estimators = 500 # we use early stopping # np.random.randint(50, 200)\n",
    "\n",
    "        params = {\n",
    "            \"learning_rate\": learning_rate,\n",
    "            \"max_depth\": max_depth,\n",
    "            \"n_estimators\": n_estimators,\n",
    "            \"random_state\": 42\n",
    "        }\n",
    "\n",
    "        start_time = time.time()\n",
    "        score = run_experiment(X_train, y_train, X_val, y_val, problem_type, params)\n",
    "        elapsed_time = time.time() - start_time\n",
    "\n",
    "        result = {\n",
    "            \"iteration\": i + 1,\n",
    "            \"params\": params,\n",
    "            \"score\": score,\n",
    "            \"elapsed_time\": elapsed_time\n",
    "        }\n",
    "\n",
    "        random_search_results.append(result)\n",
    "        print(result)\n",
    "\n",
    "    return {\n",
    "        \"dataset\": dataset_filename,\n",
    "        \"problem_type\": problem_type,\n",
    "        \"encoding_method\": encoding_method,\n",
    "        \"results\": random_search_results\n",
    "    }\n"
   ]
  },
  {
   "cell_type": "markdown",
   "id": "6d8a0dca",
   "metadata": {},
   "source": [
    "## Pull Data, Load It, and Run All Experiments "
   ]
  },
  {
   "cell_type": "code",
   "execution_count": 12,
   "id": "c6a11aec",
   "metadata": {
    "scrolled": true
   },
   "outputs": [
    {
     "name": "stdout",
     "output_type": "stream",
     "text": [
      "doing abalone.csv\n",
      "{'iteration': 1, 'params': {'learning_rate': 0.04279759640489962, 'max_depth': 4, 'n_estimators': 500, 'random_state': 42}, 'score': 4.871548032208085, 'elapsed_time': 0.5834512710571289}\n",
      "{'iteration': 2, 'params': {'learning_rate': 0.1641816900101409, 'max_depth': 3, 'n_estimators': 500, 'random_state': 42}, 'score': 4.8042187020308305, 'elapsed_time': 0.16551518440246582}\n",
      "{'iteration': 3, 'params': {'learning_rate': 0.14785562633816887, 'max_depth': 3, 'n_estimators': 500, 'random_state': 42}, 'score': 4.785366046602555, 'elapsed_time': 0.24292659759521484}\n",
      "{'iteration': 4, 'params': {'learning_rate': 0.11661440515963664, 'max_depth': 4, 'n_estimators': 500, 'random_state': 42}, 'score': 4.85349425862943, 'elapsed_time': 0.2808198928833008}\n",
      "{'iteration': 5, 'params': {'learning_rate': 0.2228327576452347, 'max_depth': 4, 'n_estimators': 500, 'random_state': 42}, 'score': 4.89588860689316, 'elapsed_time': 0.10915708541870117}\n",
      "{'iteration': 6, 'params': {'learning_rate': 0.1591624109150543, 'max_depth': 3, 'n_estimators': 500, 'random_state': 42}, 'score': 4.895036601029185, 'elapsed_time': 0.24395155906677246}\n",
      "{'iteration': 7, 'params': {'learning_rate': 0.1398172516762835, 'max_depth': 2, 'n_estimators': 500, 'random_state': 42}, 'score': 4.883157925360733, 'elapsed_time': 0.24815678596496582}\n",
      "{'iteration': 8, 'params': {'learning_rate': 0.2912180006832902, 'max_depth': 4, 'n_estimators': 500, 'random_state': 42}, 'score': 4.742394533760513, 'elapsed_time': 0.10882306098937988}\n",
      "{'iteration': 9, 'params': {'learning_rate': 0.04889131948864131, 'max_depth': 2, 'n_estimators': 500, 'random_state': 42}, 'score': 5.004042059990121, 'elapsed_time': 0.4685640335083008}\n",
      "{'iteration': 10, 'params': {'learning_rate': 0.2546074637252369, 'max_depth': 4, 'n_estimators': 500, 'random_state': 42}, 'score': 4.95127629048273, 'elapsed_time': 0.13731122016906738}\n",
      "{'iteration': 11, 'params': {'learning_rate': 0.10658485963450078, 'max_depth': 2, 'n_estimators': 500, 'random_state': 42}, 'score': 4.8808759422354, 'elapsed_time': 0.31318187713623047}\n",
      "{'iteration': 12, 'params': {'learning_rate': 0.10636166726470708, 'max_depth': 2, 'n_estimators': 500, 'random_state': 42}, 'score': 4.833404643081013, 'elapsed_time': 0.3110065460205078}\n",
      "{'iteration': 13, 'params': {'learning_rate': 0.13686110592978243, 'max_depth': 2, 'n_estimators': 500, 'random_state': 42}, 'score': 4.905656107129421, 'elapsed_time': 0.2586336135864258}\n",
      "{'iteration': 14, 'params': {'learning_rate': 0.2551193883955372, 'max_depth': 3, 'n_estimators': 500, 'random_state': 42}, 'score': 4.764096883741887, 'elapsed_time': 0.13704156875610352}\n",
      "{'iteration': 15, 'params': {'learning_rate': 0.13329558965248178, 'max_depth': 2, 'n_estimators': 500, 'random_state': 42}, 'score': 4.985102510672532, 'elapsed_time': 0.19812250137329102}\n",
      "{'iteration': 16, 'params': {'learning_rate': 0.22698334606317686, 'max_depth': 3, 'n_estimators': 500, 'random_state': 42}, 'score': 4.954584528690276, 'elapsed_time': 0.09443855285644531}\n",
      "{'iteration': 17, 'params': {'learning_rate': 0.2090906676479656, 'max_depth': 4, 'n_estimators': 500, 'random_state': 42}, 'score': 4.898643951182348, 'elapsed_time': 0.21349310874938965}\n",
      "{'iteration': 18, 'params': {'learning_rate': 0.2256059916867507, 'max_depth': 4, 'n_estimators': 500, 'random_state': 42}, 'score': 4.914165904438296, 'elapsed_time': 0.26546645164489746}\n",
      "{'iteration': 19, 'params': {'learning_rate': 0.0764433992370194, 'max_depth': 2, 'n_estimators': 500, 'random_state': 42}, 'score': 4.9423364305329525, 'elapsed_time': 0.4839816093444824}\n",
      "{'iteration': 20, 'params': {'learning_rate': 0.2081453576211512, 'max_depth': 3, 'n_estimators': 500, 'random_state': 42}, 'score': 4.809714769623576, 'elapsed_time': 0.1415235996246338}\n",
      "{'iteration': 21, 'params': {'learning_rate': 0.01334335069611753, 'max_depth': 4, 'n_estimators': 500, 'random_state': 42}, 'score': 4.907182881076992, 'elapsed_time': 2.706901788711548}\n",
      "{'iteration': 22, 'params': {'learning_rate': 0.07025991769098172, 'max_depth': 4, 'n_estimators': 500, 'random_state': 42}, 'score': 4.873529839435894, 'elapsed_time': 0.36870884895324707}\n",
      "{'iteration': 23, 'params': {'learning_rate': 0.2263711920782662, 'max_depth': 4, 'n_estimators': 500, 'random_state': 42}, 'score': 4.876114511722855, 'elapsed_time': 0.1794605255126953}\n",
      "{'iteration': 24, 'params': {'learning_rate': 0.021328152604688524, 'max_depth': 3, 'n_estimators': 500, 'random_state': 42}, 'score': 4.886796997323998, 'elapsed_time': 0.7609684467315674}\n",
      "{'iteration': 25, 'params': {'learning_rate': 0.12412256722343971, 'max_depth': 2, 'n_estimators': 500, 'random_state': 42}, 'score': 4.897115125165276, 'elapsed_time': 0.3619699478149414}\n",
      "{'iteration': 26, 'params': {'learning_rate': 0.20193539939823185, 'max_depth': 3, 'n_estimators': 500, 'random_state': 42}, 'score': 4.884446019207889, 'elapsed_time': 0.12874865531921387}\n",
      "{'iteration': 27, 'params': {'learning_rate': 0.15027103298028702, 'max_depth': 4, 'n_estimators': 500, 'random_state': 42}, 'score': 4.8787615945739375, 'elapsed_time': 0.1729726791381836}\n",
      "{'iteration': 28, 'params': {'learning_rate': 0.28752219677646207, 'max_depth': 4, 'n_estimators': 500, 'random_state': 42}, 'score': 4.863693529616767, 'elapsed_time': 0.13368630409240723}\n",
      "{'iteration': 29, 'params': {'learning_rate': 0.2324142944992178, 'max_depth': 3, 'n_estimators': 500, 'random_state': 42}, 'score': 4.841541743643723, 'elapsed_time': 0.1327056884765625}\n",
      "{'iteration': 30, 'params': {'learning_rate': 0.13394037628184763, 'max_depth': 3, 'n_estimators': 500, 'random_state': 42}, 'score': 4.946805111549048, 'elapsed_time': 0.17467069625854492}\n",
      "{'iteration': 1, 'params': {'learning_rate': 0.08426228847379878, 'max_depth': 4, 'n_estimators': 500, 'random_state': 42}, 'score': 4.838187905233437, 'elapsed_time': 0.2764625549316406}\n",
      "{'iteration': 2, 'params': {'learning_rate': 0.25252291609849675, 'max_depth': 2, 'n_estimators': 500, 'random_state': 42}, 'score': 5.034337805259648, 'elapsed_time': 0.14706110954284668}\n",
      "{'iteration': 3, 'params': {'learning_rate': 0.03287473229200449, 'max_depth': 4, 'n_estimators': 500, 'random_state': 42}, 'score': 4.815902097799976, 'elapsed_time': 0.5367836952209473}\n",
      "{'iteration': 4, 'params': {'learning_rate': 0.10905384910989567, 'max_depth': 3, 'n_estimators': 500, 'random_state': 42}, 'score': 4.870268545668252, 'elapsed_time': 0.32195353507995605}\n",
      "{'iteration': 5, 'params': {'learning_rate': 0.025933130249788217, 'max_depth': 3, 'n_estimators': 500, 'random_state': 42}, 'score': 4.913863574274125, 'elapsed_time': 0.7036736011505127}\n",
      "{'iteration': 6, 'params': {'learning_rate': 0.13037673179909423, 'max_depth': 4, 'n_estimators': 500, 'random_state': 42}, 'score': 4.868212734518269, 'elapsed_time': 0.2095797061920166}\n",
      "{'iteration': 7, 'params': {'learning_rate': 0.09807251382413887, 'max_depth': 3, 'n_estimators': 500, 'random_state': 42}, 'score': 4.923189747940662, 'elapsed_time': 0.30190372467041016}\n",
      "{'iteration': 8, 'params': {'learning_rate': 0.26013990009748245, 'max_depth': 4, 'n_estimators': 500, 'random_state': 42}, 'score': 4.827368463722533, 'elapsed_time': 0.15420866012573242}\n",
      "{'iteration': 9, 'params': {'learning_rate': 0.18496910810864697, 'max_depth': 3, 'n_estimators': 500, 'random_state': 42}, 'score': 4.785481565603636, 'elapsed_time': 0.17967557907104492}\n",
      "{'iteration': 10, 'params': {'learning_rate': 0.028090446348426286, 'max_depth': 3, 'n_estimators': 500, 'random_state': 42}, 'score': 4.86958256039753, 'elapsed_time': 0.8221945762634277}\n",
      "{'iteration': 11, 'params': {'learning_rate': 0.08012286384567484, 'max_depth': 4, 'n_estimators': 500, 'random_state': 42}, 'score': 4.84444395522052, 'elapsed_time': 0.5081336498260498}\n",
      "{'iteration': 12, 'params': {'learning_rate': 0.16445153737367862, 'max_depth': 2, 'n_estimators': 500, 'random_state': 42}, 'score': 4.931642569184067, 'elapsed_time': 0.2158651351928711}\n",
      "{'iteration': 13, 'params': {'learning_rate': 0.18548398808009886, 'max_depth': 4, 'n_estimators': 500, 'random_state': 42}, 'score': 4.852663624236526, 'elapsed_time': 0.28336238861083984}\n",
      "{'iteration': 14, 'params': {'learning_rate': 0.26008175985092113, 'max_depth': 4, 'n_estimators': 500, 'random_state': 42}, 'score': 4.8273551914823996, 'elapsed_time': 0.1486501693725586}\n"
     ]
    },
    {
     "name": "stdout",
     "output_type": "stream",
     "text": [
      "{'iteration': 15, 'params': {'learning_rate': 0.2409990829635368, 'max_depth': 4, 'n_estimators': 500, 'random_state': 42}, 'score': 4.8838344913108855, 'elapsed_time': 0.14458823204040527}\n",
      "{'iteration': 16, 'params': {'learning_rate': 0.1181327165754971, 'max_depth': 3, 'n_estimators': 500, 'random_state': 42}, 'score': 4.9617336966837255, 'elapsed_time': 0.18861937522888184}\n",
      "{'iteration': 17, 'params': {'learning_rate': 0.04279768968440794, 'max_depth': 3, 'n_estimators': 500, 'random_state': 42}, 'score': 4.918471093461553, 'elapsed_time': 0.5322091579437256}\n",
      "{'iteration': 18, 'params': {'learning_rate': 0.1634570621725881, 'max_depth': 2, 'n_estimators': 500, 'random_state': 42}, 'score': 4.942402676092988, 'elapsed_time': 0.23516511917114258}\n",
      "{'iteration': 19, 'params': {'learning_rate': 0.11832533918518554, 'max_depth': 2, 'n_estimators': 500, 'random_state': 42}, 'score': 4.900831441699482, 'elapsed_time': 0.325167179107666}\n",
      "{'iteration': 20, 'params': {'learning_rate': 0.24837522988576502, 'max_depth': 2, 'n_estimators': 500, 'random_state': 42}, 'score': 5.015966968205591, 'elapsed_time': 0.16054153442382812}\n",
      "{'iteration': 21, 'params': {'learning_rate': 0.12274548931369282, 'max_depth': 2, 'n_estimators': 500, 'random_state': 42}, 'score': 4.9420009286056565, 'elapsed_time': 0.28608012199401855}\n",
      "{'iteration': 22, 'params': {'learning_rate': 0.2562442999548741, 'max_depth': 4, 'n_estimators': 500, 'random_state': 42}, 'score': 4.720765946321859, 'elapsed_time': 0.12907886505126953}\n",
      "{'iteration': 23, 'params': {'learning_rate': 0.2729143308886654, 'max_depth': 2, 'n_estimators': 500, 'random_state': 42}, 'score': 5.008509888577717, 'elapsed_time': 0.14057040214538574}\n",
      "{'iteration': 24, 'params': {'learning_rate': 0.037002096938060614, 'max_depth': 3, 'n_estimators': 500, 'random_state': 42}, 'score': 4.883686192275329, 'elapsed_time': 0.5399630069732666}\n",
      "{'iteration': 25, 'params': {'learning_rate': 0.16496186358669615, 'max_depth': 2, 'n_estimators': 500, 'random_state': 42}, 'score': 4.961113803810218, 'elapsed_time': 0.27637314796447754}\n",
      "{'iteration': 26, 'params': {'learning_rate': 0.10104617439524621, 'max_depth': 2, 'n_estimators': 500, 'random_state': 42}, 'score': 4.954144127845313, 'elapsed_time': 0.43207716941833496}\n",
      "{'iteration': 27, 'params': {'learning_rate': 0.1914542760027873, 'max_depth': 3, 'n_estimators': 500, 'random_state': 42}, 'score': 4.847997138161561, 'elapsed_time': 0.19396471977233887}\n",
      "{'iteration': 28, 'params': {'learning_rate': 0.08279436098696925, 'max_depth': 2, 'n_estimators': 500, 'random_state': 42}, 'score': 4.945245629782683, 'elapsed_time': 0.3791947364807129}\n",
      "{'iteration': 29, 'params': {'learning_rate': 0.1091916803429501, 'max_depth': 2, 'n_estimators': 500, 'random_state': 42}, 'score': 5.030948722673084, 'elapsed_time': 0.22889184951782227}\n",
      "{'iteration': 30, 'params': {'learning_rate': 0.09850066036378506, 'max_depth': 4, 'n_estimators': 500, 'random_state': 42}, 'score': 4.821280086107947, 'elapsed_time': 0.23131346702575684}\n",
      "{'iteration': 1, 'params': {'learning_rate': 0.038556439663194685, 'max_depth': 3, 'n_estimators': 500, 'random_state': 42}, 'score': 4.848382436770122, 'elapsed_time': 0.5526187419891357}\n",
      "{'iteration': 2, 'params': {'learning_rate': 0.16355050174900707, 'max_depth': 3, 'n_estimators': 500, 'random_state': 42}, 'score': 4.96377877477596, 'elapsed_time': 0.1728806495666504}\n",
      "{'iteration': 3, 'params': {'learning_rate': 0.19445714675535644, 'max_depth': 4, 'n_estimators': 500, 'random_state': 42}, 'score': 4.807427018913746, 'elapsed_time': 0.18599820137023926}\n",
      "{'iteration': 4, 'params': {'learning_rate': 0.02106686926597419, 'max_depth': 2, 'n_estimators': 500, 'random_state': 42}, 'score': 5.011820637756136, 'elapsed_time': 1.0964417457580566}\n",
      "{'iteration': 5, 'params': {'learning_rate': 0.1911373267070808, 'max_depth': 2, 'n_estimators': 500, 'random_state': 42}, 'score': 4.854325081157482, 'elapsed_time': 0.2424323558807373}\n",
      "{'iteration': 6, 'params': {'learning_rate': 0.19514037075779805, 'max_depth': 4, 'n_estimators': 500, 'random_state': 42}, 'score': 4.915172218450912, 'elapsed_time': 0.16394519805908203}\n",
      "{'iteration': 7, 'params': {'learning_rate': 0.2516244762466908, 'max_depth': 4, 'n_estimators': 500, 'random_state': 42}, 'score': 5.007210555142605, 'elapsed_time': 0.15945148468017578}\n",
      "{'iteration': 8, 'params': {'learning_rate': 0.2588364786157624, 'max_depth': 3, 'n_estimators': 500, 'random_state': 42}, 'score': 4.793995717845324, 'elapsed_time': 0.18412232398986816}\n",
      "{'iteration': 9, 'params': {'learning_rate': 0.29599629091445456, 'max_depth': 3, 'n_estimators': 500, 'random_state': 42}, 'score': 5.07736093791063, 'elapsed_time': 0.2353816032409668}\n",
      "{'iteration': 10, 'params': {'learning_rate': 0.2447729296632078, 'max_depth': 3, 'n_estimators': 500, 'random_state': 42}, 'score': 4.82035930900362, 'elapsed_time': 0.2244410514831543}\n",
      "{'iteration': 11, 'params': {'learning_rate': 0.1610351729991723, 'max_depth': 2, 'n_estimators': 500, 'random_state': 42}, 'score': 4.888085431243616, 'elapsed_time': 0.3998730182647705}\n",
      "{'iteration': 12, 'params': {'learning_rate': 0.060253861193358356, 'max_depth': 4, 'n_estimators': 500, 'random_state': 42}, 'score': 4.907411080100638, 'elapsed_time': 0.6298637390136719}\n",
      "{'iteration': 13, 'params': {'learning_rate': 0.04750881895365371, 'max_depth': 4, 'n_estimators': 500, 'random_state': 42}, 'score': 4.916523509714809, 'elapsed_time': 0.8380753993988037}\n",
      "{'iteration': 14, 'params': {'learning_rate': 0.022613501592449247, 'max_depth': 3, 'n_estimators': 500, 'random_state': 42}, 'score': 4.900243698561701, 'elapsed_time': 1.0106370449066162}\n",
      "{'iteration': 15, 'params': {'learning_rate': 0.1963358353984173, 'max_depth': 3, 'n_estimators': 500, 'random_state': 42}, 'score': 4.835287667892841, 'elapsed_time': 0.20377182960510254}\n",
      "{'iteration': 16, 'params': {'learning_rate': 0.25416195902382627, 'max_depth': 2, 'n_estimators': 500, 'random_state': 42}, 'score': 4.9163409576162325, 'elapsed_time': 0.255570650100708}\n",
      "{'iteration': 17, 'params': {'learning_rate': 0.09549975049027867, 'max_depth': 3, 'n_estimators': 500, 'random_state': 42}, 'score': 4.838648859202396, 'elapsed_time': 0.3867380619049072}\n",
      "{'iteration': 18, 'params': {'learning_rate': 0.09074129058933132, 'max_depth': 4, 'n_estimators': 500, 'random_state': 42}, 'score': 4.879503312609935, 'elapsed_time': 0.461411714553833}\n",
      "{'iteration': 19, 'params': {'learning_rate': 0.20423590523488416, 'max_depth': 3, 'n_estimators': 500, 'random_state': 42}, 'score': 4.881433979470274, 'elapsed_time': 0.22806334495544434}\n",
      "{'iteration': 20, 'params': {'learning_rate': 0.15876159533754278, 'max_depth': 4, 'n_estimators': 500, 'random_state': 42}, 'score': 4.760014298680636, 'elapsed_time': 0.37933850288391113}\n",
      "{'iteration': 21, 'params': {'learning_rate': 0.04634739580029871, 'max_depth': 4, 'n_estimators': 500, 'random_state': 42}, 'score': 4.894349914011285, 'elapsed_time': 0.6208415031433105}\n",
      "{'iteration': 22, 'params': {'learning_rate': 0.11855351615436444, 'max_depth': 2, 'n_estimators': 500, 'random_state': 42}, 'score': 4.944305972250815, 'elapsed_time': 0.3118784427642822}\n",
      "{'iteration': 23, 'params': {'learning_rate': 0.2738914035641308, 'max_depth': 4, 'n_estimators': 500, 'random_state': 42}, 'score': 4.893623647136941, 'elapsed_time': 0.213731050491333}\n",
      "{'iteration': 24, 'params': {'learning_rate': 0.10987720491710866, 'max_depth': 2, 'n_estimators': 500, 'random_state': 42}, 'score': 4.8852707090700145, 'elapsed_time': 0.4577789306640625}\n",
      "{'iteration': 25, 'params': {'learning_rate': 0.14982919767212333, 'max_depth': 4, 'n_estimators': 500, 'random_state': 42}, 'score': 4.788710523004089, 'elapsed_time': 0.31272315979003906}\n",
      "{'iteration': 26, 'params': {'learning_rate': 0.226411139882336, 'max_depth': 4, 'n_estimators': 500, 'random_state': 42}, 'score': 4.851073232395281, 'elapsed_time': 0.235626220703125}\n",
      "{'iteration': 27, 'params': {'learning_rate': 0.09327661565669366, 'max_depth': 3, 'n_estimators': 500, 'random_state': 42}, 'score': 4.8541893388040585, 'elapsed_time': 0.4680051803588867}\n",
      "{'iteration': 28, 'params': {'learning_rate': 0.06785075248717122, 'max_depth': 2, 'n_estimators': 500, 'random_state': 42}, 'score': 4.910188714344224, 'elapsed_time': 0.7130823135375977}\n"
     ]
    },
    {
     "name": "stdout",
     "output_type": "stream",
     "text": [
      "{'iteration': 29, 'params': {'learning_rate': 0.14926343474871065, 'max_depth': 2, 'n_estimators': 500, 'random_state': 42}, 'score': 4.892528438238732, 'elapsed_time': 0.3564310073852539}\n",
      "{'iteration': 30, 'params': {'learning_rate': 0.24582185352194824, 'max_depth': 3, 'n_estimators': 500, 'random_state': 42}, 'score': 4.786675094121598, 'elapsed_time': 0.16447806358337402}\n",
      "{'iteration': 1, 'params': {'learning_rate': 0.10189145466289352, 'max_depth': 2, 'n_estimators': 500, 'random_state': 42}, 'score': 4.972807477303048, 'elapsed_time': 0.43473100662231445}\n",
      "{'iteration': 2, 'params': {'learning_rate': 0.12303514657901994, 'max_depth': 3, 'n_estimators': 500, 'random_state': 42}, 'score': 4.960913885892658, 'elapsed_time': 0.24694085121154785}\n",
      "{'iteration': 3, 'params': {'learning_rate': 0.2823506077757376, 'max_depth': 2, 'n_estimators': 500, 'random_state': 42}, 'score': 4.9257139935664185, 'elapsed_time': 0.17610812187194824}\n",
      "{'iteration': 4, 'params': {'learning_rate': 0.19196508425513367, 'max_depth': 4, 'n_estimators': 500, 'random_state': 42}, 'score': 4.872704845862875, 'elapsed_time': 0.18605804443359375}\n",
      "{'iteration': 5, 'params': {'learning_rate': 0.15780706779574646, 'max_depth': 3, 'n_estimators': 500, 'random_state': 42}, 'score': 4.880333972087446, 'elapsed_time': 0.21460199356079102}\n",
      "{'iteration': 6, 'params': {'learning_rate': 0.06351641710015168, 'max_depth': 3, 'n_estimators': 500, 'random_state': 42}, 'score': 4.927924034185089, 'elapsed_time': 0.5475523471832275}\n",
      "{'iteration': 7, 'params': {'learning_rate': 0.03253190979758224, 'max_depth': 3, 'n_estimators': 500, 'random_state': 42}, 'score': 4.873968349755273, 'elapsed_time': 1.012779951095581}\n",
      "{'iteration': 8, 'params': {'learning_rate': 0.02488884510722266, 'max_depth': 2, 'n_estimators': 500, 'random_state': 42}, 'score': 5.007950583783292, 'elapsed_time': 2.13303804397583}\n",
      "{'iteration': 9, 'params': {'learning_rate': 0.27744270689060996, 'max_depth': 3, 'n_estimators': 500, 'random_state': 42}, 'score': 4.86971448712085, 'elapsed_time': 0.24130558967590332}\n",
      "{'iteration': 10, 'params': {'learning_rate': 0.09215605491794367, 'max_depth': 4, 'n_estimators': 500, 'random_state': 42}, 'score': 4.819971954212756, 'elapsed_time': 0.46417832374572754}\n",
      "{'iteration': 11, 'params': {'learning_rate': 0.2211642369399462, 'max_depth': 3, 'n_estimators': 500, 'random_state': 42}, 'score': 4.824267176739877, 'elapsed_time': 0.3015151023864746}\n",
      "{'iteration': 12, 'params': {'learning_rate': 0.26121324133994717, 'max_depth': 2, 'n_estimators': 500, 'random_state': 42}, 'score': 4.924406294232354, 'elapsed_time': 0.2845313549041748}\n",
      "{'iteration': 13, 'params': {'learning_rate': 0.038015706999393266, 'max_depth': 4, 'n_estimators': 500, 'random_state': 42}, 'score': 4.821184067337979, 'elapsed_time': 0.7776551246643066}\n",
      "{'iteration': 14, 'params': {'learning_rate': 0.08912398190692389, 'max_depth': 2, 'n_estimators': 500, 'random_state': 42}, 'score': 4.963172069921992, 'elapsed_time': 0.6266851425170898}\n",
      "{'iteration': 15, 'params': {'learning_rate': 0.08433292148714006, 'max_depth': 4, 'n_estimators': 500, 'random_state': 42}, 'score': 4.842695781524185, 'elapsed_time': 0.4074747562408447}\n",
      "{'iteration': 16, 'params': {'learning_rate': 0.22064742714910934, 'max_depth': 4, 'n_estimators': 500, 'random_state': 42}, 'score': 4.717736144751812, 'elapsed_time': 0.30242037773132324}\n",
      "{'iteration': 17, 'params': {'learning_rate': 0.16397705606450588, 'max_depth': 4, 'n_estimators': 500, 'random_state': 42}, 'score': 4.879229994806728, 'elapsed_time': 0.27956652641296387}\n",
      "{'iteration': 18, 'params': {'learning_rate': 0.1320365597480979, 'max_depth': 2, 'n_estimators': 500, 'random_state': 42}, 'score': 4.924690870527069, 'elapsed_time': 0.41928982734680176}\n",
      "{'iteration': 19, 'params': {'learning_rate': 0.26602832445778973, 'max_depth': 3, 'n_estimators': 500, 'random_state': 42}, 'score': 5.02401802609576, 'elapsed_time': 0.19639968872070312}\n",
      "{'iteration': 20, 'params': {'learning_rate': 0.16785832635366538, 'max_depth': 2, 'n_estimators': 500, 'random_state': 42}, 'score': 4.922235120982763, 'elapsed_time': 0.3258335590362549}\n",
      "{'iteration': 21, 'params': {'learning_rate': 0.2121774710042723, 'max_depth': 4, 'n_estimators': 500, 'random_state': 42}, 'score': 4.86940981757996, 'elapsed_time': 0.23789453506469727}\n",
      "{'iteration': 22, 'params': {'learning_rate': 0.25252230598593073, 'max_depth': 3, 'n_estimators': 500, 'random_state': 42}, 'score': 4.899633549160907, 'elapsed_time': 0.1685483455657959}\n",
      "{'iteration': 23, 'params': {'learning_rate': 0.23344578961052417, 'max_depth': 2, 'n_estimators': 500, 'random_state': 42}, 'score': 4.88536392091888, 'elapsed_time': 0.2494339942932129}\n",
      "{'iteration': 24, 'params': {'learning_rate': 0.05443011989215983, 'max_depth': 3, 'n_estimators': 500, 'random_state': 42}, 'score': 4.885853287464236, 'elapsed_time': 0.6004621982574463}\n",
      "{'iteration': 25, 'params': {'learning_rate': 0.08337085586977985, 'max_depth': 3, 'n_estimators': 500, 'random_state': 42}, 'score': 4.906359591063974, 'elapsed_time': 0.45955944061279297}\n",
      "{'iteration': 26, 'params': {'learning_rate': 0.0392901638893406, 'max_depth': 3, 'n_estimators': 500, 'random_state': 42}, 'score': 4.853525225962751, 'elapsed_time': 0.9415760040283203}\n",
      "{'iteration': 27, 'params': {'learning_rate': 0.1794337015454754, 'max_depth': 2, 'n_estimators': 500, 'random_state': 42}, 'score': 4.962354870059865, 'elapsed_time': 0.3391854763031006}\n",
      "{'iteration': 28, 'params': {'learning_rate': 0.0201701537462358, 'max_depth': 3, 'n_estimators': 500, 'random_state': 42}, 'score': 4.921365668758197, 'elapsed_time': 1.354322910308838}\n",
      "{'iteration': 29, 'params': {'learning_rate': 0.14121358010616844, 'max_depth': 3, 'n_estimators': 500, 'random_state': 42}, 'score': 4.916441129393953, 'elapsed_time': 0.2924962043762207}\n",
      "{'iteration': 30, 'params': {'learning_rate': 0.05740721289453192, 'max_depth': 3, 'n_estimators': 500, 'random_state': 42}, 'score': 4.9450957357440375, 'elapsed_time': 0.5351264476776123}\n",
      "doing titanic.csv\n"
     ]
    },
    {
     "name": "stderr",
     "output_type": "stream",
     "text": [
      "C:\\Users\\padkins\\Anaconda3\\lib\\site-packages\\xgboost\\sklearn.py:1224: UserWarning: The use of label encoder in XGBClassifier is deprecated and will be removed in a future release. To remove this warning, do the following: 1) Pass option use_label_encoder=False when constructing XGBClassifier object; and 2) Encode your labels (y) as integers starting with 0, i.e. 0, 1, 2, ..., [num_class - 1].\n",
      "  warnings.warn(label_encoder_deprecation_msg, UserWarning)\n"
     ]
    },
    {
     "name": "stdout",
     "output_type": "stream",
     "text": [
      "{'iteration': 1, 'params': {'learning_rate': 0.053363595915144085, 'max_depth': 2, 'n_estimators': 500, 'random_state': 42}, 'score': 0.8028169014084507, 'elapsed_time': 0.2902824878692627}\n",
      "{'iteration': 2, 'params': {'learning_rate': 0.29042896486608005, 'max_depth': 3, 'n_estimators': 500, 'random_state': 42}, 'score': 0.8028169014084507, 'elapsed_time': 0.06569409370422363}\n",
      "{'iteration': 3, 'params': {'learning_rate': 0.20162293482420385, 'max_depth': 4, 'n_estimators': 500, 'random_state': 42}, 'score': 0.7887323943661971, 'elapsed_time': 0.12275981903076172}\n"
     ]
    },
    {
     "name": "stderr",
     "output_type": "stream",
     "text": [
      "C:\\Users\\padkins\\Anaconda3\\lib\\site-packages\\xgboost\\sklearn.py:1224: UserWarning: The use of label encoder in XGBClassifier is deprecated and will be removed in a future release. To remove this warning, do the following: 1) Pass option use_label_encoder=False when constructing XGBClassifier object; and 2) Encode your labels (y) as integers starting with 0, i.e. 0, 1, 2, ..., [num_class - 1].\n",
      "  warnings.warn(label_encoder_deprecation_msg, UserWarning)\n",
      "C:\\Users\\padkins\\Anaconda3\\lib\\site-packages\\xgboost\\sklearn.py:1224: UserWarning: The use of label encoder in XGBClassifier is deprecated and will be removed in a future release. To remove this warning, do the following: 1) Pass option use_label_encoder=False when constructing XGBClassifier object; and 2) Encode your labels (y) as integers starting with 0, i.e. 0, 1, 2, ..., [num_class - 1].\n",
      "  warnings.warn(label_encoder_deprecation_msg, UserWarning)\n",
      "C:\\Users\\padkins\\Anaconda3\\lib\\site-packages\\xgboost\\sklearn.py:1224: UserWarning: The use of label encoder in XGBClassifier is deprecated and will be removed in a future release. To remove this warning, do the following: 1) Pass option use_label_encoder=False when constructing XGBClassifier object; and 2) Encode your labels (y) as integers starting with 0, i.e. 0, 1, 2, ..., [num_class - 1].\n",
      "  warnings.warn(label_encoder_deprecation_msg, UserWarning)\n"
     ]
    },
    {
     "name": "stdout",
     "output_type": "stream",
     "text": [
      "{'iteration': 4, 'params': {'learning_rate': 0.03135229771473006, 'max_depth': 3, 'n_estimators': 500, 'random_state': 42}, 'score': 0.8028169014084507, 'elapsed_time': 0.4349846839904785}\n",
      "{'iteration': 5, 'params': {'learning_rate': 0.17632745695406526, 'max_depth': 4, 'n_estimators': 500, 'random_state': 42}, 'score': 0.8028169014084507, 'elapsed_time': 0.12514615058898926}\n"
     ]
    },
    {
     "name": "stderr",
     "output_type": "stream",
     "text": [
      "C:\\Users\\padkins\\Anaconda3\\lib\\site-packages\\xgboost\\sklearn.py:1224: UserWarning: The use of label encoder in XGBClassifier is deprecated and will be removed in a future release. To remove this warning, do the following: 1) Pass option use_label_encoder=False when constructing XGBClassifier object; and 2) Encode your labels (y) as integers starting with 0, i.e. 0, 1, 2, ..., [num_class - 1].\n",
      "  warnings.warn(label_encoder_deprecation_msg, UserWarning)\n",
      "C:\\Users\\padkins\\Anaconda3\\lib\\site-packages\\xgboost\\sklearn.py:1224: UserWarning: The use of label encoder in XGBClassifier is deprecated and will be removed in a future release. To remove this warning, do the following: 1) Pass option use_label_encoder=False when constructing XGBClassifier object; and 2) Encode your labels (y) as integers starting with 0, i.e. 0, 1, 2, ..., [num_class - 1].\n",
      "  warnings.warn(label_encoder_deprecation_msg, UserWarning)\n"
     ]
    },
    {
     "name": "stdout",
     "output_type": "stream",
     "text": [
      "{'iteration': 6, 'params': {'learning_rate': 0.13389174502623258, 'max_depth': 4, 'n_estimators': 500, 'random_state': 42}, 'score': 0.8028169014084507, 'elapsed_time': 0.1137237548828125}\n",
      "{'iteration': 7, 'params': {'learning_rate': 0.10830811994024697, 'max_depth': 3, 'n_estimators': 500, 'random_state': 42}, 'score': 0.8028169014084507, 'elapsed_time': 0.13866424560546875}\n"
     ]
    },
    {
     "name": "stderr",
     "output_type": "stream",
     "text": [
      "C:\\Users\\padkins\\Anaconda3\\lib\\site-packages\\xgboost\\sklearn.py:1224: UserWarning: The use of label encoder in XGBClassifier is deprecated and will be removed in a future release. To remove this warning, do the following: 1) Pass option use_label_encoder=False when constructing XGBClassifier object; and 2) Encode your labels (y) as integers starting with 0, i.e. 0, 1, 2, ..., [num_class - 1].\n",
      "  warnings.warn(label_encoder_deprecation_msg, UserWarning)\n",
      "C:\\Users\\padkins\\Anaconda3\\lib\\site-packages\\xgboost\\sklearn.py:1224: UserWarning: The use of label encoder in XGBClassifier is deprecated and will be removed in a future release. To remove this warning, do the following: 1) Pass option use_label_encoder=False when constructing XGBClassifier object; and 2) Encode your labels (y) as integers starting with 0, i.e. 0, 1, 2, ..., [num_class - 1].\n",
      "  warnings.warn(label_encoder_deprecation_msg, UserWarning)\n"
     ]
    },
    {
     "name": "stdout",
     "output_type": "stream",
     "text": [
      "{'iteration': 8, 'params': {'learning_rate': 0.26938848979200103, 'max_depth': 3, 'n_estimators': 500, 'random_state': 42}, 'score': 0.8028169014084507, 'elapsed_time': 0.09207439422607422}\n"
     ]
    },
    {
     "name": "stderr",
     "output_type": "stream",
     "text": [
      "C:\\Users\\padkins\\Anaconda3\\lib\\site-packages\\xgboost\\sklearn.py:1224: UserWarning: The use of label encoder in XGBClassifier is deprecated and will be removed in a future release. To remove this warning, do the following: 1) Pass option use_label_encoder=False when constructing XGBClassifier object; and 2) Encode your labels (y) as integers starting with 0, i.e. 0, 1, 2, ..., [num_class - 1].\n",
      "  warnings.warn(label_encoder_deprecation_msg, UserWarning)\n"
     ]
    },
    {
     "name": "stdout",
     "output_type": "stream",
     "text": [
      "{'iteration': 9, 'params': {'learning_rate': 0.11074598484551297, 'max_depth': 2, 'n_estimators': 500, 'random_state': 42}, 'score': 0.8028169014084507, 'elapsed_time': 0.22844862937927246}\n"
     ]
    },
    {
     "name": "stderr",
     "output_type": "stream",
     "text": [
      "C:\\Users\\padkins\\Anaconda3\\lib\\site-packages\\xgboost\\sklearn.py:1224: UserWarning: The use of label encoder in XGBClassifier is deprecated and will be removed in a future release. To remove this warning, do the following: 1) Pass option use_label_encoder=False when constructing XGBClassifier object; and 2) Encode your labels (y) as integers starting with 0, i.e. 0, 1, 2, ..., [num_class - 1].\n",
      "  warnings.warn(label_encoder_deprecation_msg, UserWarning)\n"
     ]
    },
    {
     "name": "stdout",
     "output_type": "stream",
     "text": [
      "{'iteration': 10, 'params': {'learning_rate': 0.0147682676927346, 'max_depth': 3, 'n_estimators': 500, 'random_state': 42}, 'score': 0.8028169014084507, 'elapsed_time': 0.8195273876190186}\n"
     ]
    },
    {
     "name": "stderr",
     "output_type": "stream",
     "text": [
      "C:\\Users\\padkins\\Anaconda3\\lib\\site-packages\\xgboost\\sklearn.py:1224: UserWarning: The use of label encoder in XGBClassifier is deprecated and will be removed in a future release. To remove this warning, do the following: 1) Pass option use_label_encoder=False when constructing XGBClassifier object; and 2) Encode your labels (y) as integers starting with 0, i.e. 0, 1, 2, ..., [num_class - 1].\n",
      "  warnings.warn(label_encoder_deprecation_msg, UserWarning)\n"
     ]
    },
    {
     "name": "stdout",
     "output_type": "stream",
     "text": [
      "{'iteration': 11, 'params': {'learning_rate': 0.04939020985211521, 'max_depth': 2, 'n_estimators': 500, 'random_state': 42}, 'score': 0.8028169014084507, 'elapsed_time': 0.45555901527404785}\n"
     ]
    },
    {
     "name": "stderr",
     "output_type": "stream",
     "text": [
      "C:\\Users\\padkins\\Anaconda3\\lib\\site-packages\\xgboost\\sklearn.py:1224: UserWarning: The use of label encoder in XGBClassifier is deprecated and will be removed in a future release. To remove this warning, do the following: 1) Pass option use_label_encoder=False when constructing XGBClassifier object; and 2) Encode your labels (y) as integers starting with 0, i.e. 0, 1, 2, ..., [num_class - 1].\n",
      "  warnings.warn(label_encoder_deprecation_msg, UserWarning)\n"
     ]
    },
    {
     "name": "stdout",
     "output_type": "stream",
     "text": [
      "{'iteration': 12, 'params': {'learning_rate': 0.04728675347664696, 'max_depth': 3, 'n_estimators': 500, 'random_state': 42}, 'score': 0.7605633802816901, 'elapsed_time': 0.29872965812683105}\n",
      "{'iteration': 13, 'params': {'learning_rate': 0.24700776530092408, 'max_depth': 4, 'n_estimators': 500, 'random_state': 42}, 'score': 0.8169014084507042, 'elapsed_time': 0.09514069557189941}\n"
     ]
    },
    {
     "name": "stderr",
     "output_type": "stream",
     "text": [
      "C:\\Users\\padkins\\Anaconda3\\lib\\site-packages\\xgboost\\sklearn.py:1224: UserWarning: The use of label encoder in XGBClassifier is deprecated and will be removed in a future release. To remove this warning, do the following: 1) Pass option use_label_encoder=False when constructing XGBClassifier object; and 2) Encode your labels (y) as integers starting with 0, i.e. 0, 1, 2, ..., [num_class - 1].\n",
      "  warnings.warn(label_encoder_deprecation_msg, UserWarning)\n",
      "C:\\Users\\padkins\\Anaconda3\\lib\\site-packages\\xgboost\\sklearn.py:1224: UserWarning: The use of label encoder in XGBClassifier is deprecated and will be removed in a future release. To remove this warning, do the following: 1) Pass option use_label_encoder=False when constructing XGBClassifier object; and 2) Encode your labels (y) as integers starting with 0, i.e. 0, 1, 2, ..., [num_class - 1].\n",
      "  warnings.warn(label_encoder_deprecation_msg, UserWarning)\n"
     ]
    },
    {
     "name": "stdout",
     "output_type": "stream",
     "text": [
      "{'iteration': 14, 'params': {'learning_rate': 0.059232336999360743, 'max_depth': 4, 'n_estimators': 500, 'random_state': 42}, 'score': 0.7746478873239436, 'elapsed_time': 0.2744288444519043}\n",
      "{'iteration': 15, 'params': {'learning_rate': 0.0990409467698595, 'max_depth': 4, 'n_estimators': 500, 'random_state': 42}, 'score': 0.7887323943661971, 'elapsed_time': 0.1435701847076416}\n"
     ]
    },
    {
     "name": "stderr",
     "output_type": "stream",
     "text": [
      "C:\\Users\\padkins\\Anaconda3\\lib\\site-packages\\xgboost\\sklearn.py:1224: UserWarning: The use of label encoder in XGBClassifier is deprecated and will be removed in a future release. To remove this warning, do the following: 1) Pass option use_label_encoder=False when constructing XGBClassifier object; and 2) Encode your labels (y) as integers starting with 0, i.e. 0, 1, 2, ..., [num_class - 1].\n",
      "  warnings.warn(label_encoder_deprecation_msg, UserWarning)\n",
      "C:\\Users\\padkins\\Anaconda3\\lib\\site-packages\\xgboost\\sklearn.py:1224: UserWarning: The use of label encoder in XGBClassifier is deprecated and will be removed in a future release. To remove this warning, do the following: 1) Pass option use_label_encoder=False when constructing XGBClassifier object; and 2) Encode your labels (y) as integers starting with 0, i.e. 0, 1, 2, ..., [num_class - 1].\n",
      "  warnings.warn(label_encoder_deprecation_msg, UserWarning)\n"
     ]
    },
    {
     "name": "stdout",
     "output_type": "stream",
     "text": [
      "{'iteration': 16, 'params': {'learning_rate': 0.02601377035699922, 'max_depth': 3, 'n_estimators': 500, 'random_state': 42}, 'score': 0.8028169014084507, 'elapsed_time': 0.42146825790405273}\n",
      "{'iteration': 17, 'params': {'learning_rate': 0.278640472494087, 'max_depth': 3, 'n_estimators': 500, 'random_state': 42}, 'score': 0.7605633802816901, 'elapsed_time': 0.08596634864807129}\n"
     ]
    },
    {
     "name": "stderr",
     "output_type": "stream",
     "text": [
      "C:\\Users\\padkins\\Anaconda3\\lib\\site-packages\\xgboost\\sklearn.py:1224: UserWarning: The use of label encoder in XGBClassifier is deprecated and will be removed in a future release. To remove this warning, do the following: 1) Pass option use_label_encoder=False when constructing XGBClassifier object; and 2) Encode your labels (y) as integers starting with 0, i.e. 0, 1, 2, ..., [num_class - 1].\n",
      "  warnings.warn(label_encoder_deprecation_msg, UserWarning)\n",
      "C:\\Users\\padkins\\Anaconda3\\lib\\site-packages\\xgboost\\sklearn.py:1224: UserWarning: The use of label encoder in XGBClassifier is deprecated and will be removed in a future release. To remove this warning, do the following: 1) Pass option use_label_encoder=False when constructing XGBClassifier object; and 2) Encode your labels (y) as integers starting with 0, i.e. 0, 1, 2, ..., [num_class - 1].\n",
      "  warnings.warn(label_encoder_deprecation_msg, UserWarning)\n"
     ]
    },
    {
     "name": "stdout",
     "output_type": "stream",
     "text": [
      "{'iteration': 18, 'params': {'learning_rate': 0.09166973932594592, 'max_depth': 3, 'n_estimators': 500, 'random_state': 42}, 'score': 0.8028169014084507, 'elapsed_time': 0.18028569221496582}\n"
     ]
    },
    {
     "name": "stderr",
     "output_type": "stream",
     "text": [
      "C:\\Users\\padkins\\Anaconda3\\lib\\site-packages\\xgboost\\sklearn.py:1224: UserWarning: The use of label encoder in XGBClassifier is deprecated and will be removed in a future release. To remove this warning, do the following: 1) Pass option use_label_encoder=False when constructing XGBClassifier object; and 2) Encode your labels (y) as integers starting with 0, i.e. 0, 1, 2, ..., [num_class - 1].\n",
      "  warnings.warn(label_encoder_deprecation_msg, UserWarning)\n"
     ]
    },
    {
     "name": "stdout",
     "output_type": "stream",
     "text": [
      "{'iteration': 19, 'params': {'learning_rate': 0.02681923223341913, 'max_depth': 3, 'n_estimators': 500, 'random_state': 42}, 'score': 0.7605633802816901, 'elapsed_time': 0.4654080867767334}\n",
      "{'iteration': 20, 'params': {'learning_rate': 0.12898494677100916, 'max_depth': 3, 'n_estimators': 500, 'random_state': 42}, 'score': 0.8028169014084507, 'elapsed_time': 0.1413862705230713}\n"
     ]
    },
    {
     "name": "stderr",
     "output_type": "stream",
     "text": [
      "C:\\Users\\padkins\\Anaconda3\\lib\\site-packages\\xgboost\\sklearn.py:1224: UserWarning: The use of label encoder in XGBClassifier is deprecated and will be removed in a future release. To remove this warning, do the following: 1) Pass option use_label_encoder=False when constructing XGBClassifier object; and 2) Encode your labels (y) as integers starting with 0, i.e. 0, 1, 2, ..., [num_class - 1].\n",
      "  warnings.warn(label_encoder_deprecation_msg, UserWarning)\n",
      "C:\\Users\\padkins\\Anaconda3\\lib\\site-packages\\xgboost\\sklearn.py:1224: UserWarning: The use of label encoder in XGBClassifier is deprecated and will be removed in a future release. To remove this warning, do the following: 1) Pass option use_label_encoder=False when constructing XGBClassifier object; and 2) Encode your labels (y) as integers starting with 0, i.e. 0, 1, 2, ..., [num_class - 1].\n",
      "  warnings.warn(label_encoder_deprecation_msg, UserWarning)\n"
     ]
    },
    {
     "name": "stdout",
     "output_type": "stream",
     "text": [
      "{'iteration': 21, 'params': {'learning_rate': 0.07433256310195169, 'max_depth': 2, 'n_estimators': 500, 'random_state': 42}, 'score': 0.8028169014084507, 'elapsed_time': 0.33295297622680664}\n",
      "{'iteration': 22, 'params': {'learning_rate': 0.2960537437934817, 'max_depth': 2, 'n_estimators': 500, 'random_state': 42}, 'score': 0.8028169014084507, 'elapsed_time': 0.10939598083496094}\n"
     ]
    },
    {
     "name": "stderr",
     "output_type": "stream",
     "text": [
      "C:\\Users\\padkins\\Anaconda3\\lib\\site-packages\\xgboost\\sklearn.py:1224: UserWarning: The use of label encoder in XGBClassifier is deprecated and will be removed in a future release. To remove this warning, do the following: 1) Pass option use_label_encoder=False when constructing XGBClassifier object; and 2) Encode your labels (y) as integers starting with 0, i.e. 0, 1, 2, ..., [num_class - 1].\n",
      "  warnings.warn(label_encoder_deprecation_msg, UserWarning)\n",
      "C:\\Users\\padkins\\Anaconda3\\lib\\site-packages\\xgboost\\sklearn.py:1224: UserWarning: The use of label encoder in XGBClassifier is deprecated and will be removed in a future release. To remove this warning, do the following: 1) Pass option use_label_encoder=False when constructing XGBClassifier object; and 2) Encode your labels (y) as integers starting with 0, i.e. 0, 1, 2, ..., [num_class - 1].\n",
      "  warnings.warn(label_encoder_deprecation_msg, UserWarning)\n"
     ]
    },
    {
     "name": "stdout",
     "output_type": "stream",
     "text": [
      "{'iteration': 23, 'params': {'learning_rate': 0.18820978197887178, 'max_depth': 4, 'n_estimators': 500, 'random_state': 42}, 'score': 0.7746478873239436, 'elapsed_time': 0.11468291282653809}\n",
      "{'iteration': 24, 'params': {'learning_rate': 0.22361603430311616, 'max_depth': 2, 'n_estimators': 500, 'random_state': 42}, 'score': 0.8028169014084507, 'elapsed_time': 0.13631916046142578}\n"
     ]
    },
    {
     "name": "stderr",
     "output_type": "stream",
     "text": [
      "C:\\Users\\padkins\\Anaconda3\\lib\\site-packages\\xgboost\\sklearn.py:1224: UserWarning: The use of label encoder in XGBClassifier is deprecated and will be removed in a future release. To remove this warning, do the following: 1) Pass option use_label_encoder=False when constructing XGBClassifier object; and 2) Encode your labels (y) as integers starting with 0, i.e. 0, 1, 2, ..., [num_class - 1].\n",
      "  warnings.warn(label_encoder_deprecation_msg, UserWarning)\n",
      "C:\\Users\\padkins\\Anaconda3\\lib\\site-packages\\xgboost\\sklearn.py:1224: UserWarning: The use of label encoder in XGBClassifier is deprecated and will be removed in a future release. To remove this warning, do the following: 1) Pass option use_label_encoder=False when constructing XGBClassifier object; and 2) Encode your labels (y) as integers starting with 0, i.e. 0, 1, 2, ..., [num_class - 1].\n",
      "  warnings.warn(label_encoder_deprecation_msg, UserWarning)\n"
     ]
    },
    {
     "name": "stdout",
     "output_type": "stream",
     "text": [
      "{'iteration': 25, 'params': {'learning_rate': 0.18619550440364893, 'max_depth': 4, 'n_estimators': 500, 'random_state': 42}, 'score': 0.7746478873239436, 'elapsed_time': 0.13232636451721191}\n"
     ]
    },
    {
     "name": "stderr",
     "output_type": "stream",
     "text": [
      "C:\\Users\\padkins\\Anaconda3\\lib\\site-packages\\xgboost\\sklearn.py:1224: UserWarning: The use of label encoder in XGBClassifier is deprecated and will be removed in a future release. To remove this warning, do the following: 1) Pass option use_label_encoder=False when constructing XGBClassifier object; and 2) Encode your labels (y) as integers starting with 0, i.e. 0, 1, 2, ..., [num_class - 1].\n",
      "  warnings.warn(label_encoder_deprecation_msg, UserWarning)\n"
     ]
    },
    {
     "name": "stdout",
     "output_type": "stream",
     "text": [
      "{'iteration': 26, 'params': {'learning_rate': 0.11222400096571418, 'max_depth': 2, 'n_estimators': 500, 'random_state': 42}, 'score': 0.8028169014084507, 'elapsed_time': 0.2161703109741211}\n",
      "{'iteration': 27, 'params': {'learning_rate': 0.22662794895279856, 'max_depth': 3, 'n_estimators': 500, 'random_state': 42}, 'score': 0.7605633802816901, 'elapsed_time': 0.1260852813720703}\n"
     ]
    },
    {
     "name": "stderr",
     "output_type": "stream",
     "text": [
      "C:\\Users\\padkins\\Anaconda3\\lib\\site-packages\\xgboost\\sklearn.py:1224: UserWarning: The use of label encoder in XGBClassifier is deprecated and will be removed in a future release. To remove this warning, do the following: 1) Pass option use_label_encoder=False when constructing XGBClassifier object; and 2) Encode your labels (y) as integers starting with 0, i.e. 0, 1, 2, ..., [num_class - 1].\n",
      "  warnings.warn(label_encoder_deprecation_msg, UserWarning)\n",
      "C:\\Users\\padkins\\Anaconda3\\lib\\site-packages\\xgboost\\sklearn.py:1224: UserWarning: The use of label encoder in XGBClassifier is deprecated and will be removed in a future release. To remove this warning, do the following: 1) Pass option use_label_encoder=False when constructing XGBClassifier object; and 2) Encode your labels (y) as integers starting with 0, i.e. 0, 1, 2, ..., [num_class - 1].\n",
      "  warnings.warn(label_encoder_deprecation_msg, UserWarning)\n"
     ]
    },
    {
     "name": "stdout",
     "output_type": "stream",
     "text": [
      "{'iteration': 28, 'params': {'learning_rate': 0.1811031247255251, 'max_depth': 4, 'n_estimators': 500, 'random_state': 42}, 'score': 0.7746478873239436, 'elapsed_time': 0.15988826751708984}\n"
     ]
    },
    {
     "name": "stderr",
     "output_type": "stream",
     "text": [
      "C:\\Users\\padkins\\Anaconda3\\lib\\site-packages\\xgboost\\sklearn.py:1224: UserWarning: The use of label encoder in XGBClassifier is deprecated and will be removed in a future release. To remove this warning, do the following: 1) Pass option use_label_encoder=False when constructing XGBClassifier object; and 2) Encode your labels (y) as integers starting with 0, i.e. 0, 1, 2, ..., [num_class - 1].\n",
      "  warnings.warn(label_encoder_deprecation_msg, UserWarning)\n"
     ]
    },
    {
     "name": "stdout",
     "output_type": "stream",
     "text": [
      "{'iteration': 29, 'params': {'learning_rate': 0.0301728848223961, 'max_depth': 2, 'n_estimators': 500, 'random_state': 42}, 'score': 0.8028169014084507, 'elapsed_time': 0.8862836360931396}\n"
     ]
    },
    {
     "name": "stderr",
     "output_type": "stream",
     "text": [
      "C:\\Users\\padkins\\Anaconda3\\lib\\site-packages\\xgboost\\sklearn.py:1224: UserWarning: The use of label encoder in XGBClassifier is deprecated and will be removed in a future release. To remove this warning, do the following: 1) Pass option use_label_encoder=False when constructing XGBClassifier object; and 2) Encode your labels (y) as integers starting with 0, i.e. 0, 1, 2, ..., [num_class - 1].\n",
      "  warnings.warn(label_encoder_deprecation_msg, UserWarning)\n"
     ]
    },
    {
     "name": "stdout",
     "output_type": "stream",
     "text": [
      "{'iteration': 30, 'params': {'learning_rate': 0.011593699731454415, 'max_depth': 3, 'n_estimators': 500, 'random_state': 42}, 'score': 0.8028169014084507, 'elapsed_time': 1.525472640991211}\n"
     ]
    },
    {
     "name": "stderr",
     "output_type": "stream",
     "text": [
      "C:\\Users\\padkins\\Anaconda3\\lib\\site-packages\\xgboost\\sklearn.py:1224: UserWarning: The use of label encoder in XGBClassifier is deprecated and will be removed in a future release. To remove this warning, do the following: 1) Pass option use_label_encoder=False when constructing XGBClassifier object; and 2) Encode your labels (y) as integers starting with 0, i.e. 0, 1, 2, ..., [num_class - 1].\n",
      "  warnings.warn(label_encoder_deprecation_msg, UserWarning)\n"
     ]
    },
    {
     "name": "stdout",
     "output_type": "stream",
     "text": [
      "{'iteration': 1, 'params': {'learning_rate': 0.037553009329669255, 'max_depth': 3, 'n_estimators': 500, 'random_state': 42}, 'score': 0.7746478873239436, 'elapsed_time': 0.4972672462463379}\n",
      "{'iteration': 2, 'params': {'learning_rate': 0.1945624110724361, 'max_depth': 3, 'n_estimators': 500, 'random_state': 42}, 'score': 0.8028169014084507, 'elapsed_time': 0.17478132247924805}\n"
     ]
    },
    {
     "name": "stderr",
     "output_type": "stream",
     "text": [
      "C:\\Users\\padkins\\Anaconda3\\lib\\site-packages\\xgboost\\sklearn.py:1224: UserWarning: The use of label encoder in XGBClassifier is deprecated and will be removed in a future release. To remove this warning, do the following: 1) Pass option use_label_encoder=False when constructing XGBClassifier object; and 2) Encode your labels (y) as integers starting with 0, i.e. 0, 1, 2, ..., [num_class - 1].\n",
      "  warnings.warn(label_encoder_deprecation_msg, UserWarning)\n",
      "C:\\Users\\padkins\\Anaconda3\\lib\\site-packages\\xgboost\\sklearn.py:1224: UserWarning: The use of label encoder in XGBClassifier is deprecated and will be removed in a future release. To remove this warning, do the following: 1) Pass option use_label_encoder=False when constructing XGBClassifier object; and 2) Encode your labels (y) as integers starting with 0, i.e. 0, 1, 2, ..., [num_class - 1].\n",
      "  warnings.warn(label_encoder_deprecation_msg, UserWarning)\n"
     ]
    },
    {
     "name": "stdout",
     "output_type": "stream",
     "text": [
      "{'iteration': 3, 'params': {'learning_rate': 0.026238685424048808, 'max_depth': 2, 'n_estimators': 500, 'random_state': 42}, 'score': 0.7887323943661971, 'elapsed_time': 1.3145301342010498}\n"
     ]
    },
    {
     "name": "stderr",
     "output_type": "stream",
     "text": [
      "C:\\Users\\padkins\\Anaconda3\\lib\\site-packages\\xgboost\\sklearn.py:1224: UserWarning: The use of label encoder in XGBClassifier is deprecated and will be removed in a future release. To remove this warning, do the following: 1) Pass option use_label_encoder=False when constructing XGBClassifier object; and 2) Encode your labels (y) as integers starting with 0, i.e. 0, 1, 2, ..., [num_class - 1].\n",
      "  warnings.warn(label_encoder_deprecation_msg, UserWarning)\n"
     ]
    },
    {
     "name": "stdout",
     "output_type": "stream",
     "text": [
      "{'iteration': 4, 'params': {'learning_rate': 0.2082465814453536, 'max_depth': 3, 'n_estimators': 500, 'random_state': 42}, 'score': 0.8028169014084507, 'elapsed_time': 0.23548316955566406}\n"
     ]
    },
    {
     "name": "stderr",
     "output_type": "stream",
     "text": [
      "C:\\Users\\padkins\\Anaconda3\\lib\\site-packages\\xgboost\\sklearn.py:1224: UserWarning: The use of label encoder in XGBClassifier is deprecated and will be removed in a future release. To remove this warning, do the following: 1) Pass option use_label_encoder=False when constructing XGBClassifier object; and 2) Encode your labels (y) as integers starting with 0, i.e. 0, 1, 2, ..., [num_class - 1].\n",
      "  warnings.warn(label_encoder_deprecation_msg, UserWarning)\n"
     ]
    },
    {
     "name": "stdout",
     "output_type": "stream",
     "text": [
      "{'iteration': 5, 'params': {'learning_rate': 0.016299464198620203, 'max_depth': 2, 'n_estimators': 500, 'random_state': 42}, 'score': 0.7887323943661971, 'elapsed_time': 1.4349596500396729}\n",
      "{'iteration': 6, 'params': {'learning_rate': 0.17563305943182092, 'max_depth': 3, 'n_estimators': 500, 'random_state': 42}, 'score': 0.7746478873239436, 'elapsed_time': 0.10247564315795898}\n",
      "{'iteration': 7, 'params': {'learning_rate': 0.17420610010582144, 'max_depth': 4, 'n_estimators': 500, 'random_state': 42}, 'score': 0.8028169014084507, 'elapsed_time': 0.09369993209838867}\n"
     ]
    },
    {
     "name": "stderr",
     "output_type": "stream",
     "text": [
      "C:\\Users\\padkins\\Anaconda3\\lib\\site-packages\\xgboost\\sklearn.py:1224: UserWarning: The use of label encoder in XGBClassifier is deprecated and will be removed in a future release. To remove this warning, do the following: 1) Pass option use_label_encoder=False when constructing XGBClassifier object; and 2) Encode your labels (y) as integers starting with 0, i.e. 0, 1, 2, ..., [num_class - 1].\n",
      "  warnings.warn(label_encoder_deprecation_msg, UserWarning)\n",
      "C:\\Users\\padkins\\Anaconda3\\lib\\site-packages\\xgboost\\sklearn.py:1224: UserWarning: The use of label encoder in XGBClassifier is deprecated and will be removed in a future release. To remove this warning, do the following: 1) Pass option use_label_encoder=False when constructing XGBClassifier object; and 2) Encode your labels (y) as integers starting with 0, i.e. 0, 1, 2, ..., [num_class - 1].\n",
      "  warnings.warn(label_encoder_deprecation_msg, UserWarning)\n",
      "C:\\Users\\padkins\\Anaconda3\\lib\\site-packages\\xgboost\\sklearn.py:1224: UserWarning: The use of label encoder in XGBClassifier is deprecated and will be removed in a future release. To remove this warning, do the following: 1) Pass option use_label_encoder=False when constructing XGBClassifier object; and 2) Encode your labels (y) as integers starting with 0, i.e. 0, 1, 2, ..., [num_class - 1].\n",
      "  warnings.warn(label_encoder_deprecation_msg, UserWarning)\n"
     ]
    },
    {
     "name": "stdout",
     "output_type": "stream",
     "text": [
      "{'iteration': 8, 'params': {'learning_rate': 0.1246283330840312, 'max_depth': 2, 'n_estimators': 500, 'random_state': 42}, 'score': 0.8028169014084507, 'elapsed_time': 0.1685502529144287}\n",
      "{'iteration': 9, 'params': {'learning_rate': 0.17664317497428225, 'max_depth': 4, 'n_estimators': 500, 'random_state': 42}, 'score': 0.8028169014084507, 'elapsed_time': 0.09786057472229004}\n"
     ]
    },
    {
     "name": "stderr",
     "output_type": "stream",
     "text": [
      "C:\\Users\\padkins\\Anaconda3\\lib\\site-packages\\xgboost\\sklearn.py:1224: UserWarning: The use of label encoder in XGBClassifier is deprecated and will be removed in a future release. To remove this warning, do the following: 1) Pass option use_label_encoder=False when constructing XGBClassifier object; and 2) Encode your labels (y) as integers starting with 0, i.e. 0, 1, 2, ..., [num_class - 1].\n",
      "  warnings.warn(label_encoder_deprecation_msg, UserWarning)\n",
      "C:\\Users\\padkins\\Anaconda3\\lib\\site-packages\\xgboost\\sklearn.py:1224: UserWarning: The use of label encoder in XGBClassifier is deprecated and will be removed in a future release. To remove this warning, do the following: 1) Pass option use_label_encoder=False when constructing XGBClassifier object; and 2) Encode your labels (y) as integers starting with 0, i.e. 0, 1, 2, ..., [num_class - 1].\n",
      "  warnings.warn(label_encoder_deprecation_msg, UserWarning)\n"
     ]
    },
    {
     "name": "stdout",
     "output_type": "stream",
     "text": [
      "{'iteration': 10, 'params': {'learning_rate': 0.12869759474269296, 'max_depth': 4, 'n_estimators': 500, 'random_state': 42}, 'score': 0.7746478873239436, 'elapsed_time': 0.11666607856750488}\n",
      "{'iteration': 11, 'params': {'learning_rate': 0.15701226900793624, 'max_depth': 3, 'n_estimators': 500, 'random_state': 42}, 'score': 0.7605633802816901, 'elapsed_time': 0.10202527046203613}\n",
      "{'iteration': 12, 'params': {'learning_rate': 0.24612299629202744, 'max_depth': 4, 'n_estimators': 500, 'random_state': 42}, 'score': 0.8028169014084507, 'elapsed_time': 0.060802459716796875}\n"
     ]
    },
    {
     "name": "stderr",
     "output_type": "stream",
     "text": [
      "C:\\Users\\padkins\\Anaconda3\\lib\\site-packages\\xgboost\\sklearn.py:1224: UserWarning: The use of label encoder in XGBClassifier is deprecated and will be removed in a future release. To remove this warning, do the following: 1) Pass option use_label_encoder=False when constructing XGBClassifier object; and 2) Encode your labels (y) as integers starting with 0, i.e. 0, 1, 2, ..., [num_class - 1].\n",
      "  warnings.warn(label_encoder_deprecation_msg, UserWarning)\n",
      "C:\\Users\\padkins\\Anaconda3\\lib\\site-packages\\xgboost\\sklearn.py:1224: UserWarning: The use of label encoder in XGBClassifier is deprecated and will be removed in a future release. To remove this warning, do the following: 1) Pass option use_label_encoder=False when constructing XGBClassifier object; and 2) Encode your labels (y) as integers starting with 0, i.e. 0, 1, 2, ..., [num_class - 1].\n",
      "  warnings.warn(label_encoder_deprecation_msg, UserWarning)\n",
      "C:\\Users\\padkins\\Anaconda3\\lib\\site-packages\\xgboost\\sklearn.py:1224: UserWarning: The use of label encoder in XGBClassifier is deprecated and will be removed in a future release. To remove this warning, do the following: 1) Pass option use_label_encoder=False when constructing XGBClassifier object; and 2) Encode your labels (y) as integers starting with 0, i.e. 0, 1, 2, ..., [num_class - 1].\n",
      "  warnings.warn(label_encoder_deprecation_msg, UserWarning)\n"
     ]
    },
    {
     "name": "stdout",
     "output_type": "stream",
     "text": [
      "{'iteration': 13, 'params': {'learning_rate': 0.2624426183185683, 'max_depth': 2, 'n_estimators': 500, 'random_state': 42}, 'score': 0.8028169014084507, 'elapsed_time': 0.15334224700927734}\n"
     ]
    },
    {
     "name": "stderr",
     "output_type": "stream",
     "text": [
      "C:\\Users\\padkins\\Anaconda3\\lib\\site-packages\\xgboost\\sklearn.py:1224: UserWarning: The use of label encoder in XGBClassifier is deprecated and will be removed in a future release. To remove this warning, do the following: 1) Pass option use_label_encoder=False when constructing XGBClassifier object; and 2) Encode your labels (y) as integers starting with 0, i.e. 0, 1, 2, ..., [num_class - 1].\n",
      "  warnings.warn(label_encoder_deprecation_msg, UserWarning)\n"
     ]
    },
    {
     "name": "stdout",
     "output_type": "stream",
     "text": [
      "{'iteration': 14, 'params': {'learning_rate': 0.0813715331460763, 'max_depth': 2, 'n_estimators': 500, 'random_state': 42}, 'score': 0.7887323943661971, 'elapsed_time': 0.3089280128479004}\n",
      "{'iteration': 15, 'params': {'learning_rate': 0.20487044032868462, 'max_depth': 4, 'n_estimators': 500, 'random_state': 42}, 'score': 0.7746478873239436, 'elapsed_time': 0.10025882720947266}\n",
      "{'iteration': 16, 'params': {'learning_rate': 0.26874450434381125, 'max_depth': 4, 'n_estimators': 500, 'random_state': 42}, 'score': 0.7746478873239436, 'elapsed_time': 0.07825708389282227}\n"
     ]
    },
    {
     "name": "stderr",
     "output_type": "stream",
     "text": [
      "C:\\Users\\padkins\\Anaconda3\\lib\\site-packages\\xgboost\\sklearn.py:1224: UserWarning: The use of label encoder in XGBClassifier is deprecated and will be removed in a future release. To remove this warning, do the following: 1) Pass option use_label_encoder=False when constructing XGBClassifier object; and 2) Encode your labels (y) as integers starting with 0, i.e. 0, 1, 2, ..., [num_class - 1].\n",
      "  warnings.warn(label_encoder_deprecation_msg, UserWarning)\n",
      "C:\\Users\\padkins\\Anaconda3\\lib\\site-packages\\xgboost\\sklearn.py:1224: UserWarning: The use of label encoder in XGBClassifier is deprecated and will be removed in a future release. To remove this warning, do the following: 1) Pass option use_label_encoder=False when constructing XGBClassifier object; and 2) Encode your labels (y) as integers starting with 0, i.e. 0, 1, 2, ..., [num_class - 1].\n",
      "  warnings.warn(label_encoder_deprecation_msg, UserWarning)\n",
      "C:\\Users\\padkins\\Anaconda3\\lib\\site-packages\\xgboost\\sklearn.py:1224: UserWarning: The use of label encoder in XGBClassifier is deprecated and will be removed in a future release. To remove this warning, do the following: 1) Pass option use_label_encoder=False when constructing XGBClassifier object; and 2) Encode your labels (y) as integers starting with 0, i.e. 0, 1, 2, ..., [num_class - 1].\n",
      "  warnings.warn(label_encoder_deprecation_msg, UserWarning)\n"
     ]
    },
    {
     "name": "stdout",
     "output_type": "stream",
     "text": [
      "{'iteration': 17, 'params': {'learning_rate': 0.039453970478592025, 'max_depth': 3, 'n_estimators': 500, 'random_state': 42}, 'score': 0.7605633802816901, 'elapsed_time': 0.2673931121826172}\n",
      "{'iteration': 18, 'params': {'learning_rate': 0.0698861723638844, 'max_depth': 3, 'n_estimators': 500, 'random_state': 42}, 'score': 0.7746478873239436, 'elapsed_time': 0.1652078628540039}\n"
     ]
    },
    {
     "name": "stderr",
     "output_type": "stream",
     "text": [
      "C:\\Users\\padkins\\Anaconda3\\lib\\site-packages\\xgboost\\sklearn.py:1224: UserWarning: The use of label encoder in XGBClassifier is deprecated and will be removed in a future release. To remove this warning, do the following: 1) Pass option use_label_encoder=False when constructing XGBClassifier object; and 2) Encode your labels (y) as integers starting with 0, i.e. 0, 1, 2, ..., [num_class - 1].\n",
      "  warnings.warn(label_encoder_deprecation_msg, UserWarning)\n",
      "C:\\Users\\padkins\\Anaconda3\\lib\\site-packages\\xgboost\\sklearn.py:1224: UserWarning: The use of label encoder in XGBClassifier is deprecated and will be removed in a future release. To remove this warning, do the following: 1) Pass option use_label_encoder=False when constructing XGBClassifier object; and 2) Encode your labels (y) as integers starting with 0, i.e. 0, 1, 2, ..., [num_class - 1].\n",
      "  warnings.warn(label_encoder_deprecation_msg, UserWarning)\n"
     ]
    },
    {
     "name": "stdout",
     "output_type": "stream",
     "text": [
      "{'iteration': 19, 'params': {'learning_rate': 0.24115113569343666, 'max_depth': 4, 'n_estimators': 500, 'random_state': 42}, 'score': 0.8028169014084507, 'elapsed_time': 0.12085866928100586}\n",
      "{'iteration': 20, 'params': {'learning_rate': 0.15499727146901596, 'max_depth': 3, 'n_estimators': 500, 'random_state': 42}, 'score': 0.8028169014084507, 'elapsed_time': 0.11285543441772461}\n"
     ]
    },
    {
     "name": "stderr",
     "output_type": "stream",
     "text": [
      "C:\\Users\\padkins\\Anaconda3\\lib\\site-packages\\xgboost\\sklearn.py:1224: UserWarning: The use of label encoder in XGBClassifier is deprecated and will be removed in a future release. To remove this warning, do the following: 1) Pass option use_label_encoder=False when constructing XGBClassifier object; and 2) Encode your labels (y) as integers starting with 0, i.e. 0, 1, 2, ..., [num_class - 1].\n",
      "  warnings.warn(label_encoder_deprecation_msg, UserWarning)\n",
      "C:\\Users\\padkins\\Anaconda3\\lib\\site-packages\\xgboost\\sklearn.py:1224: UserWarning: The use of label encoder in XGBClassifier is deprecated and will be removed in a future release. To remove this warning, do the following: 1) Pass option use_label_encoder=False when constructing XGBClassifier object; and 2) Encode your labels (y) as integers starting with 0, i.e. 0, 1, 2, ..., [num_class - 1].\n",
      "  warnings.warn(label_encoder_deprecation_msg, UserWarning)\n"
     ]
    },
    {
     "name": "stdout",
     "output_type": "stream",
     "text": [
      "{'iteration': 21, 'params': {'learning_rate': 0.11589758439976323, 'max_depth': 2, 'n_estimators': 500, 'random_state': 42}, 'score': 0.8169014084507042, 'elapsed_time': 0.1942458152770996}\n"
     ]
    },
    {
     "name": "stderr",
     "output_type": "stream",
     "text": [
      "C:\\Users\\padkins\\Anaconda3\\lib\\site-packages\\xgboost\\sklearn.py:1224: UserWarning: The use of label encoder in XGBClassifier is deprecated and will be removed in a future release. To remove this warning, do the following: 1) Pass option use_label_encoder=False when constructing XGBClassifier object; and 2) Encode your labels (y) as integers starting with 0, i.e. 0, 1, 2, ..., [num_class - 1].\n",
      "  warnings.warn(label_encoder_deprecation_msg, UserWarning)\n"
     ]
    },
    {
     "name": "stdout",
     "output_type": "stream",
     "text": [
      "{'iteration': 22, 'params': {'learning_rate': 0.07489000562318229, 'max_depth': 2, 'n_estimators': 500, 'random_state': 42}, 'score': 0.8028169014084507, 'elapsed_time': 0.46532344818115234}\n",
      "{'iteration': 23, 'params': {'learning_rate': 0.23727655602243117, 'max_depth': 2, 'n_estimators': 500, 'random_state': 42}, 'score': 0.8028169014084507, 'elapsed_time': 0.14573264122009277}\n"
     ]
    },
    {
     "name": "stderr",
     "output_type": "stream",
     "text": [
      "C:\\Users\\padkins\\Anaconda3\\lib\\site-packages\\xgboost\\sklearn.py:1224: UserWarning: The use of label encoder in XGBClassifier is deprecated and will be removed in a future release. To remove this warning, do the following: 1) Pass option use_label_encoder=False when constructing XGBClassifier object; and 2) Encode your labels (y) as integers starting with 0, i.e. 0, 1, 2, ..., [num_class - 1].\n",
      "  warnings.warn(label_encoder_deprecation_msg, UserWarning)\n",
      "C:\\Users\\padkins\\Anaconda3\\lib\\site-packages\\xgboost\\sklearn.py:1224: UserWarning: The use of label encoder in XGBClassifier is deprecated and will be removed in a future release. To remove this warning, do the following: 1) Pass option use_label_encoder=False when constructing XGBClassifier object; and 2) Encode your labels (y) as integers starting with 0, i.e. 0, 1, 2, ..., [num_class - 1].\n",
      "  warnings.warn(label_encoder_deprecation_msg, UserWarning)\n"
     ]
    },
    {
     "name": "stdout",
     "output_type": "stream",
     "text": [
      "{'iteration': 24, 'params': {'learning_rate': 0.24206330486943792, 'max_depth': 2, 'n_estimators': 500, 'random_state': 42}, 'score': 0.8028169014084507, 'elapsed_time': 0.11778950691223145}\n",
      "{'iteration': 25, 'params': {'learning_rate': 0.22345336880806657, 'max_depth': 3, 'n_estimators': 500, 'random_state': 42}, 'score': 0.7605633802816901, 'elapsed_time': 0.10196208953857422}\n"
     ]
    },
    {
     "name": "stderr",
     "output_type": "stream",
     "text": [
      "C:\\Users\\padkins\\Anaconda3\\lib\\site-packages\\xgboost\\sklearn.py:1224: UserWarning: The use of label encoder in XGBClassifier is deprecated and will be removed in a future release. To remove this warning, do the following: 1) Pass option use_label_encoder=False when constructing XGBClassifier object; and 2) Encode your labels (y) as integers starting with 0, i.e. 0, 1, 2, ..., [num_class - 1].\n",
      "  warnings.warn(label_encoder_deprecation_msg, UserWarning)\n",
      "C:\\Users\\padkins\\Anaconda3\\lib\\site-packages\\xgboost\\sklearn.py:1224: UserWarning: The use of label encoder in XGBClassifier is deprecated and will be removed in a future release. To remove this warning, do the following: 1) Pass option use_label_encoder=False when constructing XGBClassifier object; and 2) Encode your labels (y) as integers starting with 0, i.e. 0, 1, 2, ..., [num_class - 1].\n",
      "  warnings.warn(label_encoder_deprecation_msg, UserWarning)\n"
     ]
    },
    {
     "name": "stdout",
     "output_type": "stream",
     "text": [
      "{'iteration': 26, 'params': {'learning_rate': 0.16352550388783738, 'max_depth': 3, 'n_estimators': 500, 'random_state': 42}, 'score': 0.7605633802816901, 'elapsed_time': 0.14595603942871094}\n",
      "{'iteration': 27, 'params': {'learning_rate': 0.25978406877911214, 'max_depth': 3, 'n_estimators': 500, 'random_state': 42}, 'score': 0.8028169014084507, 'elapsed_time': 0.08604073524475098}\n",
      "{'iteration': 28, 'params': {'learning_rate': 0.26868629810882766, 'max_depth': 3, 'n_estimators': 500, 'random_state': 42}, 'score': 0.8028169014084507, 'elapsed_time': 0.08247685432434082}\n"
     ]
    },
    {
     "name": "stderr",
     "output_type": "stream",
     "text": [
      "C:\\Users\\padkins\\Anaconda3\\lib\\site-packages\\xgboost\\sklearn.py:1224: UserWarning: The use of label encoder in XGBClassifier is deprecated and will be removed in a future release. To remove this warning, do the following: 1) Pass option use_label_encoder=False when constructing XGBClassifier object; and 2) Encode your labels (y) as integers starting with 0, i.e. 0, 1, 2, ..., [num_class - 1].\n",
      "  warnings.warn(label_encoder_deprecation_msg, UserWarning)\n",
      "C:\\Users\\padkins\\Anaconda3\\lib\\site-packages\\xgboost\\sklearn.py:1224: UserWarning: The use of label encoder in XGBClassifier is deprecated and will be removed in a future release. To remove this warning, do the following: 1) Pass option use_label_encoder=False when constructing XGBClassifier object; and 2) Encode your labels (y) as integers starting with 0, i.e. 0, 1, 2, ..., [num_class - 1].\n",
      "  warnings.warn(label_encoder_deprecation_msg, UserWarning)\n",
      "C:\\Users\\padkins\\Anaconda3\\lib\\site-packages\\xgboost\\sklearn.py:1224: UserWarning: The use of label encoder in XGBClassifier is deprecated and will be removed in a future release. To remove this warning, do the following: 1) Pass option use_label_encoder=False when constructing XGBClassifier object; and 2) Encode your labels (y) as integers starting with 0, i.e. 0, 1, 2, ..., [num_class - 1].\n",
      "  warnings.warn(label_encoder_deprecation_msg, UserWarning)\n"
     ]
    },
    {
     "name": "stdout",
     "output_type": "stream",
     "text": [
      "{'iteration': 29, 'params': {'learning_rate': 0.17503230510764423, 'max_depth': 2, 'n_estimators': 500, 'random_state': 42}, 'score': 0.8028169014084507, 'elapsed_time': 0.18148016929626465}\n",
      "{'iteration': 30, 'params': {'learning_rate': 0.11956703755992501, 'max_depth': 4, 'n_estimators': 500, 'random_state': 42}, 'score': 0.7746478873239436, 'elapsed_time': 0.16510677337646484}\n"
     ]
    },
    {
     "name": "stderr",
     "output_type": "stream",
     "text": [
      "C:\\Users\\padkins\\Anaconda3\\lib\\site-packages\\xgboost\\sklearn.py:1224: UserWarning: The use of label encoder in XGBClassifier is deprecated and will be removed in a future release. To remove this warning, do the following: 1) Pass option use_label_encoder=False when constructing XGBClassifier object; and 2) Encode your labels (y) as integers starting with 0, i.e. 0, 1, 2, ..., [num_class - 1].\n",
      "  warnings.warn(label_encoder_deprecation_msg, UserWarning)\n",
      "C:\\Users\\padkins\\Anaconda3\\lib\\site-packages\\xgboost\\sklearn.py:1224: UserWarning: The use of label encoder in XGBClassifier is deprecated and will be removed in a future release. To remove this warning, do the following: 1) Pass option use_label_encoder=False when constructing XGBClassifier object; and 2) Encode your labels (y) as integers starting with 0, i.e. 0, 1, 2, ..., [num_class - 1].\n",
      "  warnings.warn(label_encoder_deprecation_msg, UserWarning)\n",
      "C:\\Users\\padkins\\Anaconda3\\lib\\site-packages\\xgboost\\sklearn.py:1224: UserWarning: The use of label encoder in XGBClassifier is deprecated and will be removed in a future release. To remove this warning, do the following: 1) Pass option use_label_encoder=False when constructing XGBClassifier object; and 2) Encode your labels (y) as integers starting with 0, i.e. 0, 1, 2, ..., [num_class - 1].\n",
      "  warnings.warn(label_encoder_deprecation_msg, UserWarning)\n"
     ]
    },
    {
     "name": "stdout",
     "output_type": "stream",
     "text": [
      "{'iteration': 1, 'params': {'learning_rate': 0.18078902051005885, 'max_depth': 3, 'n_estimators': 500, 'random_state': 42}, 'score': 0.8028169014084507, 'elapsed_time': 0.09878897666931152}\n",
      "{'iteration': 2, 'params': {'learning_rate': 0.041180674898606995, 'max_depth': 2, 'n_estimators': 500, 'random_state': 42}, 'score': 0.8028169014084507, 'elapsed_time': 0.5654032230377197}\n",
      "{'iteration': 3, 'params': {'learning_rate': 0.27468786076397944, 'max_depth': 2, 'n_estimators': 500, 'random_state': 42}, 'score': 0.8028169014084507, 'elapsed_time': 0.08078908920288086}\n",
      "{'iteration': 4, 'params': {'learning_rate': 0.2717520598142219, 'max_depth': 4, 'n_estimators': 500, 'random_state': 42}, 'score': 0.8028169014084507, 'elapsed_time': 0.07953310012817383}\n"
     ]
    },
    {
     "name": "stderr",
     "output_type": "stream",
     "text": [
      "C:\\Users\\padkins\\Anaconda3\\lib\\site-packages\\xgboost\\sklearn.py:1224: UserWarning: The use of label encoder in XGBClassifier is deprecated and will be removed in a future release. To remove this warning, do the following: 1) Pass option use_label_encoder=False when constructing XGBClassifier object; and 2) Encode your labels (y) as integers starting with 0, i.e. 0, 1, 2, ..., [num_class - 1].\n",
      "  warnings.warn(label_encoder_deprecation_msg, UserWarning)\n",
      "C:\\Users\\padkins\\Anaconda3\\lib\\site-packages\\xgboost\\sklearn.py:1224: UserWarning: The use of label encoder in XGBClassifier is deprecated and will be removed in a future release. To remove this warning, do the following: 1) Pass option use_label_encoder=False when constructing XGBClassifier object; and 2) Encode your labels (y) as integers starting with 0, i.e. 0, 1, 2, ..., [num_class - 1].\n",
      "  warnings.warn(label_encoder_deprecation_msg, UserWarning)\n",
      "C:\\Users\\padkins\\Anaconda3\\lib\\site-packages\\xgboost\\sklearn.py:1224: UserWarning: The use of label encoder in XGBClassifier is deprecated and will be removed in a future release. To remove this warning, do the following: 1) Pass option use_label_encoder=False when constructing XGBClassifier object; and 2) Encode your labels (y) as integers starting with 0, i.e. 0, 1, 2, ..., [num_class - 1].\n",
      "  warnings.warn(label_encoder_deprecation_msg, UserWarning)\n"
     ]
    },
    {
     "name": "stdout",
     "output_type": "stream",
     "text": [
      "{'iteration': 5, 'params': {'learning_rate': 0.03990530977194516, 'max_depth': 3, 'n_estimators': 500, 'random_state': 42}, 'score': 0.7605633802816901, 'elapsed_time': 0.24336862564086914}\n",
      "{'iteration': 6, 'params': {'learning_rate': 0.2753827533762741, 'max_depth': 3, 'n_estimators': 500, 'random_state': 42}, 'score': 0.8028169014084507, 'elapsed_time': 0.0683586597442627}\n",
      "{'iteration': 7, 'params': {'learning_rate': 0.13993049554815898, 'max_depth': 3, 'n_estimators': 500, 'random_state': 42}, 'score': 0.7605633802816901, 'elapsed_time': 0.07293272018432617}\n"
     ]
    },
    {
     "name": "stderr",
     "output_type": "stream",
     "text": [
      "C:\\Users\\padkins\\Anaconda3\\lib\\site-packages\\xgboost\\sklearn.py:1224: UserWarning: The use of label encoder in XGBClassifier is deprecated and will be removed in a future release. To remove this warning, do the following: 1) Pass option use_label_encoder=False when constructing XGBClassifier object; and 2) Encode your labels (y) as integers starting with 0, i.e. 0, 1, 2, ..., [num_class - 1].\n",
      "  warnings.warn(label_encoder_deprecation_msg, UserWarning)\n",
      "C:\\Users\\padkins\\Anaconda3\\lib\\site-packages\\xgboost\\sklearn.py:1224: UserWarning: The use of label encoder in XGBClassifier is deprecated and will be removed in a future release. To remove this warning, do the following: 1) Pass option use_label_encoder=False when constructing XGBClassifier object; and 2) Encode your labels (y) as integers starting with 0, i.e. 0, 1, 2, ..., [num_class - 1].\n",
      "  warnings.warn(label_encoder_deprecation_msg, UserWarning)\n",
      "C:\\Users\\padkins\\Anaconda3\\lib\\site-packages\\xgboost\\sklearn.py:1224: UserWarning: The use of label encoder in XGBClassifier is deprecated and will be removed in a future release. To remove this warning, do the following: 1) Pass option use_label_encoder=False when constructing XGBClassifier object; and 2) Encode your labels (y) as integers starting with 0, i.e. 0, 1, 2, ..., [num_class - 1].\n",
      "  warnings.warn(label_encoder_deprecation_msg, UserWarning)\n"
     ]
    },
    {
     "name": "stdout",
     "output_type": "stream",
     "text": [
      "{'iteration': 8, 'params': {'learning_rate': 0.25457747448530915, 'max_depth': 3, 'n_estimators': 500, 'random_state': 42}, 'score': 0.8028169014084507, 'elapsed_time': 0.08072686195373535}\n",
      "{'iteration': 9, 'params': {'learning_rate': 0.24313991541921595, 'max_depth': 3, 'n_estimators': 500, 'random_state': 42}, 'score': 0.8028169014084507, 'elapsed_time': 0.0948941707611084}\n"
     ]
    },
    {
     "name": "stderr",
     "output_type": "stream",
     "text": [
      "C:\\Users\\padkins\\Anaconda3\\lib\\site-packages\\xgboost\\sklearn.py:1224: UserWarning: The use of label encoder in XGBClassifier is deprecated and will be removed in a future release. To remove this warning, do the following: 1) Pass option use_label_encoder=False when constructing XGBClassifier object; and 2) Encode your labels (y) as integers starting with 0, i.e. 0, 1, 2, ..., [num_class - 1].\n",
      "  warnings.warn(label_encoder_deprecation_msg, UserWarning)\n",
      "C:\\Users\\padkins\\Anaconda3\\lib\\site-packages\\xgboost\\sklearn.py:1224: UserWarning: The use of label encoder in XGBClassifier is deprecated and will be removed in a future release. To remove this warning, do the following: 1) Pass option use_label_encoder=False when constructing XGBClassifier object; and 2) Encode your labels (y) as integers starting with 0, i.e. 0, 1, 2, ..., [num_class - 1].\n",
      "  warnings.warn(label_encoder_deprecation_msg, UserWarning)\n"
     ]
    },
    {
     "name": "stdout",
     "output_type": "stream",
     "text": [
      "{'iteration': 10, 'params': {'learning_rate': 0.050604758496573005, 'max_depth': 3, 'n_estimators': 500, 'random_state': 42}, 'score': 0.7605633802816901, 'elapsed_time': 0.1889481544494629}\n",
      "{'iteration': 11, 'params': {'learning_rate': 0.24312096247259948, 'max_depth': 4, 'n_estimators': 500, 'random_state': 42}, 'score': 0.8028169014084507, 'elapsed_time': 0.06821656227111816}\n",
      "{'iteration': 12, 'params': {'learning_rate': 0.2341081846037511, 'max_depth': 4, 'n_estimators': 500, 'random_state': 42}, 'score': 0.7887323943661971, 'elapsed_time': 0.09500002861022949}\n"
     ]
    },
    {
     "name": "stderr",
     "output_type": "stream",
     "text": [
      "C:\\Users\\padkins\\Anaconda3\\lib\\site-packages\\xgboost\\sklearn.py:1224: UserWarning: The use of label encoder in XGBClassifier is deprecated and will be removed in a future release. To remove this warning, do the following: 1) Pass option use_label_encoder=False when constructing XGBClassifier object; and 2) Encode your labels (y) as integers starting with 0, i.e. 0, 1, 2, ..., [num_class - 1].\n",
      "  warnings.warn(label_encoder_deprecation_msg, UserWarning)\n",
      "C:\\Users\\padkins\\Anaconda3\\lib\\site-packages\\xgboost\\sklearn.py:1224: UserWarning: The use of label encoder in XGBClassifier is deprecated and will be removed in a future release. To remove this warning, do the following: 1) Pass option use_label_encoder=False when constructing XGBClassifier object; and 2) Encode your labels (y) as integers starting with 0, i.e. 0, 1, 2, ..., [num_class - 1].\n",
      "  warnings.warn(label_encoder_deprecation_msg, UserWarning)\n",
      "C:\\Users\\padkins\\Anaconda3\\lib\\site-packages\\xgboost\\sklearn.py:1224: UserWarning: The use of label encoder in XGBClassifier is deprecated and will be removed in a future release. To remove this warning, do the following: 1) Pass option use_label_encoder=False when constructing XGBClassifier object; and 2) Encode your labels (y) as integers starting with 0, i.e. 0, 1, 2, ..., [num_class - 1].\n",
      "  warnings.warn(label_encoder_deprecation_msg, UserWarning)\n"
     ]
    },
    {
     "name": "stdout",
     "output_type": "stream",
     "text": [
      "{'iteration': 13, 'params': {'learning_rate': 0.2035307695877743, 'max_depth': 4, 'n_estimators': 500, 'random_state': 42}, 'score': 0.7746478873239436, 'elapsed_time': 0.10972809791564941}\n"
     ]
    },
    {
     "name": "stderr",
     "output_type": "stream",
     "text": [
      "C:\\Users\\padkins\\Anaconda3\\lib\\site-packages\\xgboost\\sklearn.py:1224: UserWarning: The use of label encoder in XGBClassifier is deprecated and will be removed in a future release. To remove this warning, do the following: 1) Pass option use_label_encoder=False when constructing XGBClassifier object; and 2) Encode your labels (y) as integers starting with 0, i.e. 0, 1, 2, ..., [num_class - 1].\n",
      "  warnings.warn(label_encoder_deprecation_msg, UserWarning)\n"
     ]
    },
    {
     "name": "stdout",
     "output_type": "stream",
     "text": [
      "{'iteration': 14, 'params': {'learning_rate': 0.10225926345218884, 'max_depth': 2, 'n_estimators': 500, 'random_state': 42}, 'score': 0.8028169014084507, 'elapsed_time': 0.21743035316467285}\n",
      "{'iteration': 15, 'params': {'learning_rate': 0.20418685021478641, 'max_depth': 4, 'n_estimators': 500, 'random_state': 42}, 'score': 0.7746478873239436, 'elapsed_time': 0.08084726333618164}\n",
      "{'iteration': 16, 'params': {'learning_rate': 0.13265947779381798, 'max_depth': 4, 'n_estimators': 500, 'random_state': 42}, 'score': 0.7746478873239436, 'elapsed_time': 0.1090993881225586}\n"
     ]
    },
    {
     "name": "stderr",
     "output_type": "stream",
     "text": [
      "C:\\Users\\padkins\\Anaconda3\\lib\\site-packages\\xgboost\\sklearn.py:1224: UserWarning: The use of label encoder in XGBClassifier is deprecated and will be removed in a future release. To remove this warning, do the following: 1) Pass option use_label_encoder=False when constructing XGBClassifier object; and 2) Encode your labels (y) as integers starting with 0, i.e. 0, 1, 2, ..., [num_class - 1].\n",
      "  warnings.warn(label_encoder_deprecation_msg, UserWarning)\n",
      "C:\\Users\\padkins\\Anaconda3\\lib\\site-packages\\xgboost\\sklearn.py:1224: UserWarning: The use of label encoder in XGBClassifier is deprecated and will be removed in a future release. To remove this warning, do the following: 1) Pass option use_label_encoder=False when constructing XGBClassifier object; and 2) Encode your labels (y) as integers starting with 0, i.e. 0, 1, 2, ..., [num_class - 1].\n",
      "  warnings.warn(label_encoder_deprecation_msg, UserWarning)\n",
      "C:\\Users\\padkins\\Anaconda3\\lib\\site-packages\\xgboost\\sklearn.py:1224: UserWarning: The use of label encoder in XGBClassifier is deprecated and will be removed in a future release. To remove this warning, do the following: 1) Pass option use_label_encoder=False when constructing XGBClassifier object; and 2) Encode your labels (y) as integers starting with 0, i.e. 0, 1, 2, ..., [num_class - 1].\n",
      "  warnings.warn(label_encoder_deprecation_msg, UserWarning)\n"
     ]
    },
    {
     "name": "stdout",
     "output_type": "stream",
     "text": [
      "{'iteration': 17, 'params': {'learning_rate': 0.07996739961251789, 'max_depth': 2, 'n_estimators': 500, 'random_state': 42}, 'score': 0.8169014084507042, 'elapsed_time': 0.2822432518005371}\n",
      "{'iteration': 18, 'params': {'learning_rate': 0.2807871057289637, 'max_depth': 3, 'n_estimators': 500, 'random_state': 42}, 'score': 0.8028169014084507, 'elapsed_time': 0.1000969409942627}\n"
     ]
    },
    {
     "name": "stderr",
     "output_type": "stream",
     "text": [
      "C:\\Users\\padkins\\Anaconda3\\lib\\site-packages\\xgboost\\sklearn.py:1224: UserWarning: The use of label encoder in XGBClassifier is deprecated and will be removed in a future release. To remove this warning, do the following: 1) Pass option use_label_encoder=False when constructing XGBClassifier object; and 2) Encode your labels (y) as integers starting with 0, i.e. 0, 1, 2, ..., [num_class - 1].\n",
      "  warnings.warn(label_encoder_deprecation_msg, UserWarning)\n",
      "C:\\Users\\padkins\\Anaconda3\\lib\\site-packages\\xgboost\\sklearn.py:1224: UserWarning: The use of label encoder in XGBClassifier is deprecated and will be removed in a future release. To remove this warning, do the following: 1) Pass option use_label_encoder=False when constructing XGBClassifier object; and 2) Encode your labels (y) as integers starting with 0, i.e. 0, 1, 2, ..., [num_class - 1].\n",
      "  warnings.warn(label_encoder_deprecation_msg, UserWarning)\n"
     ]
    },
    {
     "name": "stdout",
     "output_type": "stream",
     "text": [
      "{'iteration': 19, 'params': {'learning_rate': 0.02747552055726917, 'max_depth': 2, 'n_estimators': 500, 'random_state': 42}, 'score': 0.7887323943661971, 'elapsed_time': 0.7378606796264648}\n",
      "{'iteration': 20, 'params': {'learning_rate': 0.20765912182865395, 'max_depth': 4, 'n_estimators': 500, 'random_state': 42}, 'score': 0.7887323943661971, 'elapsed_time': 0.07858014106750488}\n",
      "{'iteration': 21, 'params': {'learning_rate': 0.17756624192132034, 'max_depth': 4, 'n_estimators': 500, 'random_state': 42}, 'score': 0.7746478873239436, 'elapsed_time': 0.10998940467834473}\n"
     ]
    },
    {
     "name": "stderr",
     "output_type": "stream",
     "text": [
      "C:\\Users\\padkins\\Anaconda3\\lib\\site-packages\\xgboost\\sklearn.py:1224: UserWarning: The use of label encoder in XGBClassifier is deprecated and will be removed in a future release. To remove this warning, do the following: 1) Pass option use_label_encoder=False when constructing XGBClassifier object; and 2) Encode your labels (y) as integers starting with 0, i.e. 0, 1, 2, ..., [num_class - 1].\n",
      "  warnings.warn(label_encoder_deprecation_msg, UserWarning)\n",
      "C:\\Users\\padkins\\Anaconda3\\lib\\site-packages\\xgboost\\sklearn.py:1224: UserWarning: The use of label encoder in XGBClassifier is deprecated and will be removed in a future release. To remove this warning, do the following: 1) Pass option use_label_encoder=False when constructing XGBClassifier object; and 2) Encode your labels (y) as integers starting with 0, i.e. 0, 1, 2, ..., [num_class - 1].\n",
      "  warnings.warn(label_encoder_deprecation_msg, UserWarning)\n",
      "C:\\Users\\padkins\\Anaconda3\\lib\\site-packages\\xgboost\\sklearn.py:1224: UserWarning: The use of label encoder in XGBClassifier is deprecated and will be removed in a future release. To remove this warning, do the following: 1) Pass option use_label_encoder=False when constructing XGBClassifier object; and 2) Encode your labels (y) as integers starting with 0, i.e. 0, 1, 2, ..., [num_class - 1].\n",
      "  warnings.warn(label_encoder_deprecation_msg, UserWarning)\n"
     ]
    },
    {
     "name": "stdout",
     "output_type": "stream",
     "text": [
      "{'iteration': 22, 'params': {'learning_rate': 0.09790880172093006, 'max_depth': 2, 'n_estimators': 500, 'random_state': 42}, 'score': 0.7887323943661971, 'elapsed_time': 0.1900923252105713}\n"
     ]
    },
    {
     "name": "stderr",
     "output_type": "stream",
     "text": [
      "C:\\Users\\padkins\\Anaconda3\\lib\\site-packages\\xgboost\\sklearn.py:1224: UserWarning: The use of label encoder in XGBClassifier is deprecated and will be removed in a future release. To remove this warning, do the following: 1) Pass option use_label_encoder=False when constructing XGBClassifier object; and 2) Encode your labels (y) as integers starting with 0, i.e. 0, 1, 2, ..., [num_class - 1].\n",
      "  warnings.warn(label_encoder_deprecation_msg, UserWarning)\n"
     ]
    },
    {
     "name": "stdout",
     "output_type": "stream",
     "text": [
      "{'iteration': 23, 'params': {'learning_rate': 0.04347474836377562, 'max_depth': 2, 'n_estimators': 500, 'random_state': 42}, 'score': 0.8028169014084507, 'elapsed_time': 0.4190223217010498}\n",
      "{'iteration': 24, 'params': {'learning_rate': 0.20956900607953619, 'max_depth': 3, 'n_estimators': 500, 'random_state': 42}, 'score': 0.8028169014084507, 'elapsed_time': 0.09528136253356934}\n"
     ]
    },
    {
     "name": "stderr",
     "output_type": "stream",
     "text": [
      "C:\\Users\\padkins\\Anaconda3\\lib\\site-packages\\xgboost\\sklearn.py:1224: UserWarning: The use of label encoder in XGBClassifier is deprecated and will be removed in a future release. To remove this warning, do the following: 1) Pass option use_label_encoder=False when constructing XGBClassifier object; and 2) Encode your labels (y) as integers starting with 0, i.e. 0, 1, 2, ..., [num_class - 1].\n",
      "  warnings.warn(label_encoder_deprecation_msg, UserWarning)\n",
      "C:\\Users\\padkins\\Anaconda3\\lib\\site-packages\\xgboost\\sklearn.py:1224: UserWarning: The use of label encoder in XGBClassifier is deprecated and will be removed in a future release. To remove this warning, do the following: 1) Pass option use_label_encoder=False when constructing XGBClassifier object; and 2) Encode your labels (y) as integers starting with 0, i.e. 0, 1, 2, ..., [num_class - 1].\n",
      "  warnings.warn(label_encoder_deprecation_msg, UserWarning)\n"
     ]
    },
    {
     "name": "stdout",
     "output_type": "stream",
     "text": [
      "{'iteration': 25, 'params': {'learning_rate': 0.09425736618049411, 'max_depth': 2, 'n_estimators': 500, 'random_state': 42}, 'score': 0.8028169014084507, 'elapsed_time': 0.22017359733581543}\n"
     ]
    },
    {
     "name": "stderr",
     "output_type": "stream",
     "text": [
      "C:\\Users\\padkins\\Anaconda3\\lib\\site-packages\\xgboost\\sklearn.py:1224: UserWarning: The use of label encoder in XGBClassifier is deprecated and will be removed in a future release. To remove this warning, do the following: 1) Pass option use_label_encoder=False when constructing XGBClassifier object; and 2) Encode your labels (y) as integers starting with 0, i.e. 0, 1, 2, ..., [num_class - 1].\n",
      "  warnings.warn(label_encoder_deprecation_msg, UserWarning)\n"
     ]
    },
    {
     "name": "stdout",
     "output_type": "stream",
     "text": [
      "{'iteration': 26, 'params': {'learning_rate': 0.03828111224630155, 'max_depth': 4, 'n_estimators': 500, 'random_state': 42}, 'score': 0.7746478873239436, 'elapsed_time': 0.268526554107666}\n"
     ]
    },
    {
     "name": "stderr",
     "output_type": "stream",
     "text": [
      "C:\\Users\\padkins\\Anaconda3\\lib\\site-packages\\xgboost\\sklearn.py:1224: UserWarning: The use of label encoder in XGBClassifier is deprecated and will be removed in a future release. To remove this warning, do the following: 1) Pass option use_label_encoder=False when constructing XGBClassifier object; and 2) Encode your labels (y) as integers starting with 0, i.e. 0, 1, 2, ..., [num_class - 1].\n",
      "  warnings.warn(label_encoder_deprecation_msg, UserWarning)\n"
     ]
    },
    {
     "name": "stdout",
     "output_type": "stream",
     "text": [
      "{'iteration': 27, 'params': {'learning_rate': 0.05628248574296262, 'max_depth': 3, 'n_estimators': 500, 'random_state': 42}, 'score': 0.7605633802816901, 'elapsed_time': 0.23134708404541016}\n",
      "{'iteration': 28, 'params': {'learning_rate': 0.2435085232185379, 'max_depth': 2, 'n_estimators': 500, 'random_state': 42}, 'score': 0.8169014084507042, 'elapsed_time': 0.11669135093688965}\n"
     ]
    },
    {
     "name": "stderr",
     "output_type": "stream",
     "text": [
      "C:\\Users\\padkins\\Anaconda3\\lib\\site-packages\\xgboost\\sklearn.py:1224: UserWarning: The use of label encoder in XGBClassifier is deprecated and will be removed in a future release. To remove this warning, do the following: 1) Pass option use_label_encoder=False when constructing XGBClassifier object; and 2) Encode your labels (y) as integers starting with 0, i.e. 0, 1, 2, ..., [num_class - 1].\n",
      "  warnings.warn(label_encoder_deprecation_msg, UserWarning)\n",
      "C:\\Users\\padkins\\Anaconda3\\lib\\site-packages\\xgboost\\sklearn.py:1224: UserWarning: The use of label encoder in XGBClassifier is deprecated and will be removed in a future release. To remove this warning, do the following: 1) Pass option use_label_encoder=False when constructing XGBClassifier object; and 2) Encode your labels (y) as integers starting with 0, i.e. 0, 1, 2, ..., [num_class - 1].\n",
      "  warnings.warn(label_encoder_deprecation_msg, UserWarning)\n"
     ]
    },
    {
     "name": "stdout",
     "output_type": "stream",
     "text": [
      "{'iteration': 29, 'params': {'learning_rate': 0.13405668585657068, 'max_depth': 3, 'n_estimators': 500, 'random_state': 42}, 'score': 0.7605633802816901, 'elapsed_time': 0.09023261070251465}\n",
      "{'iteration': 30, 'params': {'learning_rate': 0.11876956557569095, 'max_depth': 4, 'n_estimators': 500, 'random_state': 42}, 'score': 0.7746478873239436, 'elapsed_time': 0.14387965202331543}\n"
     ]
    },
    {
     "name": "stderr",
     "output_type": "stream",
     "text": [
      "C:\\Users\\padkins\\Anaconda3\\lib\\site-packages\\xgboost\\sklearn.py:1224: UserWarning: The use of label encoder in XGBClassifier is deprecated and will be removed in a future release. To remove this warning, do the following: 1) Pass option use_label_encoder=False when constructing XGBClassifier object; and 2) Encode your labels (y) as integers starting with 0, i.e. 0, 1, 2, ..., [num_class - 1].\n",
      "  warnings.warn(label_encoder_deprecation_msg, UserWarning)\n",
      "C:\\Users\\padkins\\Anaconda3\\lib\\site-packages\\xgboost\\sklearn.py:1224: UserWarning: The use of label encoder in XGBClassifier is deprecated and will be removed in a future release. To remove this warning, do the following: 1) Pass option use_label_encoder=False when constructing XGBClassifier object; and 2) Encode your labels (y) as integers starting with 0, i.e. 0, 1, 2, ..., [num_class - 1].\n",
      "  warnings.warn(label_encoder_deprecation_msg, UserWarning)\n"
     ]
    },
    {
     "name": "stdout",
     "output_type": "stream",
     "text": [
      "{'iteration': 1, 'params': {'learning_rate': 0.053182288561317764, 'max_depth': 4, 'n_estimators': 500, 'random_state': 42}, 'score': 0.7746478873239436, 'elapsed_time': 0.21967244148254395}\n",
      "{'iteration': 2, 'params': {'learning_rate': 0.22798825418646204, 'max_depth': 3, 'n_estimators': 500, 'random_state': 42}, 'score': 0.8028169014084507, 'elapsed_time': 0.08531928062438965}\n",
      "{'iteration': 3, 'params': {'learning_rate': 0.16799744432808345, 'max_depth': 4, 'n_estimators': 500, 'random_state': 42}, 'score': 0.7887323943661971, 'elapsed_time': 0.0946652889251709}\n"
     ]
    },
    {
     "name": "stderr",
     "output_type": "stream",
     "text": [
      "C:\\Users\\padkins\\Anaconda3\\lib\\site-packages\\xgboost\\sklearn.py:1224: UserWarning: The use of label encoder in XGBClassifier is deprecated and will be removed in a future release. To remove this warning, do the following: 1) Pass option use_label_encoder=False when constructing XGBClassifier object; and 2) Encode your labels (y) as integers starting with 0, i.e. 0, 1, 2, ..., [num_class - 1].\n",
      "  warnings.warn(label_encoder_deprecation_msg, UserWarning)\n",
      "C:\\Users\\padkins\\Anaconda3\\lib\\site-packages\\xgboost\\sklearn.py:1224: UserWarning: The use of label encoder in XGBClassifier is deprecated and will be removed in a future release. To remove this warning, do the following: 1) Pass option use_label_encoder=False when constructing XGBClassifier object; and 2) Encode your labels (y) as integers starting with 0, i.e. 0, 1, 2, ..., [num_class - 1].\n",
      "  warnings.warn(label_encoder_deprecation_msg, UserWarning)\n",
      "C:\\Users\\padkins\\Anaconda3\\lib\\site-packages\\xgboost\\sklearn.py:1224: UserWarning: The use of label encoder in XGBClassifier is deprecated and will be removed in a future release. To remove this warning, do the following: 1) Pass option use_label_encoder=False when constructing XGBClassifier object; and 2) Encode your labels (y) as integers starting with 0, i.e. 0, 1, 2, ..., [num_class - 1].\n",
      "  warnings.warn(label_encoder_deprecation_msg, UserWarning)\n"
     ]
    },
    {
     "name": "stdout",
     "output_type": "stream",
     "text": [
      "{'iteration': 4, 'params': {'learning_rate': 0.25502178646228235, 'max_depth': 3, 'n_estimators': 500, 'random_state': 42}, 'score': 0.8028169014084507, 'elapsed_time': 0.0867316722869873}\n",
      "{'iteration': 5, 'params': {'learning_rate': 0.27323078808651063, 'max_depth': 2, 'n_estimators': 500, 'random_state': 42}, 'score': 0.8028169014084507, 'elapsed_time': 0.08539772033691406}\n",
      "{'iteration': 6, 'params': {'learning_rate': 0.24584650684504814, 'max_depth': 3, 'n_estimators': 500, 'random_state': 42}, 'score': 0.8028169014084507, 'elapsed_time': 0.08181452751159668}\n"
     ]
    },
    {
     "name": "stderr",
     "output_type": "stream",
     "text": [
      "C:\\Users\\padkins\\Anaconda3\\lib\\site-packages\\xgboost\\sklearn.py:1224: UserWarning: The use of label encoder in XGBClassifier is deprecated and will be removed in a future release. To remove this warning, do the following: 1) Pass option use_label_encoder=False when constructing XGBClassifier object; and 2) Encode your labels (y) as integers starting with 0, i.e. 0, 1, 2, ..., [num_class - 1].\n",
      "  warnings.warn(label_encoder_deprecation_msg, UserWarning)\n",
      "C:\\Users\\padkins\\Anaconda3\\lib\\site-packages\\xgboost\\sklearn.py:1224: UserWarning: The use of label encoder in XGBClassifier is deprecated and will be removed in a future release. To remove this warning, do the following: 1) Pass option use_label_encoder=False when constructing XGBClassifier object; and 2) Encode your labels (y) as integers starting with 0, i.e. 0, 1, 2, ..., [num_class - 1].\n",
      "  warnings.warn(label_encoder_deprecation_msg, UserWarning)\n",
      "C:\\Users\\padkins\\Anaconda3\\lib\\site-packages\\xgboost\\sklearn.py:1224: UserWarning: The use of label encoder in XGBClassifier is deprecated and will be removed in a future release. To remove this warning, do the following: 1) Pass option use_label_encoder=False when constructing XGBClassifier object; and 2) Encode your labels (y) as integers starting with 0, i.e. 0, 1, 2, ..., [num_class - 1].\n",
      "  warnings.warn(label_encoder_deprecation_msg, UserWarning)\n"
     ]
    },
    {
     "name": "stdout",
     "output_type": "stream",
     "text": [
      "{'iteration': 7, 'params': {'learning_rate': 0.17790609286961978, 'max_depth': 3, 'n_estimators': 500, 'random_state': 42}, 'score': 0.7605633802816901, 'elapsed_time': 0.10176849365234375}\n",
      "{'iteration': 8, 'params': {'learning_rate': 0.059725392739646034, 'max_depth': 3, 'n_estimators': 500, 'random_state': 42}, 'score': 0.8028169014084507, 'elapsed_time': 0.16221141815185547}\n"
     ]
    },
    {
     "name": "stderr",
     "output_type": "stream",
     "text": [
      "C:\\Users\\padkins\\Anaconda3\\lib\\site-packages\\xgboost\\sklearn.py:1224: UserWarning: The use of label encoder in XGBClassifier is deprecated and will be removed in a future release. To remove this warning, do the following: 1) Pass option use_label_encoder=False when constructing XGBClassifier object; and 2) Encode your labels (y) as integers starting with 0, i.e. 0, 1, 2, ..., [num_class - 1].\n",
      "  warnings.warn(label_encoder_deprecation_msg, UserWarning)\n",
      "C:\\Users\\padkins\\Anaconda3\\lib\\site-packages\\xgboost\\sklearn.py:1224: UserWarning: The use of label encoder in XGBClassifier is deprecated and will be removed in a future release. To remove this warning, do the following: 1) Pass option use_label_encoder=False when constructing XGBClassifier object; and 2) Encode your labels (y) as integers starting with 0, i.e. 0, 1, 2, ..., [num_class - 1].\n",
      "  warnings.warn(label_encoder_deprecation_msg, UserWarning)\n"
     ]
    },
    {
     "name": "stdout",
     "output_type": "stream",
     "text": [
      "{'iteration': 9, 'params': {'learning_rate': 0.038465675488490475, 'max_depth': 4, 'n_estimators': 500, 'random_state': 42}, 'score': 0.7746478873239436, 'elapsed_time': 0.251239538192749}\n",
      "{'iteration': 10, 'params': {'learning_rate': 0.07227474505449911, 'max_depth': 3, 'n_estimators': 500, 'random_state': 42}, 'score': 0.7605633802816901, 'elapsed_time': 0.15722060203552246}\n"
     ]
    },
    {
     "name": "stderr",
     "output_type": "stream",
     "text": [
      "C:\\Users\\padkins\\Anaconda3\\lib\\site-packages\\xgboost\\sklearn.py:1224: UserWarning: The use of label encoder in XGBClassifier is deprecated and will be removed in a future release. To remove this warning, do the following: 1) Pass option use_label_encoder=False when constructing XGBClassifier object; and 2) Encode your labels (y) as integers starting with 0, i.e. 0, 1, 2, ..., [num_class - 1].\n",
      "  warnings.warn(label_encoder_deprecation_msg, UserWarning)\n",
      "C:\\Users\\padkins\\Anaconda3\\lib\\site-packages\\xgboost\\sklearn.py:1224: UserWarning: The use of label encoder in XGBClassifier is deprecated and will be removed in a future release. To remove this warning, do the following: 1) Pass option use_label_encoder=False when constructing XGBClassifier object; and 2) Encode your labels (y) as integers starting with 0, i.e. 0, 1, 2, ..., [num_class - 1].\n",
      "  warnings.warn(label_encoder_deprecation_msg, UserWarning)\n"
     ]
    },
    {
     "name": "stdout",
     "output_type": "stream",
     "text": [
      "{'iteration': 11, 'params': {'learning_rate': 0.04575440575204795, 'max_depth': 3, 'n_estimators': 500, 'random_state': 42}, 'score': 0.8028169014084507, 'elapsed_time': 0.23575043678283691}\n",
      "{'iteration': 12, 'params': {'learning_rate': 0.22822805722440034, 'max_depth': 3, 'n_estimators': 500, 'random_state': 42}, 'score': 0.8028169014084507, 'elapsed_time': 0.06291604042053223}\n",
      "{'iteration': 13, 'params': {'learning_rate': 0.21330354433753979, 'max_depth': 2, 'n_estimators': 500, 'random_state': 42}, 'score': 0.8169014084507042, 'elapsed_time': 0.08801054954528809}\n"
     ]
    },
    {
     "name": "stderr",
     "output_type": "stream",
     "text": [
      "C:\\Users\\padkins\\Anaconda3\\lib\\site-packages\\xgboost\\sklearn.py:1224: UserWarning: The use of label encoder in XGBClassifier is deprecated and will be removed in a future release. To remove this warning, do the following: 1) Pass option use_label_encoder=False when constructing XGBClassifier object; and 2) Encode your labels (y) as integers starting with 0, i.e. 0, 1, 2, ..., [num_class - 1].\n",
      "  warnings.warn(label_encoder_deprecation_msg, UserWarning)\n",
      "C:\\Users\\padkins\\Anaconda3\\lib\\site-packages\\xgboost\\sklearn.py:1224: UserWarning: The use of label encoder in XGBClassifier is deprecated and will be removed in a future release. To remove this warning, do the following: 1) Pass option use_label_encoder=False when constructing XGBClassifier object; and 2) Encode your labels (y) as integers starting with 0, i.e. 0, 1, 2, ..., [num_class - 1].\n",
      "  warnings.warn(label_encoder_deprecation_msg, UserWarning)\n",
      "C:\\Users\\padkins\\Anaconda3\\lib\\site-packages\\xgboost\\sklearn.py:1224: UserWarning: The use of label encoder in XGBClassifier is deprecated and will be removed in a future release. To remove this warning, do the following: 1) Pass option use_label_encoder=False when constructing XGBClassifier object; and 2) Encode your labels (y) as integers starting with 0, i.e. 0, 1, 2, ..., [num_class - 1].\n",
      "  warnings.warn(label_encoder_deprecation_msg, UserWarning)\n"
     ]
    },
    {
     "name": "stdout",
     "output_type": "stream",
     "text": [
      "{'iteration': 14, 'params': {'learning_rate': 0.03097624282493757, 'max_depth': 2, 'n_estimators': 500, 'random_state': 42}, 'score': 0.8028169014084507, 'elapsed_time': 0.48685169219970703}\n",
      "{'iteration': 15, 'params': {'learning_rate': 0.24952676240165328, 'max_depth': 3, 'n_estimators': 500, 'random_state': 42}, 'score': 0.7605633802816901, 'elapsed_time': 0.08379411697387695}\n",
      "{'iteration': 16, 'params': {'learning_rate': 0.16924291354385812, 'max_depth': 2, 'n_estimators': 500, 'random_state': 42}, 'score': 0.8028169014084507, 'elapsed_time': 0.10952043533325195}\n"
     ]
    },
    {
     "name": "stderr",
     "output_type": "stream",
     "text": [
      "C:\\Users\\padkins\\Anaconda3\\lib\\site-packages\\xgboost\\sklearn.py:1224: UserWarning: The use of label encoder in XGBClassifier is deprecated and will be removed in a future release. To remove this warning, do the following: 1) Pass option use_label_encoder=False when constructing XGBClassifier object; and 2) Encode your labels (y) as integers starting with 0, i.e. 0, 1, 2, ..., [num_class - 1].\n",
      "  warnings.warn(label_encoder_deprecation_msg, UserWarning)\n",
      "C:\\Users\\padkins\\Anaconda3\\lib\\site-packages\\xgboost\\sklearn.py:1224: UserWarning: The use of label encoder in XGBClassifier is deprecated and will be removed in a future release. To remove this warning, do the following: 1) Pass option use_label_encoder=False when constructing XGBClassifier object; and 2) Encode your labels (y) as integers starting with 0, i.e. 0, 1, 2, ..., [num_class - 1].\n",
      "  warnings.warn(label_encoder_deprecation_msg, UserWarning)\n",
      "C:\\Users\\padkins\\Anaconda3\\lib\\site-packages\\xgboost\\sklearn.py:1224: UserWarning: The use of label encoder in XGBClassifier is deprecated and will be removed in a future release. To remove this warning, do the following: 1) Pass option use_label_encoder=False when constructing XGBClassifier object; and 2) Encode your labels (y) as integers starting with 0, i.e. 0, 1, 2, ..., [num_class - 1].\n",
      "  warnings.warn(label_encoder_deprecation_msg, UserWarning)\n"
     ]
    },
    {
     "name": "stdout",
     "output_type": "stream",
     "text": [
      "{'iteration': 17, 'params': {'learning_rate': 0.1480651450953103, 'max_depth': 3, 'n_estimators': 500, 'random_state': 42}, 'score': 0.7605633802816901, 'elapsed_time': 0.08875870704650879}\n",
      "{'iteration': 18, 'params': {'learning_rate': 0.07025507026902417, 'max_depth': 3, 'n_estimators': 500, 'random_state': 42}, 'score': 0.7605633802816901, 'elapsed_time': 0.18931794166564941}\n"
     ]
    },
    {
     "name": "stderr",
     "output_type": "stream",
     "text": [
      "C:\\Users\\padkins\\Anaconda3\\lib\\site-packages\\xgboost\\sklearn.py:1224: UserWarning: The use of label encoder in XGBClassifier is deprecated and will be removed in a future release. To remove this warning, do the following: 1) Pass option use_label_encoder=False when constructing XGBClassifier object; and 2) Encode your labels (y) as integers starting with 0, i.e. 0, 1, 2, ..., [num_class - 1].\n",
      "  warnings.warn(label_encoder_deprecation_msg, UserWarning)\n",
      "C:\\Users\\padkins\\Anaconda3\\lib\\site-packages\\xgboost\\sklearn.py:1224: UserWarning: The use of label encoder in XGBClassifier is deprecated and will be removed in a future release. To remove this warning, do the following: 1) Pass option use_label_encoder=False when constructing XGBClassifier object; and 2) Encode your labels (y) as integers starting with 0, i.e. 0, 1, 2, ..., [num_class - 1].\n",
      "  warnings.warn(label_encoder_deprecation_msg, UserWarning)\n"
     ]
    },
    {
     "name": "stdout",
     "output_type": "stream",
     "text": [
      "{'iteration': 19, 'params': {'learning_rate': 0.18291779184173704, 'max_depth': 4, 'n_estimators': 500, 'random_state': 42}, 'score': 0.7746478873239436, 'elapsed_time': 0.125565767288208}\n",
      "{'iteration': 20, 'params': {'learning_rate': 0.2500028413389301, 'max_depth': 2, 'n_estimators': 500, 'random_state': 42}, 'score': 0.8028169014084507, 'elapsed_time': 0.11073040962219238}\n"
     ]
    },
    {
     "name": "stderr",
     "output_type": "stream",
     "text": [
      "C:\\Users\\padkins\\Anaconda3\\lib\\site-packages\\xgboost\\sklearn.py:1224: UserWarning: The use of label encoder in XGBClassifier is deprecated and will be removed in a future release. To remove this warning, do the following: 1) Pass option use_label_encoder=False when constructing XGBClassifier object; and 2) Encode your labels (y) as integers starting with 0, i.e. 0, 1, 2, ..., [num_class - 1].\n",
      "  warnings.warn(label_encoder_deprecation_msg, UserWarning)\n",
      "C:\\Users\\padkins\\Anaconda3\\lib\\site-packages\\xgboost\\sklearn.py:1224: UserWarning: The use of label encoder in XGBClassifier is deprecated and will be removed in a future release. To remove this warning, do the following: 1) Pass option use_label_encoder=False when constructing XGBClassifier object; and 2) Encode your labels (y) as integers starting with 0, i.e. 0, 1, 2, ..., [num_class - 1].\n",
      "  warnings.warn(label_encoder_deprecation_msg, UserWarning)\n"
     ]
    },
    {
     "name": "stdout",
     "output_type": "stream",
     "text": [
      "{'iteration': 21, 'params': {'learning_rate': 0.14082694849095118, 'max_depth': 3, 'n_estimators': 500, 'random_state': 42}, 'score': 0.8028169014084507, 'elapsed_time': 0.09413528442382812}\n"
     ]
    },
    {
     "name": "stderr",
     "output_type": "stream",
     "text": [
      "C:\\Users\\padkins\\Anaconda3\\lib\\site-packages\\xgboost\\sklearn.py:1224: UserWarning: The use of label encoder in XGBClassifier is deprecated and will be removed in a future release. To remove this warning, do the following: 1) Pass option use_label_encoder=False when constructing XGBClassifier object; and 2) Encode your labels (y) as integers starting with 0, i.e. 0, 1, 2, ..., [num_class - 1].\n",
      "  warnings.warn(label_encoder_deprecation_msg, UserWarning)\n"
     ]
    },
    {
     "name": "stdout",
     "output_type": "stream",
     "text": [
      "{'iteration': 22, 'params': {'learning_rate': 0.02198757070176466, 'max_depth': 4, 'n_estimators': 500, 'random_state': 42}, 'score': 0.8028169014084507, 'elapsed_time': 0.34674954414367676}\n",
      "{'iteration': 23, 'params': {'learning_rate': 0.2696326051936363, 'max_depth': 2, 'n_estimators': 500, 'random_state': 42}, 'score': 0.8028169014084507, 'elapsed_time': 0.09519624710083008}\n",
      "{'iteration': 24, 'params': {'learning_rate': 0.20265862756762795, 'max_depth': 2, 'n_estimators': 500, 'random_state': 42}, 'score': 0.8028169014084507, 'elapsed_time': 0.09433221817016602}\n"
     ]
    },
    {
     "name": "stderr",
     "output_type": "stream",
     "text": [
      "C:\\Users\\padkins\\Anaconda3\\lib\\site-packages\\xgboost\\sklearn.py:1224: UserWarning: The use of label encoder in XGBClassifier is deprecated and will be removed in a future release. To remove this warning, do the following: 1) Pass option use_label_encoder=False when constructing XGBClassifier object; and 2) Encode your labels (y) as integers starting with 0, i.e. 0, 1, 2, ..., [num_class - 1].\n",
      "  warnings.warn(label_encoder_deprecation_msg, UserWarning)\n",
      "C:\\Users\\padkins\\Anaconda3\\lib\\site-packages\\xgboost\\sklearn.py:1224: UserWarning: The use of label encoder in XGBClassifier is deprecated and will be removed in a future release. To remove this warning, do the following: 1) Pass option use_label_encoder=False when constructing XGBClassifier object; and 2) Encode your labels (y) as integers starting with 0, i.e. 0, 1, 2, ..., [num_class - 1].\n",
      "  warnings.warn(label_encoder_deprecation_msg, UserWarning)\n",
      "C:\\Users\\padkins\\Anaconda3\\lib\\site-packages\\xgboost\\sklearn.py:1224: UserWarning: The use of label encoder in XGBClassifier is deprecated and will be removed in a future release. To remove this warning, do the following: 1) Pass option use_label_encoder=False when constructing XGBClassifier object; and 2) Encode your labels (y) as integers starting with 0, i.e. 0, 1, 2, ..., [num_class - 1].\n",
      "  warnings.warn(label_encoder_deprecation_msg, UserWarning)\n"
     ]
    },
    {
     "name": "stdout",
     "output_type": "stream",
     "text": [
      "{'iteration': 25, 'params': {'learning_rate': 0.18106916513684934, 'max_depth': 4, 'n_estimators': 500, 'random_state': 42}, 'score': 0.7746478873239436, 'elapsed_time': 0.10960555076599121}\n",
      "{'iteration': 26, 'params': {'learning_rate': 0.20320621556751167, 'max_depth': 4, 'n_estimators': 500, 'random_state': 42}, 'score': 0.7746478873239436, 'elapsed_time': 0.0945587158203125}\n"
     ]
    },
    {
     "name": "stderr",
     "output_type": "stream",
     "text": [
      "C:\\Users\\padkins\\Anaconda3\\lib\\site-packages\\xgboost\\sklearn.py:1224: UserWarning: The use of label encoder in XGBClassifier is deprecated and will be removed in a future release. To remove this warning, do the following: 1) Pass option use_label_encoder=False when constructing XGBClassifier object; and 2) Encode your labels (y) as integers starting with 0, i.e. 0, 1, 2, ..., [num_class - 1].\n",
      "  warnings.warn(label_encoder_deprecation_msg, UserWarning)\n",
      "C:\\Users\\padkins\\Anaconda3\\lib\\site-packages\\xgboost\\sklearn.py:1224: UserWarning: The use of label encoder in XGBClassifier is deprecated and will be removed in a future release. To remove this warning, do the following: 1) Pass option use_label_encoder=False when constructing XGBClassifier object; and 2) Encode your labels (y) as integers starting with 0, i.e. 0, 1, 2, ..., [num_class - 1].\n",
      "  warnings.warn(label_encoder_deprecation_msg, UserWarning)\n"
     ]
    },
    {
     "name": "stdout",
     "output_type": "stream",
     "text": [
      "{'iteration': 27, 'params': {'learning_rate': 0.14526021709504797, 'max_depth': 4, 'n_estimators': 500, 'random_state': 42}, 'score': 0.7746478873239436, 'elapsed_time': 0.12754440307617188}\n",
      "{'iteration': 28, 'params': {'learning_rate': 0.14114167019136822, 'max_depth': 2, 'n_estimators': 500, 'random_state': 42}, 'score': 0.8028169014084507, 'elapsed_time': 0.16231679916381836}\n"
     ]
    },
    {
     "name": "stderr",
     "output_type": "stream",
     "text": [
      "C:\\Users\\padkins\\Anaconda3\\lib\\site-packages\\xgboost\\sklearn.py:1224: UserWarning: The use of label encoder in XGBClassifier is deprecated and will be removed in a future release. To remove this warning, do the following: 1) Pass option use_label_encoder=False when constructing XGBClassifier object; and 2) Encode your labels (y) as integers starting with 0, i.e. 0, 1, 2, ..., [num_class - 1].\n",
      "  warnings.warn(label_encoder_deprecation_msg, UserWarning)\n",
      "C:\\Users\\padkins\\Anaconda3\\lib\\site-packages\\xgboost\\sklearn.py:1224: UserWarning: The use of label encoder in XGBClassifier is deprecated and will be removed in a future release. To remove this warning, do the following: 1) Pass option use_label_encoder=False when constructing XGBClassifier object; and 2) Encode your labels (y) as integers starting with 0, i.e. 0, 1, 2, ..., [num_class - 1].\n",
      "  warnings.warn(label_encoder_deprecation_msg, UserWarning)\n"
     ]
    },
    {
     "name": "stdout",
     "output_type": "stream",
     "text": [
      "{'iteration': 29, 'params': {'learning_rate': 0.09923349968454558, 'max_depth': 4, 'n_estimators': 500, 'random_state': 42}, 'score': 0.7887323943661971, 'elapsed_time': 0.16604399681091309}\n",
      "{'iteration': 30, 'params': {'learning_rate': 0.13985709922988773, 'max_depth': 2, 'n_estimators': 500, 'random_state': 42}, 'score': 0.8028169014084507, 'elapsed_time': 0.1576535701751709}\n",
      "doing bank.csv\n"
     ]
    },
    {
     "name": "stderr",
     "output_type": "stream",
     "text": [
      "C:\\Users\\padkins\\Anaconda3\\lib\\site-packages\\xgboost\\sklearn.py:1224: UserWarning: The use of label encoder in XGBClassifier is deprecated and will be removed in a future release. To remove this warning, do the following: 1) Pass option use_label_encoder=False when constructing XGBClassifier object; and 2) Encode your labels (y) as integers starting with 0, i.e. 0, 1, 2, ..., [num_class - 1].\n",
      "  warnings.warn(label_encoder_deprecation_msg, UserWarning)\n",
      "C:\\Users\\padkins\\Anaconda3\\lib\\site-packages\\xgboost\\sklearn.py:1224: UserWarning: The use of label encoder in XGBClassifier is deprecated and will be removed in a future release. To remove this warning, do the following: 1) Pass option use_label_encoder=False when constructing XGBClassifier object; and 2) Encode your labels (y) as integers starting with 0, i.e. 0, 1, 2, ..., [num_class - 1].\n",
      "  warnings.warn(label_encoder_deprecation_msg, UserWarning)\n"
     ]
    },
    {
     "name": "stdout",
     "output_type": "stream",
     "text": [
      "{'iteration': 1, 'params': {'learning_rate': 0.2025133027132599, 'max_depth': 2, 'n_estimators': 500, 'random_state': 42}, 'score': 0.912358307990047, 'elapsed_time': 2.1093573570251465}\n"
     ]
    },
    {
     "name": "stderr",
     "output_type": "stream",
     "text": [
      "C:\\Users\\padkins\\Anaconda3\\lib\\site-packages\\xgboost\\sklearn.py:1224: UserWarning: The use of label encoder in XGBClassifier is deprecated and will be removed in a future release. To remove this warning, do the following: 1) Pass option use_label_encoder=False when constructing XGBClassifier object; and 2) Encode your labels (y) as integers starting with 0, i.e. 0, 1, 2, ..., [num_class - 1].\n",
      "  warnings.warn(label_encoder_deprecation_msg, UserWarning)\n"
     ]
    },
    {
     "name": "stdout",
     "output_type": "stream",
     "text": [
      "{'iteration': 2, 'params': {'learning_rate': 0.18326646396247628, 'max_depth': 3, 'n_estimators': 500, 'random_state': 42}, 'score': 0.9098700580591651, 'elapsed_time': 2.52138352394104}\n"
     ]
    },
    {
     "name": "stderr",
     "output_type": "stream",
     "text": [
      "C:\\Users\\padkins\\Anaconda3\\lib\\site-packages\\xgboost\\sklearn.py:1224: UserWarning: The use of label encoder in XGBClassifier is deprecated and will be removed in a future release. To remove this warning, do the following: 1) Pass option use_label_encoder=False when constructing XGBClassifier object; and 2) Encode your labels (y) as integers starting with 0, i.e. 0, 1, 2, ..., [num_class - 1].\n",
      "  warnings.warn(label_encoder_deprecation_msg, UserWarning)\n"
     ]
    },
    {
     "name": "stdout",
     "output_type": "stream",
     "text": [
      "{'iteration': 3, 'params': {'learning_rate': 0.23350267730778176, 'max_depth': 2, 'n_estimators': 500, 'random_state': 42}, 'score': 0.9093171136300802, 'elapsed_time': 2.050046682357788}\n"
     ]
    },
    {
     "name": "stderr",
     "output_type": "stream",
     "text": [
      "C:\\Users\\padkins\\Anaconda3\\lib\\site-packages\\xgboost\\sklearn.py:1224: UserWarning: The use of label encoder in XGBClassifier is deprecated and will be removed in a future release. To remove this warning, do the following: 1) Pass option use_label_encoder=False when constructing XGBClassifier object; and 2) Encode your labels (y) as integers starting with 0, i.e. 0, 1, 2, ..., [num_class - 1].\n",
      "  warnings.warn(label_encoder_deprecation_msg, UserWarning)\n"
     ]
    },
    {
     "name": "stdout",
     "output_type": "stream",
     "text": [
      "{'iteration': 4, 'params': {'learning_rate': 0.24835662368965908, 'max_depth': 4, 'n_estimators': 500, 'random_state': 42}, 'score': 0.9090406414155378, 'elapsed_time': 2.2287490367889404}\n"
     ]
    },
    {
     "name": "stderr",
     "output_type": "stream",
     "text": [
      "C:\\Users\\padkins\\Anaconda3\\lib\\site-packages\\xgboost\\sklearn.py:1224: UserWarning: The use of label encoder in XGBClassifier is deprecated and will be removed in a future release. To remove this warning, do the following: 1) Pass option use_label_encoder=False when constructing XGBClassifier object; and 2) Encode your labels (y) as integers starting with 0, i.e. 0, 1, 2, ..., [num_class - 1].\n",
      "  warnings.warn(label_encoder_deprecation_msg, UserWarning)\n"
     ]
    },
    {
     "name": "stdout",
     "output_type": "stream",
     "text": [
      "{'iteration': 5, 'params': {'learning_rate': 0.14687600231714446, 'max_depth': 3, 'n_estimators': 500, 'random_state': 42}, 'score': 0.9073818081282831, 'elapsed_time': 2.096604347229004}\n"
     ]
    },
    {
     "name": "stderr",
     "output_type": "stream",
     "text": [
      "C:\\Users\\padkins\\Anaconda3\\lib\\site-packages\\xgboost\\sklearn.py:1224: UserWarning: The use of label encoder in XGBClassifier is deprecated and will be removed in a future release. To remove this warning, do the following: 1) Pass option use_label_encoder=False when constructing XGBClassifier object; and 2) Encode your labels (y) as integers starting with 0, i.e. 0, 1, 2, ..., [num_class - 1].\n",
      "  warnings.warn(label_encoder_deprecation_msg, UserWarning)\n"
     ]
    },
    {
     "name": "stdout",
     "output_type": "stream",
     "text": [
      "{'iteration': 6, 'params': {'learning_rate': 0.2209389732372583, 'max_depth': 3, 'n_estimators': 500, 'random_state': 42}, 'score': 0.9090406414155378, 'elapsed_time': 2.0997812747955322}\n"
     ]
    },
    {
     "name": "stderr",
     "output_type": "stream",
     "text": [
      "C:\\Users\\padkins\\Anaconda3\\lib\\site-packages\\xgboost\\sklearn.py:1224: UserWarning: The use of label encoder in XGBClassifier is deprecated and will be removed in a future release. To remove this warning, do the following: 1) Pass option use_label_encoder=False when constructing XGBClassifier object; and 2) Encode your labels (y) as integers starting with 0, i.e. 0, 1, 2, ..., [num_class - 1].\n",
      "  warnings.warn(label_encoder_deprecation_msg, UserWarning)\n"
     ]
    },
    {
     "name": "stdout",
     "output_type": "stream",
     "text": [
      "{'iteration': 7, 'params': {'learning_rate': 0.07658171404569865, 'max_depth': 4, 'n_estimators': 500, 'random_state': 42}, 'score': 0.9082112247719104, 'elapsed_time': 5.283758163452148}\n"
     ]
    },
    {
     "name": "stderr",
     "output_type": "stream",
     "text": [
      "C:\\Users\\padkins\\Anaconda3\\lib\\site-packages\\xgboost\\sklearn.py:1224: UserWarning: The use of label encoder in XGBClassifier is deprecated and will be removed in a future release. To remove this warning, do the following: 1) Pass option use_label_encoder=False when constructing XGBClassifier object; and 2) Encode your labels (y) as integers starting with 0, i.e. 0, 1, 2, ..., [num_class - 1].\n",
      "  warnings.warn(label_encoder_deprecation_msg, UserWarning)\n"
     ]
    },
    {
     "name": "stdout",
     "output_type": "stream",
     "text": [
      "{'iteration': 8, 'params': {'learning_rate': 0.1293604067811762, 'max_depth': 2, 'n_estimators': 500, 'random_state': 42}, 'score': 0.9106994747027923, 'elapsed_time': 2.4531030654907227}\n"
     ]
    },
    {
     "name": "stderr",
     "output_type": "stream",
     "text": [
      "C:\\Users\\padkins\\Anaconda3\\lib\\site-packages\\xgboost\\sklearn.py:1224: UserWarning: The use of label encoder in XGBClassifier is deprecated and will be removed in a future release. To remove this warning, do the following: 1) Pass option use_label_encoder=False when constructing XGBClassifier object; and 2) Encode your labels (y) as integers starting with 0, i.e. 0, 1, 2, ..., [num_class - 1].\n",
      "  warnings.warn(label_encoder_deprecation_msg, UserWarning)\n"
     ]
    },
    {
     "name": "stdout",
     "output_type": "stream",
     "text": [
      "{'iteration': 9, 'params': {'learning_rate': 0.19365141721862172, 'max_depth': 4, 'n_estimators': 500, 'random_state': 42}, 'score': 0.9090406414155378, 'elapsed_time': 2.347665786743164}\n"
     ]
    },
    {
     "name": "stderr",
     "output_type": "stream",
     "text": [
      "C:\\Users\\padkins\\Anaconda3\\lib\\site-packages\\xgboost\\sklearn.py:1224: UserWarning: The use of label encoder in XGBClassifier is deprecated and will be removed in a future release. To remove this warning, do the following: 1) Pass option use_label_encoder=False when constructing XGBClassifier object; and 2) Encode your labels (y) as integers starting with 0, i.e. 0, 1, 2, ..., [num_class - 1].\n",
      "  warnings.warn(label_encoder_deprecation_msg, UserWarning)\n"
     ]
    },
    {
     "name": "stdout",
     "output_type": "stream",
     "text": [
      "{'iteration': 10, 'params': {'learning_rate': 0.050146454045627516, 'max_depth': 2, 'n_estimators': 500, 'random_state': 42}, 'score': 0.9109759469173349, 'elapsed_time': 6.291471719741821}\n"
     ]
    },
    {
     "name": "stderr",
     "output_type": "stream",
     "text": [
      "C:\\Users\\padkins\\Anaconda3\\lib\\site-packages\\xgboost\\sklearn.py:1224: UserWarning: The use of label encoder in XGBClassifier is deprecated and will be removed in a future release. To remove this warning, do the following: 1) Pass option use_label_encoder=False when constructing XGBClassifier object; and 2) Encode your labels (y) as integers starting with 0, i.e. 0, 1, 2, ..., [num_class - 1].\n",
      "  warnings.warn(label_encoder_deprecation_msg, UserWarning)\n"
     ]
    },
    {
     "name": "stdout",
     "output_type": "stream",
     "text": [
      "{'iteration': 11, 'params': {'learning_rate': 0.1594260212332955, 'max_depth': 3, 'n_estimators': 500, 'random_state': 42}, 'score': 0.9115288913464197, 'elapsed_time': 3.1676063537597656}\n"
     ]
    },
    {
     "name": "stderr",
     "output_type": "stream",
     "text": [
      "C:\\Users\\padkins\\Anaconda3\\lib\\site-packages\\xgboost\\sklearn.py:1224: UserWarning: The use of label encoder in XGBClassifier is deprecated and will be removed in a future release. To remove this warning, do the following: 1) Pass option use_label_encoder=False when constructing XGBClassifier object; and 2) Encode your labels (y) as integers starting with 0, i.e. 0, 1, 2, ..., [num_class - 1].\n",
      "  warnings.warn(label_encoder_deprecation_msg, UserWarning)\n"
     ]
    },
    {
     "name": "stdout",
     "output_type": "stream",
     "text": [
      "{'iteration': 12, 'params': {'learning_rate': 0.23049458135497328, 'max_depth': 4, 'n_estimators': 500, 'random_state': 42}, 'score': 0.9071053359137407, 'elapsed_time': 3.0571634769439697}\n"
     ]
    },
    {
     "name": "stderr",
     "output_type": "stream",
     "text": [
      "C:\\Users\\padkins\\Anaconda3\\lib\\site-packages\\xgboost\\sklearn.py:1224: UserWarning: The use of label encoder in XGBClassifier is deprecated and will be removed in a future release. To remove this warning, do the following: 1) Pass option use_label_encoder=False when constructing XGBClassifier object; and 2) Encode your labels (y) as integers starting with 0, i.e. 0, 1, 2, ..., [num_class - 1].\n",
      "  warnings.warn(label_encoder_deprecation_msg, UserWarning)\n"
     ]
    },
    {
     "name": "stdout",
     "output_type": "stream",
     "text": [
      "{'iteration': 13, 'params': {'learning_rate': 0.03259971289466363, 'max_depth': 4, 'n_estimators': 500, 'random_state': 42}, 'score': 0.9054465026264861, 'elapsed_time': 12.041715383529663}\n"
     ]
    },
    {
     "name": "stderr",
     "output_type": "stream",
     "text": [
      "C:\\Users\\padkins\\Anaconda3\\lib\\site-packages\\xgboost\\sklearn.py:1224: UserWarning: The use of label encoder in XGBClassifier is deprecated and will be removed in a future release. To remove this warning, do the following: 1) Pass option use_label_encoder=False when constructing XGBClassifier object; and 2) Encode your labels (y) as integers starting with 0, i.e. 0, 1, 2, ..., [num_class - 1].\n",
      "  warnings.warn(label_encoder_deprecation_msg, UserWarning)\n"
     ]
    },
    {
     "name": "stdout",
     "output_type": "stream",
     "text": [
      "{'iteration': 14, 'params': {'learning_rate': 0.05270876295598325, 'max_depth': 2, 'n_estimators': 500, 'random_state': 42}, 'score': 0.9098700580591651, 'elapsed_time': 6.045511484146118}\n"
     ]
    },
    {
     "name": "stderr",
     "output_type": "stream",
     "text": [
      "C:\\Users\\padkins\\Anaconda3\\lib\\site-packages\\xgboost\\sklearn.py:1224: UserWarning: The use of label encoder in XGBClassifier is deprecated and will be removed in a future release. To remove this warning, do the following: 1) Pass option use_label_encoder=False when constructing XGBClassifier object; and 2) Encode your labels (y) as integers starting with 0, i.e. 0, 1, 2, ..., [num_class - 1].\n",
      "  warnings.warn(label_encoder_deprecation_msg, UserWarning)\n"
     ]
    },
    {
     "name": "stdout",
     "output_type": "stream",
     "text": [
      "{'iteration': 15, 'params': {'learning_rate': 0.2332171438890809, 'max_depth': 2, 'n_estimators': 500, 'random_state': 42}, 'score': 0.9084876969864528, 'elapsed_time': 2.3425276279449463}\n"
     ]
    },
    {
     "name": "stderr",
     "output_type": "stream",
     "text": [
      "C:\\Users\\padkins\\Anaconda3\\lib\\site-packages\\xgboost\\sklearn.py:1224: UserWarning: The use of label encoder in XGBClassifier is deprecated and will be removed in a future release. To remove this warning, do the following: 1) Pass option use_label_encoder=False when constructing XGBClassifier object; and 2) Encode your labels (y) as integers starting with 0, i.e. 0, 1, 2, ..., [num_class - 1].\n",
      "  warnings.warn(label_encoder_deprecation_msg, UserWarning)\n"
     ]
    },
    {
     "name": "stdout",
     "output_type": "stream",
     "text": [
      "{'iteration': 16, 'params': {'learning_rate': 0.09833420726634624, 'max_depth': 4, 'n_estimators': 500, 'random_state': 42}, 'score': 0.9076582803428256, 'elapsed_time': 3.925525665283203}\n"
     ]
    },
    {
     "name": "stderr",
     "output_type": "stream",
     "text": [
      "C:\\Users\\padkins\\Anaconda3\\lib\\site-packages\\xgboost\\sklearn.py:1224: UserWarning: The use of label encoder in XGBClassifier is deprecated and will be removed in a future release. To remove this warning, do the following: 1) Pass option use_label_encoder=False when constructing XGBClassifier object; and 2) Encode your labels (y) as integers starting with 0, i.e. 0, 1, 2, ..., [num_class - 1].\n",
      "  warnings.warn(label_encoder_deprecation_msg, UserWarning)\n"
     ]
    },
    {
     "name": "stdout",
     "output_type": "stream",
     "text": [
      "{'iteration': 17, 'params': {'learning_rate': 0.11438814107870458, 'max_depth': 3, 'n_estimators': 500, 'random_state': 42}, 'score': 0.9073818081282831, 'elapsed_time': 2.457685947418213}\n"
     ]
    },
    {
     "name": "stderr",
     "output_type": "stream",
     "text": [
      "C:\\Users\\padkins\\Anaconda3\\lib\\site-packages\\xgboost\\sklearn.py:1224: UserWarning: The use of label encoder in XGBClassifier is deprecated and will be removed in a future release. To remove this warning, do the following: 1) Pass option use_label_encoder=False when constructing XGBClassifier object; and 2) Encode your labels (y) as integers starting with 0, i.e. 0, 1, 2, ..., [num_class - 1].\n",
      "  warnings.warn(label_encoder_deprecation_msg, UserWarning)\n"
     ]
    },
    {
     "name": "stdout",
     "output_type": "stream",
     "text": [
      "{'iteration': 18, 'params': {'learning_rate': 0.20775519261221484, 'max_depth': 4, 'n_estimators': 500, 'random_state': 42}, 'score': 0.907934752557368, 'elapsed_time': 2.0220224857330322}\n"
     ]
    },
    {
     "name": "stderr",
     "output_type": "stream",
     "text": [
      "C:\\Users\\padkins\\Anaconda3\\lib\\site-packages\\xgboost\\sklearn.py:1224: UserWarning: The use of label encoder in XGBClassifier is deprecated and will be removed in a future release. To remove this warning, do the following: 1) Pass option use_label_encoder=False when constructing XGBClassifier object; and 2) Encode your labels (y) as integers starting with 0, i.e. 0, 1, 2, ..., [num_class - 1].\n",
      "  warnings.warn(label_encoder_deprecation_msg, UserWarning)\n"
     ]
    },
    {
     "name": "stdout",
     "output_type": "stream",
     "text": [
      "{'iteration': 19, 'params': {'learning_rate': 0.09421323365406664, 'max_depth': 4, 'n_estimators': 500, 'random_state': 42}, 'score': 0.9071053359137407, 'elapsed_time': 3.516249895095825}\n"
     ]
    },
    {
     "name": "stderr",
     "output_type": "stream",
     "text": [
      "C:\\Users\\padkins\\Anaconda3\\lib\\site-packages\\xgboost\\sklearn.py:1224: UserWarning: The use of label encoder in XGBClassifier is deprecated and will be removed in a future release. To remove this warning, do the following: 1) Pass option use_label_encoder=False when constructing XGBClassifier object; and 2) Encode your labels (y) as integers starting with 0, i.e. 0, 1, 2, ..., [num_class - 1].\n",
      "  warnings.warn(label_encoder_deprecation_msg, UserWarning)\n"
     ]
    },
    {
     "name": "stdout",
     "output_type": "stream",
     "text": [
      "{'iteration': 20, 'params': {'learning_rate': 0.23150523212369176, 'max_depth': 3, 'n_estimators': 500, 'random_state': 42}, 'score': 0.9084876969864528, 'elapsed_time': 2.2450926303863525}\n"
     ]
    },
    {
     "name": "stderr",
     "output_type": "stream",
     "text": [
      "C:\\Users\\padkins\\Anaconda3\\lib\\site-packages\\xgboost\\sklearn.py:1224: UserWarning: The use of label encoder in XGBClassifier is deprecated and will be removed in a future release. To remove this warning, do the following: 1) Pass option use_label_encoder=False when constructing XGBClassifier object; and 2) Encode your labels (y) as integers starting with 0, i.e. 0, 1, 2, ..., [num_class - 1].\n",
      "  warnings.warn(label_encoder_deprecation_msg, UserWarning)\n"
     ]
    },
    {
     "name": "stdout",
     "output_type": "stream",
     "text": [
      "{'iteration': 21, 'params': {'learning_rate': 0.29015270232309975, 'max_depth': 3, 'n_estimators': 500, 'random_state': 42}, 'score': 0.9093171136300802, 'elapsed_time': 1.8896338939666748}\n"
     ]
    },
    {
     "name": "stderr",
     "output_type": "stream",
     "text": [
      "C:\\Users\\padkins\\Anaconda3\\lib\\site-packages\\xgboost\\sklearn.py:1224: UserWarning: The use of label encoder in XGBClassifier is deprecated and will be removed in a future release. To remove this warning, do the following: 1) Pass option use_label_encoder=False when constructing XGBClassifier object; and 2) Encode your labels (y) as integers starting with 0, i.e. 0, 1, 2, ..., [num_class - 1].\n",
      "  warnings.warn(label_encoder_deprecation_msg, UserWarning)\n"
     ]
    },
    {
     "name": "stdout",
     "output_type": "stream",
     "text": [
      "{'iteration': 22, 'params': {'learning_rate': 0.15523340156830379, 'max_depth': 3, 'n_estimators': 500, 'random_state': 42}, 'score': 0.9073818081282831, 'elapsed_time': 1.4531896114349365}\n"
     ]
    },
    {
     "name": "stderr",
     "output_type": "stream",
     "text": [
      "C:\\Users\\padkins\\Anaconda3\\lib\\site-packages\\xgboost\\sklearn.py:1224: UserWarning: The use of label encoder in XGBClassifier is deprecated and will be removed in a future release. To remove this warning, do the following: 1) Pass option use_label_encoder=False when constructing XGBClassifier object; and 2) Encode your labels (y) as integers starting with 0, i.e. 0, 1, 2, ..., [num_class - 1].\n",
      "  warnings.warn(label_encoder_deprecation_msg, UserWarning)\n"
     ]
    },
    {
     "name": "stdout",
     "output_type": "stream",
     "text": [
      "{'iteration': 23, 'params': {'learning_rate': 0.056884446530669125, 'max_depth': 3, 'n_estimators': 500, 'random_state': 42}, 'score': 0.9071053359137407, 'elapsed_time': 5.028470277786255}\n"
     ]
    },
    {
     "name": "stderr",
     "output_type": "stream",
     "text": [
      "C:\\Users\\padkins\\Anaconda3\\lib\\site-packages\\xgboost\\sklearn.py:1224: UserWarning: The use of label encoder in XGBClassifier is deprecated and will be removed in a future release. To remove this warning, do the following: 1) Pass option use_label_encoder=False when constructing XGBClassifier object; and 2) Encode your labels (y) as integers starting with 0, i.e. 0, 1, 2, ..., [num_class - 1].\n",
      "  warnings.warn(label_encoder_deprecation_msg, UserWarning)\n"
     ]
    },
    {
     "name": "stdout",
     "output_type": "stream",
     "text": [
      "{'iteration': 24, 'params': {'learning_rate': 0.2610386787701463, 'max_depth': 2, 'n_estimators': 500, 'random_state': 42}, 'score': 0.9093171136300802, 'elapsed_time': 1.4612081050872803}\n"
     ]
    },
    {
     "name": "stderr",
     "output_type": "stream",
     "text": [
      "C:\\Users\\padkins\\Anaconda3\\lib\\site-packages\\xgboost\\sklearn.py:1224: UserWarning: The use of label encoder in XGBClassifier is deprecated and will be removed in a future release. To remove this warning, do the following: 1) Pass option use_label_encoder=False when constructing XGBClassifier object; and 2) Encode your labels (y) as integers starting with 0, i.e. 0, 1, 2, ..., [num_class - 1].\n",
      "  warnings.warn(label_encoder_deprecation_msg, UserWarning)\n"
     ]
    },
    {
     "name": "stdout",
     "output_type": "stream",
     "text": [
      "{'iteration': 25, 'params': {'learning_rate': 0.2502459198115022, 'max_depth': 4, 'n_estimators': 500, 'random_state': 42}, 'score': 0.9068288636991982, 'elapsed_time': 1.5786502361297607}\n"
     ]
    },
    {
     "name": "stderr",
     "output_type": "stream",
     "text": [
      "C:\\Users\\padkins\\Anaconda3\\lib\\site-packages\\xgboost\\sklearn.py:1224: UserWarning: The use of label encoder in XGBClassifier is deprecated and will be removed in a future release. To remove this warning, do the following: 1) Pass option use_label_encoder=False when constructing XGBClassifier object; and 2) Encode your labels (y) as integers starting with 0, i.e. 0, 1, 2, ..., [num_class - 1].\n",
      "  warnings.warn(label_encoder_deprecation_msg, UserWarning)\n"
     ]
    },
    {
     "name": "stdout",
     "output_type": "stream",
     "text": [
      "{'iteration': 26, 'params': {'learning_rate': 0.28155474125595986, 'max_depth': 4, 'n_estimators': 500, 'random_state': 42}, 'score': 0.9073818081282831, 'elapsed_time': 1.528364896774292}\n"
     ]
    },
    {
     "name": "stderr",
     "output_type": "stream",
     "text": [
      "C:\\Users\\padkins\\Anaconda3\\lib\\site-packages\\xgboost\\sklearn.py:1224: UserWarning: The use of label encoder in XGBClassifier is deprecated and will be removed in a future release. To remove this warning, do the following: 1) Pass option use_label_encoder=False when constructing XGBClassifier object; and 2) Encode your labels (y) as integers starting with 0, i.e. 0, 1, 2, ..., [num_class - 1].\n",
      "  warnings.warn(label_encoder_deprecation_msg, UserWarning)\n"
     ]
    },
    {
     "name": "stdout",
     "output_type": "stream",
     "text": [
      "{'iteration': 27, 'params': {'learning_rate': 0.038592618101669494, 'max_depth': 4, 'n_estimators': 500, 'random_state': 42}, 'score': 0.9068288636991982, 'elapsed_time': 6.768317222595215}\n"
     ]
    },
    {
     "name": "stderr",
     "output_type": "stream",
     "text": [
      "C:\\Users\\padkins\\Anaconda3\\lib\\site-packages\\xgboost\\sklearn.py:1224: UserWarning: The use of label encoder in XGBClassifier is deprecated and will be removed in a future release. To remove this warning, do the following: 1) Pass option use_label_encoder=False when constructing XGBClassifier object; and 2) Encode your labels (y) as integers starting with 0, i.e. 0, 1, 2, ..., [num_class - 1].\n",
      "  warnings.warn(label_encoder_deprecation_msg, UserWarning)\n"
     ]
    },
    {
     "name": "stdout",
     "output_type": "stream",
     "text": [
      "{'iteration': 28, 'params': {'learning_rate': 0.15100983681518018, 'max_depth': 4, 'n_estimators': 500, 'random_state': 42}, 'score': 0.9101465302737075, 'elapsed_time': 2.9878344535827637}\n"
     ]
    },
    {
     "name": "stderr",
     "output_type": "stream",
     "text": [
      "C:\\Users\\padkins\\Anaconda3\\lib\\site-packages\\xgboost\\sklearn.py:1224: UserWarning: The use of label encoder in XGBClassifier is deprecated and will be removed in a future release. To remove this warning, do the following: 1) Pass option use_label_encoder=False when constructing XGBClassifier object; and 2) Encode your labels (y) as integers starting with 0, i.e. 0, 1, 2, ..., [num_class - 1].\n",
      "  warnings.warn(label_encoder_deprecation_msg, UserWarning)\n"
     ]
    },
    {
     "name": "stdout",
     "output_type": "stream",
     "text": [
      "{'iteration': 29, 'params': {'learning_rate': 0.16070864911226196, 'max_depth': 2, 'n_estimators': 500, 'random_state': 42}, 'score': 0.912358307990047, 'elapsed_time': 2.251866102218628}\n"
     ]
    },
    {
     "name": "stderr",
     "output_type": "stream",
     "text": [
      "C:\\Users\\padkins\\Anaconda3\\lib\\site-packages\\xgboost\\sklearn.py:1224: UserWarning: The use of label encoder in XGBClassifier is deprecated and will be removed in a future release. To remove this warning, do the following: 1) Pass option use_label_encoder=False when constructing XGBClassifier object; and 2) Encode your labels (y) as integers starting with 0, i.e. 0, 1, 2, ..., [num_class - 1].\n",
      "  warnings.warn(label_encoder_deprecation_msg, UserWarning)\n"
     ]
    },
    {
     "name": "stdout",
     "output_type": "stream",
     "text": [
      "{'iteration': 30, 'params': {'learning_rate': 0.1746338542237243, 'max_depth': 2, 'n_estimators': 500, 'random_state': 42}, 'score': 0.9098700580591651, 'elapsed_time': 2.632723331451416}\n"
     ]
    },
    {
     "name": "stderr",
     "output_type": "stream",
     "text": [
      "C:\\Users\\padkins\\Anaconda3\\lib\\site-packages\\xgboost\\sklearn.py:1224: UserWarning: The use of label encoder in XGBClassifier is deprecated and will be removed in a future release. To remove this warning, do the following: 1) Pass option use_label_encoder=False when constructing XGBClassifier object; and 2) Encode your labels (y) as integers starting with 0, i.e. 0, 1, 2, ..., [num_class - 1].\n",
      "  warnings.warn(label_encoder_deprecation_msg, UserWarning)\n"
     ]
    },
    {
     "name": "stdout",
     "output_type": "stream",
     "text": [
      "{'iteration': 1, 'params': {'learning_rate': 0.09078452269199283, 'max_depth': 4, 'n_estimators': 500, 'random_state': 42}, 'score': 0.9106994747027923, 'elapsed_time': 3.602551221847534}\n"
     ]
    },
    {
     "name": "stderr",
     "output_type": "stream",
     "text": [
      "C:\\Users\\padkins\\Anaconda3\\lib\\site-packages\\xgboost\\sklearn.py:1224: UserWarning: The use of label encoder in XGBClassifier is deprecated and will be removed in a future release. To remove this warning, do the following: 1) Pass option use_label_encoder=False when constructing XGBClassifier object; and 2) Encode your labels (y) as integers starting with 0, i.e. 0, 1, 2, ..., [num_class - 1].\n",
      "  warnings.warn(label_encoder_deprecation_msg, UserWarning)\n"
     ]
    },
    {
     "name": "stdout",
     "output_type": "stream",
     "text": [
      "{'iteration': 2, 'params': {'learning_rate': 0.28012142308918647, 'max_depth': 2, 'n_estimators': 500, 'random_state': 42}, 'score': 0.9118053635609621, 'elapsed_time': 1.5421757698059082}\n"
     ]
    },
    {
     "name": "stderr",
     "output_type": "stream",
     "text": [
      "C:\\Users\\padkins\\Anaconda3\\lib\\site-packages\\xgboost\\sklearn.py:1224: UserWarning: The use of label encoder in XGBClassifier is deprecated and will be removed in a future release. To remove this warning, do the following: 1) Pass option use_label_encoder=False when constructing XGBClassifier object; and 2) Encode your labels (y) as integers starting with 0, i.e. 0, 1, 2, ..., [num_class - 1].\n",
      "  warnings.warn(label_encoder_deprecation_msg, UserWarning)\n"
     ]
    },
    {
     "name": "stdout",
     "output_type": "stream",
     "text": [
      "{'iteration': 3, 'params': {'learning_rate': 0.12645340295215438, 'max_depth': 2, 'n_estimators': 500, 'random_state': 42}, 'score': 0.9106994747027923, 'elapsed_time': 2.250236749649048}\n"
     ]
    },
    {
     "name": "stderr",
     "output_type": "stream",
     "text": [
      "C:\\Users\\padkins\\Anaconda3\\lib\\site-packages\\xgboost\\sklearn.py:1224: UserWarning: The use of label encoder in XGBClassifier is deprecated and will be removed in a future release. To remove this warning, do the following: 1) Pass option use_label_encoder=False when constructing XGBClassifier object; and 2) Encode your labels (y) as integers starting with 0, i.e. 0, 1, 2, ..., [num_class - 1].\n",
      "  warnings.warn(label_encoder_deprecation_msg, UserWarning)\n"
     ]
    },
    {
     "name": "stdout",
     "output_type": "stream",
     "text": [
      "{'iteration': 4, 'params': {'learning_rate': 0.17458827368883204, 'max_depth': 4, 'n_estimators': 500, 'random_state': 42}, 'score': 0.9087641692009953, 'elapsed_time': 1.7056915760040283}\n"
     ]
    },
    {
     "name": "stderr",
     "output_type": "stream",
     "text": [
      "C:\\Users\\padkins\\Anaconda3\\lib\\site-packages\\xgboost\\sklearn.py:1224: UserWarning: The use of label encoder in XGBClassifier is deprecated and will be removed in a future release. To remove this warning, do the following: 1) Pass option use_label_encoder=False when constructing XGBClassifier object; and 2) Encode your labels (y) as integers starting with 0, i.e. 0, 1, 2, ..., [num_class - 1].\n",
      "  warnings.warn(label_encoder_deprecation_msg, UserWarning)\n"
     ]
    },
    {
     "name": "stdout",
     "output_type": "stream",
     "text": [
      "{'iteration': 5, 'params': {'learning_rate': 0.19384175540621962, 'max_depth': 2, 'n_estimators': 500, 'random_state': 42}, 'score': 0.9112524191318773, 'elapsed_time': 2.0618834495544434}\n"
     ]
    },
    {
     "name": "stderr",
     "output_type": "stream",
     "text": [
      "C:\\Users\\padkins\\Anaconda3\\lib\\site-packages\\xgboost\\sklearn.py:1224: UserWarning: The use of label encoder in XGBClassifier is deprecated and will be removed in a future release. To remove this warning, do the following: 1) Pass option use_label_encoder=False when constructing XGBClassifier object; and 2) Encode your labels (y) as integers starting with 0, i.e. 0, 1, 2, ..., [num_class - 1].\n",
      "  warnings.warn(label_encoder_deprecation_msg, UserWarning)\n"
     ]
    },
    {
     "name": "stdout",
     "output_type": "stream",
     "text": [
      "{'iteration': 6, 'params': {'learning_rate': 0.19196663480599974, 'max_depth': 2, 'n_estimators': 500, 'random_state': 42}, 'score': 0.9093171136300802, 'elapsed_time': 2.290708303451538}\n"
     ]
    },
    {
     "name": "stderr",
     "output_type": "stream",
     "text": [
      "C:\\Users\\padkins\\Anaconda3\\lib\\site-packages\\xgboost\\sklearn.py:1224: UserWarning: The use of label encoder in XGBClassifier is deprecated and will be removed in a future release. To remove this warning, do the following: 1) Pass option use_label_encoder=False when constructing XGBClassifier object; and 2) Encode your labels (y) as integers starting with 0, i.e. 0, 1, 2, ..., [num_class - 1].\n",
      "  warnings.warn(label_encoder_deprecation_msg, UserWarning)\n"
     ]
    },
    {
     "name": "stdout",
     "output_type": "stream",
     "text": [
      "{'iteration': 7, 'params': {'learning_rate': 0.02275382228454353, 'max_depth': 4, 'n_estimators': 500, 'random_state': 42}, 'score': 0.9098700580591651, 'elapsed_time': 8.801692008972168}\n"
     ]
    },
    {
     "name": "stderr",
     "output_type": "stream",
     "text": [
      "C:\\Users\\padkins\\Anaconda3\\lib\\site-packages\\xgboost\\sklearn.py:1224: UserWarning: The use of label encoder in XGBClassifier is deprecated and will be removed in a future release. To remove this warning, do the following: 1) Pass option use_label_encoder=False when constructing XGBClassifier object; and 2) Encode your labels (y) as integers starting with 0, i.e. 0, 1, 2, ..., [num_class - 1].\n",
      "  warnings.warn(label_encoder_deprecation_msg, UserWarning)\n"
     ]
    },
    {
     "name": "stdout",
     "output_type": "stream",
     "text": [
      "{'iteration': 8, 'params': {'learning_rate': 0.21617652528966472, 'max_depth': 4, 'n_estimators': 500, 'random_state': 42}, 'score': 0.9104230024882499, 'elapsed_time': 1.3590443134307861}\n"
     ]
    },
    {
     "name": "stderr",
     "output_type": "stream",
     "text": [
      "C:\\Users\\padkins\\Anaconda3\\lib\\site-packages\\xgboost\\sklearn.py:1224: UserWarning: The use of label encoder in XGBClassifier is deprecated and will be removed in a future release. To remove this warning, do the following: 1) Pass option use_label_encoder=False when constructing XGBClassifier object; and 2) Encode your labels (y) as integers starting with 0, i.e. 0, 1, 2, ..., [num_class - 1].\n",
      "  warnings.warn(label_encoder_deprecation_msg, UserWarning)\n"
     ]
    },
    {
     "name": "stdout",
     "output_type": "stream",
     "text": [
      "{'iteration': 9, 'params': {'learning_rate': 0.08159440373712187, 'max_depth': 2, 'n_estimators': 500, 'random_state': 42}, 'score': 0.9112524191318773, 'elapsed_time': 3.7790963649749756}\n"
     ]
    },
    {
     "name": "stderr",
     "output_type": "stream",
     "text": [
      "C:\\Users\\padkins\\Anaconda3\\lib\\site-packages\\xgboost\\sklearn.py:1224: UserWarning: The use of label encoder in XGBClassifier is deprecated and will be removed in a future release. To remove this warning, do the following: 1) Pass option use_label_encoder=False when constructing XGBClassifier object; and 2) Encode your labels (y) as integers starting with 0, i.e. 0, 1, 2, ..., [num_class - 1].\n",
      "  warnings.warn(label_encoder_deprecation_msg, UserWarning)\n"
     ]
    },
    {
     "name": "stdout",
     "output_type": "stream",
     "text": [
      "{'iteration': 10, 'params': {'learning_rate': 0.2646790576903415, 'max_depth': 4, 'n_estimators': 500, 'random_state': 42}, 'score': 0.912358307990047, 'elapsed_time': 1.1467554569244385}\n"
     ]
    },
    {
     "name": "stderr",
     "output_type": "stream",
     "text": [
      "C:\\Users\\padkins\\Anaconda3\\lib\\site-packages\\xgboost\\sklearn.py:1224: UserWarning: The use of label encoder in XGBClassifier is deprecated and will be removed in a future release. To remove this warning, do the following: 1) Pass option use_label_encoder=False when constructing XGBClassifier object; and 2) Encode your labels (y) as integers starting with 0, i.e. 0, 1, 2, ..., [num_class - 1].\n",
      "  warnings.warn(label_encoder_deprecation_msg, UserWarning)\n"
     ]
    },
    {
     "name": "stdout",
     "output_type": "stream",
     "text": [
      "{'iteration': 11, 'params': {'learning_rate': 0.030796878418495405, 'max_depth': 3, 'n_estimators': 500, 'random_state': 42}, 'score': 0.9093171136300802, 'elapsed_time': 6.799344539642334}\n"
     ]
    },
    {
     "name": "stderr",
     "output_type": "stream",
     "text": [
      "C:\\Users\\padkins\\Anaconda3\\lib\\site-packages\\xgboost\\sklearn.py:1224: UserWarning: The use of label encoder in XGBClassifier is deprecated and will be removed in a future release. To remove this warning, do the following: 1) Pass option use_label_encoder=False when constructing XGBClassifier object; and 2) Encode your labels (y) as integers starting with 0, i.e. 0, 1, 2, ..., [num_class - 1].\n",
      "  warnings.warn(label_encoder_deprecation_msg, UserWarning)\n"
     ]
    },
    {
     "name": "stdout",
     "output_type": "stream",
     "text": [
      "{'iteration': 12, 'params': {'learning_rate': 0.24215897638907438, 'max_depth': 3, 'n_estimators': 500, 'random_state': 42}, 'score': 0.9082112247719104, 'elapsed_time': 1.1757135391235352}\n"
     ]
    },
    {
     "name": "stderr",
     "output_type": "stream",
     "text": [
      "C:\\Users\\padkins\\Anaconda3\\lib\\site-packages\\xgboost\\sklearn.py:1224: UserWarning: The use of label encoder in XGBClassifier is deprecated and will be removed in a future release. To remove this warning, do the following: 1) Pass option use_label_encoder=False when constructing XGBClassifier object; and 2) Encode your labels (y) as integers starting with 0, i.e. 0, 1, 2, ..., [num_class - 1].\n",
      "  warnings.warn(label_encoder_deprecation_msg, UserWarning)\n"
     ]
    },
    {
     "name": "stdout",
     "output_type": "stream",
     "text": [
      "{'iteration': 13, 'params': {'learning_rate': 0.14796416743071703, 'max_depth': 4, 'n_estimators': 500, 'random_state': 42}, 'score': 0.9120818357755046, 'elapsed_time': 2.1585052013397217}\n"
     ]
    },
    {
     "name": "stderr",
     "output_type": "stream",
     "text": [
      "C:\\Users\\padkins\\Anaconda3\\lib\\site-packages\\xgboost\\sklearn.py:1224: UserWarning: The use of label encoder in XGBClassifier is deprecated and will be removed in a future release. To remove this warning, do the following: 1) Pass option use_label_encoder=False when constructing XGBClassifier object; and 2) Encode your labels (y) as integers starting with 0, i.e. 0, 1, 2, ..., [num_class - 1].\n",
      "  warnings.warn(label_encoder_deprecation_msg, UserWarning)\n"
     ]
    },
    {
     "name": "stdout",
     "output_type": "stream",
     "text": [
      "{'iteration': 14, 'params': {'learning_rate': 0.2281407894965781, 'max_depth': 3, 'n_estimators': 500, 'random_state': 42}, 'score': 0.9090406414155378, 'elapsed_time': 1.4184036254882812}\n"
     ]
    },
    {
     "name": "stderr",
     "output_type": "stream",
     "text": [
      "C:\\Users\\padkins\\Anaconda3\\lib\\site-packages\\xgboost\\sklearn.py:1224: UserWarning: The use of label encoder in XGBClassifier is deprecated and will be removed in a future release. To remove this warning, do the following: 1) Pass option use_label_encoder=False when constructing XGBClassifier object; and 2) Encode your labels (y) as integers starting with 0, i.e. 0, 1, 2, ..., [num_class - 1].\n",
      "  warnings.warn(label_encoder_deprecation_msg, UserWarning)\n"
     ]
    },
    {
     "name": "stdout",
     "output_type": "stream",
     "text": [
      "{'iteration': 15, 'params': {'learning_rate': 0.05497006441815646, 'max_depth': 3, 'n_estimators': 500, 'random_state': 42}, 'score': 0.9090406414155378, 'elapsed_time': 5.968673229217529}\n"
     ]
    },
    {
     "name": "stderr",
     "output_type": "stream",
     "text": [
      "C:\\Users\\padkins\\Anaconda3\\lib\\site-packages\\xgboost\\sklearn.py:1224: UserWarning: The use of label encoder in XGBClassifier is deprecated and will be removed in a future release. To remove this warning, do the following: 1) Pass option use_label_encoder=False when constructing XGBClassifier object; and 2) Encode your labels (y) as integers starting with 0, i.e. 0, 1, 2, ..., [num_class - 1].\n",
      "  warnings.warn(label_encoder_deprecation_msg, UserWarning)\n"
     ]
    },
    {
     "name": "stdout",
     "output_type": "stream",
     "text": [
      "{'iteration': 16, 'params': {'learning_rate': 0.042962362982315205, 'max_depth': 4, 'n_estimators': 500, 'random_state': 42}, 'score': 0.9118053635609621, 'elapsed_time': 7.446287393569946}\n"
     ]
    },
    {
     "name": "stderr",
     "output_type": "stream",
     "text": [
      "C:\\Users\\padkins\\Anaconda3\\lib\\site-packages\\xgboost\\sklearn.py:1224: UserWarning: The use of label encoder in XGBClassifier is deprecated and will be removed in a future release. To remove this warning, do the following: 1) Pass option use_label_encoder=False when constructing XGBClassifier object; and 2) Encode your labels (y) as integers starting with 0, i.e. 0, 1, 2, ..., [num_class - 1].\n",
      "  warnings.warn(label_encoder_deprecation_msg, UserWarning)\n"
     ]
    },
    {
     "name": "stdout",
     "output_type": "stream",
     "text": [
      "{'iteration': 17, 'params': {'learning_rate': 0.2246002166396121, 'max_depth': 4, 'n_estimators': 500, 'random_state': 42}, 'score': 0.9095935858446226, 'elapsed_time': 1.238358736038208}\n"
     ]
    },
    {
     "name": "stderr",
     "output_type": "stream",
     "text": [
      "C:\\Users\\padkins\\Anaconda3\\lib\\site-packages\\xgboost\\sklearn.py:1224: UserWarning: The use of label encoder in XGBClassifier is deprecated and will be removed in a future release. To remove this warning, do the following: 1) Pass option use_label_encoder=False when constructing XGBClassifier object; and 2) Encode your labels (y) as integers starting with 0, i.e. 0, 1, 2, ..., [num_class - 1].\n",
      "  warnings.warn(label_encoder_deprecation_msg, UserWarning)\n"
     ]
    },
    {
     "name": "stdout",
     "output_type": "stream",
     "text": [
      "{'iteration': 18, 'params': {'learning_rate': 0.2523432436193541, 'max_depth': 3, 'n_estimators': 500, 'random_state': 42}, 'score': 0.9068288636991982, 'elapsed_time': 1.8134593963623047}\n"
     ]
    },
    {
     "name": "stderr",
     "output_type": "stream",
     "text": [
      "C:\\Users\\padkins\\Anaconda3\\lib\\site-packages\\xgboost\\sklearn.py:1224: UserWarning: The use of label encoder in XGBClassifier is deprecated and will be removed in a future release. To remove this warning, do the following: 1) Pass option use_label_encoder=False when constructing XGBClassifier object; and 2) Encode your labels (y) as integers starting with 0, i.e. 0, 1, 2, ..., [num_class - 1].\n",
      "  warnings.warn(label_encoder_deprecation_msg, UserWarning)\n"
     ]
    },
    {
     "name": "stdout",
     "output_type": "stream",
     "text": [
      "{'iteration': 19, 'params': {'learning_rate': 0.11770413524603096, 'max_depth': 4, 'n_estimators': 500, 'random_state': 42}, 'score': 0.9095935858446226, 'elapsed_time': 3.079108476638794}\n"
     ]
    },
    {
     "name": "stderr",
     "output_type": "stream",
     "text": [
      "C:\\Users\\padkins\\Anaconda3\\lib\\site-packages\\xgboost\\sklearn.py:1224: UserWarning: The use of label encoder in XGBClassifier is deprecated and will be removed in a future release. To remove this warning, do the following: 1) Pass option use_label_encoder=False when constructing XGBClassifier object; and 2) Encode your labels (y) as integers starting with 0, i.e. 0, 1, 2, ..., [num_class - 1].\n",
      "  warnings.warn(label_encoder_deprecation_msg, UserWarning)\n"
     ]
    },
    {
     "name": "stdout",
     "output_type": "stream",
     "text": [
      "{'iteration': 20, 'params': {'learning_rate': 0.053938109137766733, 'max_depth': 3, 'n_estimators': 500, 'random_state': 42}, 'score': 0.9095935858446226, 'elapsed_time': 5.19546365737915}\n"
     ]
    },
    {
     "name": "stderr",
     "output_type": "stream",
     "text": [
      "C:\\Users\\padkins\\Anaconda3\\lib\\site-packages\\xgboost\\sklearn.py:1224: UserWarning: The use of label encoder in XGBClassifier is deprecated and will be removed in a future release. To remove this warning, do the following: 1) Pass option use_label_encoder=False when constructing XGBClassifier object; and 2) Encode your labels (y) as integers starting with 0, i.e. 0, 1, 2, ..., [num_class - 1].\n",
      "  warnings.warn(label_encoder_deprecation_msg, UserWarning)\n"
     ]
    },
    {
     "name": "stdout",
     "output_type": "stream",
     "text": [
      "{'iteration': 21, 'params': {'learning_rate': 0.27679836404784447, 'max_depth': 3, 'n_estimators': 500, 'random_state': 42}, 'score': 0.9106994747027923, 'elapsed_time': 1.088627815246582}\n"
     ]
    },
    {
     "name": "stderr",
     "output_type": "stream",
     "text": [
      "C:\\Users\\padkins\\Anaconda3\\lib\\site-packages\\xgboost\\sklearn.py:1224: UserWarning: The use of label encoder in XGBClassifier is deprecated and will be removed in a future release. To remove this warning, do the following: 1) Pass option use_label_encoder=False when constructing XGBClassifier object; and 2) Encode your labels (y) as integers starting with 0, i.e. 0, 1, 2, ..., [num_class - 1].\n",
      "  warnings.warn(label_encoder_deprecation_msg, UserWarning)\n"
     ]
    },
    {
     "name": "stdout",
     "output_type": "stream",
     "text": [
      "{'iteration': 22, 'params': {'learning_rate': 0.06972081071515812, 'max_depth': 3, 'n_estimators': 500, 'random_state': 42}, 'score': 0.9104230024882499, 'elapsed_time': 3.571089506149292}\n"
     ]
    },
    {
     "name": "stderr",
     "output_type": "stream",
     "text": [
      "C:\\Users\\padkins\\Anaconda3\\lib\\site-packages\\xgboost\\sklearn.py:1224: UserWarning: The use of label encoder in XGBClassifier is deprecated and will be removed in a future release. To remove this warning, do the following: 1) Pass option use_label_encoder=False when constructing XGBClassifier object; and 2) Encode your labels (y) as integers starting with 0, i.e. 0, 1, 2, ..., [num_class - 1].\n",
      "  warnings.warn(label_encoder_deprecation_msg, UserWarning)\n"
     ]
    },
    {
     "name": "stdout",
     "output_type": "stream",
     "text": [
      "{'iteration': 23, 'params': {'learning_rate': 0.05432441690462497, 'max_depth': 2, 'n_estimators': 500, 'random_state': 42}, 'score': 0.9112524191318773, 'elapsed_time': 4.925321340560913}\n"
     ]
    },
    {
     "name": "stderr",
     "output_type": "stream",
     "text": [
      "C:\\Users\\padkins\\Anaconda3\\lib\\site-packages\\xgboost\\sklearn.py:1224: UserWarning: The use of label encoder in XGBClassifier is deprecated and will be removed in a future release. To remove this warning, do the following: 1) Pass option use_label_encoder=False when constructing XGBClassifier object; and 2) Encode your labels (y) as integers starting with 0, i.e. 0, 1, 2, ..., [num_class - 1].\n",
      "  warnings.warn(label_encoder_deprecation_msg, UserWarning)\n"
     ]
    },
    {
     "name": "stdout",
     "output_type": "stream",
     "text": [
      "{'iteration': 24, 'params': {'learning_rate': 0.24565141761170328, 'max_depth': 4, 'n_estimators': 500, 'random_state': 42}, 'score': 0.9120818357755046, 'elapsed_time': 1.1466209888458252}\n"
     ]
    },
    {
     "name": "stderr",
     "output_type": "stream",
     "text": [
      "C:\\Users\\padkins\\Anaconda3\\lib\\site-packages\\xgboost\\sklearn.py:1224: UserWarning: The use of label encoder in XGBClassifier is deprecated and will be removed in a future release. To remove this warning, do the following: 1) Pass option use_label_encoder=False when constructing XGBClassifier object; and 2) Encode your labels (y) as integers starting with 0, i.e. 0, 1, 2, ..., [num_class - 1].\n",
      "  warnings.warn(label_encoder_deprecation_msg, UserWarning)\n"
     ]
    },
    {
     "name": "stdout",
     "output_type": "stream",
     "text": [
      "{'iteration': 25, 'params': {'learning_rate': 0.019390427799588515, 'max_depth': 2, 'n_estimators': 500, 'random_state': 42}, 'score': 0.9073818081282831, 'elapsed_time': 4.856190919876099}\n"
     ]
    },
    {
     "name": "stderr",
     "output_type": "stream",
     "text": [
      "C:\\Users\\padkins\\Anaconda3\\lib\\site-packages\\xgboost\\sklearn.py:1224: UserWarning: The use of label encoder in XGBClassifier is deprecated and will be removed in a future release. To remove this warning, do the following: 1) Pass option use_label_encoder=False when constructing XGBClassifier object; and 2) Encode your labels (y) as integers starting with 0, i.e. 0, 1, 2, ..., [num_class - 1].\n",
      "  warnings.warn(label_encoder_deprecation_msg, UserWarning)\n"
     ]
    },
    {
     "name": "stdout",
     "output_type": "stream",
     "text": [
      "{'iteration': 26, 'params': {'learning_rate': 0.12466240252866541, 'max_depth': 3, 'n_estimators': 500, 'random_state': 42}, 'score': 0.907934752557368, 'elapsed_time': 2.4057276248931885}\n"
     ]
    },
    {
     "name": "stderr",
     "output_type": "stream",
     "text": [
      "C:\\Users\\padkins\\Anaconda3\\lib\\site-packages\\xgboost\\sklearn.py:1224: UserWarning: The use of label encoder in XGBClassifier is deprecated and will be removed in a future release. To remove this warning, do the following: 1) Pass option use_label_encoder=False when constructing XGBClassifier object; and 2) Encode your labels (y) as integers starting with 0, i.e. 0, 1, 2, ..., [num_class - 1].\n",
      "  warnings.warn(label_encoder_deprecation_msg, UserWarning)\n"
     ]
    },
    {
     "name": "stdout",
     "output_type": "stream",
     "text": [
      "{'iteration': 27, 'params': {'learning_rate': 0.0959043491298709, 'max_depth': 3, 'n_estimators': 500, 'random_state': 42}, 'score': 0.9095935858446226, 'elapsed_time': 3.4049179553985596}\n"
     ]
    },
    {
     "name": "stderr",
     "output_type": "stream",
     "text": [
      "C:\\Users\\padkins\\Anaconda3\\lib\\site-packages\\xgboost\\sklearn.py:1224: UserWarning: The use of label encoder in XGBClassifier is deprecated and will be removed in a future release. To remove this warning, do the following: 1) Pass option use_label_encoder=False when constructing XGBClassifier object; and 2) Encode your labels (y) as integers starting with 0, i.e. 0, 1, 2, ..., [num_class - 1].\n",
      "  warnings.warn(label_encoder_deprecation_msg, UserWarning)\n"
     ]
    },
    {
     "name": "stdout",
     "output_type": "stream",
     "text": [
      "{'iteration': 28, 'params': {'learning_rate': 0.17255750067705436, 'max_depth': 2, 'n_estimators': 500, 'random_state': 42}, 'score': 0.9095935858446226, 'elapsed_time': 1.4822726249694824}\n"
     ]
    },
    {
     "name": "stderr",
     "output_type": "stream",
     "text": [
      "C:\\Users\\padkins\\Anaconda3\\lib\\site-packages\\xgboost\\sklearn.py:1224: UserWarning: The use of label encoder in XGBClassifier is deprecated and will be removed in a future release. To remove this warning, do the following: 1) Pass option use_label_encoder=False when constructing XGBClassifier object; and 2) Encode your labels (y) as integers starting with 0, i.e. 0, 1, 2, ..., [num_class - 1].\n",
      "  warnings.warn(label_encoder_deprecation_msg, UserWarning)\n"
     ]
    },
    {
     "name": "stdout",
     "output_type": "stream",
     "text": [
      "{'iteration': 29, 'params': {'learning_rate': 0.07634230375606939, 'max_depth': 3, 'n_estimators': 500, 'random_state': 42}, 'score': 0.9093171136300802, 'elapsed_time': 3.9685463905334473}\n"
     ]
    },
    {
     "name": "stderr",
     "output_type": "stream",
     "text": [
      "C:\\Users\\padkins\\Anaconda3\\lib\\site-packages\\xgboost\\sklearn.py:1224: UserWarning: The use of label encoder in XGBClassifier is deprecated and will be removed in a future release. To remove this warning, do the following: 1) Pass option use_label_encoder=False when constructing XGBClassifier object; and 2) Encode your labels (y) as integers starting with 0, i.e. 0, 1, 2, ..., [num_class - 1].\n",
      "  warnings.warn(label_encoder_deprecation_msg, UserWarning)\n"
     ]
    },
    {
     "name": "stdout",
     "output_type": "stream",
     "text": [
      "{'iteration': 30, 'params': {'learning_rate': 0.21942546254906906, 'max_depth': 2, 'n_estimators': 500, 'random_state': 42}, 'score': 0.9115288913464197, 'elapsed_time': 1.811882495880127}\n"
     ]
    },
    {
     "name": "stderr",
     "output_type": "stream",
     "text": [
      "C:\\Users\\padkins\\Anaconda3\\lib\\site-packages\\xgboost\\sklearn.py:1224: UserWarning: The use of label encoder in XGBClassifier is deprecated and will be removed in a future release. To remove this warning, do the following: 1) Pass option use_label_encoder=False when constructing XGBClassifier object; and 2) Encode your labels (y) as integers starting with 0, i.e. 0, 1, 2, ..., [num_class - 1].\n",
      "  warnings.warn(label_encoder_deprecation_msg, UserWarning)\n"
     ]
    },
    {
     "name": "stdout",
     "output_type": "stream",
     "text": [
      "{'iteration': 1, 'params': {'learning_rate': 0.09039175706871226, 'max_depth': 4, 'n_estimators': 500, 'random_state': 42}, 'score': 0.907934752557368, 'elapsed_time': 4.851571321487427}\n"
     ]
    },
    {
     "name": "stderr",
     "output_type": "stream",
     "text": [
      "C:\\Users\\padkins\\Anaconda3\\lib\\site-packages\\xgboost\\sklearn.py:1224: UserWarning: The use of label encoder in XGBClassifier is deprecated and will be removed in a future release. To remove this warning, do the following: 1) Pass option use_label_encoder=False when constructing XGBClassifier object; and 2) Encode your labels (y) as integers starting with 0, i.e. 0, 1, 2, ..., [num_class - 1].\n",
      "  warnings.warn(label_encoder_deprecation_msg, UserWarning)\n"
     ]
    },
    {
     "name": "stdout",
     "output_type": "stream",
     "text": [
      "{'iteration': 2, 'params': {'learning_rate': 0.11991669075581328, 'max_depth': 3, 'n_estimators': 500, 'random_state': 42}, 'score': 0.9101465302737075, 'elapsed_time': 5.197116136550903}\n"
     ]
    },
    {
     "name": "stderr",
     "output_type": "stream",
     "text": [
      "C:\\Users\\padkins\\Anaconda3\\lib\\site-packages\\xgboost\\sklearn.py:1224: UserWarning: The use of label encoder in XGBClassifier is deprecated and will be removed in a future release. To remove this warning, do the following: 1) Pass option use_label_encoder=False when constructing XGBClassifier object; and 2) Encode your labels (y) as integers starting with 0, i.e. 0, 1, 2, ..., [num_class - 1].\n",
      "  warnings.warn(label_encoder_deprecation_msg, UserWarning)\n"
     ]
    },
    {
     "name": "stdout",
     "output_type": "stream",
     "text": [
      "{'iteration': 3, 'params': {'learning_rate': 0.11685011264384922, 'max_depth': 4, 'n_estimators': 500, 'random_state': 42}, 'score': 0.9101465302737075, 'elapsed_time': 5.318000078201294}\n"
     ]
    },
    {
     "name": "stderr",
     "output_type": "stream",
     "text": [
      "C:\\Users\\padkins\\Anaconda3\\lib\\site-packages\\xgboost\\sklearn.py:1224: UserWarning: The use of label encoder in XGBClassifier is deprecated and will be removed in a future release. To remove this warning, do the following: 1) Pass option use_label_encoder=False when constructing XGBClassifier object; and 2) Encode your labels (y) as integers starting with 0, i.e. 0, 1, 2, ..., [num_class - 1].\n",
      "  warnings.warn(label_encoder_deprecation_msg, UserWarning)\n"
     ]
    },
    {
     "name": "stdout",
     "output_type": "stream",
     "text": [
      "{'iteration': 4, 'params': {'learning_rate': 0.06503475366116267, 'max_depth': 3, 'n_estimators': 500, 'random_state': 42}, 'score': 0.9112524191318773, 'elapsed_time': 9.304449558258057}\n"
     ]
    },
    {
     "name": "stderr",
     "output_type": "stream",
     "text": [
      "C:\\Users\\padkins\\Anaconda3\\lib\\site-packages\\xgboost\\sklearn.py:1224: UserWarning: The use of label encoder in XGBClassifier is deprecated and will be removed in a future release. To remove this warning, do the following: 1) Pass option use_label_encoder=False when constructing XGBClassifier object; and 2) Encode your labels (y) as integers starting with 0, i.e. 0, 1, 2, ..., [num_class - 1].\n",
      "  warnings.warn(label_encoder_deprecation_msg, UserWarning)\n"
     ]
    },
    {
     "name": "stdout",
     "output_type": "stream",
     "text": [
      "{'iteration': 5, 'params': {'learning_rate': 0.17873927493648348, 'max_depth': 4, 'n_estimators': 500, 'random_state': 42}, 'score': 0.9082112247719104, 'elapsed_time': 3.0763020515441895}\n"
     ]
    },
    {
     "name": "stderr",
     "output_type": "stream",
     "text": [
      "C:\\Users\\padkins\\Anaconda3\\lib\\site-packages\\xgboost\\sklearn.py:1224: UserWarning: The use of label encoder in XGBClassifier is deprecated and will be removed in a future release. To remove this warning, do the following: 1) Pass option use_label_encoder=False when constructing XGBClassifier object; and 2) Encode your labels (y) as integers starting with 0, i.e. 0, 1, 2, ..., [num_class - 1].\n",
      "  warnings.warn(label_encoder_deprecation_msg, UserWarning)\n"
     ]
    },
    {
     "name": "stdout",
     "output_type": "stream",
     "text": [
      "{'iteration': 6, 'params': {'learning_rate': 0.17002991786878083, 'max_depth': 2, 'n_estimators': 500, 'random_state': 42}, 'score': 0.9071053359137407, 'elapsed_time': 3.6096549034118652}\n"
     ]
    },
    {
     "name": "stderr",
     "output_type": "stream",
     "text": [
      "C:\\Users\\padkins\\Anaconda3\\lib\\site-packages\\xgboost\\sklearn.py:1224: UserWarning: The use of label encoder in XGBClassifier is deprecated and will be removed in a future release. To remove this warning, do the following: 1) Pass option use_label_encoder=False when constructing XGBClassifier object; and 2) Encode your labels (y) as integers starting with 0, i.e. 0, 1, 2, ..., [num_class - 1].\n",
      "  warnings.warn(label_encoder_deprecation_msg, UserWarning)\n"
     ]
    },
    {
     "name": "stdout",
     "output_type": "stream",
     "text": [
      "{'iteration': 7, 'params': {'learning_rate': 0.22268708957411726, 'max_depth': 2, 'n_estimators': 500, 'random_state': 42}, 'score': 0.9084876969864528, 'elapsed_time': 4.291841506958008}\n"
     ]
    },
    {
     "name": "stderr",
     "output_type": "stream",
     "text": [
      "C:\\Users\\padkins\\Anaconda3\\lib\\site-packages\\xgboost\\sklearn.py:1224: UserWarning: The use of label encoder in XGBClassifier is deprecated and will be removed in a future release. To remove this warning, do the following: 1) Pass option use_label_encoder=False when constructing XGBClassifier object; and 2) Encode your labels (y) as integers starting with 0, i.e. 0, 1, 2, ..., [num_class - 1].\n",
      "  warnings.warn(label_encoder_deprecation_msg, UserWarning)\n"
     ]
    },
    {
     "name": "stdout",
     "output_type": "stream",
     "text": [
      "{'iteration': 8, 'params': {'learning_rate': 0.19675976779430857, 'max_depth': 2, 'n_estimators': 500, 'random_state': 42}, 'score': 0.9093171136300802, 'elapsed_time': 4.453250885009766}\n"
     ]
    },
    {
     "name": "stderr",
     "output_type": "stream",
     "text": [
      "C:\\Users\\padkins\\Anaconda3\\lib\\site-packages\\xgboost\\sklearn.py:1224: UserWarning: The use of label encoder in XGBClassifier is deprecated and will be removed in a future release. To remove this warning, do the following: 1) Pass option use_label_encoder=False when constructing XGBClassifier object; and 2) Encode your labels (y) as integers starting with 0, i.e. 0, 1, 2, ..., [num_class - 1].\n",
      "  warnings.warn(label_encoder_deprecation_msg, UserWarning)\n"
     ]
    },
    {
     "name": "stdout",
     "output_type": "stream",
     "text": [
      "{'iteration': 9, 'params': {'learning_rate': 0.18029127141721227, 'max_depth': 3, 'n_estimators': 500, 'random_state': 42}, 'score': 0.9112524191318773, 'elapsed_time': 3.1055073738098145}\n"
     ]
    },
    {
     "name": "stderr",
     "output_type": "stream",
     "text": [
      "C:\\Users\\padkins\\Anaconda3\\lib\\site-packages\\xgboost\\sklearn.py:1224: UserWarning: The use of label encoder in XGBClassifier is deprecated and will be removed in a future release. To remove this warning, do the following: 1) Pass option use_label_encoder=False when constructing XGBClassifier object; and 2) Encode your labels (y) as integers starting with 0, i.e. 0, 1, 2, ..., [num_class - 1].\n",
      "  warnings.warn(label_encoder_deprecation_msg, UserWarning)\n"
     ]
    },
    {
     "name": "stdout",
     "output_type": "stream",
     "text": [
      "{'iteration': 10, 'params': {'learning_rate': 0.20745698573154564, 'max_depth': 4, 'n_estimators': 500, 'random_state': 42}, 'score': 0.9090406414155378, 'elapsed_time': 3.0227341651916504}\n"
     ]
    },
    {
     "name": "stderr",
     "output_type": "stream",
     "text": [
      "C:\\Users\\padkins\\Anaconda3\\lib\\site-packages\\xgboost\\sklearn.py:1224: UserWarning: The use of label encoder in XGBClassifier is deprecated and will be removed in a future release. To remove this warning, do the following: 1) Pass option use_label_encoder=False when constructing XGBClassifier object; and 2) Encode your labels (y) as integers starting with 0, i.e. 0, 1, 2, ..., [num_class - 1].\n",
      "  warnings.warn(label_encoder_deprecation_msg, UserWarning)\n"
     ]
    },
    {
     "name": "stdout",
     "output_type": "stream",
     "text": [
      "{'iteration': 11, 'params': {'learning_rate': 0.02790438605632746, 'max_depth': 4, 'n_estimators': 500, 'random_state': 42}, 'score': 0.907934752557368, 'elapsed_time': 15.751460075378418}\n"
     ]
    },
    {
     "name": "stderr",
     "output_type": "stream",
     "text": [
      "C:\\Users\\padkins\\Anaconda3\\lib\\site-packages\\xgboost\\sklearn.py:1224: UserWarning: The use of label encoder in XGBClassifier is deprecated and will be removed in a future release. To remove this warning, do the following: 1) Pass option use_label_encoder=False when constructing XGBClassifier object; and 2) Encode your labels (y) as integers starting with 0, i.e. 0, 1, 2, ..., [num_class - 1].\n",
      "  warnings.warn(label_encoder_deprecation_msg, UserWarning)\n"
     ]
    },
    {
     "name": "stdout",
     "output_type": "stream",
     "text": [
      "{'iteration': 12, 'params': {'learning_rate': 0.22181327123069902, 'max_depth': 2, 'n_estimators': 500, 'random_state': 42}, 'score': 0.9076582803428256, 'elapsed_time': 2.7772319316864014}\n"
     ]
    },
    {
     "name": "stderr",
     "output_type": "stream",
     "text": [
      "C:\\Users\\padkins\\Anaconda3\\lib\\site-packages\\xgboost\\sklearn.py:1224: UserWarning: The use of label encoder in XGBClassifier is deprecated and will be removed in a future release. To remove this warning, do the following: 1) Pass option use_label_encoder=False when constructing XGBClassifier object; and 2) Encode your labels (y) as integers starting with 0, i.e. 0, 1, 2, ..., [num_class - 1].\n",
      "  warnings.warn(label_encoder_deprecation_msg, UserWarning)\n"
     ]
    },
    {
     "name": "stdout",
     "output_type": "stream",
     "text": [
      "{'iteration': 13, 'params': {'learning_rate': 0.28986788207716796, 'max_depth': 2, 'n_estimators': 500, 'random_state': 42}, 'score': 0.907934752557368, 'elapsed_time': 2.0473382472991943}\n"
     ]
    },
    {
     "name": "stderr",
     "output_type": "stream",
     "text": [
      "C:\\Users\\padkins\\Anaconda3\\lib\\site-packages\\xgboost\\sklearn.py:1224: UserWarning: The use of label encoder in XGBClassifier is deprecated and will be removed in a future release. To remove this warning, do the following: 1) Pass option use_label_encoder=False when constructing XGBClassifier object; and 2) Encode your labels (y) as integers starting with 0, i.e. 0, 1, 2, ..., [num_class - 1].\n",
      "  warnings.warn(label_encoder_deprecation_msg, UserWarning)\n"
     ]
    },
    {
     "name": "stdout",
     "output_type": "stream",
     "text": [
      "{'iteration': 14, 'params': {'learning_rate': 0.20493272020413925, 'max_depth': 3, 'n_estimators': 500, 'random_state': 42}, 'score': 0.9090406414155378, 'elapsed_time': 2.41359543800354}\n"
     ]
    },
    {
     "name": "stderr",
     "output_type": "stream",
     "text": [
      "C:\\Users\\padkins\\Anaconda3\\lib\\site-packages\\xgboost\\sklearn.py:1224: UserWarning: The use of label encoder in XGBClassifier is deprecated and will be removed in a future release. To remove this warning, do the following: 1) Pass option use_label_encoder=False when constructing XGBClassifier object; and 2) Encode your labels (y) as integers starting with 0, i.e. 0, 1, 2, ..., [num_class - 1].\n",
      "  warnings.warn(label_encoder_deprecation_msg, UserWarning)\n"
     ]
    },
    {
     "name": "stdout",
     "output_type": "stream",
     "text": [
      "{'iteration': 15, 'params': {'learning_rate': 0.2732458860730999, 'max_depth': 2, 'n_estimators': 500, 'random_state': 42}, 'score': 0.9082112247719104, 'elapsed_time': 2.671454668045044}\n"
     ]
    },
    {
     "name": "stderr",
     "output_type": "stream",
     "text": [
      "C:\\Users\\padkins\\Anaconda3\\lib\\site-packages\\xgboost\\sklearn.py:1224: UserWarning: The use of label encoder in XGBClassifier is deprecated and will be removed in a future release. To remove this warning, do the following: 1) Pass option use_label_encoder=False when constructing XGBClassifier object; and 2) Encode your labels (y) as integers starting with 0, i.e. 0, 1, 2, ..., [num_class - 1].\n",
      "  warnings.warn(label_encoder_deprecation_msg, UserWarning)\n"
     ]
    },
    {
     "name": "stdout",
     "output_type": "stream",
     "text": [
      "{'iteration': 16, 'params': {'learning_rate': 0.08861771766925063, 'max_depth': 2, 'n_estimators': 500, 'random_state': 42}, 'score': 0.9073818081282831, 'elapsed_time': 6.500681638717651}\n"
     ]
    },
    {
     "name": "stderr",
     "output_type": "stream",
     "text": [
      "C:\\Users\\padkins\\Anaconda3\\lib\\site-packages\\xgboost\\sklearn.py:1224: UserWarning: The use of label encoder in XGBClassifier is deprecated and will be removed in a future release. To remove this warning, do the following: 1) Pass option use_label_encoder=False when constructing XGBClassifier object; and 2) Encode your labels (y) as integers starting with 0, i.e. 0, 1, 2, ..., [num_class - 1].\n",
      "  warnings.warn(label_encoder_deprecation_msg, UserWarning)\n"
     ]
    },
    {
     "name": "stdout",
     "output_type": "stream",
     "text": [
      "{'iteration': 17, 'params': {'learning_rate': 0.1999027728725036, 'max_depth': 2, 'n_estimators': 500, 'random_state': 42}, 'score': 0.9106994747027923, 'elapsed_time': 4.919280052185059}\n"
     ]
    },
    {
     "name": "stderr",
     "output_type": "stream",
     "text": [
      "C:\\Users\\padkins\\Anaconda3\\lib\\site-packages\\xgboost\\sklearn.py:1224: UserWarning: The use of label encoder in XGBClassifier is deprecated and will be removed in a future release. To remove this warning, do the following: 1) Pass option use_label_encoder=False when constructing XGBClassifier object; and 2) Encode your labels (y) as integers starting with 0, i.e. 0, 1, 2, ..., [num_class - 1].\n",
      "  warnings.warn(label_encoder_deprecation_msg, UserWarning)\n"
     ]
    },
    {
     "name": "stdout",
     "output_type": "stream",
     "text": [
      "{'iteration': 18, 'params': {'learning_rate': 0.22047598109513455, 'max_depth': 3, 'n_estimators': 500, 'random_state': 42}, 'score': 0.9084876969864528, 'elapsed_time': 2.9799625873565674}\n"
     ]
    },
    {
     "name": "stderr",
     "output_type": "stream",
     "text": [
      "C:\\Users\\padkins\\Anaconda3\\lib\\site-packages\\xgboost\\sklearn.py:1224: UserWarning: The use of label encoder in XGBClassifier is deprecated and will be removed in a future release. To remove this warning, do the following: 1) Pass option use_label_encoder=False when constructing XGBClassifier object; and 2) Encode your labels (y) as integers starting with 0, i.e. 0, 1, 2, ..., [num_class - 1].\n",
      "  warnings.warn(label_encoder_deprecation_msg, UserWarning)\n"
     ]
    },
    {
     "name": "stdout",
     "output_type": "stream",
     "text": [
      "{'iteration': 19, 'params': {'learning_rate': 0.12272911782623012, 'max_depth': 3, 'n_estimators': 500, 'random_state': 42}, 'score': 0.9101465302737075, 'elapsed_time': 5.166936159133911}\n"
     ]
    },
    {
     "name": "stderr",
     "output_type": "stream",
     "text": [
      "C:\\Users\\padkins\\Anaconda3\\lib\\site-packages\\xgboost\\sklearn.py:1224: UserWarning: The use of label encoder in XGBClassifier is deprecated and will be removed in a future release. To remove this warning, do the following: 1) Pass option use_label_encoder=False when constructing XGBClassifier object; and 2) Encode your labels (y) as integers starting with 0, i.e. 0, 1, 2, ..., [num_class - 1].\n",
      "  warnings.warn(label_encoder_deprecation_msg, UserWarning)\n"
     ]
    },
    {
     "name": "stdout",
     "output_type": "stream",
     "text": [
      "{'iteration': 20, 'params': {'learning_rate': 0.15679727808822505, 'max_depth': 2, 'n_estimators': 500, 'random_state': 42}, 'score': 0.9084876969864528, 'elapsed_time': 8.954092979431152}\n"
     ]
    },
    {
     "name": "stderr",
     "output_type": "stream",
     "text": [
      "C:\\Users\\padkins\\Anaconda3\\lib\\site-packages\\xgboost\\sklearn.py:1224: UserWarning: The use of label encoder in XGBClassifier is deprecated and will be removed in a future release. To remove this warning, do the following: 1) Pass option use_label_encoder=False when constructing XGBClassifier object; and 2) Encode your labels (y) as integers starting with 0, i.e. 0, 1, 2, ..., [num_class - 1].\n",
      "  warnings.warn(label_encoder_deprecation_msg, UserWarning)\n"
     ]
    },
    {
     "name": "stdout",
     "output_type": "stream",
     "text": [
      "{'iteration': 21, 'params': {'learning_rate': 0.24873046290607365, 'max_depth': 2, 'n_estimators': 500, 'random_state': 42}, 'score': 0.9101465302737075, 'elapsed_time': 3.6261513233184814}\n"
     ]
    },
    {
     "name": "stderr",
     "output_type": "stream",
     "text": [
      "C:\\Users\\padkins\\Anaconda3\\lib\\site-packages\\xgboost\\sklearn.py:1224: UserWarning: The use of label encoder in XGBClassifier is deprecated and will be removed in a future release. To remove this warning, do the following: 1) Pass option use_label_encoder=False when constructing XGBClassifier object; and 2) Encode your labels (y) as integers starting with 0, i.e. 0, 1, 2, ..., [num_class - 1].\n",
      "  warnings.warn(label_encoder_deprecation_msg, UserWarning)\n"
     ]
    },
    {
     "name": "stdout",
     "output_type": "stream",
     "text": [
      "{'iteration': 22, 'params': {'learning_rate': 0.1305109773505956, 'max_depth': 2, 'n_estimators': 500, 'random_state': 42}, 'score': 0.9087641692009953, 'elapsed_time': 9.184543371200562}\n"
     ]
    },
    {
     "name": "stderr",
     "output_type": "stream",
     "text": [
      "C:\\Users\\padkins\\Anaconda3\\lib\\site-packages\\xgboost\\sklearn.py:1224: UserWarning: The use of label encoder in XGBClassifier is deprecated and will be removed in a future release. To remove this warning, do the following: 1) Pass option use_label_encoder=False when constructing XGBClassifier object; and 2) Encode your labels (y) as integers starting with 0, i.e. 0, 1, 2, ..., [num_class - 1].\n",
      "  warnings.warn(label_encoder_deprecation_msg, UserWarning)\n"
     ]
    },
    {
     "name": "stdout",
     "output_type": "stream",
     "text": [
      "{'iteration': 23, 'params': {'learning_rate': 0.22852870883061377, 'max_depth': 4, 'n_estimators': 500, 'random_state': 42}, 'score': 0.9095935858446226, 'elapsed_time': 2.9948623180389404}\n"
     ]
    },
    {
     "name": "stderr",
     "output_type": "stream",
     "text": [
      "C:\\Users\\padkins\\Anaconda3\\lib\\site-packages\\xgboost\\sklearn.py:1224: UserWarning: The use of label encoder in XGBClassifier is deprecated and will be removed in a future release. To remove this warning, do the following: 1) Pass option use_label_encoder=False when constructing XGBClassifier object; and 2) Encode your labels (y) as integers starting with 0, i.e. 0, 1, 2, ..., [num_class - 1].\n",
      "  warnings.warn(label_encoder_deprecation_msg, UserWarning)\n"
     ]
    },
    {
     "name": "stdout",
     "output_type": "stream",
     "text": [
      "{'iteration': 24, 'params': {'learning_rate': 0.133077594796753, 'max_depth': 4, 'n_estimators': 500, 'random_state': 42}, 'score': 0.907934752557368, 'elapsed_time': 7.057671070098877}\n"
     ]
    },
    {
     "name": "stderr",
     "output_type": "stream",
     "text": [
      "C:\\Users\\padkins\\Anaconda3\\lib\\site-packages\\xgboost\\sklearn.py:1224: UserWarning: The use of label encoder in XGBClassifier is deprecated and will be removed in a future release. To remove this warning, do the following: 1) Pass option use_label_encoder=False when constructing XGBClassifier object; and 2) Encode your labels (y) as integers starting with 0, i.e. 0, 1, 2, ..., [num_class - 1].\n",
      "  warnings.warn(label_encoder_deprecation_msg, UserWarning)\n"
     ]
    },
    {
     "name": "stdout",
     "output_type": "stream",
     "text": [
      "{'iteration': 25, 'params': {'learning_rate': 0.11739906041781295, 'max_depth': 4, 'n_estimators': 500, 'random_state': 42}, 'score': 0.9087641692009953, 'elapsed_time': 5.727630376815796}\n"
     ]
    },
    {
     "name": "stderr",
     "output_type": "stream",
     "text": [
      "C:\\Users\\padkins\\Anaconda3\\lib\\site-packages\\xgboost\\sklearn.py:1224: UserWarning: The use of label encoder in XGBClassifier is deprecated and will be removed in a future release. To remove this warning, do the following: 1) Pass option use_label_encoder=False when constructing XGBClassifier object; and 2) Encode your labels (y) as integers starting with 0, i.e. 0, 1, 2, ..., [num_class - 1].\n",
      "  warnings.warn(label_encoder_deprecation_msg, UserWarning)\n"
     ]
    },
    {
     "name": "stdout",
     "output_type": "stream",
     "text": [
      "{'iteration': 26, 'params': {'learning_rate': 0.1940194232633757, 'max_depth': 2, 'n_estimators': 500, 'random_state': 42}, 'score': 0.9071053359137407, 'elapsed_time': 3.2592854499816895}\n"
     ]
    },
    {
     "name": "stderr",
     "output_type": "stream",
     "text": [
      "C:\\Users\\padkins\\Anaconda3\\lib\\site-packages\\xgboost\\sklearn.py:1224: UserWarning: The use of label encoder in XGBClassifier is deprecated and will be removed in a future release. To remove this warning, do the following: 1) Pass option use_label_encoder=False when constructing XGBClassifier object; and 2) Encode your labels (y) as integers starting with 0, i.e. 0, 1, 2, ..., [num_class - 1].\n",
      "  warnings.warn(label_encoder_deprecation_msg, UserWarning)\n"
     ]
    },
    {
     "name": "stdout",
     "output_type": "stream",
     "text": [
      "{'iteration': 27, 'params': {'learning_rate': 0.19323133740396073, 'max_depth': 3, 'n_estimators': 500, 'random_state': 42}, 'score': 0.9098700580591651, 'elapsed_time': 4.254400968551636}\n"
     ]
    },
    {
     "name": "stderr",
     "output_type": "stream",
     "text": [
      "C:\\Users\\padkins\\Anaconda3\\lib\\site-packages\\xgboost\\sklearn.py:1224: UserWarning: The use of label encoder in XGBClassifier is deprecated and will be removed in a future release. To remove this warning, do the following: 1) Pass option use_label_encoder=False when constructing XGBClassifier object; and 2) Encode your labels (y) as integers starting with 0, i.e. 0, 1, 2, ..., [num_class - 1].\n",
      "  warnings.warn(label_encoder_deprecation_msg, UserWarning)\n"
     ]
    },
    {
     "name": "stdout",
     "output_type": "stream",
     "text": [
      "{'iteration': 28, 'params': {'learning_rate': 0.16517062595256593, 'max_depth': 2, 'n_estimators': 500, 'random_state': 42}, 'score': 0.9071053359137407, 'elapsed_time': 5.688466310501099}\n"
     ]
    },
    {
     "name": "stderr",
     "output_type": "stream",
     "text": [
      "C:\\Users\\padkins\\Anaconda3\\lib\\site-packages\\xgboost\\sklearn.py:1224: UserWarning: The use of label encoder in XGBClassifier is deprecated and will be removed in a future release. To remove this warning, do the following: 1) Pass option use_label_encoder=False when constructing XGBClassifier object; and 2) Encode your labels (y) as integers starting with 0, i.e. 0, 1, 2, ..., [num_class - 1].\n",
      "  warnings.warn(label_encoder_deprecation_msg, UserWarning)\n"
     ]
    },
    {
     "name": "stdout",
     "output_type": "stream",
     "text": [
      "{'iteration': 29, 'params': {'learning_rate': 0.09831946927783161, 'max_depth': 3, 'n_estimators': 500, 'random_state': 42}, 'score': 0.9112524191318773, 'elapsed_time': 6.0938262939453125}\n"
     ]
    },
    {
     "name": "stderr",
     "output_type": "stream",
     "text": [
      "C:\\Users\\padkins\\Anaconda3\\lib\\site-packages\\xgboost\\sklearn.py:1224: UserWarning: The use of label encoder in XGBClassifier is deprecated and will be removed in a future release. To remove this warning, do the following: 1) Pass option use_label_encoder=False when constructing XGBClassifier object; and 2) Encode your labels (y) as integers starting with 0, i.e. 0, 1, 2, ..., [num_class - 1].\n",
      "  warnings.warn(label_encoder_deprecation_msg, UserWarning)\n"
     ]
    },
    {
     "name": "stdout",
     "output_type": "stream",
     "text": [
      "{'iteration': 30, 'params': {'learning_rate': 0.10355361143379802, 'max_depth': 4, 'n_estimators': 500, 'random_state': 42}, 'score': 0.9093171136300802, 'elapsed_time': 8.777769565582275}\n"
     ]
    },
    {
     "name": "stderr",
     "output_type": "stream",
     "text": [
      "C:\\Users\\padkins\\Anaconda3\\lib\\site-packages\\xgboost\\sklearn.py:1224: UserWarning: The use of label encoder in XGBClassifier is deprecated and will be removed in a future release. To remove this warning, do the following: 1) Pass option use_label_encoder=False when constructing XGBClassifier object; and 2) Encode your labels (y) as integers starting with 0, i.e. 0, 1, 2, ..., [num_class - 1].\n",
      "  warnings.warn(label_encoder_deprecation_msg, UserWarning)\n"
     ]
    },
    {
     "name": "stdout",
     "output_type": "stream",
     "text": [
      "{'iteration': 1, 'params': {'learning_rate': 0.06636241490421123, 'max_depth': 2, 'n_estimators': 500, 'random_state': 42}, 'score': 0.9129112524191318, 'elapsed_time': 7.0245020389556885}\n"
     ]
    },
    {
     "name": "stderr",
     "output_type": "stream",
     "text": [
      "C:\\Users\\padkins\\Anaconda3\\lib\\site-packages\\xgboost\\sklearn.py:1224: UserWarning: The use of label encoder in XGBClassifier is deprecated and will be removed in a future release. To remove this warning, do the following: 1) Pass option use_label_encoder=False when constructing XGBClassifier object; and 2) Encode your labels (y) as integers starting with 0, i.e. 0, 1, 2, ..., [num_class - 1].\n",
      "  warnings.warn(label_encoder_deprecation_msg, UserWarning)\n"
     ]
    },
    {
     "name": "stdout",
     "output_type": "stream",
     "text": [
      "{'iteration': 2, 'params': {'learning_rate': 0.19497042082640062, 'max_depth': 4, 'n_estimators': 500, 'random_state': 42}, 'score': 0.9104230024882499, 'elapsed_time': 2.204712390899658}\n"
     ]
    },
    {
     "name": "stderr",
     "output_type": "stream",
     "text": [
      "C:\\Users\\padkins\\Anaconda3\\lib\\site-packages\\xgboost\\sklearn.py:1224: UserWarning: The use of label encoder in XGBClassifier is deprecated and will be removed in a future release. To remove this warning, do the following: 1) Pass option use_label_encoder=False when constructing XGBClassifier object; and 2) Encode your labels (y) as integers starting with 0, i.e. 0, 1, 2, ..., [num_class - 1].\n",
      "  warnings.warn(label_encoder_deprecation_msg, UserWarning)\n"
     ]
    },
    {
     "name": "stdout",
     "output_type": "stream",
     "text": [
      "{'iteration': 3, 'params': {'learning_rate': 0.02513033766959296, 'max_depth': 3, 'n_estimators': 500, 'random_state': 42}, 'score': 0.9090406414155378, 'elapsed_time': 9.53803563117981}\n"
     ]
    },
    {
     "name": "stderr",
     "output_type": "stream",
     "text": [
      "C:\\Users\\padkins\\Anaconda3\\lib\\site-packages\\xgboost\\sklearn.py:1224: UserWarning: The use of label encoder in XGBClassifier is deprecated and will be removed in a future release. To remove this warning, do the following: 1) Pass option use_label_encoder=False when constructing XGBClassifier object; and 2) Encode your labels (y) as integers starting with 0, i.e. 0, 1, 2, ..., [num_class - 1].\n",
      "  warnings.warn(label_encoder_deprecation_msg, UserWarning)\n"
     ]
    },
    {
     "name": "stdout",
     "output_type": "stream",
     "text": [
      "{'iteration': 4, 'params': {'learning_rate': 0.048130066992433204, 'max_depth': 4, 'n_estimators': 500, 'random_state': 42}, 'score': 0.9087641692009953, 'elapsed_time': 6.001878261566162}\n"
     ]
    },
    {
     "name": "stderr",
     "output_type": "stream",
     "text": [
      "C:\\Users\\padkins\\Anaconda3\\lib\\site-packages\\xgboost\\sklearn.py:1224: UserWarning: The use of label encoder in XGBClassifier is deprecated and will be removed in a future release. To remove this warning, do the following: 1) Pass option use_label_encoder=False when constructing XGBClassifier object; and 2) Encode your labels (y) as integers starting with 0, i.e. 0, 1, 2, ..., [num_class - 1].\n",
      "  warnings.warn(label_encoder_deprecation_msg, UserWarning)\n"
     ]
    },
    {
     "name": "stdout",
     "output_type": "stream",
     "text": [
      "{'iteration': 5, 'params': {'learning_rate': 0.062272861749545855, 'max_depth': 4, 'n_estimators': 500, 'random_state': 42}, 'score': 0.907934752557368, 'elapsed_time': 4.227414608001709}\n"
     ]
    },
    {
     "name": "stderr",
     "output_type": "stream",
     "text": [
      "C:\\Users\\padkins\\Anaconda3\\lib\\site-packages\\xgboost\\sklearn.py:1224: UserWarning: The use of label encoder in XGBClassifier is deprecated and will be removed in a future release. To remove this warning, do the following: 1) Pass option use_label_encoder=False when constructing XGBClassifier object; and 2) Encode your labels (y) as integers starting with 0, i.e. 0, 1, 2, ..., [num_class - 1].\n",
      "  warnings.warn(label_encoder_deprecation_msg, UserWarning)\n"
     ]
    },
    {
     "name": "stdout",
     "output_type": "stream",
     "text": [
      "{'iteration': 6, 'params': {'learning_rate': 0.2372861867206137, 'max_depth': 4, 'n_estimators': 500, 'random_state': 42}, 'score': 0.9101465302737075, 'elapsed_time': 1.7307519912719727}\n"
     ]
    },
    {
     "name": "stderr",
     "output_type": "stream",
     "text": [
      "C:\\Users\\padkins\\Anaconda3\\lib\\site-packages\\xgboost\\sklearn.py:1224: UserWarning: The use of label encoder in XGBClassifier is deprecated and will be removed in a future release. To remove this warning, do the following: 1) Pass option use_label_encoder=False when constructing XGBClassifier object; and 2) Encode your labels (y) as integers starting with 0, i.e. 0, 1, 2, ..., [num_class - 1].\n",
      "  warnings.warn(label_encoder_deprecation_msg, UserWarning)\n"
     ]
    },
    {
     "name": "stdout",
     "output_type": "stream",
     "text": [
      "{'iteration': 7, 'params': {'learning_rate': 0.29747826906453084, 'max_depth': 4, 'n_estimators': 500, 'random_state': 42}, 'score': 0.9101465302737075, 'elapsed_time': 1.5587913990020752}\n"
     ]
    },
    {
     "name": "stderr",
     "output_type": "stream",
     "text": [
      "C:\\Users\\padkins\\Anaconda3\\lib\\site-packages\\xgboost\\sklearn.py:1224: UserWarning: The use of label encoder in XGBClassifier is deprecated and will be removed in a future release. To remove this warning, do the following: 1) Pass option use_label_encoder=False when constructing XGBClassifier object; and 2) Encode your labels (y) as integers starting with 0, i.e. 0, 1, 2, ..., [num_class - 1].\n",
      "  warnings.warn(label_encoder_deprecation_msg, UserWarning)\n"
     ]
    },
    {
     "name": "stdout",
     "output_type": "stream",
     "text": [
      "{'iteration': 8, 'params': {'learning_rate': 0.02849435211023158, 'max_depth': 2, 'n_estimators': 500, 'random_state': 42}, 'score': 0.9112524191318773, 'elapsed_time': 5.733298301696777}\n"
     ]
    },
    {
     "name": "stderr",
     "output_type": "stream",
     "text": [
      "C:\\Users\\padkins\\Anaconda3\\lib\\site-packages\\xgboost\\sklearn.py:1224: UserWarning: The use of label encoder in XGBClassifier is deprecated and will be removed in a future release. To remove this warning, do the following: 1) Pass option use_label_encoder=False when constructing XGBClassifier object; and 2) Encode your labels (y) as integers starting with 0, i.e. 0, 1, 2, ..., [num_class - 1].\n",
      "  warnings.warn(label_encoder_deprecation_msg, UserWarning)\n"
     ]
    },
    {
     "name": "stdout",
     "output_type": "stream",
     "text": [
      "{'iteration': 9, 'params': {'learning_rate': 0.23682466485538542, 'max_depth': 3, 'n_estimators': 500, 'random_state': 42}, 'score': 0.9101465302737075, 'elapsed_time': 1.604335069656372}\n"
     ]
    },
    {
     "name": "stderr",
     "output_type": "stream",
     "text": [
      "C:\\Users\\padkins\\Anaconda3\\lib\\site-packages\\xgboost\\sklearn.py:1224: UserWarning: The use of label encoder in XGBClassifier is deprecated and will be removed in a future release. To remove this warning, do the following: 1) Pass option use_label_encoder=False when constructing XGBClassifier object; and 2) Encode your labels (y) as integers starting with 0, i.e. 0, 1, 2, ..., [num_class - 1].\n",
      "  warnings.warn(label_encoder_deprecation_msg, UserWarning)\n"
     ]
    },
    {
     "name": "stdout",
     "output_type": "stream",
     "text": [
      "{'iteration': 10, 'params': {'learning_rate': 0.2814115325619286, 'max_depth': 4, 'n_estimators': 500, 'random_state': 42}, 'score': 0.9104230024882499, 'elapsed_time': 1.552938461303711}\n"
     ]
    },
    {
     "name": "stderr",
     "output_type": "stream",
     "text": [
      "C:\\Users\\padkins\\Anaconda3\\lib\\site-packages\\xgboost\\sklearn.py:1224: UserWarning: The use of label encoder in XGBClassifier is deprecated and will be removed in a future release. To remove this warning, do the following: 1) Pass option use_label_encoder=False when constructing XGBClassifier object; and 2) Encode your labels (y) as integers starting with 0, i.e. 0, 1, 2, ..., [num_class - 1].\n",
      "  warnings.warn(label_encoder_deprecation_msg, UserWarning)\n"
     ]
    },
    {
     "name": "stdout",
     "output_type": "stream",
     "text": [
      "{'iteration': 11, 'params': {'learning_rate': 0.03768840934564998, 'max_depth': 3, 'n_estimators': 500, 'random_state': 42}, 'score': 0.9104230024882499, 'elapsed_time': 7.8721559047698975}\n"
     ]
    },
    {
     "name": "stderr",
     "output_type": "stream",
     "text": [
      "C:\\Users\\padkins\\Anaconda3\\lib\\site-packages\\xgboost\\sklearn.py:1224: UserWarning: The use of label encoder in XGBClassifier is deprecated and will be removed in a future release. To remove this warning, do the following: 1) Pass option use_label_encoder=False when constructing XGBClassifier object; and 2) Encode your labels (y) as integers starting with 0, i.e. 0, 1, 2, ..., [num_class - 1].\n",
      "  warnings.warn(label_encoder_deprecation_msg, UserWarning)\n"
     ]
    },
    {
     "name": "stdout",
     "output_type": "stream",
     "text": [
      "{'iteration': 12, 'params': {'learning_rate': 0.20339685636387345, 'max_depth': 3, 'n_estimators': 500, 'random_state': 42}, 'score': 0.9101465302737075, 'elapsed_time': 2.0486598014831543}\n"
     ]
    },
    {
     "name": "stderr",
     "output_type": "stream",
     "text": [
      "C:\\Users\\padkins\\Anaconda3\\lib\\site-packages\\xgboost\\sklearn.py:1224: UserWarning: The use of label encoder in XGBClassifier is deprecated and will be removed in a future release. To remove this warning, do the following: 1) Pass option use_label_encoder=False when constructing XGBClassifier object; and 2) Encode your labels (y) as integers starting with 0, i.e. 0, 1, 2, ..., [num_class - 1].\n",
      "  warnings.warn(label_encoder_deprecation_msg, UserWarning)\n"
     ]
    },
    {
     "name": "stdout",
     "output_type": "stream",
     "text": [
      "{'iteration': 13, 'params': {'learning_rate': 0.11475889000776318, 'max_depth': 4, 'n_estimators': 500, 'random_state': 42}, 'score': 0.9071053359137407, 'elapsed_time': 2.5187294483184814}\n"
     ]
    },
    {
     "name": "stderr",
     "output_type": "stream",
     "text": [
      "C:\\Users\\padkins\\Anaconda3\\lib\\site-packages\\xgboost\\sklearn.py:1224: UserWarning: The use of label encoder in XGBClassifier is deprecated and will be removed in a future release. To remove this warning, do the following: 1) Pass option use_label_encoder=False when constructing XGBClassifier object; and 2) Encode your labels (y) as integers starting with 0, i.e. 0, 1, 2, ..., [num_class - 1].\n",
      "  warnings.warn(label_encoder_deprecation_msg, UserWarning)\n"
     ]
    },
    {
     "name": "stdout",
     "output_type": "stream",
     "text": [
      "{'iteration': 14, 'params': {'learning_rate': 0.11785251095461376, 'max_depth': 2, 'n_estimators': 500, 'random_state': 42}, 'score': 0.9106994747027923, 'elapsed_time': 4.6486146450042725}\n"
     ]
    },
    {
     "name": "stderr",
     "output_type": "stream",
     "text": [
      "C:\\Users\\padkins\\Anaconda3\\lib\\site-packages\\xgboost\\sklearn.py:1224: UserWarning: The use of label encoder in XGBClassifier is deprecated and will be removed in a future release. To remove this warning, do the following: 1) Pass option use_label_encoder=False when constructing XGBClassifier object; and 2) Encode your labels (y) as integers starting with 0, i.e. 0, 1, 2, ..., [num_class - 1].\n",
      "  warnings.warn(label_encoder_deprecation_msg, UserWarning)\n"
     ]
    },
    {
     "name": "stdout",
     "output_type": "stream",
     "text": [
      "{'iteration': 15, 'params': {'learning_rate': 0.25725373952078356, 'max_depth': 4, 'n_estimators': 500, 'random_state': 42}, 'score': 0.9106994747027923, 'elapsed_time': 1.257066249847412}\n"
     ]
    },
    {
     "name": "stderr",
     "output_type": "stream",
     "text": [
      "C:\\Users\\padkins\\Anaconda3\\lib\\site-packages\\xgboost\\sklearn.py:1224: UserWarning: The use of label encoder in XGBClassifier is deprecated and will be removed in a future release. To remove this warning, do the following: 1) Pass option use_label_encoder=False when constructing XGBClassifier object; and 2) Encode your labels (y) as integers starting with 0, i.e. 0, 1, 2, ..., [num_class - 1].\n",
      "  warnings.warn(label_encoder_deprecation_msg, UserWarning)\n"
     ]
    },
    {
     "name": "stdout",
     "output_type": "stream",
     "text": [
      "{'iteration': 16, 'params': {'learning_rate': 0.0536673189092353, 'max_depth': 4, 'n_estimators': 500, 'random_state': 42}, 'score': 0.9093171136300802, 'elapsed_time': 5.1610307693481445}\n"
     ]
    },
    {
     "name": "stderr",
     "output_type": "stream",
     "text": [
      "C:\\Users\\padkins\\Anaconda3\\lib\\site-packages\\xgboost\\sklearn.py:1224: UserWarning: The use of label encoder in XGBClassifier is deprecated and will be removed in a future release. To remove this warning, do the following: 1) Pass option use_label_encoder=False when constructing XGBClassifier object; and 2) Encode your labels (y) as integers starting with 0, i.e. 0, 1, 2, ..., [num_class - 1].\n",
      "  warnings.warn(label_encoder_deprecation_msg, UserWarning)\n"
     ]
    },
    {
     "name": "stdout",
     "output_type": "stream",
     "text": [
      "{'iteration': 17, 'params': {'learning_rate': 0.09005449596791429, 'max_depth': 2, 'n_estimators': 500, 'random_state': 42}, 'score': 0.9115288913464197, 'elapsed_time': 6.563766002655029}\n"
     ]
    },
    {
     "name": "stderr",
     "output_type": "stream",
     "text": [
      "C:\\Users\\padkins\\Anaconda3\\lib\\site-packages\\xgboost\\sklearn.py:1224: UserWarning: The use of label encoder in XGBClassifier is deprecated and will be removed in a future release. To remove this warning, do the following: 1) Pass option use_label_encoder=False when constructing XGBClassifier object; and 2) Encode your labels (y) as integers starting with 0, i.e. 0, 1, 2, ..., [num_class - 1].\n",
      "  warnings.warn(label_encoder_deprecation_msg, UserWarning)\n"
     ]
    },
    {
     "name": "stdout",
     "output_type": "stream",
     "text": [
      "{'iteration': 18, 'params': {'learning_rate': 0.16967005524775386, 'max_depth': 3, 'n_estimators': 500, 'random_state': 42}, 'score': 0.9076582803428256, 'elapsed_time': 1.9214341640472412}\n"
     ]
    },
    {
     "name": "stderr",
     "output_type": "stream",
     "text": [
      "C:\\Users\\padkins\\Anaconda3\\lib\\site-packages\\xgboost\\sklearn.py:1224: UserWarning: The use of label encoder in XGBClassifier is deprecated and will be removed in a future release. To remove this warning, do the following: 1) Pass option use_label_encoder=False when constructing XGBClassifier object; and 2) Encode your labels (y) as integers starting with 0, i.e. 0, 1, 2, ..., [num_class - 1].\n",
      "  warnings.warn(label_encoder_deprecation_msg, UserWarning)\n"
     ]
    },
    {
     "name": "stdout",
     "output_type": "stream",
     "text": [
      "{'iteration': 19, 'params': {'learning_rate': 0.25991388503199964, 'max_depth': 4, 'n_estimators': 500, 'random_state': 42}, 'score': 0.9076582803428256, 'elapsed_time': 1.840454339981079}\n"
     ]
    },
    {
     "name": "stderr",
     "output_type": "stream",
     "text": [
      "C:\\Users\\padkins\\Anaconda3\\lib\\site-packages\\xgboost\\sklearn.py:1224: UserWarning: The use of label encoder in XGBClassifier is deprecated and will be removed in a future release. To remove this warning, do the following: 1) Pass option use_label_encoder=False when constructing XGBClassifier object; and 2) Encode your labels (y) as integers starting with 0, i.e. 0, 1, 2, ..., [num_class - 1].\n",
      "  warnings.warn(label_encoder_deprecation_msg, UserWarning)\n"
     ]
    },
    {
     "name": "stdout",
     "output_type": "stream",
     "text": [
      "{'iteration': 20, 'params': {'learning_rate': 0.016067435285528526, 'max_depth': 3, 'n_estimators': 500, 'random_state': 42}, 'score': 0.9093171136300802, 'elapsed_time': 8.936956405639648}\n"
     ]
    },
    {
     "name": "stderr",
     "output_type": "stream",
     "text": [
      "C:\\Users\\padkins\\Anaconda3\\lib\\site-packages\\xgboost\\sklearn.py:1224: UserWarning: The use of label encoder in XGBClassifier is deprecated and will be removed in a future release. To remove this warning, do the following: 1) Pass option use_label_encoder=False when constructing XGBClassifier object; and 2) Encode your labels (y) as integers starting with 0, i.e. 0, 1, 2, ..., [num_class - 1].\n",
      "  warnings.warn(label_encoder_deprecation_msg, UserWarning)\n"
     ]
    },
    {
     "name": "stdout",
     "output_type": "stream",
     "text": [
      "{'iteration': 21, 'params': {'learning_rate': 0.1167139782868008, 'max_depth': 4, 'n_estimators': 500, 'random_state': 42}, 'score': 0.9095935858446226, 'elapsed_time': 3.0730648040771484}\n"
     ]
    },
    {
     "name": "stderr",
     "output_type": "stream",
     "text": [
      "C:\\Users\\padkins\\Anaconda3\\lib\\site-packages\\xgboost\\sklearn.py:1224: UserWarning: The use of label encoder in XGBClassifier is deprecated and will be removed in a future release. To remove this warning, do the following: 1) Pass option use_label_encoder=False when constructing XGBClassifier object; and 2) Encode your labels (y) as integers starting with 0, i.e. 0, 1, 2, ..., [num_class - 1].\n",
      "  warnings.warn(label_encoder_deprecation_msg, UserWarning)\n"
     ]
    },
    {
     "name": "stdout",
     "output_type": "stream",
     "text": [
      "{'iteration': 22, 'params': {'learning_rate': 0.059345725685317686, 'max_depth': 4, 'n_estimators': 500, 'random_state': 42}, 'score': 0.9082112247719104, 'elapsed_time': 4.8825461864471436}\n"
     ]
    },
    {
     "name": "stderr",
     "output_type": "stream",
     "text": [
      "C:\\Users\\padkins\\Anaconda3\\lib\\site-packages\\xgboost\\sklearn.py:1224: UserWarning: The use of label encoder in XGBClassifier is deprecated and will be removed in a future release. To remove this warning, do the following: 1) Pass option use_label_encoder=False when constructing XGBClassifier object; and 2) Encode your labels (y) as integers starting with 0, i.e. 0, 1, 2, ..., [num_class - 1].\n",
      "  warnings.warn(label_encoder_deprecation_msg, UserWarning)\n"
     ]
    },
    {
     "name": "stdout",
     "output_type": "stream",
     "text": [
      "{'iteration': 23, 'params': {'learning_rate': 0.18374407303901594, 'max_depth': 2, 'n_estimators': 500, 'random_state': 42}, 'score': 0.9098700580591651, 'elapsed_time': 2.3396239280700684}\n"
     ]
    },
    {
     "name": "stderr",
     "output_type": "stream",
     "text": [
      "C:\\Users\\padkins\\Anaconda3\\lib\\site-packages\\xgboost\\sklearn.py:1224: UserWarning: The use of label encoder in XGBClassifier is deprecated and will be removed in a future release. To remove this warning, do the following: 1) Pass option use_label_encoder=False when constructing XGBClassifier object; and 2) Encode your labels (y) as integers starting with 0, i.e. 0, 1, 2, ..., [num_class - 1].\n",
      "  warnings.warn(label_encoder_deprecation_msg, UserWarning)\n"
     ]
    },
    {
     "name": "stdout",
     "output_type": "stream",
     "text": [
      "{'iteration': 24, 'params': {'learning_rate': 0.09489395302345696, 'max_depth': 4, 'n_estimators': 500, 'random_state': 42}, 'score': 0.9087641692009953, 'elapsed_time': 3.6488330364227295}\n"
     ]
    },
    {
     "name": "stderr",
     "output_type": "stream",
     "text": [
      "C:\\Users\\padkins\\Anaconda3\\lib\\site-packages\\xgboost\\sklearn.py:1224: UserWarning: The use of label encoder in XGBClassifier is deprecated and will be removed in a future release. To remove this warning, do the following: 1) Pass option use_label_encoder=False when constructing XGBClassifier object; and 2) Encode your labels (y) as integers starting with 0, i.e. 0, 1, 2, ..., [num_class - 1].\n",
      "  warnings.warn(label_encoder_deprecation_msg, UserWarning)\n"
     ]
    },
    {
     "name": "stdout",
     "output_type": "stream",
     "text": [
      "{'iteration': 25, 'params': {'learning_rate': 0.19545866675071258, 'max_depth': 4, 'n_estimators': 500, 'random_state': 42}, 'score': 0.9093171136300802, 'elapsed_time': 2.173583984375}\n"
     ]
    },
    {
     "name": "stderr",
     "output_type": "stream",
     "text": [
      "C:\\Users\\padkins\\Anaconda3\\lib\\site-packages\\xgboost\\sklearn.py:1224: UserWarning: The use of label encoder in XGBClassifier is deprecated and will be removed in a future release. To remove this warning, do the following: 1) Pass option use_label_encoder=False when constructing XGBClassifier object; and 2) Encode your labels (y) as integers starting with 0, i.e. 0, 1, 2, ..., [num_class - 1].\n",
      "  warnings.warn(label_encoder_deprecation_msg, UserWarning)\n"
     ]
    },
    {
     "name": "stdout",
     "output_type": "stream",
     "text": [
      "{'iteration': 26, 'params': {'learning_rate': 0.05596653935339819, 'max_depth': 4, 'n_estimators': 500, 'random_state': 42}, 'score': 0.9087641692009953, 'elapsed_time': 4.2650465965271}\n"
     ]
    },
    {
     "name": "stderr",
     "output_type": "stream",
     "text": [
      "C:\\Users\\padkins\\Anaconda3\\lib\\site-packages\\xgboost\\sklearn.py:1224: UserWarning: The use of label encoder in XGBClassifier is deprecated and will be removed in a future release. To remove this warning, do the following: 1) Pass option use_label_encoder=False when constructing XGBClassifier object; and 2) Encode your labels (y) as integers starting with 0, i.e. 0, 1, 2, ..., [num_class - 1].\n",
      "  warnings.warn(label_encoder_deprecation_msg, UserWarning)\n"
     ]
    },
    {
     "name": "stdout",
     "output_type": "stream",
     "text": [
      "{'iteration': 27, 'params': {'learning_rate': 0.20395606802548757, 'max_depth': 3, 'n_estimators': 500, 'random_state': 42}, 'score': 0.9095935858446226, 'elapsed_time': 18.840870141983032}\n"
     ]
    },
    {
     "name": "stderr",
     "output_type": "stream",
     "text": [
      "C:\\Users\\padkins\\Anaconda3\\lib\\site-packages\\xgboost\\sklearn.py:1224: UserWarning: The use of label encoder in XGBClassifier is deprecated and will be removed in a future release. To remove this warning, do the following: 1) Pass option use_label_encoder=False when constructing XGBClassifier object; and 2) Encode your labels (y) as integers starting with 0, i.e. 0, 1, 2, ..., [num_class - 1].\n",
      "  warnings.warn(label_encoder_deprecation_msg, UserWarning)\n"
     ]
    },
    {
     "name": "stdout",
     "output_type": "stream",
     "text": [
      "{'iteration': 28, 'params': {'learning_rate': 0.28335281112624705, 'max_depth': 2, 'n_estimators': 500, 'random_state': 42}, 'score': 0.9106994747027923, 'elapsed_time': 14.500213623046875}\n"
     ]
    },
    {
     "name": "stderr",
     "output_type": "stream",
     "text": [
      "C:\\Users\\padkins\\Anaconda3\\lib\\site-packages\\xgboost\\sklearn.py:1224: UserWarning: The use of label encoder in XGBClassifier is deprecated and will be removed in a future release. To remove this warning, do the following: 1) Pass option use_label_encoder=False when constructing XGBClassifier object; and 2) Encode your labels (y) as integers starting with 0, i.e. 0, 1, 2, ..., [num_class - 1].\n",
      "  warnings.warn(label_encoder_deprecation_msg, UserWarning)\n"
     ]
    },
    {
     "name": "stdout",
     "output_type": "stream",
     "text": [
      "{'iteration': 29, 'params': {'learning_rate': 0.20206767996239308, 'max_depth': 3, 'n_estimators': 500, 'random_state': 42}, 'score': 0.9137406690627592, 'elapsed_time': 2.2365713119506836}\n"
     ]
    },
    {
     "name": "stderr",
     "output_type": "stream",
     "text": [
      "C:\\Users\\padkins\\Anaconda3\\lib\\site-packages\\xgboost\\sklearn.py:1224: UserWarning: The use of label encoder in XGBClassifier is deprecated and will be removed in a future release. To remove this warning, do the following: 1) Pass option use_label_encoder=False when constructing XGBClassifier object; and 2) Encode your labels (y) as integers starting with 0, i.e. 0, 1, 2, ..., [num_class - 1].\n",
      "  warnings.warn(label_encoder_deprecation_msg, UserWarning)\n"
     ]
    },
    {
     "name": "stdout",
     "output_type": "stream",
     "text": [
      "{'iteration': 30, 'params': {'learning_rate': 0.09536737406391677, 'max_depth': 4, 'n_estimators': 500, 'random_state': 42}, 'score': 0.9095935858446226, 'elapsed_time': 6.136135578155518}\n",
      "doing mushroom.csv\n"
     ]
    },
    {
     "name": "stderr",
     "output_type": "stream",
     "text": [
      "C:\\Users\\padkins\\Anaconda3\\lib\\site-packages\\xgboost\\sklearn.py:1224: UserWarning: The use of label encoder in XGBClassifier is deprecated and will be removed in a future release. To remove this warning, do the following: 1) Pass option use_label_encoder=False when constructing XGBClassifier object; and 2) Encode your labels (y) as integers starting with 0, i.e. 0, 1, 2, ..., [num_class - 1].\n",
      "  warnings.warn(label_encoder_deprecation_msg, UserWarning)\n"
     ]
    },
    {
     "name": "stdout",
     "output_type": "stream",
     "text": [
      "{'iteration': 1, 'params': {'learning_rate': 0.2677667769777813, 'max_depth': 2, 'n_estimators': 500, 'random_state': 42}, 'score': 1.0, 'elapsed_time': 3.5527241230010986}\n"
     ]
    },
    {
     "name": "stderr",
     "output_type": "stream",
     "text": [
      "C:\\Users\\padkins\\Anaconda3\\lib\\site-packages\\xgboost\\sklearn.py:1224: UserWarning: The use of label encoder in XGBClassifier is deprecated and will be removed in a future release. To remove this warning, do the following: 1) Pass option use_label_encoder=False when constructing XGBClassifier object; and 2) Encode your labels (y) as integers starting with 0, i.e. 0, 1, 2, ..., [num_class - 1].\n",
      "  warnings.warn(label_encoder_deprecation_msg, UserWarning)\n"
     ]
    },
    {
     "name": "stdout",
     "output_type": "stream",
     "text": [
      "{'iteration': 2, 'params': {'learning_rate': 0.11917217302064849, 'max_depth': 3, 'n_estimators': 500, 'random_state': 42}, 'score': 1.0, 'elapsed_time': 5.554763555526733}\n"
     ]
    },
    {
     "name": "stderr",
     "output_type": "stream",
     "text": [
      "C:\\Users\\padkins\\Anaconda3\\lib\\site-packages\\xgboost\\sklearn.py:1224: UserWarning: The use of label encoder in XGBClassifier is deprecated and will be removed in a future release. To remove this warning, do the following: 1) Pass option use_label_encoder=False when constructing XGBClassifier object; and 2) Encode your labels (y) as integers starting with 0, i.e. 0, 1, 2, ..., [num_class - 1].\n",
      "  warnings.warn(label_encoder_deprecation_msg, UserWarning)\n"
     ]
    },
    {
     "name": "stdout",
     "output_type": "stream",
     "text": [
      "{'iteration': 3, 'params': {'learning_rate': 0.10190267422074535, 'max_depth': 3, 'n_estimators': 500, 'random_state': 42}, 'score': 1.0, 'elapsed_time': 5.4632248878479}\n"
     ]
    },
    {
     "name": "stderr",
     "output_type": "stream",
     "text": [
      "C:\\Users\\padkins\\Anaconda3\\lib\\site-packages\\xgboost\\sklearn.py:1224: UserWarning: The use of label encoder in XGBClassifier is deprecated and will be removed in a future release. To remove this warning, do the following: 1) Pass option use_label_encoder=False when constructing XGBClassifier object; and 2) Encode your labels (y) as integers starting with 0, i.e. 0, 1, 2, ..., [num_class - 1].\n",
      "  warnings.warn(label_encoder_deprecation_msg, UserWarning)\n"
     ]
    },
    {
     "name": "stdout",
     "output_type": "stream",
     "text": [
      "{'iteration': 4, 'params': {'learning_rate': 0.174551457858599, 'max_depth': 2, 'n_estimators': 500, 'random_state': 42}, 'score': 1.0, 'elapsed_time': 4.666978359222412}\n"
     ]
    },
    {
     "name": "stderr",
     "output_type": "stream",
     "text": [
      "C:\\Users\\padkins\\Anaconda3\\lib\\site-packages\\xgboost\\sklearn.py:1224: UserWarning: The use of label encoder in XGBClassifier is deprecated and will be removed in a future release. To remove this warning, do the following: 1) Pass option use_label_encoder=False when constructing XGBClassifier object; and 2) Encode your labels (y) as integers starting with 0, i.e. 0, 1, 2, ..., [num_class - 1].\n",
      "  warnings.warn(label_encoder_deprecation_msg, UserWarning)\n"
     ]
    },
    {
     "name": "stdout",
     "output_type": "stream",
     "text": [
      "{'iteration': 5, 'params': {'learning_rate': 0.10728783048264692, 'max_depth': 2, 'n_estimators': 500, 'random_state': 42}, 'score': 1.0, 'elapsed_time': 3.9634969234466553}\n"
     ]
    },
    {
     "name": "stderr",
     "output_type": "stream",
     "text": [
      "C:\\Users\\padkins\\Anaconda3\\lib\\site-packages\\xgboost\\sklearn.py:1224: UserWarning: The use of label encoder in XGBClassifier is deprecated and will be removed in a future release. To remove this warning, do the following: 1) Pass option use_label_encoder=False when constructing XGBClassifier object; and 2) Encode your labels (y) as integers starting with 0, i.e. 0, 1, 2, ..., [num_class - 1].\n",
      "  warnings.warn(label_encoder_deprecation_msg, UserWarning)\n"
     ]
    },
    {
     "name": "stdout",
     "output_type": "stream",
     "text": [
      "{'iteration': 6, 'params': {'learning_rate': 0.26910525414016967, 'max_depth': 3, 'n_estimators': 500, 'random_state': 42}, 'score': 1.0, 'elapsed_time': 2.8214759826660156}\n"
     ]
    },
    {
     "name": "stderr",
     "output_type": "stream",
     "text": [
      "C:\\Users\\padkins\\Anaconda3\\lib\\site-packages\\xgboost\\sklearn.py:1224: UserWarning: The use of label encoder in XGBClassifier is deprecated and will be removed in a future release. To remove this warning, do the following: 1) Pass option use_label_encoder=False when constructing XGBClassifier object; and 2) Encode your labels (y) as integers starting with 0, i.e. 0, 1, 2, ..., [num_class - 1].\n",
      "  warnings.warn(label_encoder_deprecation_msg, UserWarning)\n"
     ]
    },
    {
     "name": "stdout",
     "output_type": "stream",
     "text": [
      "{'iteration': 7, 'params': {'learning_rate': 0.18032148619771057, 'max_depth': 3, 'n_estimators': 500, 'random_state': 42}, 'score': 1.0, 'elapsed_time': 4.671549081802368}\n"
     ]
    },
    {
     "name": "stderr",
     "output_type": "stream",
     "text": [
      "C:\\Users\\padkins\\Anaconda3\\lib\\site-packages\\xgboost\\sklearn.py:1224: UserWarning: The use of label encoder in XGBClassifier is deprecated and will be removed in a future release. To remove this warning, do the following: 1) Pass option use_label_encoder=False when constructing XGBClassifier object; and 2) Encode your labels (y) as integers starting with 0, i.e. 0, 1, 2, ..., [num_class - 1].\n",
      "  warnings.warn(label_encoder_deprecation_msg, UserWarning)\n"
     ]
    },
    {
     "name": "stdout",
     "output_type": "stream",
     "text": [
      "{'iteration': 8, 'params': {'learning_rate': 0.03524277654353499, 'max_depth': 4, 'n_estimators': 500, 'random_state': 42}, 'score': 1.0, 'elapsed_time': 6.216407299041748}\n"
     ]
    },
    {
     "name": "stderr",
     "output_type": "stream",
     "text": [
      "C:\\Users\\padkins\\Anaconda3\\lib\\site-packages\\xgboost\\sklearn.py:1224: UserWarning: The use of label encoder in XGBClassifier is deprecated and will be removed in a future release. To remove this warning, do the following: 1) Pass option use_label_encoder=False when constructing XGBClassifier object; and 2) Encode your labels (y) as integers starting with 0, i.e. 0, 1, 2, ..., [num_class - 1].\n",
      "  warnings.warn(label_encoder_deprecation_msg, UserWarning)\n"
     ]
    },
    {
     "name": "stdout",
     "output_type": "stream",
     "text": [
      "{'iteration': 9, 'params': {'learning_rate': 0.2130262709029057, 'max_depth': 3, 'n_estimators': 500, 'random_state': 42}, 'score': 1.0, 'elapsed_time': 2.576920747756958}\n"
     ]
    },
    {
     "name": "stderr",
     "output_type": "stream",
     "text": [
      "C:\\Users\\padkins\\Anaconda3\\lib\\site-packages\\xgboost\\sklearn.py:1224: UserWarning: The use of label encoder in XGBClassifier is deprecated and will be removed in a future release. To remove this warning, do the following: 1) Pass option use_label_encoder=False when constructing XGBClassifier object; and 2) Encode your labels (y) as integers starting with 0, i.e. 0, 1, 2, ..., [num_class - 1].\n",
      "  warnings.warn(label_encoder_deprecation_msg, UserWarning)\n"
     ]
    },
    {
     "name": "stdout",
     "output_type": "stream",
     "text": [
      "{'iteration': 10, 'params': {'learning_rate': 0.024679104288442145, 'max_depth': 2, 'n_estimators': 500, 'random_state': 42}, 'score': 0.9984615384615385, 'elapsed_time': 4.210530519485474}\n"
     ]
    },
    {
     "name": "stderr",
     "output_type": "stream",
     "text": [
      "C:\\Users\\padkins\\Anaconda3\\lib\\site-packages\\xgboost\\sklearn.py:1224: UserWarning: The use of label encoder in XGBClassifier is deprecated and will be removed in a future release. To remove this warning, do the following: 1) Pass option use_label_encoder=False when constructing XGBClassifier object; and 2) Encode your labels (y) as integers starting with 0, i.e. 0, 1, 2, ..., [num_class - 1].\n",
      "  warnings.warn(label_encoder_deprecation_msg, UserWarning)\n"
     ]
    },
    {
     "name": "stdout",
     "output_type": "stream",
     "text": [
      "{'iteration': 11, 'params': {'learning_rate': 0.16809422105521538, 'max_depth': 3, 'n_estimators': 500, 'random_state': 42}, 'score': 1.0, 'elapsed_time': 3.8064584732055664}\n"
     ]
    },
    {
     "name": "stderr",
     "output_type": "stream",
     "text": [
      "C:\\Users\\padkins\\Anaconda3\\lib\\site-packages\\xgboost\\sklearn.py:1224: UserWarning: The use of label encoder in XGBClassifier is deprecated and will be removed in a future release. To remove this warning, do the following: 1) Pass option use_label_encoder=False when constructing XGBClassifier object; and 2) Encode your labels (y) as integers starting with 0, i.e. 0, 1, 2, ..., [num_class - 1].\n",
      "  warnings.warn(label_encoder_deprecation_msg, UserWarning)\n"
     ]
    },
    {
     "name": "stdout",
     "output_type": "stream",
     "text": [
      "{'iteration': 12, 'params': {'learning_rate': 0.28343656074139995, 'max_depth': 4, 'n_estimators': 500, 'random_state': 42}, 'score': 1.0, 'elapsed_time': 2.0163543224334717}\n"
     ]
    },
    {
     "name": "stderr",
     "output_type": "stream",
     "text": [
      "C:\\Users\\padkins\\Anaconda3\\lib\\site-packages\\xgboost\\sklearn.py:1224: UserWarning: The use of label encoder in XGBClassifier is deprecated and will be removed in a future release. To remove this warning, do the following: 1) Pass option use_label_encoder=False when constructing XGBClassifier object; and 2) Encode your labels (y) as integers starting with 0, i.e. 0, 1, 2, ..., [num_class - 1].\n",
      "  warnings.warn(label_encoder_deprecation_msg, UserWarning)\n"
     ]
    },
    {
     "name": "stdout",
     "output_type": "stream",
     "text": [
      "{'iteration': 13, 'params': {'learning_rate': 0.2519200809656785, 'max_depth': 4, 'n_estimators': 500, 'random_state': 42}, 'score': 1.0, 'elapsed_time': 2.2904670238494873}\n"
     ]
    },
    {
     "name": "stderr",
     "output_type": "stream",
     "text": [
      "C:\\Users\\padkins\\Anaconda3\\lib\\site-packages\\xgboost\\sklearn.py:1224: UserWarning: The use of label encoder in XGBClassifier is deprecated and will be removed in a future release. To remove this warning, do the following: 1) Pass option use_label_encoder=False when constructing XGBClassifier object; and 2) Encode your labels (y) as integers starting with 0, i.e. 0, 1, 2, ..., [num_class - 1].\n",
      "  warnings.warn(label_encoder_deprecation_msg, UserWarning)\n"
     ]
    },
    {
     "name": "stdout",
     "output_type": "stream",
     "text": [
      "{'iteration': 14, 'params': {'learning_rate': 0.026914998818845487, 'max_depth': 3, 'n_estimators': 500, 'random_state': 42}, 'score': 1.0, 'elapsed_time': 5.007209300994873}\n"
     ]
    },
    {
     "name": "stderr",
     "output_type": "stream",
     "text": [
      "C:\\Users\\padkins\\Anaconda3\\lib\\site-packages\\xgboost\\sklearn.py:1224: UserWarning: The use of label encoder in XGBClassifier is deprecated and will be removed in a future release. To remove this warning, do the following: 1) Pass option use_label_encoder=False when constructing XGBClassifier object; and 2) Encode your labels (y) as integers starting with 0, i.e. 0, 1, 2, ..., [num_class - 1].\n",
      "  warnings.warn(label_encoder_deprecation_msg, UserWarning)\n"
     ]
    },
    {
     "name": "stdout",
     "output_type": "stream",
     "text": [
      "{'iteration': 15, 'params': {'learning_rate': 0.2077307887023077, 'max_depth': 3, 'n_estimators': 500, 'random_state': 42}, 'score': 1.0, 'elapsed_time': 3.22476863861084}\n"
     ]
    },
    {
     "name": "stderr",
     "output_type": "stream",
     "text": [
      "C:\\Users\\padkins\\Anaconda3\\lib\\site-packages\\xgboost\\sklearn.py:1224: UserWarning: The use of label encoder in XGBClassifier is deprecated and will be removed in a future release. To remove this warning, do the following: 1) Pass option use_label_encoder=False when constructing XGBClassifier object; and 2) Encode your labels (y) as integers starting with 0, i.e. 0, 1, 2, ..., [num_class - 1].\n",
      "  warnings.warn(label_encoder_deprecation_msg, UserWarning)\n"
     ]
    },
    {
     "name": "stdout",
     "output_type": "stream",
     "text": [
      "{'iteration': 16, 'params': {'learning_rate': 0.2933410060810815, 'max_depth': 4, 'n_estimators': 500, 'random_state': 42}, 'score': 1.0, 'elapsed_time': 1.7031772136688232}\n"
     ]
    },
    {
     "name": "stderr",
     "output_type": "stream",
     "text": [
      "C:\\Users\\padkins\\Anaconda3\\lib\\site-packages\\xgboost\\sklearn.py:1224: UserWarning: The use of label encoder in XGBClassifier is deprecated and will be removed in a future release. To remove this warning, do the following: 1) Pass option use_label_encoder=False when constructing XGBClassifier object; and 2) Encode your labels (y) as integers starting with 0, i.e. 0, 1, 2, ..., [num_class - 1].\n",
      "  warnings.warn(label_encoder_deprecation_msg, UserWarning)\n"
     ]
    },
    {
     "name": "stdout",
     "output_type": "stream",
     "text": [
      "{'iteration': 17, 'params': {'learning_rate': 0.1443052590905921, 'max_depth': 2, 'n_estimators': 500, 'random_state': 42}, 'score': 1.0, 'elapsed_time': 3.5595896244049072}\n"
     ]
    },
    {
     "name": "stderr",
     "output_type": "stream",
     "text": [
      "C:\\Users\\padkins\\Anaconda3\\lib\\site-packages\\xgboost\\sklearn.py:1224: UserWarning: The use of label encoder in XGBClassifier is deprecated and will be removed in a future release. To remove this warning, do the following: 1) Pass option use_label_encoder=False when constructing XGBClassifier object; and 2) Encode your labels (y) as integers starting with 0, i.e. 0, 1, 2, ..., [num_class - 1].\n",
      "  warnings.warn(label_encoder_deprecation_msg, UserWarning)\n"
     ]
    },
    {
     "name": "stdout",
     "output_type": "stream",
     "text": [
      "{'iteration': 18, 'params': {'learning_rate': 0.2722681163640153, 'max_depth': 4, 'n_estimators': 500, 'random_state': 42}, 'score': 1.0, 'elapsed_time': 1.9371898174285889}\n"
     ]
    },
    {
     "name": "stderr",
     "output_type": "stream",
     "text": [
      "C:\\Users\\padkins\\Anaconda3\\lib\\site-packages\\xgboost\\sklearn.py:1224: UserWarning: The use of label encoder in XGBClassifier is deprecated and will be removed in a future release. To remove this warning, do the following: 1) Pass option use_label_encoder=False when constructing XGBClassifier object; and 2) Encode your labels (y) as integers starting with 0, i.e. 0, 1, 2, ..., [num_class - 1].\n",
      "  warnings.warn(label_encoder_deprecation_msg, UserWarning)\n"
     ]
    },
    {
     "name": "stdout",
     "output_type": "stream",
     "text": [
      "{'iteration': 19, 'params': {'learning_rate': 0.18090067470396434, 'max_depth': 4, 'n_estimators': 500, 'random_state': 42}, 'score': 1.0, 'elapsed_time': 2.8878250122070312}\n"
     ]
    },
    {
     "name": "stderr",
     "output_type": "stream",
     "text": [
      "C:\\Users\\padkins\\Anaconda3\\lib\\site-packages\\xgboost\\sklearn.py:1224: UserWarning: The use of label encoder in XGBClassifier is deprecated and will be removed in a future release. To remove this warning, do the following: 1) Pass option use_label_encoder=False when constructing XGBClassifier object; and 2) Encode your labels (y) as integers starting with 0, i.e. 0, 1, 2, ..., [num_class - 1].\n",
      "  warnings.warn(label_encoder_deprecation_msg, UserWarning)\n"
     ]
    },
    {
     "name": "stdout",
     "output_type": "stream",
     "text": [
      "{'iteration': 20, 'params': {'learning_rate': 0.15374390081469647, 'max_depth': 2, 'n_estimators': 500, 'random_state': 42}, 'score': 1.0, 'elapsed_time': 3.268087863922119}\n"
     ]
    },
    {
     "name": "stderr",
     "output_type": "stream",
     "text": [
      "C:\\Users\\padkins\\Anaconda3\\lib\\site-packages\\xgboost\\sklearn.py:1224: UserWarning: The use of label encoder in XGBClassifier is deprecated and will be removed in a future release. To remove this warning, do the following: 1) Pass option use_label_encoder=False when constructing XGBClassifier object; and 2) Encode your labels (y) as integers starting with 0, i.e. 0, 1, 2, ..., [num_class - 1].\n",
      "  warnings.warn(label_encoder_deprecation_msg, UserWarning)\n"
     ]
    },
    {
     "name": "stdout",
     "output_type": "stream",
     "text": [
      "{'iteration': 21, 'params': {'learning_rate': 0.25827998697685134, 'max_depth': 3, 'n_estimators': 500, 'random_state': 42}, 'score': 1.0, 'elapsed_time': 2.269437789916992}\n"
     ]
    },
    {
     "name": "stderr",
     "output_type": "stream",
     "text": [
      "C:\\Users\\padkins\\Anaconda3\\lib\\site-packages\\xgboost\\sklearn.py:1224: UserWarning: The use of label encoder in XGBClassifier is deprecated and will be removed in a future release. To remove this warning, do the following: 1) Pass option use_label_encoder=False when constructing XGBClassifier object; and 2) Encode your labels (y) as integers starting with 0, i.e. 0, 1, 2, ..., [num_class - 1].\n",
      "  warnings.warn(label_encoder_deprecation_msg, UserWarning)\n"
     ]
    },
    {
     "name": "stdout",
     "output_type": "stream",
     "text": [
      "{'iteration': 22, 'params': {'learning_rate': 0.25967186529746056, 'max_depth': 3, 'n_estimators': 500, 'random_state': 42}, 'score': 1.0, 'elapsed_time': 2.368633508682251}\n"
     ]
    },
    {
     "name": "stderr",
     "output_type": "stream",
     "text": [
      "C:\\Users\\padkins\\Anaconda3\\lib\\site-packages\\xgboost\\sklearn.py:1224: UserWarning: The use of label encoder in XGBClassifier is deprecated and will be removed in a future release. To remove this warning, do the following: 1) Pass option use_label_encoder=False when constructing XGBClassifier object; and 2) Encode your labels (y) as integers starting with 0, i.e. 0, 1, 2, ..., [num_class - 1].\n",
      "  warnings.warn(label_encoder_deprecation_msg, UserWarning)\n"
     ]
    },
    {
     "name": "stdout",
     "output_type": "stream",
     "text": [
      "{'iteration': 23, 'params': {'learning_rate': 0.22867608746818008, 'max_depth': 3, 'n_estimators': 500, 'random_state': 42}, 'score': 1.0, 'elapsed_time': 2.5817079544067383}\n"
     ]
    },
    {
     "name": "stderr",
     "output_type": "stream",
     "text": [
      "C:\\Users\\padkins\\Anaconda3\\lib\\site-packages\\xgboost\\sklearn.py:1224: UserWarning: The use of label encoder in XGBClassifier is deprecated and will be removed in a future release. To remove this warning, do the following: 1) Pass option use_label_encoder=False when constructing XGBClassifier object; and 2) Encode your labels (y) as integers starting with 0, i.e. 0, 1, 2, ..., [num_class - 1].\n",
      "  warnings.warn(label_encoder_deprecation_msg, UserWarning)\n"
     ]
    },
    {
     "name": "stdout",
     "output_type": "stream",
     "text": [
      "{'iteration': 24, 'params': {'learning_rate': 0.02439446731454948, 'max_depth': 2, 'n_estimators': 500, 'random_state': 42}, 'score': 0.9984615384615385, 'elapsed_time': 3.5795679092407227}\n"
     ]
    },
    {
     "name": "stderr",
     "output_type": "stream",
     "text": [
      "C:\\Users\\padkins\\Anaconda3\\lib\\site-packages\\xgboost\\sklearn.py:1224: UserWarning: The use of label encoder in XGBClassifier is deprecated and will be removed in a future release. To remove this warning, do the following: 1) Pass option use_label_encoder=False when constructing XGBClassifier object; and 2) Encode your labels (y) as integers starting with 0, i.e. 0, 1, 2, ..., [num_class - 1].\n",
      "  warnings.warn(label_encoder_deprecation_msg, UserWarning)\n"
     ]
    },
    {
     "name": "stdout",
     "output_type": "stream",
     "text": [
      "{'iteration': 25, 'params': {'learning_rate': 0.21051240714449188, 'max_depth': 2, 'n_estimators': 500, 'random_state': 42}, 'score': 1.0, 'elapsed_time': 3.169905185699463}\n"
     ]
    },
    {
     "name": "stderr",
     "output_type": "stream",
     "text": [
      "C:\\Users\\padkins\\Anaconda3\\lib\\site-packages\\xgboost\\sklearn.py:1224: UserWarning: The use of label encoder in XGBClassifier is deprecated and will be removed in a future release. To remove this warning, do the following: 1) Pass option use_label_encoder=False when constructing XGBClassifier object; and 2) Encode your labels (y) as integers starting with 0, i.e. 0, 1, 2, ..., [num_class - 1].\n",
      "  warnings.warn(label_encoder_deprecation_msg, UserWarning)\n"
     ]
    },
    {
     "name": "stdout",
     "output_type": "stream",
     "text": [
      "{'iteration': 26, 'params': {'learning_rate': 0.28911520518058376, 'max_depth': 2, 'n_estimators': 500, 'random_state': 42}, 'score': 1.0, 'elapsed_time': 3.4092633724212646}\n"
     ]
    },
    {
     "name": "stderr",
     "output_type": "stream",
     "text": [
      "C:\\Users\\padkins\\Anaconda3\\lib\\site-packages\\xgboost\\sklearn.py:1224: UserWarning: The use of label encoder in XGBClassifier is deprecated and will be removed in a future release. To remove this warning, do the following: 1) Pass option use_label_encoder=False when constructing XGBClassifier object; and 2) Encode your labels (y) as integers starting with 0, i.e. 0, 1, 2, ..., [num_class - 1].\n",
      "  warnings.warn(label_encoder_deprecation_msg, UserWarning)\n"
     ]
    },
    {
     "name": "stdout",
     "output_type": "stream",
     "text": [
      "{'iteration': 27, 'params': {'learning_rate': 0.08276311454757294, 'max_depth': 2, 'n_estimators': 500, 'random_state': 42}, 'score': 1.0, 'elapsed_time': 3.3371474742889404}\n"
     ]
    },
    {
     "name": "stderr",
     "output_type": "stream",
     "text": [
      "C:\\Users\\padkins\\Anaconda3\\lib\\site-packages\\xgboost\\sklearn.py:1224: UserWarning: The use of label encoder in XGBClassifier is deprecated and will be removed in a future release. To remove this warning, do the following: 1) Pass option use_label_encoder=False when constructing XGBClassifier object; and 2) Encode your labels (y) as integers starting with 0, i.e. 0, 1, 2, ..., [num_class - 1].\n",
      "  warnings.warn(label_encoder_deprecation_msg, UserWarning)\n"
     ]
    },
    {
     "name": "stdout",
     "output_type": "stream",
     "text": [
      "{'iteration': 28, 'params': {'learning_rate': 0.17080097884207873, 'max_depth': 3, 'n_estimators': 500, 'random_state': 42}, 'score': 1.0, 'elapsed_time': 3.2250146865844727}\n"
     ]
    },
    {
     "name": "stderr",
     "output_type": "stream",
     "text": [
      "C:\\Users\\padkins\\Anaconda3\\lib\\site-packages\\xgboost\\sklearn.py:1224: UserWarning: The use of label encoder in XGBClassifier is deprecated and will be removed in a future release. To remove this warning, do the following: 1) Pass option use_label_encoder=False when constructing XGBClassifier object; and 2) Encode your labels (y) as integers starting with 0, i.e. 0, 1, 2, ..., [num_class - 1].\n",
      "  warnings.warn(label_encoder_deprecation_msg, UserWarning)\n"
     ]
    },
    {
     "name": "stdout",
     "output_type": "stream",
     "text": [
      "{'iteration': 29, 'params': {'learning_rate': 0.285173353051377, 'max_depth': 4, 'n_estimators': 500, 'random_state': 42}, 'score': 1.0, 'elapsed_time': 1.8389530181884766}\n"
     ]
    },
    {
     "name": "stderr",
     "output_type": "stream",
     "text": [
      "C:\\Users\\padkins\\Anaconda3\\lib\\site-packages\\xgboost\\sklearn.py:1224: UserWarning: The use of label encoder in XGBClassifier is deprecated and will be removed in a future release. To remove this warning, do the following: 1) Pass option use_label_encoder=False when constructing XGBClassifier object; and 2) Encode your labels (y) as integers starting with 0, i.e. 0, 1, 2, ..., [num_class - 1].\n",
      "  warnings.warn(label_encoder_deprecation_msg, UserWarning)\n"
     ]
    },
    {
     "name": "stdout",
     "output_type": "stream",
     "text": [
      "{'iteration': 30, 'params': {'learning_rate': 0.21899472633374803, 'max_depth': 3, 'n_estimators': 500, 'random_state': 42}, 'score': 1.0, 'elapsed_time': 2.8124728202819824}\n"
     ]
    },
    {
     "name": "stderr",
     "output_type": "stream",
     "text": [
      "C:\\Users\\padkins\\Anaconda3\\lib\\site-packages\\xgboost\\sklearn.py:1224: UserWarning: The use of label encoder in XGBClassifier is deprecated and will be removed in a future release. To remove this warning, do the following: 1) Pass option use_label_encoder=False when constructing XGBClassifier object; and 2) Encode your labels (y) as integers starting with 0, i.e. 0, 1, 2, ..., [num_class - 1].\n",
      "  warnings.warn(label_encoder_deprecation_msg, UserWarning)\n"
     ]
    },
    {
     "name": "stdout",
     "output_type": "stream",
     "text": [
      "{'iteration': 1, 'params': {'learning_rate': 0.13556888897238156, 'max_depth': 3, 'n_estimators': 500, 'random_state': 42}, 'score': 1.0, 'elapsed_time': 1.6894052028656006}\n"
     ]
    },
    {
     "name": "stderr",
     "output_type": "stream",
     "text": [
      "C:\\Users\\padkins\\Anaconda3\\lib\\site-packages\\xgboost\\sklearn.py:1224: UserWarning: The use of label encoder in XGBClassifier is deprecated and will be removed in a future release. To remove this warning, do the following: 1) Pass option use_label_encoder=False when constructing XGBClassifier object; and 2) Encode your labels (y) as integers starting with 0, i.e. 0, 1, 2, ..., [num_class - 1].\n",
      "  warnings.warn(label_encoder_deprecation_msg, UserWarning)\n"
     ]
    },
    {
     "name": "stdout",
     "output_type": "stream",
     "text": [
      "{'iteration': 2, 'params': {'learning_rate': 0.2667350782776316, 'max_depth': 4, 'n_estimators': 500, 'random_state': 42}, 'score': 1.0, 'elapsed_time': 1.1486790180206299}\n"
     ]
    },
    {
     "name": "stderr",
     "output_type": "stream",
     "text": [
      "C:\\Users\\padkins\\Anaconda3\\lib\\site-packages\\xgboost\\sklearn.py:1224: UserWarning: The use of label encoder in XGBClassifier is deprecated and will be removed in a future release. To remove this warning, do the following: 1) Pass option use_label_encoder=False when constructing XGBClassifier object; and 2) Encode your labels (y) as integers starting with 0, i.e. 0, 1, 2, ..., [num_class - 1].\n",
      "  warnings.warn(label_encoder_deprecation_msg, UserWarning)\n"
     ]
    },
    {
     "name": "stdout",
     "output_type": "stream",
     "text": [
      "{'iteration': 3, 'params': {'learning_rate': 0.1536795229874706, 'max_depth': 4, 'n_estimators': 500, 'random_state': 42}, 'score': 1.0, 'elapsed_time': 2.6875903606414795}\n"
     ]
    },
    {
     "name": "stderr",
     "output_type": "stream",
     "text": [
      "C:\\Users\\padkins\\Anaconda3\\lib\\site-packages\\xgboost\\sklearn.py:1224: UserWarning: The use of label encoder in XGBClassifier is deprecated and will be removed in a future release. To remove this warning, do the following: 1) Pass option use_label_encoder=False when constructing XGBClassifier object; and 2) Encode your labels (y) as integers starting with 0, i.e. 0, 1, 2, ..., [num_class - 1].\n",
      "  warnings.warn(label_encoder_deprecation_msg, UserWarning)\n"
     ]
    },
    {
     "name": "stdout",
     "output_type": "stream",
     "text": [
      "{'iteration': 4, 'params': {'learning_rate': 0.14411543281975248, 'max_depth': 3, 'n_estimators': 500, 'random_state': 42}, 'score': 1.0, 'elapsed_time': 1.5496160984039307}\n"
     ]
    },
    {
     "name": "stderr",
     "output_type": "stream",
     "text": [
      "C:\\Users\\padkins\\Anaconda3\\lib\\site-packages\\xgboost\\sklearn.py:1224: UserWarning: The use of label encoder in XGBClassifier is deprecated and will be removed in a future release. To remove this warning, do the following: 1) Pass option use_label_encoder=False when constructing XGBClassifier object; and 2) Encode your labels (y) as integers starting with 0, i.e. 0, 1, 2, ..., [num_class - 1].\n",
      "  warnings.warn(label_encoder_deprecation_msg, UserWarning)\n"
     ]
    },
    {
     "name": "stdout",
     "output_type": "stream",
     "text": [
      "{'iteration': 5, 'params': {'learning_rate': 0.06061598785912437, 'max_depth': 2, 'n_estimators': 500, 'random_state': 42}, 'score': 1.0, 'elapsed_time': 2.2998485565185547}\n"
     ]
    },
    {
     "name": "stderr",
     "output_type": "stream",
     "text": [
      "C:\\Users\\padkins\\Anaconda3\\lib\\site-packages\\xgboost\\sklearn.py:1224: UserWarning: The use of label encoder in XGBClassifier is deprecated and will be removed in a future release. To remove this warning, do the following: 1) Pass option use_label_encoder=False when constructing XGBClassifier object; and 2) Encode your labels (y) as integers starting with 0, i.e. 0, 1, 2, ..., [num_class - 1].\n",
      "  warnings.warn(label_encoder_deprecation_msg, UserWarning)\n"
     ]
    },
    {
     "name": "stdout",
     "output_type": "stream",
     "text": [
      "{'iteration': 6, 'params': {'learning_rate': 0.21508935826542683, 'max_depth': 4, 'n_estimators': 500, 'random_state': 42}, 'score': 1.0, 'elapsed_time': 1.0083303451538086}\n"
     ]
    },
    {
     "name": "stderr",
     "output_type": "stream",
     "text": [
      "C:\\Users\\padkins\\Anaconda3\\lib\\site-packages\\xgboost\\sklearn.py:1224: UserWarning: The use of label encoder in XGBClassifier is deprecated and will be removed in a future release. To remove this warning, do the following: 1) Pass option use_label_encoder=False when constructing XGBClassifier object; and 2) Encode your labels (y) as integers starting with 0, i.e. 0, 1, 2, ..., [num_class - 1].\n",
      "  warnings.warn(label_encoder_deprecation_msg, UserWarning)\n"
     ]
    },
    {
     "name": "stdout",
     "output_type": "stream",
     "text": [
      "{'iteration': 7, 'params': {'learning_rate': 0.07922727553352596, 'max_depth': 4, 'n_estimators': 500, 'random_state': 42}, 'score': 1.0, 'elapsed_time': 2.6617190837860107}\n"
     ]
    },
    {
     "name": "stderr",
     "output_type": "stream",
     "text": [
      "C:\\Users\\padkins\\Anaconda3\\lib\\site-packages\\xgboost\\sklearn.py:1224: UserWarning: The use of label encoder in XGBClassifier is deprecated and will be removed in a future release. To remove this warning, do the following: 1) Pass option use_label_encoder=False when constructing XGBClassifier object; and 2) Encode your labels (y) as integers starting with 0, i.e. 0, 1, 2, ..., [num_class - 1].\n",
      "  warnings.warn(label_encoder_deprecation_msg, UserWarning)\n"
     ]
    },
    {
     "name": "stdout",
     "output_type": "stream",
     "text": [
      "{'iteration': 8, 'params': {'learning_rate': 0.13836232005665838, 'max_depth': 3, 'n_estimators': 500, 'random_state': 42}, 'score': 1.0, 'elapsed_time': 1.815277338027954}\n"
     ]
    },
    {
     "name": "stderr",
     "output_type": "stream",
     "text": [
      "C:\\Users\\padkins\\Anaconda3\\lib\\site-packages\\xgboost\\sklearn.py:1224: UserWarning: The use of label encoder in XGBClassifier is deprecated and will be removed in a future release. To remove this warning, do the following: 1) Pass option use_label_encoder=False when constructing XGBClassifier object; and 2) Encode your labels (y) as integers starting with 0, i.e. 0, 1, 2, ..., [num_class - 1].\n",
      "  warnings.warn(label_encoder_deprecation_msg, UserWarning)\n"
     ]
    },
    {
     "name": "stdout",
     "output_type": "stream",
     "text": [
      "{'iteration': 9, 'params': {'learning_rate': 0.10577791442502149, 'max_depth': 3, 'n_estimators': 500, 'random_state': 42}, 'score': 1.0, 'elapsed_time': 2.086658239364624}\n"
     ]
    },
    {
     "name": "stderr",
     "output_type": "stream",
     "text": [
      "C:\\Users\\padkins\\Anaconda3\\lib\\site-packages\\xgboost\\sklearn.py:1224: UserWarning: The use of label encoder in XGBClassifier is deprecated and will be removed in a future release. To remove this warning, do the following: 1) Pass option use_label_encoder=False when constructing XGBClassifier object; and 2) Encode your labels (y) as integers starting with 0, i.e. 0, 1, 2, ..., [num_class - 1].\n",
      "  warnings.warn(label_encoder_deprecation_msg, UserWarning)\n"
     ]
    },
    {
     "name": "stdout",
     "output_type": "stream",
     "text": [
      "{'iteration': 10, 'params': {'learning_rate': 0.026394228762299424, 'max_depth': 4, 'n_estimators': 500, 'random_state': 42}, 'score': 1.0, 'elapsed_time': 3.5722310543060303}\n"
     ]
    },
    {
     "name": "stderr",
     "output_type": "stream",
     "text": [
      "C:\\Users\\padkins\\Anaconda3\\lib\\site-packages\\xgboost\\sklearn.py:1224: UserWarning: The use of label encoder in XGBClassifier is deprecated and will be removed in a future release. To remove this warning, do the following: 1) Pass option use_label_encoder=False when constructing XGBClassifier object; and 2) Encode your labels (y) as integers starting with 0, i.e. 0, 1, 2, ..., [num_class - 1].\n",
      "  warnings.warn(label_encoder_deprecation_msg, UserWarning)\n"
     ]
    },
    {
     "name": "stdout",
     "output_type": "stream",
     "text": [
      "{'iteration': 11, 'params': {'learning_rate': 0.07965900844889569, 'max_depth': 2, 'n_estimators': 500, 'random_state': 42}, 'score': 1.0, 'elapsed_time': 2.2515015602111816}\n"
     ]
    },
    {
     "name": "stderr",
     "output_type": "stream",
     "text": [
      "C:\\Users\\padkins\\Anaconda3\\lib\\site-packages\\xgboost\\sklearn.py:1224: UserWarning: The use of label encoder in XGBClassifier is deprecated and will be removed in a future release. To remove this warning, do the following: 1) Pass option use_label_encoder=False when constructing XGBClassifier object; and 2) Encode your labels (y) as integers starting with 0, i.e. 0, 1, 2, ..., [num_class - 1].\n",
      "  warnings.warn(label_encoder_deprecation_msg, UserWarning)\n"
     ]
    },
    {
     "name": "stdout",
     "output_type": "stream",
     "text": [
      "{'iteration': 12, 'params': {'learning_rate': 0.2723213958850084, 'max_depth': 2, 'n_estimators': 500, 'random_state': 42}, 'score': 1.0, 'elapsed_time': 1.3518033027648926}\n"
     ]
    },
    {
     "name": "stderr",
     "output_type": "stream",
     "text": [
      "C:\\Users\\padkins\\Anaconda3\\lib\\site-packages\\xgboost\\sklearn.py:1224: UserWarning: The use of label encoder in XGBClassifier is deprecated and will be removed in a future release. To remove this warning, do the following: 1) Pass option use_label_encoder=False when constructing XGBClassifier object; and 2) Encode your labels (y) as integers starting with 0, i.e. 0, 1, 2, ..., [num_class - 1].\n",
      "  warnings.warn(label_encoder_deprecation_msg, UserWarning)\n"
     ]
    },
    {
     "name": "stdout",
     "output_type": "stream",
     "text": [
      "{'iteration': 13, 'params': {'learning_rate': 0.15014463088278227, 'max_depth': 3, 'n_estimators': 500, 'random_state': 42}, 'score': 1.0, 'elapsed_time': 1.9074068069458008}\n"
     ]
    },
    {
     "name": "stderr",
     "output_type": "stream",
     "text": [
      "C:\\Users\\padkins\\Anaconda3\\lib\\site-packages\\xgboost\\sklearn.py:1224: UserWarning: The use of label encoder in XGBClassifier is deprecated and will be removed in a future release. To remove this warning, do the following: 1) Pass option use_label_encoder=False when constructing XGBClassifier object; and 2) Encode your labels (y) as integers starting with 0, i.e. 0, 1, 2, ..., [num_class - 1].\n",
      "  warnings.warn(label_encoder_deprecation_msg, UserWarning)\n"
     ]
    },
    {
     "name": "stdout",
     "output_type": "stream",
     "text": [
      "{'iteration': 14, 'params': {'learning_rate': 0.20321066555827452, 'max_depth': 2, 'n_estimators': 500, 'random_state': 42}, 'score': 1.0, 'elapsed_time': 2.234750270843506}\n"
     ]
    },
    {
     "name": "stderr",
     "output_type": "stream",
     "text": [
      "C:\\Users\\padkins\\Anaconda3\\lib\\site-packages\\xgboost\\sklearn.py:1224: UserWarning: The use of label encoder in XGBClassifier is deprecated and will be removed in a future release. To remove this warning, do the following: 1) Pass option use_label_encoder=False when constructing XGBClassifier object; and 2) Encode your labels (y) as integers starting with 0, i.e. 0, 1, 2, ..., [num_class - 1].\n",
      "  warnings.warn(label_encoder_deprecation_msg, UserWarning)\n"
     ]
    },
    {
     "name": "stdout",
     "output_type": "stream",
     "text": [
      "{'iteration': 15, 'params': {'learning_rate': 0.2792624108949433, 'max_depth': 2, 'n_estimators': 500, 'random_state': 42}, 'score': 1.0, 'elapsed_time': 1.1504795551300049}\n"
     ]
    },
    {
     "name": "stderr",
     "output_type": "stream",
     "text": [
      "C:\\Users\\padkins\\Anaconda3\\lib\\site-packages\\xgboost\\sklearn.py:1224: UserWarning: The use of label encoder in XGBClassifier is deprecated and will be removed in a future release. To remove this warning, do the following: 1) Pass option use_label_encoder=False when constructing XGBClassifier object; and 2) Encode your labels (y) as integers starting with 0, i.e. 0, 1, 2, ..., [num_class - 1].\n",
      "  warnings.warn(label_encoder_deprecation_msg, UserWarning)\n"
     ]
    },
    {
     "name": "stdout",
     "output_type": "stream",
     "text": [
      "{'iteration': 16, 'params': {'learning_rate': 0.11875560835590093, 'max_depth': 3, 'n_estimators': 500, 'random_state': 42}, 'score': 1.0, 'elapsed_time': 1.924591302871704}\n"
     ]
    },
    {
     "name": "stderr",
     "output_type": "stream",
     "text": [
      "C:\\Users\\padkins\\Anaconda3\\lib\\site-packages\\xgboost\\sklearn.py:1224: UserWarning: The use of label encoder in XGBClassifier is deprecated and will be removed in a future release. To remove this warning, do the following: 1) Pass option use_label_encoder=False when constructing XGBClassifier object; and 2) Encode your labels (y) as integers starting with 0, i.e. 0, 1, 2, ..., [num_class - 1].\n",
      "  warnings.warn(label_encoder_deprecation_msg, UserWarning)\n"
     ]
    },
    {
     "name": "stdout",
     "output_type": "stream",
     "text": [
      "{'iteration': 17, 'params': {'learning_rate': 0.06214732769056997, 'max_depth': 3, 'n_estimators': 500, 'random_state': 42}, 'score': 1.0, 'elapsed_time': 2.9206151962280273}\n"
     ]
    },
    {
     "name": "stderr",
     "output_type": "stream",
     "text": [
      "C:\\Users\\padkins\\Anaconda3\\lib\\site-packages\\xgboost\\sklearn.py:1224: UserWarning: The use of label encoder in XGBClassifier is deprecated and will be removed in a future release. To remove this warning, do the following: 1) Pass option use_label_encoder=False when constructing XGBClassifier object; and 2) Encode your labels (y) as integers starting with 0, i.e. 0, 1, 2, ..., [num_class - 1].\n",
      "  warnings.warn(label_encoder_deprecation_msg, UserWarning)\n"
     ]
    },
    {
     "name": "stdout",
     "output_type": "stream",
     "text": [
      "{'iteration': 18, 'params': {'learning_rate': 0.17943875979756974, 'max_depth': 2, 'n_estimators': 500, 'random_state': 42}, 'score': 1.0, 'elapsed_time': 1.7440030574798584}\n"
     ]
    },
    {
     "name": "stderr",
     "output_type": "stream",
     "text": [
      "C:\\Users\\padkins\\Anaconda3\\lib\\site-packages\\xgboost\\sklearn.py:1224: UserWarning: The use of label encoder in XGBClassifier is deprecated and will be removed in a future release. To remove this warning, do the following: 1) Pass option use_label_encoder=False when constructing XGBClassifier object; and 2) Encode your labels (y) as integers starting with 0, i.e. 0, 1, 2, ..., [num_class - 1].\n",
      "  warnings.warn(label_encoder_deprecation_msg, UserWarning)\n"
     ]
    },
    {
     "name": "stdout",
     "output_type": "stream",
     "text": [
      "{'iteration': 19, 'params': {'learning_rate': 0.27727998352338407, 'max_depth': 2, 'n_estimators': 500, 'random_state': 42}, 'score': 1.0, 'elapsed_time': 1.6522610187530518}\n"
     ]
    },
    {
     "name": "stderr",
     "output_type": "stream",
     "text": [
      "C:\\Users\\padkins\\Anaconda3\\lib\\site-packages\\xgboost\\sklearn.py:1224: UserWarning: The use of label encoder in XGBClassifier is deprecated and will be removed in a future release. To remove this warning, do the following: 1) Pass option use_label_encoder=False when constructing XGBClassifier object; and 2) Encode your labels (y) as integers starting with 0, i.e. 0, 1, 2, ..., [num_class - 1].\n",
      "  warnings.warn(label_encoder_deprecation_msg, UserWarning)\n"
     ]
    },
    {
     "name": "stdout",
     "output_type": "stream",
     "text": [
      "{'iteration': 20, 'params': {'learning_rate': 0.2808165022065288, 'max_depth': 3, 'n_estimators': 500, 'random_state': 42}, 'score': 1.0, 'elapsed_time': 0.8523664474487305}\n"
     ]
    },
    {
     "name": "stderr",
     "output_type": "stream",
     "text": [
      "C:\\Users\\padkins\\Anaconda3\\lib\\site-packages\\xgboost\\sklearn.py:1224: UserWarning: The use of label encoder in XGBClassifier is deprecated and will be removed in a future release. To remove this warning, do the following: 1) Pass option use_label_encoder=False when constructing XGBClassifier object; and 2) Encode your labels (y) as integers starting with 0, i.e. 0, 1, 2, ..., [num_class - 1].\n",
      "  warnings.warn(label_encoder_deprecation_msg, UserWarning)\n"
     ]
    },
    {
     "name": "stdout",
     "output_type": "stream",
     "text": [
      "{'iteration': 21, 'params': {'learning_rate': 0.04930953153059516, 'max_depth': 2, 'n_estimators': 500, 'random_state': 42}, 'score': 1.0, 'elapsed_time': 2.4561984539031982}\n"
     ]
    },
    {
     "name": "stderr",
     "output_type": "stream",
     "text": [
      "C:\\Users\\padkins\\Anaconda3\\lib\\site-packages\\xgboost\\sklearn.py:1224: UserWarning: The use of label encoder in XGBClassifier is deprecated and will be removed in a future release. To remove this warning, do the following: 1) Pass option use_label_encoder=False when constructing XGBClassifier object; and 2) Encode your labels (y) as integers starting with 0, i.e. 0, 1, 2, ..., [num_class - 1].\n",
      "  warnings.warn(label_encoder_deprecation_msg, UserWarning)\n"
     ]
    },
    {
     "name": "stdout",
     "output_type": "stream",
     "text": [
      "{'iteration': 22, 'params': {'learning_rate': 0.1502856903374364, 'max_depth': 2, 'n_estimators': 500, 'random_state': 42}, 'score': 1.0, 'elapsed_time': 1.9365870952606201}\n"
     ]
    },
    {
     "name": "stderr",
     "output_type": "stream",
     "text": [
      "C:\\Users\\padkins\\Anaconda3\\lib\\site-packages\\xgboost\\sklearn.py:1224: UserWarning: The use of label encoder in XGBClassifier is deprecated and will be removed in a future release. To remove this warning, do the following: 1) Pass option use_label_encoder=False when constructing XGBClassifier object; and 2) Encode your labels (y) as integers starting with 0, i.e. 0, 1, 2, ..., [num_class - 1].\n",
      "  warnings.warn(label_encoder_deprecation_msg, UserWarning)\n"
     ]
    },
    {
     "name": "stdout",
     "output_type": "stream",
     "text": [
      "{'iteration': 23, 'params': {'learning_rate': 0.047562812623629304, 'max_depth': 2, 'n_estimators': 500, 'random_state': 42}, 'score': 0.9984615384615385, 'elapsed_time': 2.5027225017547607}\n"
     ]
    },
    {
     "name": "stderr",
     "output_type": "stream",
     "text": [
      "C:\\Users\\padkins\\Anaconda3\\lib\\site-packages\\xgboost\\sklearn.py:1224: UserWarning: The use of label encoder in XGBClassifier is deprecated and will be removed in a future release. To remove this warning, do the following: 1) Pass option use_label_encoder=False when constructing XGBClassifier object; and 2) Encode your labels (y) as integers starting with 0, i.e. 0, 1, 2, ..., [num_class - 1].\n",
      "  warnings.warn(label_encoder_deprecation_msg, UserWarning)\n"
     ]
    },
    {
     "name": "stdout",
     "output_type": "stream",
     "text": [
      "{'iteration': 24, 'params': {'learning_rate': 0.16418937108181864, 'max_depth': 4, 'n_estimators': 500, 'random_state': 42}, 'score': 1.0, 'elapsed_time': 1.5996744632720947}\n"
     ]
    },
    {
     "name": "stderr",
     "output_type": "stream",
     "text": [
      "C:\\Users\\padkins\\Anaconda3\\lib\\site-packages\\xgboost\\sklearn.py:1224: UserWarning: The use of label encoder in XGBClassifier is deprecated and will be removed in a future release. To remove this warning, do the following: 1) Pass option use_label_encoder=False when constructing XGBClassifier object; and 2) Encode your labels (y) as integers starting with 0, i.e. 0, 1, 2, ..., [num_class - 1].\n",
      "  warnings.warn(label_encoder_deprecation_msg, UserWarning)\n"
     ]
    },
    {
     "name": "stdout",
     "output_type": "stream",
     "text": [
      "{'iteration': 25, 'params': {'learning_rate': 0.17694296900402975, 'max_depth': 4, 'n_estimators': 500, 'random_state': 42}, 'score': 1.0, 'elapsed_time': 1.8481254577636719}\n"
     ]
    },
    {
     "name": "stderr",
     "output_type": "stream",
     "text": [
      "C:\\Users\\padkins\\Anaconda3\\lib\\site-packages\\xgboost\\sklearn.py:1224: UserWarning: The use of label encoder in XGBClassifier is deprecated and will be removed in a future release. To remove this warning, do the following: 1) Pass option use_label_encoder=False when constructing XGBClassifier object; and 2) Encode your labels (y) as integers starting with 0, i.e. 0, 1, 2, ..., [num_class - 1].\n",
      "  warnings.warn(label_encoder_deprecation_msg, UserWarning)\n"
     ]
    },
    {
     "name": "stdout",
     "output_type": "stream",
     "text": [
      "{'iteration': 26, 'params': {'learning_rate': 0.1288634612470465, 'max_depth': 2, 'n_estimators': 500, 'random_state': 42}, 'score': 1.0, 'elapsed_time': 2.5391788482666016}\n"
     ]
    },
    {
     "name": "stderr",
     "output_type": "stream",
     "text": [
      "C:\\Users\\padkins\\Anaconda3\\lib\\site-packages\\xgboost\\sklearn.py:1224: UserWarning: The use of label encoder in XGBClassifier is deprecated and will be removed in a future release. To remove this warning, do the following: 1) Pass option use_label_encoder=False when constructing XGBClassifier object; and 2) Encode your labels (y) as integers starting with 0, i.e. 0, 1, 2, ..., [num_class - 1].\n",
      "  warnings.warn(label_encoder_deprecation_msg, UserWarning)\n"
     ]
    },
    {
     "name": "stdout",
     "output_type": "stream",
     "text": [
      "{'iteration': 27, 'params': {'learning_rate': 0.16643442882361997, 'max_depth': 3, 'n_estimators': 500, 'random_state': 42}, 'score': 1.0, 'elapsed_time': 2.241457462310791}\n"
     ]
    },
    {
     "name": "stderr",
     "output_type": "stream",
     "text": [
      "C:\\Users\\padkins\\Anaconda3\\lib\\site-packages\\xgboost\\sklearn.py:1224: UserWarning: The use of label encoder in XGBClassifier is deprecated and will be removed in a future release. To remove this warning, do the following: 1) Pass option use_label_encoder=False when constructing XGBClassifier object; and 2) Encode your labels (y) as integers starting with 0, i.e. 0, 1, 2, ..., [num_class - 1].\n",
      "  warnings.warn(label_encoder_deprecation_msg, UserWarning)\n"
     ]
    },
    {
     "name": "stdout",
     "output_type": "stream",
     "text": [
      "{'iteration': 28, 'params': {'learning_rate': 0.061291662445171355, 'max_depth': 4, 'n_estimators': 500, 'random_state': 42}, 'score': 1.0, 'elapsed_time': 3.3284411430358887}\n"
     ]
    },
    {
     "name": "stderr",
     "output_type": "stream",
     "text": [
      "C:\\Users\\padkins\\Anaconda3\\lib\\site-packages\\xgboost\\sklearn.py:1224: UserWarning: The use of label encoder in XGBClassifier is deprecated and will be removed in a future release. To remove this warning, do the following: 1) Pass option use_label_encoder=False when constructing XGBClassifier object; and 2) Encode your labels (y) as integers starting with 0, i.e. 0, 1, 2, ..., [num_class - 1].\n",
      "  warnings.warn(label_encoder_deprecation_msg, UserWarning)\n"
     ]
    },
    {
     "name": "stdout",
     "output_type": "stream",
     "text": [
      "{'iteration': 29, 'params': {'learning_rate': 0.2590643732718388, 'max_depth': 3, 'n_estimators': 500, 'random_state': 42}, 'score': 1.0, 'elapsed_time': 1.4658536911010742}\n"
     ]
    },
    {
     "name": "stderr",
     "output_type": "stream",
     "text": [
      "C:\\Users\\padkins\\Anaconda3\\lib\\site-packages\\xgboost\\sklearn.py:1224: UserWarning: The use of label encoder in XGBClassifier is deprecated and will be removed in a future release. To remove this warning, do the following: 1) Pass option use_label_encoder=False when constructing XGBClassifier object; and 2) Encode your labels (y) as integers starting with 0, i.e. 0, 1, 2, ..., [num_class - 1].\n",
      "  warnings.warn(label_encoder_deprecation_msg, UserWarning)\n"
     ]
    },
    {
     "name": "stdout",
     "output_type": "stream",
     "text": [
      "{'iteration': 30, 'params': {'learning_rate': 0.2285839183903231, 'max_depth': 2, 'n_estimators': 500, 'random_state': 42}, 'score': 1.0, 'elapsed_time': 1.6646525859832764}\n"
     ]
    },
    {
     "name": "stderr",
     "output_type": "stream",
     "text": [
      "C:\\Users\\padkins\\Anaconda3\\lib\\site-packages\\xgboost\\sklearn.py:1224: UserWarning: The use of label encoder in XGBClassifier is deprecated and will be removed in a future release. To remove this warning, do the following: 1) Pass option use_label_encoder=False when constructing XGBClassifier object; and 2) Encode your labels (y) as integers starting with 0, i.e. 0, 1, 2, ..., [num_class - 1].\n",
      "  warnings.warn(label_encoder_deprecation_msg, UserWarning)\n"
     ]
    },
    {
     "name": "stdout",
     "output_type": "stream",
     "text": [
      "{'iteration': 1, 'params': {'learning_rate': 0.21807594922742338, 'max_depth': 4, 'n_estimators': 500, 'random_state': 42}, 'score': 1.0, 'elapsed_time': 2.6977310180664062}\n"
     ]
    },
    {
     "name": "stderr",
     "output_type": "stream",
     "text": [
      "C:\\Users\\padkins\\Anaconda3\\lib\\site-packages\\xgboost\\sklearn.py:1224: UserWarning: The use of label encoder in XGBClassifier is deprecated and will be removed in a future release. To remove this warning, do the following: 1) Pass option use_label_encoder=False when constructing XGBClassifier object; and 2) Encode your labels (y) as integers starting with 0, i.e. 0, 1, 2, ..., [num_class - 1].\n",
      "  warnings.warn(label_encoder_deprecation_msg, UserWarning)\n"
     ]
    },
    {
     "name": "stdout",
     "output_type": "stream",
     "text": [
      "{'iteration': 2, 'params': {'learning_rate': 0.12421278116402375, 'max_depth': 2, 'n_estimators': 500, 'random_state': 42}, 'score': 1.0, 'elapsed_time': 4.205350160598755}\n"
     ]
    },
    {
     "name": "stderr",
     "output_type": "stream",
     "text": [
      "C:\\Users\\padkins\\Anaconda3\\lib\\site-packages\\xgboost\\sklearn.py:1224: UserWarning: The use of label encoder in XGBClassifier is deprecated and will be removed in a future release. To remove this warning, do the following: 1) Pass option use_label_encoder=False when constructing XGBClassifier object; and 2) Encode your labels (y) as integers starting with 0, i.e. 0, 1, 2, ..., [num_class - 1].\n",
      "  warnings.warn(label_encoder_deprecation_msg, UserWarning)\n"
     ]
    },
    {
     "name": "stdout",
     "output_type": "stream",
     "text": [
      "{'iteration': 3, 'params': {'learning_rate': 0.2565708585110695, 'max_depth': 2, 'n_estimators': 500, 'random_state': 42}, 'score': 1.0, 'elapsed_time': 2.8374788761138916}\n"
     ]
    },
    {
     "name": "stderr",
     "output_type": "stream",
     "text": [
      "C:\\Users\\padkins\\Anaconda3\\lib\\site-packages\\xgboost\\sklearn.py:1224: UserWarning: The use of label encoder in XGBClassifier is deprecated and will be removed in a future release. To remove this warning, do the following: 1) Pass option use_label_encoder=False when constructing XGBClassifier object; and 2) Encode your labels (y) as integers starting with 0, i.e. 0, 1, 2, ..., [num_class - 1].\n",
      "  warnings.warn(label_encoder_deprecation_msg, UserWarning)\n"
     ]
    },
    {
     "name": "stdout",
     "output_type": "stream",
     "text": [
      "{'iteration': 4, 'params': {'learning_rate': 0.023935832583690024, 'max_depth': 3, 'n_estimators': 500, 'random_state': 42}, 'score': 1.0, 'elapsed_time': 6.5311174392700195}\n"
     ]
    },
    {
     "name": "stderr",
     "output_type": "stream",
     "text": [
      "C:\\Users\\padkins\\Anaconda3\\lib\\site-packages\\xgboost\\sklearn.py:1224: UserWarning: The use of label encoder in XGBClassifier is deprecated and will be removed in a future release. To remove this warning, do the following: 1) Pass option use_label_encoder=False when constructing XGBClassifier object; and 2) Encode your labels (y) as integers starting with 0, i.e. 0, 1, 2, ..., [num_class - 1].\n",
      "  warnings.warn(label_encoder_deprecation_msg, UserWarning)\n"
     ]
    },
    {
     "name": "stdout",
     "output_type": "stream",
     "text": [
      "{'iteration': 5, 'params': {'learning_rate': 0.17126467763717826, 'max_depth': 4, 'n_estimators': 500, 'random_state': 42}, 'score': 1.0, 'elapsed_time': 2.624946355819702}\n"
     ]
    },
    {
     "name": "stderr",
     "output_type": "stream",
     "text": [
      "C:\\Users\\padkins\\Anaconda3\\lib\\site-packages\\xgboost\\sklearn.py:1224: UserWarning: The use of label encoder in XGBClassifier is deprecated and will be removed in a future release. To remove this warning, do the following: 1) Pass option use_label_encoder=False when constructing XGBClassifier object; and 2) Encode your labels (y) as integers starting with 0, i.e. 0, 1, 2, ..., [num_class - 1].\n",
      "  warnings.warn(label_encoder_deprecation_msg, UserWarning)\n"
     ]
    },
    {
     "name": "stdout",
     "output_type": "stream",
     "text": [
      "{'iteration': 6, 'params': {'learning_rate': 0.281365366249397, 'max_depth': 3, 'n_estimators': 500, 'random_state': 42}, 'score': 1.0, 'elapsed_time': 2.3505091667175293}\n"
     ]
    },
    {
     "name": "stderr",
     "output_type": "stream",
     "text": [
      "C:\\Users\\padkins\\Anaconda3\\lib\\site-packages\\xgboost\\sklearn.py:1224: UserWarning: The use of label encoder in XGBClassifier is deprecated and will be removed in a future release. To remove this warning, do the following: 1) Pass option use_label_encoder=False when constructing XGBClassifier object; and 2) Encode your labels (y) as integers starting with 0, i.e. 0, 1, 2, ..., [num_class - 1].\n",
      "  warnings.warn(label_encoder_deprecation_msg, UserWarning)\n"
     ]
    },
    {
     "name": "stdout",
     "output_type": "stream",
     "text": [
      "{'iteration': 7, 'params': {'learning_rate': 0.15415774074595553, 'max_depth': 3, 'n_estimators': 500, 'random_state': 42}, 'score': 1.0, 'elapsed_time': 3.1754069328308105}\n"
     ]
    },
    {
     "name": "stderr",
     "output_type": "stream",
     "text": [
      "C:\\Users\\padkins\\Anaconda3\\lib\\site-packages\\xgboost\\sklearn.py:1224: UserWarning: The use of label encoder in XGBClassifier is deprecated and will be removed in a future release. To remove this warning, do the following: 1) Pass option use_label_encoder=False when constructing XGBClassifier object; and 2) Encode your labels (y) as integers starting with 0, i.e. 0, 1, 2, ..., [num_class - 1].\n",
      "  warnings.warn(label_encoder_deprecation_msg, UserWarning)\n"
     ]
    },
    {
     "name": "stdout",
     "output_type": "stream",
     "text": [
      "{'iteration': 8, 'params': {'learning_rate': 0.012228261855118026, 'max_depth': 2, 'n_estimators': 500, 'random_state': 42}, 'score': 0.9953846153846154, 'elapsed_time': 4.921558141708374}\n"
     ]
    },
    {
     "name": "stderr",
     "output_type": "stream",
     "text": [
      "C:\\Users\\padkins\\Anaconda3\\lib\\site-packages\\xgboost\\sklearn.py:1224: UserWarning: The use of label encoder in XGBClassifier is deprecated and will be removed in a future release. To remove this warning, do the following: 1) Pass option use_label_encoder=False when constructing XGBClassifier object; and 2) Encode your labels (y) as integers starting with 0, i.e. 0, 1, 2, ..., [num_class - 1].\n",
      "  warnings.warn(label_encoder_deprecation_msg, UserWarning)\n"
     ]
    },
    {
     "name": "stdout",
     "output_type": "stream",
     "text": [
      "{'iteration': 9, 'params': {'learning_rate': 0.20326770162972527, 'max_depth': 2, 'n_estimators': 500, 'random_state': 42}, 'score': 1.0, 'elapsed_time': 2.6516435146331787}\n"
     ]
    },
    {
     "name": "stderr",
     "output_type": "stream",
     "text": [
      "C:\\Users\\padkins\\Anaconda3\\lib\\site-packages\\xgboost\\sklearn.py:1224: UserWarning: The use of label encoder in XGBClassifier is deprecated and will be removed in a future release. To remove this warning, do the following: 1) Pass option use_label_encoder=False when constructing XGBClassifier object; and 2) Encode your labels (y) as integers starting with 0, i.e. 0, 1, 2, ..., [num_class - 1].\n",
      "  warnings.warn(label_encoder_deprecation_msg, UserWarning)\n"
     ]
    },
    {
     "name": "stdout",
     "output_type": "stream",
     "text": [
      "{'iteration': 10, 'params': {'learning_rate': 0.27710625329260447, 'max_depth': 4, 'n_estimators': 500, 'random_state': 42}, 'score': 1.0, 'elapsed_time': 2.8944239616394043}\n"
     ]
    },
    {
     "name": "stderr",
     "output_type": "stream",
     "text": [
      "C:\\Users\\padkins\\Anaconda3\\lib\\site-packages\\xgboost\\sklearn.py:1224: UserWarning: The use of label encoder in XGBClassifier is deprecated and will be removed in a future release. To remove this warning, do the following: 1) Pass option use_label_encoder=False when constructing XGBClassifier object; and 2) Encode your labels (y) as integers starting with 0, i.e. 0, 1, 2, ..., [num_class - 1].\n",
      "  warnings.warn(label_encoder_deprecation_msg, UserWarning)\n"
     ]
    },
    {
     "name": "stdout",
     "output_type": "stream",
     "text": [
      "{'iteration': 11, 'params': {'learning_rate': 0.019472644735240213, 'max_depth': 3, 'n_estimators': 500, 'random_state': 42}, 'score': 1.0, 'elapsed_time': 6.490911483764648}\n"
     ]
    },
    {
     "name": "stderr",
     "output_type": "stream",
     "text": [
      "C:\\Users\\padkins\\Anaconda3\\lib\\site-packages\\xgboost\\sklearn.py:1224: UserWarning: The use of label encoder in XGBClassifier is deprecated and will be removed in a future release. To remove this warning, do the following: 1) Pass option use_label_encoder=False when constructing XGBClassifier object; and 2) Encode your labels (y) as integers starting with 0, i.e. 0, 1, 2, ..., [num_class - 1].\n",
      "  warnings.warn(label_encoder_deprecation_msg, UserWarning)\n"
     ]
    },
    {
     "name": "stdout",
     "output_type": "stream",
     "text": [
      "{'iteration': 12, 'params': {'learning_rate': 0.0874939215449446, 'max_depth': 2, 'n_estimators': 500, 'random_state': 42}, 'score': 1.0, 'elapsed_time': 5.0003502368927}\n"
     ]
    },
    {
     "name": "stderr",
     "output_type": "stream",
     "text": [
      "C:\\Users\\padkins\\Anaconda3\\lib\\site-packages\\xgboost\\sklearn.py:1224: UserWarning: The use of label encoder in XGBClassifier is deprecated and will be removed in a future release. To remove this warning, do the following: 1) Pass option use_label_encoder=False when constructing XGBClassifier object; and 2) Encode your labels (y) as integers starting with 0, i.e. 0, 1, 2, ..., [num_class - 1].\n",
      "  warnings.warn(label_encoder_deprecation_msg, UserWarning)\n"
     ]
    },
    {
     "name": "stdout",
     "output_type": "stream",
     "text": [
      "{'iteration': 13, 'params': {'learning_rate': 0.12985175705766402, 'max_depth': 4, 'n_estimators': 500, 'random_state': 42}, 'score': 1.0, 'elapsed_time': 4.008235216140747}\n"
     ]
    },
    {
     "name": "stderr",
     "output_type": "stream",
     "text": [
      "C:\\Users\\padkins\\Anaconda3\\lib\\site-packages\\xgboost\\sklearn.py:1224: UserWarning: The use of label encoder in XGBClassifier is deprecated and will be removed in a future release. To remove this warning, do the following: 1) Pass option use_label_encoder=False when constructing XGBClassifier object; and 2) Encode your labels (y) as integers starting with 0, i.e. 0, 1, 2, ..., [num_class - 1].\n",
      "  warnings.warn(label_encoder_deprecation_msg, UserWarning)\n"
     ]
    },
    {
     "name": "stdout",
     "output_type": "stream",
     "text": [
      "{'iteration': 14, 'params': {'learning_rate': 0.2819437873261121, 'max_depth': 3, 'n_estimators': 500, 'random_state': 42}, 'score': 1.0, 'elapsed_time': 2.786672830581665}\n"
     ]
    },
    {
     "name": "stderr",
     "output_type": "stream",
     "text": [
      "C:\\Users\\padkins\\Anaconda3\\lib\\site-packages\\xgboost\\sklearn.py:1224: UserWarning: The use of label encoder in XGBClassifier is deprecated and will be removed in a future release. To remove this warning, do the following: 1) Pass option use_label_encoder=False when constructing XGBClassifier object; and 2) Encode your labels (y) as integers starting with 0, i.e. 0, 1, 2, ..., [num_class - 1].\n",
      "  warnings.warn(label_encoder_deprecation_msg, UserWarning)\n"
     ]
    },
    {
     "name": "stdout",
     "output_type": "stream",
     "text": [
      "{'iteration': 15, 'params': {'learning_rate': 0.2904285961045164, 'max_depth': 2, 'n_estimators': 500, 'random_state': 42}, 'score': 1.0, 'elapsed_time': 2.4315781593322754}\n"
     ]
    },
    {
     "name": "stderr",
     "output_type": "stream",
     "text": [
      "C:\\Users\\padkins\\Anaconda3\\lib\\site-packages\\xgboost\\sklearn.py:1224: UserWarning: The use of label encoder in XGBClassifier is deprecated and will be removed in a future release. To remove this warning, do the following: 1) Pass option use_label_encoder=False when constructing XGBClassifier object; and 2) Encode your labels (y) as integers starting with 0, i.e. 0, 1, 2, ..., [num_class - 1].\n",
      "  warnings.warn(label_encoder_deprecation_msg, UserWarning)\n"
     ]
    },
    {
     "name": "stdout",
     "output_type": "stream",
     "text": [
      "{'iteration': 16, 'params': {'learning_rate': 0.08017155434198148, 'max_depth': 3, 'n_estimators': 500, 'random_state': 42}, 'score': 1.0, 'elapsed_time': 5.706044673919678}\n"
     ]
    },
    {
     "name": "stderr",
     "output_type": "stream",
     "text": [
      "C:\\Users\\padkins\\Anaconda3\\lib\\site-packages\\xgboost\\sklearn.py:1224: UserWarning: The use of label encoder in XGBClassifier is deprecated and will be removed in a future release. To remove this warning, do the following: 1) Pass option use_label_encoder=False when constructing XGBClassifier object; and 2) Encode your labels (y) as integers starting with 0, i.e. 0, 1, 2, ..., [num_class - 1].\n",
      "  warnings.warn(label_encoder_deprecation_msg, UserWarning)\n"
     ]
    },
    {
     "name": "stdout",
     "output_type": "stream",
     "text": [
      "{'iteration': 17, 'params': {'learning_rate': 0.12980993442356312, 'max_depth': 2, 'n_estimators': 500, 'random_state': 42}, 'score': 1.0, 'elapsed_time': 3.988751173019409}\n"
     ]
    },
    {
     "name": "stderr",
     "output_type": "stream",
     "text": [
      "C:\\Users\\padkins\\Anaconda3\\lib\\site-packages\\xgboost\\sklearn.py:1224: UserWarning: The use of label encoder in XGBClassifier is deprecated and will be removed in a future release. To remove this warning, do the following: 1) Pass option use_label_encoder=False when constructing XGBClassifier object; and 2) Encode your labels (y) as integers starting with 0, i.e. 0, 1, 2, ..., [num_class - 1].\n",
      "  warnings.warn(label_encoder_deprecation_msg, UserWarning)\n"
     ]
    },
    {
     "name": "stdout",
     "output_type": "stream",
     "text": [
      "{'iteration': 18, 'params': {'learning_rate': 0.2303681546043096, 'max_depth': 4, 'n_estimators': 500, 'random_state': 42}, 'score': 1.0, 'elapsed_time': 2.4923863410949707}\n"
     ]
    },
    {
     "name": "stderr",
     "output_type": "stream",
     "text": [
      "C:\\Users\\padkins\\Anaconda3\\lib\\site-packages\\xgboost\\sklearn.py:1224: UserWarning: The use of label encoder in XGBClassifier is deprecated and will be removed in a future release. To remove this warning, do the following: 1) Pass option use_label_encoder=False when constructing XGBClassifier object; and 2) Encode your labels (y) as integers starting with 0, i.e. 0, 1, 2, ..., [num_class - 1].\n",
      "  warnings.warn(label_encoder_deprecation_msg, UserWarning)\n"
     ]
    },
    {
     "name": "stdout",
     "output_type": "stream",
     "text": [
      "{'iteration': 19, 'params': {'learning_rate': 0.2937547577577268, 'max_depth': 3, 'n_estimators': 500, 'random_state': 42}, 'score': 1.0, 'elapsed_time': 2.5280187129974365}\n"
     ]
    },
    {
     "name": "stderr",
     "output_type": "stream",
     "text": [
      "C:\\Users\\padkins\\Anaconda3\\lib\\site-packages\\xgboost\\sklearn.py:1224: UserWarning: The use of label encoder in XGBClassifier is deprecated and will be removed in a future release. To remove this warning, do the following: 1) Pass option use_label_encoder=False when constructing XGBClassifier object; and 2) Encode your labels (y) as integers starting with 0, i.e. 0, 1, 2, ..., [num_class - 1].\n",
      "  warnings.warn(label_encoder_deprecation_msg, UserWarning)\n"
     ]
    },
    {
     "name": "stdout",
     "output_type": "stream",
     "text": [
      "{'iteration': 20, 'params': {'learning_rate': 0.09454842118210885, 'max_depth': 3, 'n_estimators': 500, 'random_state': 42}, 'score': 1.0, 'elapsed_time': 4.780730247497559}\n"
     ]
    },
    {
     "name": "stderr",
     "output_type": "stream",
     "text": [
      "C:\\Users\\padkins\\Anaconda3\\lib\\site-packages\\xgboost\\sklearn.py:1224: UserWarning: The use of label encoder in XGBClassifier is deprecated and will be removed in a future release. To remove this warning, do the following: 1) Pass option use_label_encoder=False when constructing XGBClassifier object; and 2) Encode your labels (y) as integers starting with 0, i.e. 0, 1, 2, ..., [num_class - 1].\n",
      "  warnings.warn(label_encoder_deprecation_msg, UserWarning)\n"
     ]
    },
    {
     "name": "stdout",
     "output_type": "stream",
     "text": [
      "{'iteration': 21, 'params': {'learning_rate': 0.0978750246927512, 'max_depth': 4, 'n_estimators': 500, 'random_state': 42}, 'score': 1.0, 'elapsed_time': 4.191629886627197}\n"
     ]
    },
    {
     "name": "stderr",
     "output_type": "stream",
     "text": [
      "C:\\Users\\padkins\\Anaconda3\\lib\\site-packages\\xgboost\\sklearn.py:1224: UserWarning: The use of label encoder in XGBClassifier is deprecated and will be removed in a future release. To remove this warning, do the following: 1) Pass option use_label_encoder=False when constructing XGBClassifier object; and 2) Encode your labels (y) as integers starting with 0, i.e. 0, 1, 2, ..., [num_class - 1].\n",
      "  warnings.warn(label_encoder_deprecation_msg, UserWarning)\n"
     ]
    },
    {
     "name": "stdout",
     "output_type": "stream",
     "text": [
      "{'iteration': 22, 'params': {'learning_rate': 0.26485223000543284, 'max_depth': 2, 'n_estimators': 500, 'random_state': 42}, 'score': 1.0, 'elapsed_time': 2.551760673522949}\n"
     ]
    },
    {
     "name": "stderr",
     "output_type": "stream",
     "text": [
      "C:\\Users\\padkins\\Anaconda3\\lib\\site-packages\\xgboost\\sklearn.py:1224: UserWarning: The use of label encoder in XGBClassifier is deprecated and will be removed in a future release. To remove this warning, do the following: 1) Pass option use_label_encoder=False when constructing XGBClassifier object; and 2) Encode your labels (y) as integers starting with 0, i.e. 0, 1, 2, ..., [num_class - 1].\n",
      "  warnings.warn(label_encoder_deprecation_msg, UserWarning)\n"
     ]
    },
    {
     "name": "stdout",
     "output_type": "stream",
     "text": [
      "{'iteration': 23, 'params': {'learning_rate': 0.2136683239895256, 'max_depth': 2, 'n_estimators': 500, 'random_state': 42}, 'score': 1.0, 'elapsed_time': 2.6441147327423096}\n"
     ]
    },
    {
     "name": "stderr",
     "output_type": "stream",
     "text": [
      "C:\\Users\\padkins\\Anaconda3\\lib\\site-packages\\xgboost\\sklearn.py:1224: UserWarning: The use of label encoder in XGBClassifier is deprecated and will be removed in a future release. To remove this warning, do the following: 1) Pass option use_label_encoder=False when constructing XGBClassifier object; and 2) Encode your labels (y) as integers starting with 0, i.e. 0, 1, 2, ..., [num_class - 1].\n",
      "  warnings.warn(label_encoder_deprecation_msg, UserWarning)\n"
     ]
    },
    {
     "name": "stdout",
     "output_type": "stream",
     "text": [
      "{'iteration': 24, 'params': {'learning_rate': 0.08896160746069616, 'max_depth': 4, 'n_estimators': 500, 'random_state': 42}, 'score': 1.0, 'elapsed_time': 4.931337594985962}\n"
     ]
    },
    {
     "name": "stderr",
     "output_type": "stream",
     "text": [
      "C:\\Users\\padkins\\Anaconda3\\lib\\site-packages\\xgboost\\sklearn.py:1224: UserWarning: The use of label encoder in XGBClassifier is deprecated and will be removed in a future release. To remove this warning, do the following: 1) Pass option use_label_encoder=False when constructing XGBClassifier object; and 2) Encode your labels (y) as integers starting with 0, i.e. 0, 1, 2, ..., [num_class - 1].\n",
      "  warnings.warn(label_encoder_deprecation_msg, UserWarning)\n"
     ]
    },
    {
     "name": "stdout",
     "output_type": "stream",
     "text": [
      "{'iteration': 25, 'params': {'learning_rate': 0.2305518606215657, 'max_depth': 4, 'n_estimators': 500, 'random_state': 42}, 'score': 1.0, 'elapsed_time': 2.353778839111328}\n"
     ]
    },
    {
     "name": "stderr",
     "output_type": "stream",
     "text": [
      "C:\\Users\\padkins\\Anaconda3\\lib\\site-packages\\xgboost\\sklearn.py:1224: UserWarning: The use of label encoder in XGBClassifier is deprecated and will be removed in a future release. To remove this warning, do the following: 1) Pass option use_label_encoder=False when constructing XGBClassifier object; and 2) Encode your labels (y) as integers starting with 0, i.e. 0, 1, 2, ..., [num_class - 1].\n",
      "  warnings.warn(label_encoder_deprecation_msg, UserWarning)\n"
     ]
    },
    {
     "name": "stdout",
     "output_type": "stream",
     "text": [
      "{'iteration': 26, 'params': {'learning_rate': 0.29460541490343967, 'max_depth': 3, 'n_estimators': 500, 'random_state': 42}, 'score': 1.0, 'elapsed_time': 3.0475237369537354}\n"
     ]
    },
    {
     "name": "stderr",
     "output_type": "stream",
     "text": [
      "C:\\Users\\padkins\\Anaconda3\\lib\\site-packages\\xgboost\\sklearn.py:1224: UserWarning: The use of label encoder in XGBClassifier is deprecated and will be removed in a future release. To remove this warning, do the following: 1) Pass option use_label_encoder=False when constructing XGBClassifier object; and 2) Encode your labels (y) as integers starting with 0, i.e. 0, 1, 2, ..., [num_class - 1].\n",
      "  warnings.warn(label_encoder_deprecation_msg, UserWarning)\n"
     ]
    },
    {
     "name": "stdout",
     "output_type": "stream",
     "text": [
      "{'iteration': 27, 'params': {'learning_rate': 0.061533184633024894, 'max_depth': 2, 'n_estimators': 500, 'random_state': 42}, 'score': 1.0, 'elapsed_time': 4.992145299911499}\n"
     ]
    },
    {
     "name": "stderr",
     "output_type": "stream",
     "text": [
      "C:\\Users\\padkins\\Anaconda3\\lib\\site-packages\\xgboost\\sklearn.py:1224: UserWarning: The use of label encoder in XGBClassifier is deprecated and will be removed in a future release. To remove this warning, do the following: 1) Pass option use_label_encoder=False when constructing XGBClassifier object; and 2) Encode your labels (y) as integers starting with 0, i.e. 0, 1, 2, ..., [num_class - 1].\n",
      "  warnings.warn(label_encoder_deprecation_msg, UserWarning)\n"
     ]
    },
    {
     "name": "stdout",
     "output_type": "stream",
     "text": [
      "{'iteration': 28, 'params': {'learning_rate': 0.29811700757523973, 'max_depth': 3, 'n_estimators': 500, 'random_state': 42}, 'score': 1.0, 'elapsed_time': 2.4093523025512695}\n"
     ]
    },
    {
     "name": "stderr",
     "output_type": "stream",
     "text": [
      "C:\\Users\\padkins\\Anaconda3\\lib\\site-packages\\xgboost\\sklearn.py:1224: UserWarning: The use of label encoder in XGBClassifier is deprecated and will be removed in a future release. To remove this warning, do the following: 1) Pass option use_label_encoder=False when constructing XGBClassifier object; and 2) Encode your labels (y) as integers starting with 0, i.e. 0, 1, 2, ..., [num_class - 1].\n",
      "  warnings.warn(label_encoder_deprecation_msg, UserWarning)\n"
     ]
    },
    {
     "name": "stdout",
     "output_type": "stream",
     "text": [
      "{'iteration': 29, 'params': {'learning_rate': 0.10751242171168932, 'max_depth': 2, 'n_estimators': 500, 'random_state': 42}, 'score': 1.0, 'elapsed_time': 4.934535026550293}\n"
     ]
    },
    {
     "name": "stderr",
     "output_type": "stream",
     "text": [
      "C:\\Users\\padkins\\Anaconda3\\lib\\site-packages\\xgboost\\sklearn.py:1224: UserWarning: The use of label encoder in XGBClassifier is deprecated and will be removed in a future release. To remove this warning, do the following: 1) Pass option use_label_encoder=False when constructing XGBClassifier object; and 2) Encode your labels (y) as integers starting with 0, i.e. 0, 1, 2, ..., [num_class - 1].\n",
      "  warnings.warn(label_encoder_deprecation_msg, UserWarning)\n"
     ]
    },
    {
     "name": "stdout",
     "output_type": "stream",
     "text": [
      "{'iteration': 30, 'params': {'learning_rate': 0.22330354099325778, 'max_depth': 3, 'n_estimators': 500, 'random_state': 42}, 'score': 1.0, 'elapsed_time': 3.58596134185791}\n"
     ]
    },
    {
     "name": "stderr",
     "output_type": "stream",
     "text": [
      "C:\\Users\\padkins\\Anaconda3\\lib\\site-packages\\xgboost\\sklearn.py:1224: UserWarning: The use of label encoder in XGBClassifier is deprecated and will be removed in a future release. To remove this warning, do the following: 1) Pass option use_label_encoder=False when constructing XGBClassifier object; and 2) Encode your labels (y) as integers starting with 0, i.e. 0, 1, 2, ..., [num_class - 1].\n",
      "  warnings.warn(label_encoder_deprecation_msg, UserWarning)\n"
     ]
    },
    {
     "name": "stdout",
     "output_type": "stream",
     "text": [
      "{'iteration': 1, 'params': {'learning_rate': 0.2253010392373157, 'max_depth': 2, 'n_estimators': 500, 'random_state': 42}, 'score': 1.0, 'elapsed_time': 2.0190019607543945}\n"
     ]
    },
    {
     "name": "stderr",
     "output_type": "stream",
     "text": [
      "C:\\Users\\padkins\\Anaconda3\\lib\\site-packages\\xgboost\\sklearn.py:1224: UserWarning: The use of label encoder in XGBClassifier is deprecated and will be removed in a future release. To remove this warning, do the following: 1) Pass option use_label_encoder=False when constructing XGBClassifier object; and 2) Encode your labels (y) as integers starting with 0, i.e. 0, 1, 2, ..., [num_class - 1].\n",
      "  warnings.warn(label_encoder_deprecation_msg, UserWarning)\n"
     ]
    },
    {
     "name": "stdout",
     "output_type": "stream",
     "text": [
      "{'iteration': 2, 'params': {'learning_rate': 0.08970989906741933, 'max_depth': 2, 'n_estimators': 500, 'random_state': 42}, 'score': 1.0, 'elapsed_time': 2.33309268951416}\n"
     ]
    },
    {
     "name": "stderr",
     "output_type": "stream",
     "text": [
      "C:\\Users\\padkins\\Anaconda3\\lib\\site-packages\\xgboost\\sklearn.py:1224: UserWarning: The use of label encoder in XGBClassifier is deprecated and will be removed in a future release. To remove this warning, do the following: 1) Pass option use_label_encoder=False when constructing XGBClassifier object; and 2) Encode your labels (y) as integers starting with 0, i.e. 0, 1, 2, ..., [num_class - 1].\n",
      "  warnings.warn(label_encoder_deprecation_msg, UserWarning)\n"
     ]
    },
    {
     "name": "stdout",
     "output_type": "stream",
     "text": [
      "{'iteration': 3, 'params': {'learning_rate': 0.16009343155545766, 'max_depth': 2, 'n_estimators': 500, 'random_state': 42}, 'score': 1.0, 'elapsed_time': 2.160665512084961}\n"
     ]
    },
    {
     "name": "stderr",
     "output_type": "stream",
     "text": [
      "C:\\Users\\padkins\\Anaconda3\\lib\\site-packages\\xgboost\\sklearn.py:1224: UserWarning: The use of label encoder in XGBClassifier is deprecated and will be removed in a future release. To remove this warning, do the following: 1) Pass option use_label_encoder=False when constructing XGBClassifier object; and 2) Encode your labels (y) as integers starting with 0, i.e. 0, 1, 2, ..., [num_class - 1].\n",
      "  warnings.warn(label_encoder_deprecation_msg, UserWarning)\n"
     ]
    },
    {
     "name": "stdout",
     "output_type": "stream",
     "text": [
      "{'iteration': 4, 'params': {'learning_rate': 0.08667807057861268, 'max_depth': 2, 'n_estimators': 500, 'random_state': 42}, 'score': 1.0, 'elapsed_time': 2.345414400100708}\n"
     ]
    },
    {
     "name": "stderr",
     "output_type": "stream",
     "text": [
      "C:\\Users\\padkins\\Anaconda3\\lib\\site-packages\\xgboost\\sklearn.py:1224: UserWarning: The use of label encoder in XGBClassifier is deprecated and will be removed in a future release. To remove this warning, do the following: 1) Pass option use_label_encoder=False when constructing XGBClassifier object; and 2) Encode your labels (y) as integers starting with 0, i.e. 0, 1, 2, ..., [num_class - 1].\n",
      "  warnings.warn(label_encoder_deprecation_msg, UserWarning)\n"
     ]
    },
    {
     "name": "stdout",
     "output_type": "stream",
     "text": [
      "{'iteration': 5, 'params': {'learning_rate': 0.053860210585345264, 'max_depth': 2, 'n_estimators': 500, 'random_state': 42}, 'score': 1.0, 'elapsed_time': 2.3803391456604004}\n"
     ]
    },
    {
     "name": "stderr",
     "output_type": "stream",
     "text": [
      "C:\\Users\\padkins\\Anaconda3\\lib\\site-packages\\xgboost\\sklearn.py:1224: UserWarning: The use of label encoder in XGBClassifier is deprecated and will be removed in a future release. To remove this warning, do the following: 1) Pass option use_label_encoder=False when constructing XGBClassifier object; and 2) Encode your labels (y) as integers starting with 0, i.e. 0, 1, 2, ..., [num_class - 1].\n",
      "  warnings.warn(label_encoder_deprecation_msg, UserWarning)\n"
     ]
    },
    {
     "name": "stdout",
     "output_type": "stream",
     "text": [
      "{'iteration': 6, 'params': {'learning_rate': 0.13521599204448112, 'max_depth': 3, 'n_estimators': 500, 'random_state': 42}, 'score': 1.0, 'elapsed_time': 1.644552230834961}\n"
     ]
    },
    {
     "name": "stderr",
     "output_type": "stream",
     "text": [
      "C:\\Users\\padkins\\Anaconda3\\lib\\site-packages\\xgboost\\sklearn.py:1224: UserWarning: The use of label encoder in XGBClassifier is deprecated and will be removed in a future release. To remove this warning, do the following: 1) Pass option use_label_encoder=False when constructing XGBClassifier object; and 2) Encode your labels (y) as integers starting with 0, i.e. 0, 1, 2, ..., [num_class - 1].\n",
      "  warnings.warn(label_encoder_deprecation_msg, UserWarning)\n"
     ]
    },
    {
     "name": "stdout",
     "output_type": "stream",
     "text": [
      "{'iteration': 7, 'params': {'learning_rate': 0.1881858656807193, 'max_depth': 3, 'n_estimators': 500, 'random_state': 42}, 'score': 1.0, 'elapsed_time': 1.5643773078918457}\n"
     ]
    },
    {
     "name": "stderr",
     "output_type": "stream",
     "text": [
      "C:\\Users\\padkins\\Anaconda3\\lib\\site-packages\\xgboost\\sklearn.py:1224: UserWarning: The use of label encoder in XGBClassifier is deprecated and will be removed in a future release. To remove this warning, do the following: 1) Pass option use_label_encoder=False when constructing XGBClassifier object; and 2) Encode your labels (y) as integers starting with 0, i.e. 0, 1, 2, ..., [num_class - 1].\n",
      "  warnings.warn(label_encoder_deprecation_msg, UserWarning)\n"
     ]
    },
    {
     "name": "stdout",
     "output_type": "stream",
     "text": [
      "{'iteration': 8, 'params': {'learning_rate': 0.19512229437038825, 'max_depth': 2, 'n_estimators': 500, 'random_state': 42}, 'score': 1.0, 'elapsed_time': 1.5100152492523193}\n"
     ]
    },
    {
     "name": "stderr",
     "output_type": "stream",
     "text": [
      "C:\\Users\\padkins\\Anaconda3\\lib\\site-packages\\xgboost\\sklearn.py:1224: UserWarning: The use of label encoder in XGBClassifier is deprecated and will be removed in a future release. To remove this warning, do the following: 1) Pass option use_label_encoder=False when constructing XGBClassifier object; and 2) Encode your labels (y) as integers starting with 0, i.e. 0, 1, 2, ..., [num_class - 1].\n",
      "  warnings.warn(label_encoder_deprecation_msg, UserWarning)\n"
     ]
    },
    {
     "name": "stdout",
     "output_type": "stream",
     "text": [
      "{'iteration': 9, 'params': {'learning_rate': 0.04557379715343939, 'max_depth': 3, 'n_estimators': 500, 'random_state': 42}, 'score': 1.0, 'elapsed_time': 3.0747532844543457}\n"
     ]
    },
    {
     "name": "stderr",
     "output_type": "stream",
     "text": [
      "C:\\Users\\padkins\\Anaconda3\\lib\\site-packages\\xgboost\\sklearn.py:1224: UserWarning: The use of label encoder in XGBClassifier is deprecated and will be removed in a future release. To remove this warning, do the following: 1) Pass option use_label_encoder=False when constructing XGBClassifier object; and 2) Encode your labels (y) as integers starting with 0, i.e. 0, 1, 2, ..., [num_class - 1].\n",
      "  warnings.warn(label_encoder_deprecation_msg, UserWarning)\n"
     ]
    },
    {
     "name": "stdout",
     "output_type": "stream",
     "text": [
      "{'iteration': 10, 'params': {'learning_rate': 0.010231862742191853, 'max_depth': 3, 'n_estimators': 500, 'random_state': 42}, 'score': 1.0, 'elapsed_time': 3.03967022895813}\n"
     ]
    },
    {
     "name": "stderr",
     "output_type": "stream",
     "text": [
      "C:\\Users\\padkins\\Anaconda3\\lib\\site-packages\\xgboost\\sklearn.py:1224: UserWarning: The use of label encoder in XGBClassifier is deprecated and will be removed in a future release. To remove this warning, do the following: 1) Pass option use_label_encoder=False when constructing XGBClassifier object; and 2) Encode your labels (y) as integers starting with 0, i.e. 0, 1, 2, ..., [num_class - 1].\n",
      "  warnings.warn(label_encoder_deprecation_msg, UserWarning)\n"
     ]
    },
    {
     "name": "stdout",
     "output_type": "stream",
     "text": [
      "{'iteration': 11, 'params': {'learning_rate': 0.19595347654091794, 'max_depth': 2, 'n_estimators': 500, 'random_state': 42}, 'score': 1.0, 'elapsed_time': 0.936795711517334}\n"
     ]
    },
    {
     "name": "stderr",
     "output_type": "stream",
     "text": [
      "C:\\Users\\padkins\\Anaconda3\\lib\\site-packages\\xgboost\\sklearn.py:1224: UserWarning: The use of label encoder in XGBClassifier is deprecated and will be removed in a future release. To remove this warning, do the following: 1) Pass option use_label_encoder=False when constructing XGBClassifier object; and 2) Encode your labels (y) as integers starting with 0, i.e. 0, 1, 2, ..., [num_class - 1].\n",
      "  warnings.warn(label_encoder_deprecation_msg, UserWarning)\n"
     ]
    },
    {
     "name": "stdout",
     "output_type": "stream",
     "text": [
      "{'iteration': 12, 'params': {'learning_rate': 0.12700064368038758, 'max_depth': 3, 'n_estimators': 500, 'random_state': 42}, 'score': 1.0, 'elapsed_time': 1.865919589996338}\n"
     ]
    },
    {
     "name": "stderr",
     "output_type": "stream",
     "text": [
      "C:\\Users\\padkins\\Anaconda3\\lib\\site-packages\\xgboost\\sklearn.py:1224: UserWarning: The use of label encoder in XGBClassifier is deprecated and will be removed in a future release. To remove this warning, do the following: 1) Pass option use_label_encoder=False when constructing XGBClassifier object; and 2) Encode your labels (y) as integers starting with 0, i.e. 0, 1, 2, ..., [num_class - 1].\n",
      "  warnings.warn(label_encoder_deprecation_msg, UserWarning)\n"
     ]
    },
    {
     "name": "stdout",
     "output_type": "stream",
     "text": [
      "{'iteration': 13, 'params': {'learning_rate': 0.2694196437329055, 'max_depth': 4, 'n_estimators': 500, 'random_state': 42}, 'score': 1.0, 'elapsed_time': 1.2469377517700195}\n"
     ]
    },
    {
     "name": "stderr",
     "output_type": "stream",
     "text": [
      "C:\\Users\\padkins\\Anaconda3\\lib\\site-packages\\xgboost\\sklearn.py:1224: UserWarning: The use of label encoder in XGBClassifier is deprecated and will be removed in a future release. To remove this warning, do the following: 1) Pass option use_label_encoder=False when constructing XGBClassifier object; and 2) Encode your labels (y) as integers starting with 0, i.e. 0, 1, 2, ..., [num_class - 1].\n",
      "  warnings.warn(label_encoder_deprecation_msg, UserWarning)\n"
     ]
    },
    {
     "name": "stdout",
     "output_type": "stream",
     "text": [
      "{'iteration': 14, 'params': {'learning_rate': 0.14550352589643933, 'max_depth': 4, 'n_estimators': 500, 'random_state': 42}, 'score': 1.0, 'elapsed_time': 2.2401411533355713}\n"
     ]
    },
    {
     "name": "stderr",
     "output_type": "stream",
     "text": [
      "C:\\Users\\padkins\\Anaconda3\\lib\\site-packages\\xgboost\\sklearn.py:1224: UserWarning: The use of label encoder in XGBClassifier is deprecated and will be removed in a future release. To remove this warning, do the following: 1) Pass option use_label_encoder=False when constructing XGBClassifier object; and 2) Encode your labels (y) as integers starting with 0, i.e. 0, 1, 2, ..., [num_class - 1].\n",
      "  warnings.warn(label_encoder_deprecation_msg, UserWarning)\n"
     ]
    },
    {
     "name": "stdout",
     "output_type": "stream",
     "text": [
      "{'iteration': 15, 'params': {'learning_rate': 0.29797912952335515, 'max_depth': 4, 'n_estimators': 500, 'random_state': 42}, 'score': 1.0, 'elapsed_time': 1.5542974472045898}\n"
     ]
    },
    {
     "name": "stderr",
     "output_type": "stream",
     "text": [
      "C:\\Users\\padkins\\Anaconda3\\lib\\site-packages\\xgboost\\sklearn.py:1224: UserWarning: The use of label encoder in XGBClassifier is deprecated and will be removed in a future release. To remove this warning, do the following: 1) Pass option use_label_encoder=False when constructing XGBClassifier object; and 2) Encode your labels (y) as integers starting with 0, i.e. 0, 1, 2, ..., [num_class - 1].\n",
      "  warnings.warn(label_encoder_deprecation_msg, UserWarning)\n"
     ]
    },
    {
     "name": "stdout",
     "output_type": "stream",
     "text": [
      "{'iteration': 16, 'params': {'learning_rate': 0.09627490640401211, 'max_depth': 4, 'n_estimators': 500, 'random_state': 42}, 'score': 1.0, 'elapsed_time': 2.839005708694458}\n"
     ]
    },
    {
     "name": "stderr",
     "output_type": "stream",
     "text": [
      "C:\\Users\\padkins\\Anaconda3\\lib\\site-packages\\xgboost\\sklearn.py:1224: UserWarning: The use of label encoder in XGBClassifier is deprecated and will be removed in a future release. To remove this warning, do the following: 1) Pass option use_label_encoder=False when constructing XGBClassifier object; and 2) Encode your labels (y) as integers starting with 0, i.e. 0, 1, 2, ..., [num_class - 1].\n",
      "  warnings.warn(label_encoder_deprecation_msg, UserWarning)\n"
     ]
    },
    {
     "name": "stdout",
     "output_type": "stream",
     "text": [
      "{'iteration': 17, 'params': {'learning_rate': 0.15200118164176749, 'max_depth': 4, 'n_estimators': 500, 'random_state': 42}, 'score': 1.0, 'elapsed_time': 1.8069782257080078}\n"
     ]
    },
    {
     "name": "stderr",
     "output_type": "stream",
     "text": [
      "C:\\Users\\padkins\\Anaconda3\\lib\\site-packages\\xgboost\\sklearn.py:1224: UserWarning: The use of label encoder in XGBClassifier is deprecated and will be removed in a future release. To remove this warning, do the following: 1) Pass option use_label_encoder=False when constructing XGBClassifier object; and 2) Encode your labels (y) as integers starting with 0, i.e. 0, 1, 2, ..., [num_class - 1].\n",
      "  warnings.warn(label_encoder_deprecation_msg, UserWarning)\n"
     ]
    },
    {
     "name": "stdout",
     "output_type": "stream",
     "text": [
      "{'iteration': 18, 'params': {'learning_rate': 0.20394782885733267, 'max_depth': 3, 'n_estimators': 500, 'random_state': 42}, 'score': 1.0, 'elapsed_time': 1.0389842987060547}\n"
     ]
    },
    {
     "name": "stderr",
     "output_type": "stream",
     "text": [
      "C:\\Users\\padkins\\Anaconda3\\lib\\site-packages\\xgboost\\sklearn.py:1224: UserWarning: The use of label encoder in XGBClassifier is deprecated and will be removed in a future release. To remove this warning, do the following: 1) Pass option use_label_encoder=False when constructing XGBClassifier object; and 2) Encode your labels (y) as integers starting with 0, i.e. 0, 1, 2, ..., [num_class - 1].\n",
      "  warnings.warn(label_encoder_deprecation_msg, UserWarning)\n"
     ]
    },
    {
     "name": "stdout",
     "output_type": "stream",
     "text": [
      "{'iteration': 19, 'params': {'learning_rate': 0.24584423898922672, 'max_depth': 3, 'n_estimators': 500, 'random_state': 42}, 'score': 1.0, 'elapsed_time': 0.8696563243865967}\n"
     ]
    },
    {
     "name": "stderr",
     "output_type": "stream",
     "text": [
      "C:\\Users\\padkins\\Anaconda3\\lib\\site-packages\\xgboost\\sklearn.py:1224: UserWarning: The use of label encoder in XGBClassifier is deprecated and will be removed in a future release. To remove this warning, do the following: 1) Pass option use_label_encoder=False when constructing XGBClassifier object; and 2) Encode your labels (y) as integers starting with 0, i.e. 0, 1, 2, ..., [num_class - 1].\n",
      "  warnings.warn(label_encoder_deprecation_msg, UserWarning)\n"
     ]
    },
    {
     "name": "stdout",
     "output_type": "stream",
     "text": [
      "{'iteration': 20, 'params': {'learning_rate': 0.09151049248949779, 'max_depth': 2, 'n_estimators': 500, 'random_state': 42}, 'score': 1.0, 'elapsed_time': 2.226585626602173}\n"
     ]
    },
    {
     "name": "stderr",
     "output_type": "stream",
     "text": [
      "C:\\Users\\padkins\\Anaconda3\\lib\\site-packages\\xgboost\\sklearn.py:1224: UserWarning: The use of label encoder in XGBClassifier is deprecated and will be removed in a future release. To remove this warning, do the following: 1) Pass option use_label_encoder=False when constructing XGBClassifier object; and 2) Encode your labels (y) as integers starting with 0, i.e. 0, 1, 2, ..., [num_class - 1].\n",
      "  warnings.warn(label_encoder_deprecation_msg, UserWarning)\n"
     ]
    },
    {
     "name": "stdout",
     "output_type": "stream",
     "text": [
      "{'iteration': 21, 'params': {'learning_rate': 0.0763303369734984, 'max_depth': 2, 'n_estimators': 500, 'random_state': 42}, 'score': 1.0, 'elapsed_time': 2.4379823207855225}\n"
     ]
    },
    {
     "name": "stderr",
     "output_type": "stream",
     "text": [
      "C:\\Users\\padkins\\Anaconda3\\lib\\site-packages\\xgboost\\sklearn.py:1224: UserWarning: The use of label encoder in XGBClassifier is deprecated and will be removed in a future release. To remove this warning, do the following: 1) Pass option use_label_encoder=False when constructing XGBClassifier object; and 2) Encode your labels (y) as integers starting with 0, i.e. 0, 1, 2, ..., [num_class - 1].\n",
      "  warnings.warn(label_encoder_deprecation_msg, UserWarning)\n"
     ]
    },
    {
     "name": "stdout",
     "output_type": "stream",
     "text": [
      "{'iteration': 22, 'params': {'learning_rate': 0.11002137896789248, 'max_depth': 4, 'n_estimators': 500, 'random_state': 42}, 'score': 1.0, 'elapsed_time': 2.6003365516662598}\n"
     ]
    },
    {
     "name": "stderr",
     "output_type": "stream",
     "text": [
      "C:\\Users\\padkins\\Anaconda3\\lib\\site-packages\\xgboost\\sklearn.py:1224: UserWarning: The use of label encoder in XGBClassifier is deprecated and will be removed in a future release. To remove this warning, do the following: 1) Pass option use_label_encoder=False when constructing XGBClassifier object; and 2) Encode your labels (y) as integers starting with 0, i.e. 0, 1, 2, ..., [num_class - 1].\n",
      "  warnings.warn(label_encoder_deprecation_msg, UserWarning)\n"
     ]
    },
    {
     "name": "stdout",
     "output_type": "stream",
     "text": [
      "{'iteration': 23, 'params': {'learning_rate': 0.24211297244759208, 'max_depth': 2, 'n_estimators': 500, 'random_state': 42}, 'score': 1.0, 'elapsed_time': 1.8803277015686035}\n"
     ]
    },
    {
     "name": "stderr",
     "output_type": "stream",
     "text": [
      "C:\\Users\\padkins\\Anaconda3\\lib\\site-packages\\xgboost\\sklearn.py:1224: UserWarning: The use of label encoder in XGBClassifier is deprecated and will be removed in a future release. To remove this warning, do the following: 1) Pass option use_label_encoder=False when constructing XGBClassifier object; and 2) Encode your labels (y) as integers starting with 0, i.e. 0, 1, 2, ..., [num_class - 1].\n",
      "  warnings.warn(label_encoder_deprecation_msg, UserWarning)\n"
     ]
    },
    {
     "name": "stdout",
     "output_type": "stream",
     "text": [
      "{'iteration': 24, 'params': {'learning_rate': 0.02626605261773466, 'max_depth': 2, 'n_estimators': 500, 'random_state': 42}, 'score': 0.9984615384615385, 'elapsed_time': 2.4380218982696533}\n"
     ]
    },
    {
     "name": "stderr",
     "output_type": "stream",
     "text": [
      "C:\\Users\\padkins\\Anaconda3\\lib\\site-packages\\xgboost\\sklearn.py:1224: UserWarning: The use of label encoder in XGBClassifier is deprecated and will be removed in a future release. To remove this warning, do the following: 1) Pass option use_label_encoder=False when constructing XGBClassifier object; and 2) Encode your labels (y) as integers starting with 0, i.e. 0, 1, 2, ..., [num_class - 1].\n",
      "  warnings.warn(label_encoder_deprecation_msg, UserWarning)\n"
     ]
    },
    {
     "name": "stdout",
     "output_type": "stream",
     "text": [
      "{'iteration': 25, 'params': {'learning_rate': 0.18187576270032074, 'max_depth': 2, 'n_estimators': 500, 'random_state': 42}, 'score': 1.0, 'elapsed_time': 1.8742599487304688}\n"
     ]
    },
    {
     "name": "stderr",
     "output_type": "stream",
     "text": [
      "C:\\Users\\padkins\\Anaconda3\\lib\\site-packages\\xgboost\\sklearn.py:1224: UserWarning: The use of label encoder in XGBClassifier is deprecated and will be removed in a future release. To remove this warning, do the following: 1) Pass option use_label_encoder=False when constructing XGBClassifier object; and 2) Encode your labels (y) as integers starting with 0, i.e. 0, 1, 2, ..., [num_class - 1].\n",
      "  warnings.warn(label_encoder_deprecation_msg, UserWarning)\n"
     ]
    },
    {
     "name": "stdout",
     "output_type": "stream",
     "text": [
      "{'iteration': 26, 'params': {'learning_rate': 0.03160507486055169, 'max_depth': 4, 'n_estimators': 500, 'random_state': 42}, 'score': 1.0, 'elapsed_time': 3.4953420162200928}\n"
     ]
    },
    {
     "name": "stderr",
     "output_type": "stream",
     "text": [
      "C:\\Users\\padkins\\Anaconda3\\lib\\site-packages\\xgboost\\sklearn.py:1224: UserWarning: The use of label encoder in XGBClassifier is deprecated and will be removed in a future release. To remove this warning, do the following: 1) Pass option use_label_encoder=False when constructing XGBClassifier object; and 2) Encode your labels (y) as integers starting with 0, i.e. 0, 1, 2, ..., [num_class - 1].\n",
      "  warnings.warn(label_encoder_deprecation_msg, UserWarning)\n"
     ]
    },
    {
     "name": "stdout",
     "output_type": "stream",
     "text": [
      "{'iteration': 27, 'params': {'learning_rate': 0.1586683551268571, 'max_depth': 2, 'n_estimators': 500, 'random_state': 42}, 'score': 1.0, 'elapsed_time': 1.9177069664001465}\n"
     ]
    },
    {
     "name": "stderr",
     "output_type": "stream",
     "text": [
      "C:\\Users\\padkins\\Anaconda3\\lib\\site-packages\\xgboost\\sklearn.py:1224: UserWarning: The use of label encoder in XGBClassifier is deprecated and will be removed in a future release. To remove this warning, do the following: 1) Pass option use_label_encoder=False when constructing XGBClassifier object; and 2) Encode your labels (y) as integers starting with 0, i.e. 0, 1, 2, ..., [num_class - 1].\n",
      "  warnings.warn(label_encoder_deprecation_msg, UserWarning)\n"
     ]
    },
    {
     "name": "stdout",
     "output_type": "stream",
     "text": [
      "{'iteration': 28, 'params': {'learning_rate': 0.2160552172779535, 'max_depth': 3, 'n_estimators': 500, 'random_state': 42}, 'score': 1.0, 'elapsed_time': 1.2917184829711914}\n"
     ]
    },
    {
     "name": "stderr",
     "output_type": "stream",
     "text": [
      "C:\\Users\\padkins\\Anaconda3\\lib\\site-packages\\xgboost\\sklearn.py:1224: UserWarning: The use of label encoder in XGBClassifier is deprecated and will be removed in a future release. To remove this warning, do the following: 1) Pass option use_label_encoder=False when constructing XGBClassifier object; and 2) Encode your labels (y) as integers starting with 0, i.e. 0, 1, 2, ..., [num_class - 1].\n",
      "  warnings.warn(label_encoder_deprecation_msg, UserWarning)\n"
     ]
    },
    {
     "name": "stdout",
     "output_type": "stream",
     "text": [
      "{'iteration': 29, 'params': {'learning_rate': 0.09584252623705987, 'max_depth': 3, 'n_estimators': 500, 'random_state': 42}, 'score': 1.0, 'elapsed_time': 1.9542462825775146}\n"
     ]
    },
    {
     "name": "stderr",
     "output_type": "stream",
     "text": [
      "C:\\Users\\padkins\\Anaconda3\\lib\\site-packages\\xgboost\\sklearn.py:1224: UserWarning: The use of label encoder in XGBClassifier is deprecated and will be removed in a future release. To remove this warning, do the following: 1) Pass option use_label_encoder=False when constructing XGBClassifier object; and 2) Encode your labels (y) as integers starting with 0, i.e. 0, 1, 2, ..., [num_class - 1].\n",
      "  warnings.warn(label_encoder_deprecation_msg, UserWarning)\n"
     ]
    },
    {
     "name": "stdout",
     "output_type": "stream",
     "text": [
      "{'iteration': 30, 'params': {'learning_rate': 0.12974533571198846, 'max_depth': 3, 'n_estimators': 500, 'random_state': 42}, 'score': 1.0, 'elapsed_time': 2.2315165996551514}\n",
      "doing adult.csv\n"
     ]
    },
    {
     "name": "stderr",
     "output_type": "stream",
     "text": [
      "C:\\Users\\padkins\\Anaconda3\\lib\\site-packages\\xgboost\\sklearn.py:1224: UserWarning: The use of label encoder in XGBClassifier is deprecated and will be removed in a future release. To remove this warning, do the following: 1) Pass option use_label_encoder=False when constructing XGBClassifier object; and 2) Encode your labels (y) as integers starting with 0, i.e. 0, 1, 2, ..., [num_class - 1].\n",
      "  warnings.warn(label_encoder_deprecation_msg, UserWarning)\n"
     ]
    },
    {
     "name": "stdout",
     "output_type": "stream",
     "text": [
      "{'iteration': 1, 'params': {'learning_rate': 0.07125245965050538, 'max_depth': 3, 'n_estimators': 500, 'random_state': 42}, 'score': 0.8710172744721689, 'elapsed_time': 11.711949825286865}\n"
     ]
    },
    {
     "name": "stderr",
     "output_type": "stream",
     "text": [
      "C:\\Users\\padkins\\Anaconda3\\lib\\site-packages\\xgboost\\sklearn.py:1224: UserWarning: The use of label encoder in XGBClassifier is deprecated and will be removed in a future release. To remove this warning, do the following: 1) Pass option use_label_encoder=False when constructing XGBClassifier object; and 2) Encode your labels (y) as integers starting with 0, i.e. 0, 1, 2, ..., [num_class - 1].\n",
      "  warnings.warn(label_encoder_deprecation_msg, UserWarning)\n"
     ]
    },
    {
     "name": "stdout",
     "output_type": "stream",
     "text": [
      "{'iteration': 2, 'params': {'learning_rate': 0.07269722876379514, 'max_depth': 2, 'n_estimators': 500, 'random_state': 42}, 'score': 0.872168905950096, 'elapsed_time': 8.971653938293457}\n"
     ]
    },
    {
     "name": "stderr",
     "output_type": "stream",
     "text": [
      "C:\\Users\\padkins\\Anaconda3\\lib\\site-packages\\xgboost\\sklearn.py:1224: UserWarning: The use of label encoder in XGBClassifier is deprecated and will be removed in a future release. To remove this warning, do the following: 1) Pass option use_label_encoder=False when constructing XGBClassifier object; and 2) Encode your labels (y) as integers starting with 0, i.e. 0, 1, 2, ..., [num_class - 1].\n",
      "  warnings.warn(label_encoder_deprecation_msg, UserWarning)\n"
     ]
    },
    {
     "name": "stdout",
     "output_type": "stream",
     "text": [
      "{'iteration': 3, 'params': {'learning_rate': 0.19316254458514734, 'max_depth': 4, 'n_estimators': 500, 'random_state': 42}, 'score': 0.8694817658349329, 'elapsed_time': 4.150890111923218}\n"
     ]
    },
    {
     "name": "stderr",
     "output_type": "stream",
     "text": [
      "C:\\Users\\padkins\\Anaconda3\\lib\\site-packages\\xgboost\\sklearn.py:1224: UserWarning: The use of label encoder in XGBClassifier is deprecated and will be removed in a future release. To remove this warning, do the following: 1) Pass option use_label_encoder=False when constructing XGBClassifier object; and 2) Encode your labels (y) as integers starting with 0, i.e. 0, 1, 2, ..., [num_class - 1].\n",
      "  warnings.warn(label_encoder_deprecation_msg, UserWarning)\n"
     ]
    },
    {
     "name": "stdout",
     "output_type": "stream",
     "text": [
      "{'iteration': 4, 'params': {'learning_rate': 0.24726112594858482, 'max_depth': 3, 'n_estimators': 500, 'random_state': 42}, 'score': 0.8694817658349329, 'elapsed_time': 3.812805652618408}\n"
     ]
    },
    {
     "name": "stderr",
     "output_type": "stream",
     "text": [
      "C:\\Users\\padkins\\Anaconda3\\lib\\site-packages\\xgboost\\sklearn.py:1224: UserWarning: The use of label encoder in XGBClassifier is deprecated and will be removed in a future release. To remove this warning, do the following: 1) Pass option use_label_encoder=False when constructing XGBClassifier object; and 2) Encode your labels (y) as integers starting with 0, i.e. 0, 1, 2, ..., [num_class - 1].\n",
      "  warnings.warn(label_encoder_deprecation_msg, UserWarning)\n"
     ]
    },
    {
     "name": "stdout",
     "output_type": "stream",
     "text": [
      "{'iteration': 5, 'params': {'learning_rate': 0.08494440808583445, 'max_depth': 3, 'n_estimators': 500, 'random_state': 42}, 'score': 0.8687140115163148, 'elapsed_time': 9.561065912246704}\n"
     ]
    },
    {
     "name": "stderr",
     "output_type": "stream",
     "text": [
      "C:\\Users\\padkins\\Anaconda3\\lib\\site-packages\\xgboost\\sklearn.py:1224: UserWarning: The use of label encoder in XGBClassifier is deprecated and will be removed in a future release. To remove this warning, do the following: 1) Pass option use_label_encoder=False when constructing XGBClassifier object; and 2) Encode your labels (y) as integers starting with 0, i.e. 0, 1, 2, ..., [num_class - 1].\n",
      "  warnings.warn(label_encoder_deprecation_msg, UserWarning)\n"
     ]
    },
    {
     "name": "stdout",
     "output_type": "stream",
     "text": [
      "{'iteration': 6, 'params': {'learning_rate': 0.08827354866291413, 'max_depth': 3, 'n_estimators': 500, 'random_state': 42}, 'score': 0.8717850287907869, 'elapsed_time': 9.168065547943115}\n"
     ]
    },
    {
     "name": "stderr",
     "output_type": "stream",
     "text": [
      "C:\\Users\\padkins\\Anaconda3\\lib\\site-packages\\xgboost\\sklearn.py:1224: UserWarning: The use of label encoder in XGBClassifier is deprecated and will be removed in a future release. To remove this warning, do the following: 1) Pass option use_label_encoder=False when constructing XGBClassifier object; and 2) Encode your labels (y) as integers starting with 0, i.e. 0, 1, 2, ..., [num_class - 1].\n",
      "  warnings.warn(label_encoder_deprecation_msg, UserWarning)\n"
     ]
    },
    {
     "name": "stdout",
     "output_type": "stream",
     "text": [
      "{'iteration': 7, 'params': {'learning_rate': 0.07172390565734175, 'max_depth': 4, 'n_estimators': 500, 'random_state': 42}, 'score': 0.8671785028790787, 'elapsed_time': 8.246943473815918}\n"
     ]
    },
    {
     "name": "stderr",
     "output_type": "stream",
     "text": [
      "C:\\Users\\padkins\\Anaconda3\\lib\\site-packages\\xgboost\\sklearn.py:1224: UserWarning: The use of label encoder in XGBClassifier is deprecated and will be removed in a future release. To remove this warning, do the following: 1) Pass option use_label_encoder=False when constructing XGBClassifier object; and 2) Encode your labels (y) as integers starting with 0, i.e. 0, 1, 2, ..., [num_class - 1].\n",
      "  warnings.warn(label_encoder_deprecation_msg, UserWarning)\n"
     ]
    },
    {
     "name": "stdout",
     "output_type": "stream",
     "text": [
      "{'iteration': 8, 'params': {'learning_rate': 0.17349894476465533, 'max_depth': 2, 'n_estimators': 500, 'random_state': 42}, 'score': 0.8714011516314779, 'elapsed_time': 4.387982606887817}\n"
     ]
    },
    {
     "name": "stderr",
     "output_type": "stream",
     "text": [
      "C:\\Users\\padkins\\Anaconda3\\lib\\site-packages\\xgboost\\sklearn.py:1224: UserWarning: The use of label encoder in XGBClassifier is deprecated and will be removed in a future release. To remove this warning, do the following: 1) Pass option use_label_encoder=False when constructing XGBClassifier object; and 2) Encode your labels (y) as integers starting with 0, i.e. 0, 1, 2, ..., [num_class - 1].\n",
      "  warnings.warn(label_encoder_deprecation_msg, UserWarning)\n"
     ]
    },
    {
     "name": "stdout",
     "output_type": "stream",
     "text": [
      "{'iteration': 9, 'params': {'learning_rate': 0.10194242569387132, 'max_depth': 4, 'n_estimators': 500, 'random_state': 42}, 'score': 0.8687140115163148, 'elapsed_time': 7.142765760421753}\n"
     ]
    },
    {
     "name": "stderr",
     "output_type": "stream",
     "text": [
      "C:\\Users\\padkins\\Anaconda3\\lib\\site-packages\\xgboost\\sklearn.py:1224: UserWarning: The use of label encoder in XGBClassifier is deprecated and will be removed in a future release. To remove this warning, do the following: 1) Pass option use_label_encoder=False when constructing XGBClassifier object; and 2) Encode your labels (y) as integers starting with 0, i.e. 0, 1, 2, ..., [num_class - 1].\n",
      "  warnings.warn(label_encoder_deprecation_msg, UserWarning)\n"
     ]
    },
    {
     "name": "stdout",
     "output_type": "stream",
     "text": [
      "{'iteration': 10, 'params': {'learning_rate': 0.15483811410989842, 'max_depth': 3, 'n_estimators': 500, 'random_state': 42}, 'score': 0.8690978886756238, 'elapsed_time': 4.764051675796509}\n"
     ]
    },
    {
     "name": "stderr",
     "output_type": "stream",
     "text": [
      "C:\\Users\\padkins\\Anaconda3\\lib\\site-packages\\xgboost\\sklearn.py:1224: UserWarning: The use of label encoder in XGBClassifier is deprecated and will be removed in a future release. To remove this warning, do the following: 1) Pass option use_label_encoder=False when constructing XGBClassifier object; and 2) Encode your labels (y) as integers starting with 0, i.e. 0, 1, 2, ..., [num_class - 1].\n",
      "  warnings.warn(label_encoder_deprecation_msg, UserWarning)\n"
     ]
    },
    {
     "name": "stdout",
     "output_type": "stream",
     "text": [
      "{'iteration': 11, 'params': {'learning_rate': 0.025266250712029856, 'max_depth': 3, 'n_estimators': 500, 'random_state': 42}, 'score': 0.8717850287907869, 'elapsed_time': 12.550069093704224}\n"
     ]
    },
    {
     "name": "stderr",
     "output_type": "stream",
     "text": [
      "C:\\Users\\padkins\\Anaconda3\\lib\\site-packages\\xgboost\\sklearn.py:1224: UserWarning: The use of label encoder in XGBClassifier is deprecated and will be removed in a future release. To remove this warning, do the following: 1) Pass option use_label_encoder=False when constructing XGBClassifier object; and 2) Encode your labels (y) as integers starting with 0, i.e. 0, 1, 2, ..., [num_class - 1].\n",
      "  warnings.warn(label_encoder_deprecation_msg, UserWarning)\n"
     ]
    },
    {
     "name": "stdout",
     "output_type": "stream",
     "text": [
      "{'iteration': 12, 'params': {'learning_rate': 0.15004433757609933, 'max_depth': 4, 'n_estimators': 500, 'random_state': 42}, 'score': 0.8667946257197697, 'elapsed_time': 4.840846061706543}\n"
     ]
    },
    {
     "name": "stderr",
     "output_type": "stream",
     "text": [
      "C:\\Users\\padkins\\Anaconda3\\lib\\site-packages\\xgboost\\sklearn.py:1224: UserWarning: The use of label encoder in XGBClassifier is deprecated and will be removed in a future release. To remove this warning, do the following: 1) Pass option use_label_encoder=False when constructing XGBClassifier object; and 2) Encode your labels (y) as integers starting with 0, i.e. 0, 1, 2, ..., [num_class - 1].\n",
      "  warnings.warn(label_encoder_deprecation_msg, UserWarning)\n"
     ]
    },
    {
     "name": "stdout",
     "output_type": "stream",
     "text": [
      "{'iteration': 13, 'params': {'learning_rate': 0.29896836081366257, 'max_depth': 4, 'n_estimators': 500, 'random_state': 42}, 'score': 0.8702495201535508, 'elapsed_time': 3.874091148376465}\n"
     ]
    },
    {
     "name": "stderr",
     "output_type": "stream",
     "text": [
      "C:\\Users\\padkins\\Anaconda3\\lib\\site-packages\\xgboost\\sklearn.py:1224: UserWarning: The use of label encoder in XGBClassifier is deprecated and will be removed in a future release. To remove this warning, do the following: 1) Pass option use_label_encoder=False when constructing XGBClassifier object; and 2) Encode your labels (y) as integers starting with 0, i.e. 0, 1, 2, ..., [num_class - 1].\n",
      "  warnings.warn(label_encoder_deprecation_msg, UserWarning)\n"
     ]
    },
    {
     "name": "stdout",
     "output_type": "stream",
     "text": [
      "{'iteration': 14, 'params': {'learning_rate': 0.07903968380408188, 'max_depth': 2, 'n_estimators': 500, 'random_state': 42}, 'score': 0.8717850287907869, 'elapsed_time': 9.923065423965454}\n"
     ]
    },
    {
     "name": "stderr",
     "output_type": "stream",
     "text": [
      "C:\\Users\\padkins\\Anaconda3\\lib\\site-packages\\xgboost\\sklearn.py:1224: UserWarning: The use of label encoder in XGBClassifier is deprecated and will be removed in a future release. To remove this warning, do the following: 1) Pass option use_label_encoder=False when constructing XGBClassifier object; and 2) Encode your labels (y) as integers starting with 0, i.e. 0, 1, 2, ..., [num_class - 1].\n",
      "  warnings.warn(label_encoder_deprecation_msg, UserWarning)\n"
     ]
    },
    {
     "name": "stdout",
     "output_type": "stream",
     "text": [
      "{'iteration': 15, 'params': {'learning_rate': 0.13499297577145175, 'max_depth': 3, 'n_estimators': 500, 'random_state': 42}, 'score': 0.8706333973128599, 'elapsed_time': 5.037108659744263}\n"
     ]
    },
    {
     "name": "stderr",
     "output_type": "stream",
     "text": [
      "C:\\Users\\padkins\\Anaconda3\\lib\\site-packages\\xgboost\\sklearn.py:1224: UserWarning: The use of label encoder in XGBClassifier is deprecated and will be removed in a future release. To remove this warning, do the following: 1) Pass option use_label_encoder=False when constructing XGBClassifier object; and 2) Encode your labels (y) as integers starting with 0, i.e. 0, 1, 2, ..., [num_class - 1].\n",
      "  warnings.warn(label_encoder_deprecation_msg, UserWarning)\n"
     ]
    },
    {
     "name": "stdout",
     "output_type": "stream",
     "text": [
      "{'iteration': 16, 'params': {'learning_rate': 0.19078100276982954, 'max_depth': 4, 'n_estimators': 500, 'random_state': 42}, 'score': 0.8675623800383877, 'elapsed_time': 4.349420070648193}\n"
     ]
    },
    {
     "name": "stderr",
     "output_type": "stream",
     "text": [
      "C:\\Users\\padkins\\Anaconda3\\lib\\site-packages\\xgboost\\sklearn.py:1224: UserWarning: The use of label encoder in XGBClassifier is deprecated and will be removed in a future release. To remove this warning, do the following: 1) Pass option use_label_encoder=False when constructing XGBClassifier object; and 2) Encode your labels (y) as integers starting with 0, i.e. 0, 1, 2, ..., [num_class - 1].\n",
      "  warnings.warn(label_encoder_deprecation_msg, UserWarning)\n"
     ]
    },
    {
     "name": "stdout",
     "output_type": "stream",
     "text": [
      "{'iteration': 17, 'params': {'learning_rate': 0.14336530764317706, 'max_depth': 2, 'n_estimators': 500, 'random_state': 42}, 'score': 0.872168905950096, 'elapsed_time': 4.897733211517334}\n"
     ]
    },
    {
     "name": "stderr",
     "output_type": "stream",
     "text": [
      "C:\\Users\\padkins\\Anaconda3\\lib\\site-packages\\xgboost\\sklearn.py:1224: UserWarning: The use of label encoder in XGBClassifier is deprecated and will be removed in a future release. To remove this warning, do the following: 1) Pass option use_label_encoder=False when constructing XGBClassifier object; and 2) Encode your labels (y) as integers starting with 0, i.e. 0, 1, 2, ..., [num_class - 1].\n",
      "  warnings.warn(label_encoder_deprecation_msg, UserWarning)\n"
     ]
    },
    {
     "name": "stdout",
     "output_type": "stream",
     "text": [
      "{'iteration': 18, 'params': {'learning_rate': 0.09785541921182024, 'max_depth': 2, 'n_estimators': 500, 'random_state': 42}, 'score': 0.8717850287907869, 'elapsed_time': 7.965851545333862}\n"
     ]
    },
    {
     "name": "stderr",
     "output_type": "stream",
     "text": [
      "C:\\Users\\padkins\\Anaconda3\\lib\\site-packages\\xgboost\\sklearn.py:1224: UserWarning: The use of label encoder in XGBClassifier is deprecated and will be removed in a future release. To remove this warning, do the following: 1) Pass option use_label_encoder=False when constructing XGBClassifier object; and 2) Encode your labels (y) as integers starting with 0, i.e. 0, 1, 2, ..., [num_class - 1].\n",
      "  warnings.warn(label_encoder_deprecation_msg, UserWarning)\n"
     ]
    },
    {
     "name": "stdout",
     "output_type": "stream",
     "text": [
      "{'iteration': 19, 'params': {'learning_rate': 0.20336621544624492, 'max_depth': 4, 'n_estimators': 500, 'random_state': 42}, 'score': 0.8706333973128599, 'elapsed_time': 3.605898380279541}\n"
     ]
    },
    {
     "name": "stderr",
     "output_type": "stream",
     "text": [
      "C:\\Users\\padkins\\Anaconda3\\lib\\site-packages\\xgboost\\sklearn.py:1224: UserWarning: The use of label encoder in XGBClassifier is deprecated and will be removed in a future release. To remove this warning, do the following: 1) Pass option use_label_encoder=False when constructing XGBClassifier object; and 2) Encode your labels (y) as integers starting with 0, i.e. 0, 1, 2, ..., [num_class - 1].\n",
      "  warnings.warn(label_encoder_deprecation_msg, UserWarning)\n"
     ]
    },
    {
     "name": "stdout",
     "output_type": "stream",
     "text": [
      "{'iteration': 20, 'params': {'learning_rate': 0.1935911098566157, 'max_depth': 3, 'n_estimators': 500, 'random_state': 42}, 'score': 0.8714011516314779, 'elapsed_time': 5.315744876861572}\n"
     ]
    },
    {
     "name": "stderr",
     "output_type": "stream",
     "text": [
      "C:\\Users\\padkins\\Anaconda3\\lib\\site-packages\\xgboost\\sklearn.py:1224: UserWarning: The use of label encoder in XGBClassifier is deprecated and will be removed in a future release. To remove this warning, do the following: 1) Pass option use_label_encoder=False when constructing XGBClassifier object; and 2) Encode your labels (y) as integers starting with 0, i.e. 0, 1, 2, ..., [num_class - 1].\n",
      "  warnings.warn(label_encoder_deprecation_msg, UserWarning)\n"
     ]
    },
    {
     "name": "stdout",
     "output_type": "stream",
     "text": [
      "{'iteration': 21, 'params': {'learning_rate': 0.12918580620956757, 'max_depth': 2, 'n_estimators': 500, 'random_state': 42}, 'score': 0.872936660268714, 'elapsed_time': 5.507497310638428}\n"
     ]
    },
    {
     "name": "stderr",
     "output_type": "stream",
     "text": [
      "C:\\Users\\padkins\\Anaconda3\\lib\\site-packages\\xgboost\\sklearn.py:1224: UserWarning: The use of label encoder in XGBClassifier is deprecated and will be removed in a future release. To remove this warning, do the following: 1) Pass option use_label_encoder=False when constructing XGBClassifier object; and 2) Encode your labels (y) as integers starting with 0, i.e. 0, 1, 2, ..., [num_class - 1].\n",
      "  warnings.warn(label_encoder_deprecation_msg, UserWarning)\n"
     ]
    },
    {
     "name": "stdout",
     "output_type": "stream",
     "text": [
      "{'iteration': 22, 'params': {'learning_rate': 0.17276345346242092, 'max_depth': 2, 'n_estimators': 500, 'random_state': 42}, 'score': 0.872936660268714, 'elapsed_time': 4.5616455078125}\n"
     ]
    },
    {
     "name": "stderr",
     "output_type": "stream",
     "text": [
      "C:\\Users\\padkins\\Anaconda3\\lib\\site-packages\\xgboost\\sklearn.py:1224: UserWarning: The use of label encoder in XGBClassifier is deprecated and will be removed in a future release. To remove this warning, do the following: 1) Pass option use_label_encoder=False when constructing XGBClassifier object; and 2) Encode your labels (y) as integers starting with 0, i.e. 0, 1, 2, ..., [num_class - 1].\n",
      "  warnings.warn(label_encoder_deprecation_msg, UserWarning)\n"
     ]
    },
    {
     "name": "stdout",
     "output_type": "stream",
     "text": [
      "{'iteration': 23, 'params': {'learning_rate': 0.06949106484219318, 'max_depth': 3, 'n_estimators': 500, 'random_state': 42}, 'score': 0.8702495201535508, 'elapsed_time': 11.64435076713562}\n"
     ]
    },
    {
     "name": "stderr",
     "output_type": "stream",
     "text": [
      "C:\\Users\\padkins\\Anaconda3\\lib\\site-packages\\xgboost\\sklearn.py:1224: UserWarning: The use of label encoder in XGBClassifier is deprecated and will be removed in a future release. To remove this warning, do the following: 1) Pass option use_label_encoder=False when constructing XGBClassifier object; and 2) Encode your labels (y) as integers starting with 0, i.e. 0, 1, 2, ..., [num_class - 1].\n",
      "  warnings.warn(label_encoder_deprecation_msg, UserWarning)\n"
     ]
    },
    {
     "name": "stdout",
     "output_type": "stream",
     "text": [
      "{'iteration': 24, 'params': {'learning_rate': 0.08140334111122889, 'max_depth': 2, 'n_estimators': 500, 'random_state': 42}, 'score': 0.8714011516314779, 'elapsed_time': 9.58397650718689}\n"
     ]
    },
    {
     "name": "stderr",
     "output_type": "stream",
     "text": [
      "C:\\Users\\padkins\\Anaconda3\\lib\\site-packages\\xgboost\\sklearn.py:1224: UserWarning: The use of label encoder in XGBClassifier is deprecated and will be removed in a future release. To remove this warning, do the following: 1) Pass option use_label_encoder=False when constructing XGBClassifier object; and 2) Encode your labels (y) as integers starting with 0, i.e. 0, 1, 2, ..., [num_class - 1].\n",
      "  warnings.warn(label_encoder_deprecation_msg, UserWarning)\n"
     ]
    },
    {
     "name": "stdout",
     "output_type": "stream",
     "text": [
      "{'iteration': 25, 'params': {'learning_rate': 0.013483049122925413, 'max_depth': 4, 'n_estimators': 500, 'random_state': 42}, 'score': 0.8679462571976967, 'elapsed_time': 16.489998817443848}\n"
     ]
    },
    {
     "name": "stderr",
     "output_type": "stream",
     "text": [
      "C:\\Users\\padkins\\Anaconda3\\lib\\site-packages\\xgboost\\sklearn.py:1224: UserWarning: The use of label encoder in XGBClassifier is deprecated and will be removed in a future release. To remove this warning, do the following: 1) Pass option use_label_encoder=False when constructing XGBClassifier object; and 2) Encode your labels (y) as integers starting with 0, i.e. 0, 1, 2, ..., [num_class - 1].\n",
      "  warnings.warn(label_encoder_deprecation_msg, UserWarning)\n"
     ]
    },
    {
     "name": "stdout",
     "output_type": "stream",
     "text": [
      "{'iteration': 26, 'params': {'learning_rate': 0.2562972769055875, 'max_depth': 3, 'n_estimators': 500, 'random_state': 42}, 'score': 0.8710172744721689, 'elapsed_time': 3.8128857612609863}\n"
     ]
    },
    {
     "name": "stderr",
     "output_type": "stream",
     "text": [
      "C:\\Users\\padkins\\Anaconda3\\lib\\site-packages\\xgboost\\sklearn.py:1224: UserWarning: The use of label encoder in XGBClassifier is deprecated and will be removed in a future release. To remove this warning, do the following: 1) Pass option use_label_encoder=False when constructing XGBClassifier object; and 2) Encode your labels (y) as integers starting with 0, i.e. 0, 1, 2, ..., [num_class - 1].\n",
      "  warnings.warn(label_encoder_deprecation_msg, UserWarning)\n"
     ]
    },
    {
     "name": "stdout",
     "output_type": "stream",
     "text": [
      "{'iteration': 27, 'params': {'learning_rate': 0.12723818297322834, 'max_depth': 2, 'n_estimators': 500, 'random_state': 42}, 'score': 0.8702495201535508, 'elapsed_time': 5.0124592781066895}\n"
     ]
    },
    {
     "name": "stderr",
     "output_type": "stream",
     "text": [
      "C:\\Users\\padkins\\Anaconda3\\lib\\site-packages\\xgboost\\sklearn.py:1224: UserWarning: The use of label encoder in XGBClassifier is deprecated and will be removed in a future release. To remove this warning, do the following: 1) Pass option use_label_encoder=False when constructing XGBClassifier object; and 2) Encode your labels (y) as integers starting with 0, i.e. 0, 1, 2, ..., [num_class - 1].\n",
      "  warnings.warn(label_encoder_deprecation_msg, UserWarning)\n"
     ]
    },
    {
     "name": "stdout",
     "output_type": "stream",
     "text": [
      "{'iteration': 28, 'params': {'learning_rate': 0.049480880299818286, 'max_depth': 4, 'n_estimators': 500, 'random_state': 42}, 'score': 0.8687140115163148, 'elapsed_time': 12.859712362289429}\n"
     ]
    },
    {
     "name": "stderr",
     "output_type": "stream",
     "text": [
      "C:\\Users\\padkins\\Anaconda3\\lib\\site-packages\\xgboost\\sklearn.py:1224: UserWarning: The use of label encoder in XGBClassifier is deprecated and will be removed in a future release. To remove this warning, do the following: 1) Pass option use_label_encoder=False when constructing XGBClassifier object; and 2) Encode your labels (y) as integers starting with 0, i.e. 0, 1, 2, ..., [num_class - 1].\n",
      "  warnings.warn(label_encoder_deprecation_msg, UserWarning)\n"
     ]
    },
    {
     "name": "stdout",
     "output_type": "stream",
     "text": [
      "{'iteration': 29, 'params': {'learning_rate': 0.12059641526229278, 'max_depth': 4, 'n_estimators': 500, 'random_state': 42}, 'score': 0.8702495201535508, 'elapsed_time': 5.619614124298096}\n"
     ]
    },
    {
     "name": "stderr",
     "output_type": "stream",
     "text": [
      "C:\\Users\\padkins\\Anaconda3\\lib\\site-packages\\xgboost\\sklearn.py:1224: UserWarning: The use of label encoder in XGBClassifier is deprecated and will be removed in a future release. To remove this warning, do the following: 1) Pass option use_label_encoder=False when constructing XGBClassifier object; and 2) Encode your labels (y) as integers starting with 0, i.e. 0, 1, 2, ..., [num_class - 1].\n",
      "  warnings.warn(label_encoder_deprecation_msg, UserWarning)\n"
     ]
    },
    {
     "name": "stdout",
     "output_type": "stream",
     "text": [
      "{'iteration': 30, 'params': {'learning_rate': 0.07092775048254575, 'max_depth': 2, 'n_estimators': 500, 'random_state': 42}, 'score': 0.8710172744721689, 'elapsed_time': 9.17554521560669}\n"
     ]
    },
    {
     "name": "stderr",
     "output_type": "stream",
     "text": [
      "C:\\Users\\padkins\\Anaconda3\\lib\\site-packages\\xgboost\\sklearn.py:1224: UserWarning: The use of label encoder in XGBClassifier is deprecated and will be removed in a future release. To remove this warning, do the following: 1) Pass option use_label_encoder=False when constructing XGBClassifier object; and 2) Encode your labels (y) as integers starting with 0, i.e. 0, 1, 2, ..., [num_class - 1].\n",
      "  warnings.warn(label_encoder_deprecation_msg, UserWarning)\n"
     ]
    },
    {
     "name": "stdout",
     "output_type": "stream",
     "text": [
      "{'iteration': 1, 'params': {'learning_rate': 0.27618218144241524, 'max_depth': 3, 'n_estimators': 500, 'random_state': 42}, 'score': 0.8714011516314779, 'elapsed_time': 2.3283894062042236}\n"
     ]
    },
    {
     "name": "stderr",
     "output_type": "stream",
     "text": [
      "C:\\Users\\padkins\\Anaconda3\\lib\\site-packages\\xgboost\\sklearn.py:1224: UserWarning: The use of label encoder in XGBClassifier is deprecated and will be removed in a future release. To remove this warning, do the following: 1) Pass option use_label_encoder=False when constructing XGBClassifier object; and 2) Encode your labels (y) as integers starting with 0, i.e. 0, 1, 2, ..., [num_class - 1].\n",
      "  warnings.warn(label_encoder_deprecation_msg, UserWarning)\n"
     ]
    },
    {
     "name": "stdout",
     "output_type": "stream",
     "text": [
      "{'iteration': 2, 'params': {'learning_rate': 0.12028488268779516, 'max_depth': 2, 'n_estimators': 500, 'random_state': 42}, 'score': 0.8679462571976967, 'elapsed_time': 4.2701616287231445}\n"
     ]
    },
    {
     "name": "stderr",
     "output_type": "stream",
     "text": [
      "C:\\Users\\padkins\\Anaconda3\\lib\\site-packages\\xgboost\\sklearn.py:1224: UserWarning: The use of label encoder in XGBClassifier is deprecated and will be removed in a future release. To remove this warning, do the following: 1) Pass option use_label_encoder=False when constructing XGBClassifier object; and 2) Encode your labels (y) as integers starting with 0, i.e. 0, 1, 2, ..., [num_class - 1].\n",
      "  warnings.warn(label_encoder_deprecation_msg, UserWarning)\n"
     ]
    },
    {
     "name": "stdout",
     "output_type": "stream",
     "text": [
      "{'iteration': 3, 'params': {'learning_rate': 0.038603273237111366, 'max_depth': 3, 'n_estimators': 500, 'random_state': 42}, 'score': 0.8706333973128599, 'elapsed_time': 9.080363035202026}\n"
     ]
    },
    {
     "name": "stderr",
     "output_type": "stream",
     "text": [
      "C:\\Users\\padkins\\Anaconda3\\lib\\site-packages\\xgboost\\sklearn.py:1224: UserWarning: The use of label encoder in XGBClassifier is deprecated and will be removed in a future release. To remove this warning, do the following: 1) Pass option use_label_encoder=False when constructing XGBClassifier object; and 2) Encode your labels (y) as integers starting with 0, i.e. 0, 1, 2, ..., [num_class - 1].\n",
      "  warnings.warn(label_encoder_deprecation_msg, UserWarning)\n"
     ]
    },
    {
     "name": "stdout",
     "output_type": "stream",
     "text": [
      "{'iteration': 4, 'params': {'learning_rate': 0.03134776334975521, 'max_depth': 3, 'n_estimators': 500, 'random_state': 42}, 'score': 0.8687140115163148, 'elapsed_time': 9.547972440719604}\n"
     ]
    },
    {
     "name": "stderr",
     "output_type": "stream",
     "text": [
      "C:\\Users\\padkins\\Anaconda3\\lib\\site-packages\\xgboost\\sklearn.py:1224: UserWarning: The use of label encoder in XGBClassifier is deprecated and will be removed in a future release. To remove this warning, do the following: 1) Pass option use_label_encoder=False when constructing XGBClassifier object; and 2) Encode your labels (y) as integers starting with 0, i.e. 0, 1, 2, ..., [num_class - 1].\n",
      "  warnings.warn(label_encoder_deprecation_msg, UserWarning)\n"
     ]
    },
    {
     "name": "stdout",
     "output_type": "stream",
     "text": [
      "{'iteration': 5, 'params': {'learning_rate': 0.17391597104532838, 'max_depth': 3, 'n_estimators': 500, 'random_state': 42}, 'score': 0.872936660268714, 'elapsed_time': 3.154475450515747}\n"
     ]
    },
    {
     "name": "stderr",
     "output_type": "stream",
     "text": [
      "C:\\Users\\padkins\\Anaconda3\\lib\\site-packages\\xgboost\\sklearn.py:1224: UserWarning: The use of label encoder in XGBClassifier is deprecated and will be removed in a future release. To remove this warning, do the following: 1) Pass option use_label_encoder=False when constructing XGBClassifier object; and 2) Encode your labels (y) as integers starting with 0, i.e. 0, 1, 2, ..., [num_class - 1].\n",
      "  warnings.warn(label_encoder_deprecation_msg, UserWarning)\n"
     ]
    },
    {
     "name": "stdout",
     "output_type": "stream",
     "text": [
      "{'iteration': 6, 'params': {'learning_rate': 0.17841521369224703, 'max_depth': 3, 'n_estimators': 500, 'random_state': 42}, 'score': 0.8702495201535508, 'elapsed_time': 2.920217752456665}\n"
     ]
    },
    {
     "name": "stderr",
     "output_type": "stream",
     "text": [
      "C:\\Users\\padkins\\Anaconda3\\lib\\site-packages\\xgboost\\sklearn.py:1224: UserWarning: The use of label encoder in XGBClassifier is deprecated and will be removed in a future release. To remove this warning, do the following: 1) Pass option use_label_encoder=False when constructing XGBClassifier object; and 2) Encode your labels (y) as integers starting with 0, i.e. 0, 1, 2, ..., [num_class - 1].\n",
      "  warnings.warn(label_encoder_deprecation_msg, UserWarning)\n"
     ]
    },
    {
     "name": "stdout",
     "output_type": "stream",
     "text": [
      "{'iteration': 7, 'params': {'learning_rate': 0.20424223379382064, 'max_depth': 2, 'n_estimators': 500, 'random_state': 42}, 'score': 0.8687140115163148, 'elapsed_time': 2.6710615158081055}\n"
     ]
    },
    {
     "name": "stderr",
     "output_type": "stream",
     "text": [
      "C:\\Users\\padkins\\Anaconda3\\lib\\site-packages\\xgboost\\sklearn.py:1224: UserWarning: The use of label encoder in XGBClassifier is deprecated and will be removed in a future release. To remove this warning, do the following: 1) Pass option use_label_encoder=False when constructing XGBClassifier object; and 2) Encode your labels (y) as integers starting with 0, i.e. 0, 1, 2, ..., [num_class - 1].\n",
      "  warnings.warn(label_encoder_deprecation_msg, UserWarning)\n"
     ]
    },
    {
     "name": "stdout",
     "output_type": "stream",
     "text": [
      "{'iteration': 8, 'params': {'learning_rate': 0.22774757780350627, 'max_depth': 2, 'n_estimators': 500, 'random_state': 42}, 'score': 0.8698656429942418, 'elapsed_time': 2.350308895111084}\n"
     ]
    },
    {
     "name": "stderr",
     "output_type": "stream",
     "text": [
      "C:\\Users\\padkins\\Anaconda3\\lib\\site-packages\\xgboost\\sklearn.py:1224: UserWarning: The use of label encoder in XGBClassifier is deprecated and will be removed in a future release. To remove this warning, do the following: 1) Pass option use_label_encoder=False when constructing XGBClassifier object; and 2) Encode your labels (y) as integers starting with 0, i.e. 0, 1, 2, ..., [num_class - 1].\n",
      "  warnings.warn(label_encoder_deprecation_msg, UserWarning)\n"
     ]
    },
    {
     "name": "stdout",
     "output_type": "stream",
     "text": [
      "{'iteration': 9, 'params': {'learning_rate': 0.24232488681455414, 'max_depth': 4, 'n_estimators': 500, 'random_state': 42}, 'score': 0.872168905950096, 'elapsed_time': 3.06482195854187}\n"
     ]
    },
    {
     "name": "stderr",
     "output_type": "stream",
     "text": [
      "C:\\Users\\padkins\\Anaconda3\\lib\\site-packages\\xgboost\\sklearn.py:1224: UserWarning: The use of label encoder in XGBClassifier is deprecated and will be removed in a future release. To remove this warning, do the following: 1) Pass option use_label_encoder=False when constructing XGBClassifier object; and 2) Encode your labels (y) as integers starting with 0, i.e. 0, 1, 2, ..., [num_class - 1].\n",
      "  warnings.warn(label_encoder_deprecation_msg, UserWarning)\n"
     ]
    },
    {
     "name": "stdout",
     "output_type": "stream",
     "text": [
      "{'iteration': 10, 'params': {'learning_rate': 0.1522381669403414, 'max_depth': 3, 'n_estimators': 500, 'random_state': 42}, 'score': 0.8710172744721689, 'elapsed_time': 4.815094470977783}\n"
     ]
    },
    {
     "name": "stderr",
     "output_type": "stream",
     "text": [
      "C:\\Users\\padkins\\Anaconda3\\lib\\site-packages\\xgboost\\sklearn.py:1224: UserWarning: The use of label encoder in XGBClassifier is deprecated and will be removed in a future release. To remove this warning, do the following: 1) Pass option use_label_encoder=False when constructing XGBClassifier object; and 2) Encode your labels (y) as integers starting with 0, i.e. 0, 1, 2, ..., [num_class - 1].\n",
      "  warnings.warn(label_encoder_deprecation_msg, UserWarning)\n"
     ]
    },
    {
     "name": "stdout",
     "output_type": "stream",
     "text": [
      "{'iteration': 11, 'params': {'learning_rate': 0.04492613011058064, 'max_depth': 4, 'n_estimators': 500, 'random_state': 42}, 'score': 0.8690978886756238, 'elapsed_time': 10.528668403625488}\n"
     ]
    },
    {
     "name": "stderr",
     "output_type": "stream",
     "text": [
      "C:\\Users\\padkins\\Anaconda3\\lib\\site-packages\\xgboost\\sklearn.py:1224: UserWarning: The use of label encoder in XGBClassifier is deprecated and will be removed in a future release. To remove this warning, do the following: 1) Pass option use_label_encoder=False when constructing XGBClassifier object; and 2) Encode your labels (y) as integers starting with 0, i.e. 0, 1, 2, ..., [num_class - 1].\n",
      "  warnings.warn(label_encoder_deprecation_msg, UserWarning)\n"
     ]
    },
    {
     "name": "stdout",
     "output_type": "stream",
     "text": [
      "{'iteration': 12, 'params': {'learning_rate': 0.08611299396392279, 'max_depth': 4, 'n_estimators': 500, 'random_state': 42}, 'score': 0.872168905950096, 'elapsed_time': 6.517338752746582}\n"
     ]
    },
    {
     "name": "stderr",
     "output_type": "stream",
     "text": [
      "C:\\Users\\padkins\\Anaconda3\\lib\\site-packages\\xgboost\\sklearn.py:1224: UserWarning: The use of label encoder in XGBClassifier is deprecated and will be removed in a future release. To remove this warning, do the following: 1) Pass option use_label_encoder=False when constructing XGBClassifier object; and 2) Encode your labels (y) as integers starting with 0, i.e. 0, 1, 2, ..., [num_class - 1].\n",
      "  warnings.warn(label_encoder_deprecation_msg, UserWarning)\n"
     ]
    },
    {
     "name": "stdout",
     "output_type": "stream",
     "text": [
      "{'iteration': 13, 'params': {'learning_rate': 0.10638343804034539, 'max_depth': 2, 'n_estimators': 500, 'random_state': 42}, 'score': 0.8644913627639156, 'elapsed_time': 3.6782827377319336}\n"
     ]
    },
    {
     "name": "stderr",
     "output_type": "stream",
     "text": [
      "C:\\Users\\padkins\\Anaconda3\\lib\\site-packages\\xgboost\\sklearn.py:1224: UserWarning: The use of label encoder in XGBClassifier is deprecated and will be removed in a future release. To remove this warning, do the following: 1) Pass option use_label_encoder=False when constructing XGBClassifier object; and 2) Encode your labels (y) as integers starting with 0, i.e. 0, 1, 2, ..., [num_class - 1].\n",
      "  warnings.warn(label_encoder_deprecation_msg, UserWarning)\n"
     ]
    },
    {
     "name": "stdout",
     "output_type": "stream",
     "text": [
      "{'iteration': 14, 'params': {'learning_rate': 0.28106923072192225, 'max_depth': 3, 'n_estimators': 500, 'random_state': 42}, 'score': 0.8683301343570058, 'elapsed_time': 1.827362060546875}\n"
     ]
    },
    {
     "name": "stderr",
     "output_type": "stream",
     "text": [
      "C:\\Users\\padkins\\Anaconda3\\lib\\site-packages\\xgboost\\sklearn.py:1224: UserWarning: The use of label encoder in XGBClassifier is deprecated and will be removed in a future release. To remove this warning, do the following: 1) Pass option use_label_encoder=False when constructing XGBClassifier object; and 2) Encode your labels (y) as integers starting with 0, i.e. 0, 1, 2, ..., [num_class - 1].\n",
      "  warnings.warn(label_encoder_deprecation_msg, UserWarning)\n"
     ]
    },
    {
     "name": "stdout",
     "output_type": "stream",
     "text": [
      "{'iteration': 15, 'params': {'learning_rate': 0.054336993461299256, 'max_depth': 4, 'n_estimators': 500, 'random_state': 42}, 'score': 0.8717850287907869, 'elapsed_time': 11.247363805770874}\n"
     ]
    },
    {
     "name": "stderr",
     "output_type": "stream",
     "text": [
      "C:\\Users\\padkins\\Anaconda3\\lib\\site-packages\\xgboost\\sklearn.py:1224: UserWarning: The use of label encoder in XGBClassifier is deprecated and will be removed in a future release. To remove this warning, do the following: 1) Pass option use_label_encoder=False when constructing XGBClassifier object; and 2) Encode your labels (y) as integers starting with 0, i.e. 0, 1, 2, ..., [num_class - 1].\n",
      "  warnings.warn(label_encoder_deprecation_msg, UserWarning)\n"
     ]
    },
    {
     "name": "stdout",
     "output_type": "stream",
     "text": [
      "{'iteration': 16, 'params': {'learning_rate': 0.03678316277229381, 'max_depth': 4, 'n_estimators': 500, 'random_state': 42}, 'score': 0.8702495201535508, 'elapsed_time': 11.91741394996643}\n"
     ]
    },
    {
     "name": "stderr",
     "output_type": "stream",
     "text": [
      "C:\\Users\\padkins\\Anaconda3\\lib\\site-packages\\xgboost\\sklearn.py:1224: UserWarning: The use of label encoder in XGBClassifier is deprecated and will be removed in a future release. To remove this warning, do the following: 1) Pass option use_label_encoder=False when constructing XGBClassifier object; and 2) Encode your labels (y) as integers starting with 0, i.e. 0, 1, 2, ..., [num_class - 1].\n",
      "  warnings.warn(label_encoder_deprecation_msg, UserWarning)\n"
     ]
    },
    {
     "name": "stdout",
     "output_type": "stream",
     "text": [
      "{'iteration': 17, 'params': {'learning_rate': 0.1297134421849344, 'max_depth': 4, 'n_estimators': 500, 'random_state': 42}, 'score': 0.872936660268714, 'elapsed_time': 4.583257436752319}\n"
     ]
    },
    {
     "name": "stderr",
     "output_type": "stream",
     "text": [
      "C:\\Users\\padkins\\Anaconda3\\lib\\site-packages\\xgboost\\sklearn.py:1224: UserWarning: The use of label encoder in XGBClassifier is deprecated and will be removed in a future release. To remove this warning, do the following: 1) Pass option use_label_encoder=False when constructing XGBClassifier object; and 2) Encode your labels (y) as integers starting with 0, i.e. 0, 1, 2, ..., [num_class - 1].\n",
      "  warnings.warn(label_encoder_deprecation_msg, UserWarning)\n"
     ]
    },
    {
     "name": "stdout",
     "output_type": "stream",
     "text": [
      "{'iteration': 18, 'params': {'learning_rate': 0.2198088687417123, 'max_depth': 4, 'n_estimators': 500, 'random_state': 42}, 'score': 0.8671785028790787, 'elapsed_time': 3.1994411945343018}\n"
     ]
    },
    {
     "name": "stderr",
     "output_type": "stream",
     "text": [
      "C:\\Users\\padkins\\Anaconda3\\lib\\site-packages\\xgboost\\sklearn.py:1224: UserWarning: The use of label encoder in XGBClassifier is deprecated and will be removed in a future release. To remove this warning, do the following: 1) Pass option use_label_encoder=False when constructing XGBClassifier object; and 2) Encode your labels (y) as integers starting with 0, i.e. 0, 1, 2, ..., [num_class - 1].\n",
      "  warnings.warn(label_encoder_deprecation_msg, UserWarning)\n"
     ]
    },
    {
     "name": "stdout",
     "output_type": "stream",
     "text": [
      "{'iteration': 19, 'params': {'learning_rate': 0.12431895803262645, 'max_depth': 2, 'n_estimators': 500, 'random_state': 42}, 'score': 0.8687140115163148, 'elapsed_time': 4.879554986953735}\n"
     ]
    },
    {
     "name": "stderr",
     "output_type": "stream",
     "text": [
      "C:\\Users\\padkins\\Anaconda3\\lib\\site-packages\\xgboost\\sklearn.py:1224: UserWarning: The use of label encoder in XGBClassifier is deprecated and will be removed in a future release. To remove this warning, do the following: 1) Pass option use_label_encoder=False when constructing XGBClassifier object; and 2) Encode your labels (y) as integers starting with 0, i.e. 0, 1, 2, ..., [num_class - 1].\n",
      "  warnings.warn(label_encoder_deprecation_msg, UserWarning)\n"
     ]
    },
    {
     "name": "stdout",
     "output_type": "stream",
     "text": [
      "{'iteration': 20, 'params': {'learning_rate': 0.2433788834397185, 'max_depth': 2, 'n_estimators': 500, 'random_state': 42}, 'score': 0.8660268714011516, 'elapsed_time': 1.5055279731750488}\n"
     ]
    },
    {
     "name": "stderr",
     "output_type": "stream",
     "text": [
      "C:\\Users\\padkins\\Anaconda3\\lib\\site-packages\\xgboost\\sklearn.py:1224: UserWarning: The use of label encoder in XGBClassifier is deprecated and will be removed in a future release. To remove this warning, do the following: 1) Pass option use_label_encoder=False when constructing XGBClassifier object; and 2) Encode your labels (y) as integers starting with 0, i.e. 0, 1, 2, ..., [num_class - 1].\n",
      "  warnings.warn(label_encoder_deprecation_msg, UserWarning)\n"
     ]
    },
    {
     "name": "stdout",
     "output_type": "stream",
     "text": [
      "{'iteration': 21, 'params': {'learning_rate': 0.16843412673059566, 'max_depth': 2, 'n_estimators': 500, 'random_state': 42}, 'score': 0.8683301343570058, 'elapsed_time': 3.0694124698638916}\n"
     ]
    },
    {
     "name": "stderr",
     "output_type": "stream",
     "text": [
      "C:\\Users\\padkins\\Anaconda3\\lib\\site-packages\\xgboost\\sklearn.py:1224: UserWarning: The use of label encoder in XGBClassifier is deprecated and will be removed in a future release. To remove this warning, do the following: 1) Pass option use_label_encoder=False when constructing XGBClassifier object; and 2) Encode your labels (y) as integers starting with 0, i.e. 0, 1, 2, ..., [num_class - 1].\n",
      "  warnings.warn(label_encoder_deprecation_msg, UserWarning)\n"
     ]
    },
    {
     "name": "stdout",
     "output_type": "stream",
     "text": [
      "{'iteration': 22, 'params': {'learning_rate': 0.24277452112510933, 'max_depth': 2, 'n_estimators': 500, 'random_state': 42}, 'score': 0.8679462571976967, 'elapsed_time': 2.271831750869751}\n"
     ]
    },
    {
     "name": "stderr",
     "output_type": "stream",
     "text": [
      "C:\\Users\\padkins\\Anaconda3\\lib\\site-packages\\xgboost\\sklearn.py:1224: UserWarning: The use of label encoder in XGBClassifier is deprecated and will be removed in a future release. To remove this warning, do the following: 1) Pass option use_label_encoder=False when constructing XGBClassifier object; and 2) Encode your labels (y) as integers starting with 0, i.e. 0, 1, 2, ..., [num_class - 1].\n",
      "  warnings.warn(label_encoder_deprecation_msg, UserWarning)\n"
     ]
    },
    {
     "name": "stdout",
     "output_type": "stream",
     "text": [
      "{'iteration': 23, 'params': {'learning_rate': 0.12802898984354721, 'max_depth': 3, 'n_estimators': 500, 'random_state': 42}, 'score': 0.8706333973128599, 'elapsed_time': 4.367439270019531}\n"
     ]
    },
    {
     "name": "stderr",
     "output_type": "stream",
     "text": [
      "C:\\Users\\padkins\\Anaconda3\\lib\\site-packages\\xgboost\\sklearn.py:1224: UserWarning: The use of label encoder in XGBClassifier is deprecated and will be removed in a future release. To remove this warning, do the following: 1) Pass option use_label_encoder=False when constructing XGBClassifier object; and 2) Encode your labels (y) as integers starting with 0, i.e. 0, 1, 2, ..., [num_class - 1].\n",
      "  warnings.warn(label_encoder_deprecation_msg, UserWarning)\n"
     ]
    },
    {
     "name": "stdout",
     "output_type": "stream",
     "text": [
      "{'iteration': 24, 'params': {'learning_rate': 0.2948403930110272, 'max_depth': 4, 'n_estimators': 500, 'random_state': 42}, 'score': 0.8698656429942418, 'elapsed_time': 2.488388776779175}\n"
     ]
    },
    {
     "name": "stderr",
     "output_type": "stream",
     "text": [
      "C:\\Users\\padkins\\Anaconda3\\lib\\site-packages\\xgboost\\sklearn.py:1224: UserWarning: The use of label encoder in XGBClassifier is deprecated and will be removed in a future release. To remove this warning, do the following: 1) Pass option use_label_encoder=False when constructing XGBClassifier object; and 2) Encode your labels (y) as integers starting with 0, i.e. 0, 1, 2, ..., [num_class - 1].\n",
      "  warnings.warn(label_encoder_deprecation_msg, UserWarning)\n"
     ]
    },
    {
     "name": "stdout",
     "output_type": "stream",
     "text": [
      "{'iteration': 25, 'params': {'learning_rate': 0.17659607136257088, 'max_depth': 4, 'n_estimators': 500, 'random_state': 42}, 'score': 0.8702495201535508, 'elapsed_time': 3.9815614223480225}\n"
     ]
    },
    {
     "name": "stderr",
     "output_type": "stream",
     "text": [
      "C:\\Users\\padkins\\Anaconda3\\lib\\site-packages\\xgboost\\sklearn.py:1224: UserWarning: The use of label encoder in XGBClassifier is deprecated and will be removed in a future release. To remove this warning, do the following: 1) Pass option use_label_encoder=False when constructing XGBClassifier object; and 2) Encode your labels (y) as integers starting with 0, i.e. 0, 1, 2, ..., [num_class - 1].\n",
      "  warnings.warn(label_encoder_deprecation_msg, UserWarning)\n"
     ]
    },
    {
     "name": "stdout",
     "output_type": "stream",
     "text": [
      "{'iteration': 26, 'params': {'learning_rate': 0.16429718341729732, 'max_depth': 2, 'n_estimators': 500, 'random_state': 42}, 'score': 0.8690978886756238, 'elapsed_time': 4.196737766265869}\n"
     ]
    },
    {
     "name": "stderr",
     "output_type": "stream",
     "text": [
      "C:\\Users\\padkins\\Anaconda3\\lib\\site-packages\\xgboost\\sklearn.py:1224: UserWarning: The use of label encoder in XGBClassifier is deprecated and will be removed in a future release. To remove this warning, do the following: 1) Pass option use_label_encoder=False when constructing XGBClassifier object; and 2) Encode your labels (y) as integers starting with 0, i.e. 0, 1, 2, ..., [num_class - 1].\n",
      "  warnings.warn(label_encoder_deprecation_msg, UserWarning)\n"
     ]
    },
    {
     "name": "stdout",
     "output_type": "stream",
     "text": [
      "{'iteration': 27, 'params': {'learning_rate': 0.06985712159684113, 'max_depth': 4, 'n_estimators': 500, 'random_state': 42}, 'score': 0.8694817658349329, 'elapsed_time': 7.0725038051605225}\n"
     ]
    },
    {
     "name": "stderr",
     "output_type": "stream",
     "text": [
      "C:\\Users\\padkins\\Anaconda3\\lib\\site-packages\\xgboost\\sklearn.py:1224: UserWarning: The use of label encoder in XGBClassifier is deprecated and will be removed in a future release. To remove this warning, do the following: 1) Pass option use_label_encoder=False when constructing XGBClassifier object; and 2) Encode your labels (y) as integers starting with 0, i.e. 0, 1, 2, ..., [num_class - 1].\n",
      "  warnings.warn(label_encoder_deprecation_msg, UserWarning)\n"
     ]
    },
    {
     "name": "stdout",
     "output_type": "stream",
     "text": [
      "{'iteration': 28, 'params': {'learning_rate': 0.11059965793538332, 'max_depth': 2, 'n_estimators': 500, 'random_state': 42}, 'score': 0.8683301343570058, 'elapsed_time': 6.270352602005005}\n"
     ]
    },
    {
     "name": "stderr",
     "output_type": "stream",
     "text": [
      "C:\\Users\\padkins\\Anaconda3\\lib\\site-packages\\xgboost\\sklearn.py:1224: UserWarning: The use of label encoder in XGBClassifier is deprecated and will be removed in a future release. To remove this warning, do the following: 1) Pass option use_label_encoder=False when constructing XGBClassifier object; and 2) Encode your labels (y) as integers starting with 0, i.e. 0, 1, 2, ..., [num_class - 1].\n",
      "  warnings.warn(label_encoder_deprecation_msg, UserWarning)\n"
     ]
    },
    {
     "name": "stdout",
     "output_type": "stream",
     "text": [
      "{'iteration': 29, 'params': {'learning_rate': 0.06888371189185333, 'max_depth': 3, 'n_estimators': 500, 'random_state': 42}, 'score': 0.8717850287907869, 'elapsed_time': 8.924381732940674}\n"
     ]
    },
    {
     "name": "stderr",
     "output_type": "stream",
     "text": [
      "C:\\Users\\padkins\\Anaconda3\\lib\\site-packages\\xgboost\\sklearn.py:1224: UserWarning: The use of label encoder in XGBClassifier is deprecated and will be removed in a future release. To remove this warning, do the following: 1) Pass option use_label_encoder=False when constructing XGBClassifier object; and 2) Encode your labels (y) as integers starting with 0, i.e. 0, 1, 2, ..., [num_class - 1].\n",
      "  warnings.warn(label_encoder_deprecation_msg, UserWarning)\n"
     ]
    },
    {
     "name": "stdout",
     "output_type": "stream",
     "text": [
      "{'iteration': 30, 'params': {'learning_rate': 0.22567197038887052, 'max_depth': 4, 'n_estimators': 500, 'random_state': 42}, 'score': 0.872552783109405, 'elapsed_time': 3.279736042022705}\n"
     ]
    },
    {
     "name": "stderr",
     "output_type": "stream",
     "text": [
      "C:\\Users\\padkins\\Anaconda3\\lib\\site-packages\\xgboost\\sklearn.py:1224: UserWarning: The use of label encoder in XGBClassifier is deprecated and will be removed in a future release. To remove this warning, do the following: 1) Pass option use_label_encoder=False when constructing XGBClassifier object; and 2) Encode your labels (y) as integers starting with 0, i.e. 0, 1, 2, ..., [num_class - 1].\n",
      "  warnings.warn(label_encoder_deprecation_msg, UserWarning)\n"
     ]
    },
    {
     "name": "stdout",
     "output_type": "stream",
     "text": [
      "{'iteration': 1, 'params': {'learning_rate': 0.023375080950468523, 'max_depth': 3, 'n_estimators': 500, 'random_state': 42}, 'score': 0.8671785028790787, 'elapsed_time': 22.001211404800415}\n"
     ]
    },
    {
     "name": "stderr",
     "output_type": "stream",
     "text": [
      "C:\\Users\\padkins\\Anaconda3\\lib\\site-packages\\xgboost\\sklearn.py:1224: UserWarning: The use of label encoder in XGBClassifier is deprecated and will be removed in a future release. To remove this warning, do the following: 1) Pass option use_label_encoder=False when constructing XGBClassifier object; and 2) Encode your labels (y) as integers starting with 0, i.e. 0, 1, 2, ..., [num_class - 1].\n",
      "  warnings.warn(label_encoder_deprecation_msg, UserWarning)\n"
     ]
    },
    {
     "name": "stdout",
     "output_type": "stream",
     "text": [
      "{'iteration': 2, 'params': {'learning_rate': 0.20646920476507546, 'max_depth': 2, 'n_estimators': 500, 'random_state': 42}, 'score': 0.8714011516314779, 'elapsed_time': 6.679218053817749}\n"
     ]
    },
    {
     "name": "stderr",
     "output_type": "stream",
     "text": [
      "C:\\Users\\padkins\\Anaconda3\\lib\\site-packages\\xgboost\\sklearn.py:1224: UserWarning: The use of label encoder in XGBClassifier is deprecated and will be removed in a future release. To remove this warning, do the following: 1) Pass option use_label_encoder=False when constructing XGBClassifier object; and 2) Encode your labels (y) as integers starting with 0, i.e. 0, 1, 2, ..., [num_class - 1].\n",
      "  warnings.warn(label_encoder_deprecation_msg, UserWarning)\n"
     ]
    },
    {
     "name": "stdout",
     "output_type": "stream",
     "text": [
      "{'iteration': 3, 'params': {'learning_rate': 0.047112277853340656, 'max_depth': 3, 'n_estimators': 500, 'random_state': 42}, 'score': 0.872168905950096, 'elapsed_time': 22.293681859970093}\n"
     ]
    },
    {
     "name": "stderr",
     "output_type": "stream",
     "text": [
      "C:\\Users\\padkins\\Anaconda3\\lib\\site-packages\\xgboost\\sklearn.py:1224: UserWarning: The use of label encoder in XGBClassifier is deprecated and will be removed in a future release. To remove this warning, do the following: 1) Pass option use_label_encoder=False when constructing XGBClassifier object; and 2) Encode your labels (y) as integers starting with 0, i.e. 0, 1, 2, ..., [num_class - 1].\n",
      "  warnings.warn(label_encoder_deprecation_msg, UserWarning)\n"
     ]
    },
    {
     "name": "stdout",
     "output_type": "stream",
     "text": [
      "{'iteration': 4, 'params': {'learning_rate': 0.17538133609456963, 'max_depth': 4, 'n_estimators': 500, 'random_state': 42}, 'score': 0.8683301343570058, 'elapsed_time': 8.113247871398926}\n"
     ]
    },
    {
     "name": "stderr",
     "output_type": "stream",
     "text": [
      "C:\\Users\\padkins\\Anaconda3\\lib\\site-packages\\xgboost\\sklearn.py:1224: UserWarning: The use of label encoder in XGBClassifier is deprecated and will be removed in a future release. To remove this warning, do the following: 1) Pass option use_label_encoder=False when constructing XGBClassifier object; and 2) Encode your labels (y) as integers starting with 0, i.e. 0, 1, 2, ..., [num_class - 1].\n",
      "  warnings.warn(label_encoder_deprecation_msg, UserWarning)\n"
     ]
    },
    {
     "name": "stdout",
     "output_type": "stream",
     "text": [
      "{'iteration': 5, 'params': {'learning_rate': 0.27319221646992103, 'max_depth': 3, 'n_estimators': 500, 'random_state': 42}, 'score': 0.8702495201535508, 'elapsed_time': 4.405365467071533}\n"
     ]
    },
    {
     "name": "stderr",
     "output_type": "stream",
     "text": [
      "C:\\Users\\padkins\\Anaconda3\\lib\\site-packages\\xgboost\\sklearn.py:1224: UserWarning: The use of label encoder in XGBClassifier is deprecated and will be removed in a future release. To remove this warning, do the following: 1) Pass option use_label_encoder=False when constructing XGBClassifier object; and 2) Encode your labels (y) as integers starting with 0, i.e. 0, 1, 2, ..., [num_class - 1].\n",
      "  warnings.warn(label_encoder_deprecation_msg, UserWarning)\n"
     ]
    },
    {
     "name": "stdout",
     "output_type": "stream",
     "text": [
      "{'iteration': 6, 'params': {'learning_rate': 0.15779009132967525, 'max_depth': 2, 'n_estimators': 500, 'random_state': 42}, 'score': 0.8710172744721689, 'elapsed_time': 10.167173862457275}\n"
     ]
    },
    {
     "name": "stderr",
     "output_type": "stream",
     "text": [
      "C:\\Users\\padkins\\Anaconda3\\lib\\site-packages\\xgboost\\sklearn.py:1224: UserWarning: The use of label encoder in XGBClassifier is deprecated and will be removed in a future release. To remove this warning, do the following: 1) Pass option use_label_encoder=False when constructing XGBClassifier object; and 2) Encode your labels (y) as integers starting with 0, i.e. 0, 1, 2, ..., [num_class - 1].\n",
      "  warnings.warn(label_encoder_deprecation_msg, UserWarning)\n"
     ]
    },
    {
     "name": "stdout",
     "output_type": "stream",
     "text": [
      "{'iteration': 7, 'params': {'learning_rate': 0.2670603039396602, 'max_depth': 4, 'n_estimators': 500, 'random_state': 42}, 'score': 0.8690978886756238, 'elapsed_time': 5.875086784362793}\n"
     ]
    },
    {
     "name": "stderr",
     "output_type": "stream",
     "text": [
      "C:\\Users\\padkins\\Anaconda3\\lib\\site-packages\\xgboost\\sklearn.py:1224: UserWarning: The use of label encoder in XGBClassifier is deprecated and will be removed in a future release. To remove this warning, do the following: 1) Pass option use_label_encoder=False when constructing XGBClassifier object; and 2) Encode your labels (y) as integers starting with 0, i.e. 0, 1, 2, ..., [num_class - 1].\n",
      "  warnings.warn(label_encoder_deprecation_msg, UserWarning)\n"
     ]
    },
    {
     "name": "stdout",
     "output_type": "stream",
     "text": [
      "{'iteration': 8, 'params': {'learning_rate': 0.0948698183129471, 'max_depth': 2, 'n_estimators': 500, 'random_state': 42}, 'score': 0.8694817658349329, 'elapsed_time': 15.887306690216064}\n"
     ]
    },
    {
     "name": "stderr",
     "output_type": "stream",
     "text": [
      "C:\\Users\\padkins\\Anaconda3\\lib\\site-packages\\xgboost\\sklearn.py:1224: UserWarning: The use of label encoder in XGBClassifier is deprecated and will be removed in a future release. To remove this warning, do the following: 1) Pass option use_label_encoder=False when constructing XGBClassifier object; and 2) Encode your labels (y) as integers starting with 0, i.e. 0, 1, 2, ..., [num_class - 1].\n",
      "  warnings.warn(label_encoder_deprecation_msg, UserWarning)\n"
     ]
    },
    {
     "name": "stdout",
     "output_type": "stream",
     "text": [
      "{'iteration': 9, 'params': {'learning_rate': 0.03941635814157914, 'max_depth': 3, 'n_estimators': 500, 'random_state': 42}, 'score': 0.8717850287907869, 'elapsed_time': 22.126004695892334}\n"
     ]
    },
    {
     "name": "stderr",
     "output_type": "stream",
     "text": [
      "C:\\Users\\padkins\\Anaconda3\\lib\\site-packages\\xgboost\\sklearn.py:1224: UserWarning: The use of label encoder in XGBClassifier is deprecated and will be removed in a future release. To remove this warning, do the following: 1) Pass option use_label_encoder=False when constructing XGBClassifier object; and 2) Encode your labels (y) as integers starting with 0, i.e. 0, 1, 2, ..., [num_class - 1].\n",
      "  warnings.warn(label_encoder_deprecation_msg, UserWarning)\n"
     ]
    },
    {
     "name": "stdout",
     "output_type": "stream",
     "text": [
      "{'iteration': 10, 'params': {'learning_rate': 0.21208840270989543, 'max_depth': 4, 'n_estimators': 500, 'random_state': 42}, 'score': 0.8706333973128599, 'elapsed_time': 8.066981315612793}\n"
     ]
    },
    {
     "name": "stderr",
     "output_type": "stream",
     "text": [
      "C:\\Users\\padkins\\Anaconda3\\lib\\site-packages\\xgboost\\sklearn.py:1224: UserWarning: The use of label encoder in XGBClassifier is deprecated and will be removed in a future release. To remove this warning, do the following: 1) Pass option use_label_encoder=False when constructing XGBClassifier object; and 2) Encode your labels (y) as integers starting with 0, i.e. 0, 1, 2, ..., [num_class - 1].\n",
      "  warnings.warn(label_encoder_deprecation_msg, UserWarning)\n"
     ]
    },
    {
     "name": "stdout",
     "output_type": "stream",
     "text": [
      "{'iteration': 11, 'params': {'learning_rate': 0.08589426956602478, 'max_depth': 3, 'n_estimators': 500, 'random_state': 42}, 'score': 0.8706333973128599, 'elapsed_time': 11.683046817779541}\n"
     ]
    },
    {
     "name": "stderr",
     "output_type": "stream",
     "text": [
      "C:\\Users\\padkins\\Anaconda3\\lib\\site-packages\\xgboost\\sklearn.py:1224: UserWarning: The use of label encoder in XGBClassifier is deprecated and will be removed in a future release. To remove this warning, do the following: 1) Pass option use_label_encoder=False when constructing XGBClassifier object; and 2) Encode your labels (y) as integers starting with 0, i.e. 0, 1, 2, ..., [num_class - 1].\n",
      "  warnings.warn(label_encoder_deprecation_msg, UserWarning)\n"
     ]
    },
    {
     "name": "stdout",
     "output_type": "stream",
     "text": [
      "{'iteration': 12, 'params': {'learning_rate': 0.22932719164167256, 'max_depth': 3, 'n_estimators': 500, 'random_state': 42}, 'score': 0.8706333973128599, 'elapsed_time': 7.549912691116333}\n"
     ]
    },
    {
     "name": "stderr",
     "output_type": "stream",
     "text": [
      "C:\\Users\\padkins\\Anaconda3\\lib\\site-packages\\xgboost\\sklearn.py:1224: UserWarning: The use of label encoder in XGBClassifier is deprecated and will be removed in a future release. To remove this warning, do the following: 1) Pass option use_label_encoder=False when constructing XGBClassifier object; and 2) Encode your labels (y) as integers starting with 0, i.e. 0, 1, 2, ..., [num_class - 1].\n",
      "  warnings.warn(label_encoder_deprecation_msg, UserWarning)\n"
     ]
    },
    {
     "name": "stdout",
     "output_type": "stream",
     "text": [
      "{'iteration': 13, 'params': {'learning_rate': 0.028521983210226365, 'max_depth': 2, 'n_estimators': 500, 'random_state': 42}, 'score': 0.8644913627639156, 'elapsed_time': 17.271610736846924}\n"
     ]
    },
    {
     "name": "stderr",
     "output_type": "stream",
     "text": [
      "C:\\Users\\padkins\\Anaconda3\\lib\\site-packages\\xgboost\\sklearn.py:1224: UserWarning: The use of label encoder in XGBClassifier is deprecated and will be removed in a future release. To remove this warning, do the following: 1) Pass option use_label_encoder=False when constructing XGBClassifier object; and 2) Encode your labels (y) as integers starting with 0, i.e. 0, 1, 2, ..., [num_class - 1].\n",
      "  warnings.warn(label_encoder_deprecation_msg, UserWarning)\n"
     ]
    },
    {
     "name": "stdout",
     "output_type": "stream",
     "text": [
      "{'iteration': 14, 'params': {'learning_rate': 0.034122519053984335, 'max_depth': 3, 'n_estimators': 500, 'random_state': 42}, 'score': 0.8702495201535508, 'elapsed_time': 22.640987634658813}\n"
     ]
    },
    {
     "name": "stderr",
     "output_type": "stream",
     "text": [
      "C:\\Users\\padkins\\Anaconda3\\lib\\site-packages\\xgboost\\sklearn.py:1224: UserWarning: The use of label encoder in XGBClassifier is deprecated and will be removed in a future release. To remove this warning, do the following: 1) Pass option use_label_encoder=False when constructing XGBClassifier object; and 2) Encode your labels (y) as integers starting with 0, i.e. 0, 1, 2, ..., [num_class - 1].\n",
      "  warnings.warn(label_encoder_deprecation_msg, UserWarning)\n"
     ]
    },
    {
     "name": "stdout",
     "output_type": "stream",
     "text": [
      "{'iteration': 15, 'params': {'learning_rate': 0.07622664204230974, 'max_depth': 3, 'n_estimators': 500, 'random_state': 42}, 'score': 0.8717850287907869, 'elapsed_time': 22.893519163131714}\n"
     ]
    },
    {
     "name": "stderr",
     "output_type": "stream",
     "text": [
      "C:\\Users\\padkins\\Anaconda3\\lib\\site-packages\\xgboost\\sklearn.py:1224: UserWarning: The use of label encoder in XGBClassifier is deprecated and will be removed in a future release. To remove this warning, do the following: 1) Pass option use_label_encoder=False when constructing XGBClassifier object; and 2) Encode your labels (y) as integers starting with 0, i.e. 0, 1, 2, ..., [num_class - 1].\n",
      "  warnings.warn(label_encoder_deprecation_msg, UserWarning)\n"
     ]
    },
    {
     "name": "stdout",
     "output_type": "stream",
     "text": [
      "{'iteration': 16, 'params': {'learning_rate': 0.2865395464418454, 'max_depth': 3, 'n_estimators': 500, 'random_state': 42}, 'score': 0.8710172744721689, 'elapsed_time': 6.313000917434692}\n"
     ]
    },
    {
     "name": "stderr",
     "output_type": "stream",
     "text": [
      "C:\\Users\\padkins\\Anaconda3\\lib\\site-packages\\xgboost\\sklearn.py:1224: UserWarning: The use of label encoder in XGBClassifier is deprecated and will be removed in a future release. To remove this warning, do the following: 1) Pass option use_label_encoder=False when constructing XGBClassifier object; and 2) Encode your labels (y) as integers starting with 0, i.e. 0, 1, 2, ..., [num_class - 1].\n",
      "  warnings.warn(label_encoder_deprecation_msg, UserWarning)\n"
     ]
    },
    {
     "name": "stdout",
     "output_type": "stream",
     "text": [
      "{'iteration': 17, 'params': {'learning_rate': 0.2259932921119847, 'max_depth': 3, 'n_estimators': 500, 'random_state': 42}, 'score': 0.8714011516314779, 'elapsed_time': 6.1690673828125}\n"
     ]
    },
    {
     "name": "stderr",
     "output_type": "stream",
     "text": [
      "C:\\Users\\padkins\\Anaconda3\\lib\\site-packages\\xgboost\\sklearn.py:1224: UserWarning: The use of label encoder in XGBClassifier is deprecated and will be removed in a future release. To remove this warning, do the following: 1) Pass option use_label_encoder=False when constructing XGBClassifier object; and 2) Encode your labels (y) as integers starting with 0, i.e. 0, 1, 2, ..., [num_class - 1].\n",
      "  warnings.warn(label_encoder_deprecation_msg, UserWarning)\n"
     ]
    },
    {
     "name": "stdout",
     "output_type": "stream",
     "text": [
      "{'iteration': 18, 'params': {'learning_rate': 0.022691368353013955, 'max_depth': 4, 'n_estimators': 500, 'random_state': 42}, 'score': 0.8702495201535508, 'elapsed_time': 29.354703187942505}\n"
     ]
    },
    {
     "name": "stderr",
     "output_type": "stream",
     "text": [
      "C:\\Users\\padkins\\Anaconda3\\lib\\site-packages\\xgboost\\sklearn.py:1224: UserWarning: The use of label encoder in XGBClassifier is deprecated and will be removed in a future release. To remove this warning, do the following: 1) Pass option use_label_encoder=False when constructing XGBClassifier object; and 2) Encode your labels (y) as integers starting with 0, i.e. 0, 1, 2, ..., [num_class - 1].\n",
      "  warnings.warn(label_encoder_deprecation_msg, UserWarning)\n"
     ]
    },
    {
     "name": "stdout",
     "output_type": "stream",
     "text": [
      "{'iteration': 19, 'params': {'learning_rate': 0.27296043944698534, 'max_depth': 2, 'n_estimators': 500, 'random_state': 42}, 'score': 0.8687140115163148, 'elapsed_time': 6.37567925453186}\n"
     ]
    },
    {
     "name": "stderr",
     "output_type": "stream",
     "text": [
      "C:\\Users\\padkins\\Anaconda3\\lib\\site-packages\\xgboost\\sklearn.py:1224: UserWarning: The use of label encoder in XGBClassifier is deprecated and will be removed in a future release. To remove this warning, do the following: 1) Pass option use_label_encoder=False when constructing XGBClassifier object; and 2) Encode your labels (y) as integers starting with 0, i.e. 0, 1, 2, ..., [num_class - 1].\n",
      "  warnings.warn(label_encoder_deprecation_msg, UserWarning)\n"
     ]
    },
    {
     "name": "stdout",
     "output_type": "stream",
     "text": [
      "{'iteration': 20, 'params': {'learning_rate': 0.19120560552990185, 'max_depth': 4, 'n_estimators': 500, 'random_state': 42}, 'score': 0.8679462571976967, 'elapsed_time': 6.582927227020264}\n"
     ]
    },
    {
     "name": "stderr",
     "output_type": "stream",
     "text": [
      "C:\\Users\\padkins\\Anaconda3\\lib\\site-packages\\xgboost\\sklearn.py:1224: UserWarning: The use of label encoder in XGBClassifier is deprecated and will be removed in a future release. To remove this warning, do the following: 1) Pass option use_label_encoder=False when constructing XGBClassifier object; and 2) Encode your labels (y) as integers starting with 0, i.e. 0, 1, 2, ..., [num_class - 1].\n",
      "  warnings.warn(label_encoder_deprecation_msg, UserWarning)\n"
     ]
    },
    {
     "name": "stdout",
     "output_type": "stream",
     "text": [
      "{'iteration': 21, 'params': {'learning_rate': 0.19596010188947566, 'max_depth': 4, 'n_estimators': 500, 'random_state': 42}, 'score': 0.872936660268714, 'elapsed_time': 9.640758037567139}\n"
     ]
    },
    {
     "name": "stderr",
     "output_type": "stream",
     "text": [
      "C:\\Users\\padkins\\Anaconda3\\lib\\site-packages\\xgboost\\sklearn.py:1224: UserWarning: The use of label encoder in XGBClassifier is deprecated and will be removed in a future release. To remove this warning, do the following: 1) Pass option use_label_encoder=False when constructing XGBClassifier object; and 2) Encode your labels (y) as integers starting with 0, i.e. 0, 1, 2, ..., [num_class - 1].\n",
      "  warnings.warn(label_encoder_deprecation_msg, UserWarning)\n"
     ]
    },
    {
     "name": "stdout",
     "output_type": "stream",
     "text": [
      "{'iteration': 22, 'params': {'learning_rate': 0.16065383889550167, 'max_depth': 3, 'n_estimators': 500, 'random_state': 42}, 'score': 0.8694817658349329, 'elapsed_time': 6.912923574447632}\n"
     ]
    },
    {
     "name": "stderr",
     "output_type": "stream",
     "text": [
      "C:\\Users\\padkins\\Anaconda3\\lib\\site-packages\\xgboost\\sklearn.py:1224: UserWarning: The use of label encoder in XGBClassifier is deprecated and will be removed in a future release. To remove this warning, do the following: 1) Pass option use_label_encoder=False when constructing XGBClassifier object; and 2) Encode your labels (y) as integers starting with 0, i.e. 0, 1, 2, ..., [num_class - 1].\n",
      "  warnings.warn(label_encoder_deprecation_msg, UserWarning)\n"
     ]
    },
    {
     "name": "stdout",
     "output_type": "stream",
     "text": [
      "{'iteration': 23, 'params': {'learning_rate': 0.07826027132312008, 'max_depth': 3, 'n_estimators': 500, 'random_state': 42}, 'score': 0.8714011516314779, 'elapsed_time': 16.99824047088623}\n"
     ]
    },
    {
     "name": "stderr",
     "output_type": "stream",
     "text": [
      "C:\\Users\\padkins\\Anaconda3\\lib\\site-packages\\xgboost\\sklearn.py:1224: UserWarning: The use of label encoder in XGBClassifier is deprecated and will be removed in a future release. To remove this warning, do the following: 1) Pass option use_label_encoder=False when constructing XGBClassifier object; and 2) Encode your labels (y) as integers starting with 0, i.e. 0, 1, 2, ..., [num_class - 1].\n",
      "  warnings.warn(label_encoder_deprecation_msg, UserWarning)\n"
     ]
    },
    {
     "name": "stdout",
     "output_type": "stream",
     "text": [
      "{'iteration': 24, 'params': {'learning_rate': 0.031729690068625103, 'max_depth': 2, 'n_estimators': 500, 'random_state': 42}, 'score': 0.8641074856046065, 'elapsed_time': 16.497385263442993}\n"
     ]
    },
    {
     "name": "stderr",
     "output_type": "stream",
     "text": [
      "C:\\Users\\padkins\\Anaconda3\\lib\\site-packages\\xgboost\\sklearn.py:1224: UserWarning: The use of label encoder in XGBClassifier is deprecated and will be removed in a future release. To remove this warning, do the following: 1) Pass option use_label_encoder=False when constructing XGBClassifier object; and 2) Encode your labels (y) as integers starting with 0, i.e. 0, 1, 2, ..., [num_class - 1].\n",
      "  warnings.warn(label_encoder_deprecation_msg, UserWarning)\n"
     ]
    },
    {
     "name": "stdout",
     "output_type": "stream",
     "text": [
      "{'iteration': 25, 'params': {'learning_rate': 0.2734194835655152, 'max_depth': 3, 'n_estimators': 500, 'random_state': 42}, 'score': 0.8714011516314779, 'elapsed_time': 6.677684545516968}\n"
     ]
    },
    {
     "name": "stderr",
     "output_type": "stream",
     "text": [
      "C:\\Users\\padkins\\Anaconda3\\lib\\site-packages\\xgboost\\sklearn.py:1224: UserWarning: The use of label encoder in XGBClassifier is deprecated and will be removed in a future release. To remove this warning, do the following: 1) Pass option use_label_encoder=False when constructing XGBClassifier object; and 2) Encode your labels (y) as integers starting with 0, i.e. 0, 1, 2, ..., [num_class - 1].\n",
      "  warnings.warn(label_encoder_deprecation_msg, UserWarning)\n"
     ]
    },
    {
     "name": "stdout",
     "output_type": "stream",
     "text": [
      "{'iteration': 26, 'params': {'learning_rate': 0.09282715987997783, 'max_depth': 2, 'n_estimators': 500, 'random_state': 42}, 'score': 0.8679462571976967, 'elapsed_time': 16.973670482635498}\n"
     ]
    },
    {
     "name": "stderr",
     "output_type": "stream",
     "text": [
      "C:\\Users\\padkins\\Anaconda3\\lib\\site-packages\\xgboost\\sklearn.py:1224: UserWarning: The use of label encoder in XGBClassifier is deprecated and will be removed in a future release. To remove this warning, do the following: 1) Pass option use_label_encoder=False when constructing XGBClassifier object; and 2) Encode your labels (y) as integers starting with 0, i.e. 0, 1, 2, ..., [num_class - 1].\n",
      "  warnings.warn(label_encoder_deprecation_msg, UserWarning)\n"
     ]
    },
    {
     "name": "stdout",
     "output_type": "stream",
     "text": [
      "{'iteration': 27, 'params': {'learning_rate': 0.05151067044486626, 'max_depth': 3, 'n_estimators': 500, 'random_state': 42}, 'score': 0.8717850287907869, 'elapsed_time': 22.504788398742676}\n"
     ]
    },
    {
     "name": "stderr",
     "output_type": "stream",
     "text": [
      "C:\\Users\\padkins\\Anaconda3\\lib\\site-packages\\xgboost\\sklearn.py:1224: UserWarning: The use of label encoder in XGBClassifier is deprecated and will be removed in a future release. To remove this warning, do the following: 1) Pass option use_label_encoder=False when constructing XGBClassifier object; and 2) Encode your labels (y) as integers starting with 0, i.e. 0, 1, 2, ..., [num_class - 1].\n",
      "  warnings.warn(label_encoder_deprecation_msg, UserWarning)\n"
     ]
    },
    {
     "name": "stdout",
     "output_type": "stream",
     "text": [
      "{'iteration': 28, 'params': {'learning_rate': 0.20036548337782742, 'max_depth': 2, 'n_estimators': 500, 'random_state': 42}, 'score': 0.8706333973128599, 'elapsed_time': 7.662188291549683}\n"
     ]
    },
    {
     "name": "stderr",
     "output_type": "stream",
     "text": [
      "C:\\Users\\padkins\\Anaconda3\\lib\\site-packages\\xgboost\\sklearn.py:1224: UserWarning: The use of label encoder in XGBClassifier is deprecated and will be removed in a future release. To remove this warning, do the following: 1) Pass option use_label_encoder=False when constructing XGBClassifier object; and 2) Encode your labels (y) as integers starting with 0, i.e. 0, 1, 2, ..., [num_class - 1].\n",
      "  warnings.warn(label_encoder_deprecation_msg, UserWarning)\n"
     ]
    },
    {
     "name": "stdout",
     "output_type": "stream",
     "text": [
      "{'iteration': 29, 'params': {'learning_rate': 0.15194903251727898, 'max_depth': 2, 'n_estimators': 500, 'random_state': 42}, 'score': 0.872168905950096, 'elapsed_time': 11.353943824768066}\n"
     ]
    },
    {
     "name": "stderr",
     "output_type": "stream",
     "text": [
      "C:\\Users\\padkins\\Anaconda3\\lib\\site-packages\\xgboost\\sklearn.py:1224: UserWarning: The use of label encoder in XGBClassifier is deprecated and will be removed in a future release. To remove this warning, do the following: 1) Pass option use_label_encoder=False when constructing XGBClassifier object; and 2) Encode your labels (y) as integers starting with 0, i.e. 0, 1, 2, ..., [num_class - 1].\n",
      "  warnings.warn(label_encoder_deprecation_msg, UserWarning)\n"
     ]
    },
    {
     "name": "stdout",
     "output_type": "stream",
     "text": [
      "{'iteration': 30, 'params': {'learning_rate': 0.06214817325980671, 'max_depth': 4, 'n_estimators': 500, 'random_state': 42}, 'score': 0.8679462571976967, 'elapsed_time': 20.906376838684082}\n"
     ]
    },
    {
     "name": "stderr",
     "output_type": "stream",
     "text": [
      "C:\\Users\\padkins\\Anaconda3\\lib\\site-packages\\xgboost\\sklearn.py:1224: UserWarning: The use of label encoder in XGBClassifier is deprecated and will be removed in a future release. To remove this warning, do the following: 1) Pass option use_label_encoder=False when constructing XGBClassifier object; and 2) Encode your labels (y) as integers starting with 0, i.e. 0, 1, 2, ..., [num_class - 1].\n",
      "  warnings.warn(label_encoder_deprecation_msg, UserWarning)\n"
     ]
    },
    {
     "name": "stdout",
     "output_type": "stream",
     "text": [
      "{'iteration': 1, 'params': {'learning_rate': 0.20135132336103823, 'max_depth': 3, 'n_estimators': 500, 'random_state': 42}, 'score': 0.8748560460652591, 'elapsed_time': 2.8831207752227783}\n"
     ]
    },
    {
     "name": "stderr",
     "output_type": "stream",
     "text": [
      "C:\\Users\\padkins\\Anaconda3\\lib\\site-packages\\xgboost\\sklearn.py:1224: UserWarning: The use of label encoder in XGBClassifier is deprecated and will be removed in a future release. To remove this warning, do the following: 1) Pass option use_label_encoder=False when constructing XGBClassifier object; and 2) Encode your labels (y) as integers starting with 0, i.e. 0, 1, 2, ..., [num_class - 1].\n",
      "  warnings.warn(label_encoder_deprecation_msg, UserWarning)\n"
     ]
    },
    {
     "name": "stdout",
     "output_type": "stream",
     "text": [
      "{'iteration': 2, 'params': {'learning_rate': 0.12446682933394221, 'max_depth': 4, 'n_estimators': 500, 'random_state': 42}, 'score': 0.8710172744721689, 'elapsed_time': 4.539860963821411}\n"
     ]
    },
    {
     "name": "stderr",
     "output_type": "stream",
     "text": [
      "C:\\Users\\padkins\\Anaconda3\\lib\\site-packages\\xgboost\\sklearn.py:1224: UserWarning: The use of label encoder in XGBClassifier is deprecated and will be removed in a future release. To remove this warning, do the following: 1) Pass option use_label_encoder=False when constructing XGBClassifier object; and 2) Encode your labels (y) as integers starting with 0, i.e. 0, 1, 2, ..., [num_class - 1].\n",
      "  warnings.warn(label_encoder_deprecation_msg, UserWarning)\n"
     ]
    },
    {
     "name": "stdout",
     "output_type": "stream",
     "text": [
      "{'iteration': 3, 'params': {'learning_rate': 0.1642110932931839, 'max_depth': 4, 'n_estimators': 500, 'random_state': 42}, 'score': 0.8710172744721689, 'elapsed_time': 2.9585208892822266}\n"
     ]
    },
    {
     "name": "stderr",
     "output_type": "stream",
     "text": [
      "C:\\Users\\padkins\\Anaconda3\\lib\\site-packages\\xgboost\\sklearn.py:1224: UserWarning: The use of label encoder in XGBClassifier is deprecated and will be removed in a future release. To remove this warning, do the following: 1) Pass option use_label_encoder=False when constructing XGBClassifier object; and 2) Encode your labels (y) as integers starting with 0, i.e. 0, 1, 2, ..., [num_class - 1].\n",
      "  warnings.warn(label_encoder_deprecation_msg, UserWarning)\n"
     ]
    },
    {
     "name": "stdout",
     "output_type": "stream",
     "text": [
      "{'iteration': 4, 'params': {'learning_rate': 0.021740873565422585, 'max_depth': 4, 'n_estimators': 500, 'random_state': 42}, 'score': 0.8694817658349329, 'elapsed_time': 12.442775011062622}\n"
     ]
    },
    {
     "name": "stderr",
     "output_type": "stream",
     "text": [
      "C:\\Users\\padkins\\Anaconda3\\lib\\site-packages\\xgboost\\sklearn.py:1224: UserWarning: The use of label encoder in XGBClassifier is deprecated and will be removed in a future release. To remove this warning, do the following: 1) Pass option use_label_encoder=False when constructing XGBClassifier object; and 2) Encode your labels (y) as integers starting with 0, i.e. 0, 1, 2, ..., [num_class - 1].\n",
      "  warnings.warn(label_encoder_deprecation_msg, UserWarning)\n"
     ]
    },
    {
     "name": "stdout",
     "output_type": "stream",
     "text": [
      "{'iteration': 5, 'params': {'learning_rate': 0.08044968852660359, 'max_depth': 2, 'n_estimators': 500, 'random_state': 42}, 'score': 0.8690978886756238, 'elapsed_time': 5.862081050872803}\n"
     ]
    },
    {
     "name": "stderr",
     "output_type": "stream",
     "text": [
      "C:\\Users\\padkins\\Anaconda3\\lib\\site-packages\\xgboost\\sklearn.py:1224: UserWarning: The use of label encoder in XGBClassifier is deprecated and will be removed in a future release. To remove this warning, do the following: 1) Pass option use_label_encoder=False when constructing XGBClassifier object; and 2) Encode your labels (y) as integers starting with 0, i.e. 0, 1, 2, ..., [num_class - 1].\n",
      "  warnings.warn(label_encoder_deprecation_msg, UserWarning)\n"
     ]
    },
    {
     "name": "stdout",
     "output_type": "stream",
     "text": [
      "{'iteration': 6, 'params': {'learning_rate': 0.16644241909517016, 'max_depth': 2, 'n_estimators': 500, 'random_state': 42}, 'score': 0.872168905950096, 'elapsed_time': 3.7090084552764893}\n"
     ]
    },
    {
     "name": "stderr",
     "output_type": "stream",
     "text": [
      "C:\\Users\\padkins\\Anaconda3\\lib\\site-packages\\xgboost\\sklearn.py:1224: UserWarning: The use of label encoder in XGBClassifier is deprecated and will be removed in a future release. To remove this warning, do the following: 1) Pass option use_label_encoder=False when constructing XGBClassifier object; and 2) Encode your labels (y) as integers starting with 0, i.e. 0, 1, 2, ..., [num_class - 1].\n",
      "  warnings.warn(label_encoder_deprecation_msg, UserWarning)\n"
     ]
    },
    {
     "name": "stdout",
     "output_type": "stream",
     "text": [
      "{'iteration': 7, 'params': {'learning_rate': 0.17167437338299807, 'max_depth': 4, 'n_estimators': 500, 'random_state': 42}, 'score': 0.8710172744721689, 'elapsed_time': 4.0573084354400635}\n"
     ]
    },
    {
     "name": "stderr",
     "output_type": "stream",
     "text": [
      "C:\\Users\\padkins\\Anaconda3\\lib\\site-packages\\xgboost\\sklearn.py:1224: UserWarning: The use of label encoder in XGBClassifier is deprecated and will be removed in a future release. To remove this warning, do the following: 1) Pass option use_label_encoder=False when constructing XGBClassifier object; and 2) Encode your labels (y) as integers starting with 0, i.e. 0, 1, 2, ..., [num_class - 1].\n",
      "  warnings.warn(label_encoder_deprecation_msg, UserWarning)\n"
     ]
    },
    {
     "name": "stdout",
     "output_type": "stream",
     "text": [
      "{'iteration': 8, 'params': {'learning_rate': 0.2902787420853817, 'max_depth': 2, 'n_estimators': 500, 'random_state': 42}, 'score': 0.8698656429942418, 'elapsed_time': 2.1861038208007812}\n"
     ]
    },
    {
     "name": "stderr",
     "output_type": "stream",
     "text": [
      "C:\\Users\\padkins\\Anaconda3\\lib\\site-packages\\xgboost\\sklearn.py:1224: UserWarning: The use of label encoder in XGBClassifier is deprecated and will be removed in a future release. To remove this warning, do the following: 1) Pass option use_label_encoder=False when constructing XGBClassifier object; and 2) Encode your labels (y) as integers starting with 0, i.e. 0, 1, 2, ..., [num_class - 1].\n",
      "  warnings.warn(label_encoder_deprecation_msg, UserWarning)\n"
     ]
    },
    {
     "name": "stdout",
     "output_type": "stream",
     "text": [
      "{'iteration': 9, 'params': {'learning_rate': 0.22767498147939036, 'max_depth': 4, 'n_estimators': 500, 'random_state': 42}, 'score': 0.872936660268714, 'elapsed_time': 3.2747175693511963}\n"
     ]
    },
    {
     "name": "stderr",
     "output_type": "stream",
     "text": [
      "C:\\Users\\padkins\\Anaconda3\\lib\\site-packages\\xgboost\\sklearn.py:1224: UserWarning: The use of label encoder in XGBClassifier is deprecated and will be removed in a future release. To remove this warning, do the following: 1) Pass option use_label_encoder=False when constructing XGBClassifier object; and 2) Encode your labels (y) as integers starting with 0, i.e. 0, 1, 2, ..., [num_class - 1].\n",
      "  warnings.warn(label_encoder_deprecation_msg, UserWarning)\n"
     ]
    },
    {
     "name": "stdout",
     "output_type": "stream",
     "text": [
      "{'iteration': 10, 'params': {'learning_rate': 0.2993140544981196, 'max_depth': 3, 'n_estimators': 500, 'random_state': 42}, 'score': 0.8717850287907869, 'elapsed_time': 2.388629674911499}\n"
     ]
    },
    {
     "name": "stderr",
     "output_type": "stream",
     "text": [
      "C:\\Users\\padkins\\Anaconda3\\lib\\site-packages\\xgboost\\sklearn.py:1224: UserWarning: The use of label encoder in XGBClassifier is deprecated and will be removed in a future release. To remove this warning, do the following: 1) Pass option use_label_encoder=False when constructing XGBClassifier object; and 2) Encode your labels (y) as integers starting with 0, i.e. 0, 1, 2, ..., [num_class - 1].\n",
      "  warnings.warn(label_encoder_deprecation_msg, UserWarning)\n"
     ]
    },
    {
     "name": "stdout",
     "output_type": "stream",
     "text": [
      "{'iteration': 11, 'params': {'learning_rate': 0.29768724536672664, 'max_depth': 4, 'n_estimators': 500, 'random_state': 42}, 'score': 0.8690978886756238, 'elapsed_time': 2.4659268856048584}\n"
     ]
    },
    {
     "name": "stderr",
     "output_type": "stream",
     "text": [
      "C:\\Users\\padkins\\Anaconda3\\lib\\site-packages\\xgboost\\sklearn.py:1224: UserWarning: The use of label encoder in XGBClassifier is deprecated and will be removed in a future release. To remove this warning, do the following: 1) Pass option use_label_encoder=False when constructing XGBClassifier object; and 2) Encode your labels (y) as integers starting with 0, i.e. 0, 1, 2, ..., [num_class - 1].\n",
      "  warnings.warn(label_encoder_deprecation_msg, UserWarning)\n"
     ]
    },
    {
     "name": "stdout",
     "output_type": "stream",
     "text": [
      "{'iteration': 12, 'params': {'learning_rate': 0.16806724395828823, 'max_depth': 2, 'n_estimators': 500, 'random_state': 42}, 'score': 0.872936660268714, 'elapsed_time': 3.240018606185913}\n"
     ]
    },
    {
     "name": "stderr",
     "output_type": "stream",
     "text": [
      "C:\\Users\\padkins\\Anaconda3\\lib\\site-packages\\xgboost\\sklearn.py:1224: UserWarning: The use of label encoder in XGBClassifier is deprecated and will be removed in a future release. To remove this warning, do the following: 1) Pass option use_label_encoder=False when constructing XGBClassifier object; and 2) Encode your labels (y) as integers starting with 0, i.e. 0, 1, 2, ..., [num_class - 1].\n",
      "  warnings.warn(label_encoder_deprecation_msg, UserWarning)\n"
     ]
    },
    {
     "name": "stdout",
     "output_type": "stream",
     "text": [
      "{'iteration': 13, 'params': {'learning_rate': 0.27120241514184334, 'max_depth': 3, 'n_estimators': 500, 'random_state': 42}, 'score': 0.8710172744721689, 'elapsed_time': 2.724130153656006}\n"
     ]
    },
    {
     "name": "stderr",
     "output_type": "stream",
     "text": [
      "C:\\Users\\padkins\\Anaconda3\\lib\\site-packages\\xgboost\\sklearn.py:1224: UserWarning: The use of label encoder in XGBClassifier is deprecated and will be removed in a future release. To remove this warning, do the following: 1) Pass option use_label_encoder=False when constructing XGBClassifier object; and 2) Encode your labels (y) as integers starting with 0, i.e. 0, 1, 2, ..., [num_class - 1].\n",
      "  warnings.warn(label_encoder_deprecation_msg, UserWarning)\n"
     ]
    },
    {
     "name": "stdout",
     "output_type": "stream",
     "text": [
      "{'iteration': 14, 'params': {'learning_rate': 0.11239959905821087, 'max_depth': 4, 'n_estimators': 500, 'random_state': 42}, 'score': 0.8760076775431862, 'elapsed_time': 6.928049802780151}\n"
     ]
    },
    {
     "name": "stderr",
     "output_type": "stream",
     "text": [
      "C:\\Users\\padkins\\Anaconda3\\lib\\site-packages\\xgboost\\sklearn.py:1224: UserWarning: The use of label encoder in XGBClassifier is deprecated and will be removed in a future release. To remove this warning, do the following: 1) Pass option use_label_encoder=False when constructing XGBClassifier object; and 2) Encode your labels (y) as integers starting with 0, i.e. 0, 1, 2, ..., [num_class - 1].\n",
      "  warnings.warn(label_encoder_deprecation_msg, UserWarning)\n"
     ]
    },
    {
     "name": "stdout",
     "output_type": "stream",
     "text": [
      "{'iteration': 15, 'params': {'learning_rate': 0.1373038505003178, 'max_depth': 3, 'n_estimators': 500, 'random_state': 42}, 'score': 0.8717850287907869, 'elapsed_time': 4.604025602340698}\n"
     ]
    },
    {
     "name": "stderr",
     "output_type": "stream",
     "text": [
      "C:\\Users\\padkins\\Anaconda3\\lib\\site-packages\\xgboost\\sklearn.py:1224: UserWarning: The use of label encoder in XGBClassifier is deprecated and will be removed in a future release. To remove this warning, do the following: 1) Pass option use_label_encoder=False when constructing XGBClassifier object; and 2) Encode your labels (y) as integers starting with 0, i.e. 0, 1, 2, ..., [num_class - 1].\n",
      "  warnings.warn(label_encoder_deprecation_msg, UserWarning)\n"
     ]
    },
    {
     "name": "stdout",
     "output_type": "stream",
     "text": [
      "{'iteration': 16, 'params': {'learning_rate': 0.2425875544812586, 'max_depth': 4, 'n_estimators': 500, 'random_state': 42}, 'score': 0.8744721689059501, 'elapsed_time': 2.485783815383911}\n"
     ]
    },
    {
     "name": "stderr",
     "output_type": "stream",
     "text": [
      "C:\\Users\\padkins\\Anaconda3\\lib\\site-packages\\xgboost\\sklearn.py:1224: UserWarning: The use of label encoder in XGBClassifier is deprecated and will be removed in a future release. To remove this warning, do the following: 1) Pass option use_label_encoder=False when constructing XGBClassifier object; and 2) Encode your labels (y) as integers starting with 0, i.e. 0, 1, 2, ..., [num_class - 1].\n",
      "  warnings.warn(label_encoder_deprecation_msg, UserWarning)\n"
     ]
    },
    {
     "name": "stdout",
     "output_type": "stream",
     "text": [
      "{'iteration': 17, 'params': {'learning_rate': 0.06770040848284141, 'max_depth': 4, 'n_estimators': 500, 'random_state': 42}, 'score': 0.8717850287907869, 'elapsed_time': 9.145430326461792}\n"
     ]
    },
    {
     "name": "stderr",
     "output_type": "stream",
     "text": [
      "C:\\Users\\padkins\\Anaconda3\\lib\\site-packages\\xgboost\\sklearn.py:1224: UserWarning: The use of label encoder in XGBClassifier is deprecated and will be removed in a future release. To remove this warning, do the following: 1) Pass option use_label_encoder=False when constructing XGBClassifier object; and 2) Encode your labels (y) as integers starting with 0, i.e. 0, 1, 2, ..., [num_class - 1].\n",
      "  warnings.warn(label_encoder_deprecation_msg, UserWarning)\n"
     ]
    },
    {
     "name": "stdout",
     "output_type": "stream",
     "text": [
      "{'iteration': 18, 'params': {'learning_rate': 0.043813329012615004, 'max_depth': 3, 'n_estimators': 500, 'random_state': 42}, 'score': 0.874088291746641, 'elapsed_time': 9.301978588104248}\n"
     ]
    },
    {
     "name": "stderr",
     "output_type": "stream",
     "text": [
      "C:\\Users\\padkins\\Anaconda3\\lib\\site-packages\\xgboost\\sklearn.py:1224: UserWarning: The use of label encoder in XGBClassifier is deprecated and will be removed in a future release. To remove this warning, do the following: 1) Pass option use_label_encoder=False when constructing XGBClassifier object; and 2) Encode your labels (y) as integers starting with 0, i.e. 0, 1, 2, ..., [num_class - 1].\n",
      "  warnings.warn(label_encoder_deprecation_msg, UserWarning)\n"
     ]
    },
    {
     "name": "stdout",
     "output_type": "stream",
     "text": [
      "{'iteration': 19, 'params': {'learning_rate': 0.2933376625792076, 'max_depth': 3, 'n_estimators': 500, 'random_state': 42}, 'score': 0.8733205374280231, 'elapsed_time': 2.2810518741607666}\n"
     ]
    },
    {
     "name": "stderr",
     "output_type": "stream",
     "text": [
      "C:\\Users\\padkins\\Anaconda3\\lib\\site-packages\\xgboost\\sklearn.py:1224: UserWarning: The use of label encoder in XGBClassifier is deprecated and will be removed in a future release. To remove this warning, do the following: 1) Pass option use_label_encoder=False when constructing XGBClassifier object; and 2) Encode your labels (y) as integers starting with 0, i.e. 0, 1, 2, ..., [num_class - 1].\n",
      "  warnings.warn(label_encoder_deprecation_msg, UserWarning)\n"
     ]
    },
    {
     "name": "stdout",
     "output_type": "stream",
     "text": [
      "{'iteration': 20, 'params': {'learning_rate': 0.2021625237503613, 'max_depth': 2, 'n_estimators': 500, 'random_state': 42}, 'score': 0.8717850287907869, 'elapsed_time': 2.648118257522583}\n"
     ]
    },
    {
     "name": "stderr",
     "output_type": "stream",
     "text": [
      "C:\\Users\\padkins\\Anaconda3\\lib\\site-packages\\xgboost\\sklearn.py:1224: UserWarning: The use of label encoder in XGBClassifier is deprecated and will be removed in a future release. To remove this warning, do the following: 1) Pass option use_label_encoder=False when constructing XGBClassifier object; and 2) Encode your labels (y) as integers starting with 0, i.e. 0, 1, 2, ..., [num_class - 1].\n",
      "  warnings.warn(label_encoder_deprecation_msg, UserWarning)\n"
     ]
    },
    {
     "name": "stdout",
     "output_type": "stream",
     "text": [
      "{'iteration': 21, 'params': {'learning_rate': 0.15239041467034903, 'max_depth': 3, 'n_estimators': 500, 'random_state': 42}, 'score': 0.872552783109405, 'elapsed_time': 4.4059319496154785}\n"
     ]
    },
    {
     "name": "stderr",
     "output_type": "stream",
     "text": [
      "C:\\Users\\padkins\\Anaconda3\\lib\\site-packages\\xgboost\\sklearn.py:1224: UserWarning: The use of label encoder in XGBClassifier is deprecated and will be removed in a future release. To remove this warning, do the following: 1) Pass option use_label_encoder=False when constructing XGBClassifier object; and 2) Encode your labels (y) as integers starting with 0, i.e. 0, 1, 2, ..., [num_class - 1].\n",
      "  warnings.warn(label_encoder_deprecation_msg, UserWarning)\n"
     ]
    },
    {
     "name": "stdout",
     "output_type": "stream",
     "text": [
      "{'iteration': 22, 'params': {'learning_rate': 0.05716391454429106, 'max_depth': 4, 'n_estimators': 500, 'random_state': 42}, 'score': 0.872168905950096, 'elapsed_time': 9.495667219161987}\n"
     ]
    },
    {
     "name": "stderr",
     "output_type": "stream",
     "text": [
      "C:\\Users\\padkins\\Anaconda3\\lib\\site-packages\\xgboost\\sklearn.py:1224: UserWarning: The use of label encoder in XGBClassifier is deprecated and will be removed in a future release. To remove this warning, do the following: 1) Pass option use_label_encoder=False when constructing XGBClassifier object; and 2) Encode your labels (y) as integers starting with 0, i.e. 0, 1, 2, ..., [num_class - 1].\n",
      "  warnings.warn(label_encoder_deprecation_msg, UserWarning)\n"
     ]
    },
    {
     "name": "stdout",
     "output_type": "stream",
     "text": [
      "{'iteration': 23, 'params': {'learning_rate': 0.09648924964117647, 'max_depth': 3, 'n_estimators': 500, 'random_state': 42}, 'score': 0.8737044145873321, 'elapsed_time': 6.474006652832031}\n"
     ]
    },
    {
     "name": "stderr",
     "output_type": "stream",
     "text": [
      "C:\\Users\\padkins\\Anaconda3\\lib\\site-packages\\xgboost\\sklearn.py:1224: UserWarning: The use of label encoder in XGBClassifier is deprecated and will be removed in a future release. To remove this warning, do the following: 1) Pass option use_label_encoder=False when constructing XGBClassifier object; and 2) Encode your labels (y) as integers starting with 0, i.e. 0, 1, 2, ..., [num_class - 1].\n",
      "  warnings.warn(label_encoder_deprecation_msg, UserWarning)\n"
     ]
    },
    {
     "name": "stdout",
     "output_type": "stream",
     "text": [
      "{'iteration': 24, 'params': {'learning_rate': 0.21089120660289853, 'max_depth': 4, 'n_estimators': 500, 'random_state': 42}, 'score': 0.8744721689059501, 'elapsed_time': 2.8930845260620117}\n"
     ]
    },
    {
     "name": "stderr",
     "output_type": "stream",
     "text": [
      "C:\\Users\\padkins\\Anaconda3\\lib\\site-packages\\xgboost\\sklearn.py:1224: UserWarning: The use of label encoder in XGBClassifier is deprecated and will be removed in a future release. To remove this warning, do the following: 1) Pass option use_label_encoder=False when constructing XGBClassifier object; and 2) Encode your labels (y) as integers starting with 0, i.e. 0, 1, 2, ..., [num_class - 1].\n",
      "  warnings.warn(label_encoder_deprecation_msg, UserWarning)\n"
     ]
    },
    {
     "name": "stdout",
     "output_type": "stream",
     "text": [
      "{'iteration': 25, 'params': {'learning_rate': 0.09585928175667761, 'max_depth': 2, 'n_estimators': 500, 'random_state': 42}, 'score': 0.8687140115163148, 'elapsed_time': 6.1909263134002686}\n"
     ]
    },
    {
     "name": "stderr",
     "output_type": "stream",
     "text": [
      "C:\\Users\\padkins\\Anaconda3\\lib\\site-packages\\xgboost\\sklearn.py:1224: UserWarning: The use of label encoder in XGBClassifier is deprecated and will be removed in a future release. To remove this warning, do the following: 1) Pass option use_label_encoder=False when constructing XGBClassifier object; and 2) Encode your labels (y) as integers starting with 0, i.e. 0, 1, 2, ..., [num_class - 1].\n",
      "  warnings.warn(label_encoder_deprecation_msg, UserWarning)\n"
     ]
    },
    {
     "name": "stdout",
     "output_type": "stream",
     "text": [
      "{'iteration': 26, 'params': {'learning_rate': 0.21128121076400824, 'max_depth': 4, 'n_estimators': 500, 'random_state': 42}, 'score': 0.8698656429942418, 'elapsed_time': 2.762699842453003}\n"
     ]
    },
    {
     "name": "stderr",
     "output_type": "stream",
     "text": [
      "C:\\Users\\padkins\\Anaconda3\\lib\\site-packages\\xgboost\\sklearn.py:1224: UserWarning: The use of label encoder in XGBClassifier is deprecated and will be removed in a future release. To remove this warning, do the following: 1) Pass option use_label_encoder=False when constructing XGBClassifier object; and 2) Encode your labels (y) as integers starting with 0, i.e. 0, 1, 2, ..., [num_class - 1].\n",
      "  warnings.warn(label_encoder_deprecation_msg, UserWarning)\n"
     ]
    },
    {
     "name": "stdout",
     "output_type": "stream",
     "text": [
      "{'iteration': 27, 'params': {'learning_rate': 0.08130361117128727, 'max_depth': 2, 'n_estimators': 500, 'random_state': 42}, 'score': 0.872168905950096, 'elapsed_time': 6.556942462921143}\n"
     ]
    },
    {
     "name": "stderr",
     "output_type": "stream",
     "text": [
      "C:\\Users\\padkins\\Anaconda3\\lib\\site-packages\\xgboost\\sklearn.py:1224: UserWarning: The use of label encoder in XGBClassifier is deprecated and will be removed in a future release. To remove this warning, do the following: 1) Pass option use_label_encoder=False when constructing XGBClassifier object; and 2) Encode your labels (y) as integers starting with 0, i.e. 0, 1, 2, ..., [num_class - 1].\n",
      "  warnings.warn(label_encoder_deprecation_msg, UserWarning)\n"
     ]
    },
    {
     "name": "stdout",
     "output_type": "stream",
     "text": [
      "{'iteration': 28, 'params': {'learning_rate': 0.12482283755969949, 'max_depth': 4, 'n_estimators': 500, 'random_state': 42}, 'score': 0.8702495201535508, 'elapsed_time': 3.9712071418762207}\n"
     ]
    },
    {
     "name": "stderr",
     "output_type": "stream",
     "text": [
      "C:\\Users\\padkins\\Anaconda3\\lib\\site-packages\\xgboost\\sklearn.py:1224: UserWarning: The use of label encoder in XGBClassifier is deprecated and will be removed in a future release. To remove this warning, do the following: 1) Pass option use_label_encoder=False when constructing XGBClassifier object; and 2) Encode your labels (y) as integers starting with 0, i.e. 0, 1, 2, ..., [num_class - 1].\n",
      "  warnings.warn(label_encoder_deprecation_msg, UserWarning)\n"
     ]
    },
    {
     "name": "stdout",
     "output_type": "stream",
     "text": [
      "{'iteration': 29, 'params': {'learning_rate': 0.20926339692047208, 'max_depth': 3, 'n_estimators': 500, 'random_state': 42}, 'score': 0.872168905950096, 'elapsed_time': 2.7741777896881104}\n"
     ]
    },
    {
     "name": "stderr",
     "output_type": "stream",
     "text": [
      "C:\\Users\\padkins\\Anaconda3\\lib\\site-packages\\xgboost\\sklearn.py:1224: UserWarning: The use of label encoder in XGBClassifier is deprecated and will be removed in a future release. To remove this warning, do the following: 1) Pass option use_label_encoder=False when constructing XGBClassifier object; and 2) Encode your labels (y) as integers starting with 0, i.e. 0, 1, 2, ..., [num_class - 1].\n",
      "  warnings.warn(label_encoder_deprecation_msg, UserWarning)\n"
     ]
    },
    {
     "name": "stdout",
     "output_type": "stream",
     "text": [
      "{'iteration': 30, 'params': {'learning_rate': 0.18441060048374042, 'max_depth': 4, 'n_estimators': 500, 'random_state': 42}, 'score': 0.8737044145873321, 'elapsed_time': 3.455449342727661}\n"
     ]
    }
   ],
   "source": [
    "\n",
    "def load_and_save_dataset(url, column_names, columns_to_save, filename, sep):\n",
    "    try:\n",
    "        df = pd.read_csv(url, sep=sep)[columns_to_save]\n",
    "    except:\n",
    "        df = pd.read_csv(url, sep=sep, header=None, names=column_names)[columns_to_save]\n",
    "    df.to_csv(filename, index=False)\n",
    "    return df\n",
    "\n",
    "def run_experiment(\n",
    "    dataset_filename,\n",
    "    feature_names,\n",
    "    target_name,\n",
    "    categoricals,\n",
    "    continuous,\n",
    "    problem_type,\n",
    "    encoding_methods\n",
    "):\n",
    "    experiment_results = []\n",
    "    for encoding_method in encoding_methods:\n",
    "        experiment_results.append(\n",
    "            categorical_encoding_experiment(\n",
    "                dataset_filename,\n",
    "                feature_names,\n",
    "                target_name,\n",
    "                categoricals,\n",
    "                continuous,\n",
    "                encoding_method,\n",
    "                problem_type\n",
    "            )\n",
    "        )\n",
    "    return experiment_results\n",
    "\n",
    "def run_all_experiments():\n",
    "    datasets = [\n",
    "        {\n",
    "            \"url\": \"https://archive.ics.uci.edu/ml/machine-learning-databases/abalone/abalone.data\",\n",
    "            \"column_names\": [\n",
    "                \"sex\",\n",
    "                \"length\",\n",
    "                \"diameter\",\n",
    "                \"height\",\n",
    "                \"whole_weight\",\n",
    "                \"shucked_weight\",\n",
    "                \"viscera_weight\",\n",
    "                \"shell_weight\",\n",
    "                \"rings\"\n",
    "            ],\n",
    "            \"filename\": \"abalone.csv\",\n",
    "            \"target_name\": \"rings\",\n",
    "            \"categoricals\": [\"sex\"],\n",
    "            \"continuous\": [\n",
    "                \"length\",\n",
    "                \"diameter\",\n",
    "                \"height\",\n",
    "                \"whole_weight\",\n",
    "                \"shucked_weight\",\n",
    "                \"viscera_weight\",\n",
    "                \"shell_weight\"\n",
    "            ],\n",
    "            \"problem_type\": \"regression\"\n",
    "        },\n",
    "\n",
    "        {\n",
    "            \"url\": \"https://web.stanford.edu/class/archive/cs/cs109/cs109.1166/stuff/titanic.csv\",\n",
    "            \"column_names\": [\n",
    "                \"Survived\",\n",
    "                \"Pclass\",\n",
    "                \"Name\",\n",
    "                \"Sex\",\n",
    "                \"Age\",\n",
    "                \"Siblings/Spouses Aboard\",\n",
    "                \"Parents/Children Aboard\",\n",
    "                \"Fare\"\n",
    "            ],\n",
    "            \"filename\": \"titanic.csv\",\n",
    "            \"target_name\": \"Survived\",\n",
    "            \"categoricals\": [\"Pclass\", \"Sex\"],\n",
    "            \"continuous\": [\"Age\", \"Siblings/Spouses Aboard\", \"Parents/Children Aboard\", \"Fare\"],\n",
    "            \"problem_type\": \"classification\"\n",
    "        },\n",
    "        {\n",
    "            \"url\": \"https://raw.githubusercontent.com/ayan-cs/bank-marketing-uciml/main/bank-full.csv\",\n",
    "            \"column_names\": [\n",
    "                \"age\",\n",
    "                \"job\",\n",
    "                \"marital\",\n",
    "                \"education\",\n",
    "                \"default\",\n",
    "                \"housing\",\n",
    "                \"loan\",\n",
    "                \"contact\",\n",
    "                \"month\",\n",
    "                \"duration\",\n",
    "                \"campaign\",\n",
    "                \"pdays\",\n",
    "                \"previous\",\n",
    "                \"poutcome\",\n",
    "                \"y\"\n",
    "            ],\n",
    "            \"separator\":';',\n",
    "            \"filename\": \"bank.csv\",\n",
    "            \"target_name\": \"y\",\n",
    "            \"categoricals\": [\n",
    "                \"job\",\n",
    "                \"marital\",\n",
    "                \"education\",\n",
    "                \"default\",\n",
    "                \"housing\",\n",
    "                \"loan\",\n",
    "                \"contact\",\n",
    "                \"month\",\n",
    "                \"poutcome\"\n",
    "            ],\n",
    "            \"continuous\": [\n",
    "                \"age\",\n",
    "                \"duration\",\n",
    "                \"campaign\",\n",
    "                \"pdays\",\n",
    "                \"previous\",\n",
    "            ],\n",
    "            \"problem_type\": \"classification\"\n",
    "        },\n",
    "        {\n",
    "            \"url\": \"https://archive.ics.uci.edu/ml/machine-learning-databases/mushroom/agaricus-lepiota.data\",\n",
    "            \"column_names\": [\n",
    "                \"class\",\n",
    "                \"cap_shape\",\n",
    "                \"cap_surface\",\n",
    "                \"cap_color\",\n",
    "                \"bruises\",\n",
    "                \"odor\",\n",
    "                \"gill_attachment\",\n",
    "                \"gill_spacing\",\n",
    "                \"gill_size\",\n",
    "                \"gill_color\",\n",
    "                \"stalk_shape\",\n",
    "                \"stalk_root\",\n",
    "                \"stalk_surface_above_ring\",\n",
    "                \"stalk_surface_below_ring\",\n",
    "                \"stalk_color_above_ring\",\n",
    "                \"stalk_color_below_ring\",\n",
    "                \"veil_type\",\n",
    "                \"veil_color\",\n",
    "                \"ring_number\",\n",
    "                \"ring_type\",\n",
    "                \"spore_print_color\",\n",
    "                \"population\",\n",
    "                \"habitat\"\n",
    "            ],\n",
    "            \"filename\": \"mushroom.csv\",\n",
    "            \"target_name\": \"class\",\n",
    "            \"categoricals\": [\n",
    "                \"cap_shape\",\n",
    "                \"cap_surface\",\n",
    "                \"cap_color\",\n",
    "                \"bruises\",\n",
    "                \"odor\",\n",
    "                \"gill_attachment\",\n",
    "                \"gill_spacing\",\n",
    "                \"gill_size\",\n",
    "                \"gill_color\",\n",
    "                \"stalk_shape\",\n",
    "                \"stalk_root\",\n",
    "                \"stalk_surface_above_ring\",\n",
    "                \"stalk_surface_below_ring\",\n",
    "                \"stalk_color_above_ring\",\n",
    "                \"stalk_color_below_ring\",\n",
    "                \"veil_type\",\n",
    "                \"veil_color\",\n",
    "                \"ring_number\",\n",
    "                \"ring_type\",\n",
    "                \"spore_print_color\",\n",
    "                \"population\",\n",
    "                \"habitat\"\n",
    "            ],\n",
    "            \"continuous\": [],\n",
    "            \"problem_type\": \"classification\"\n",
    "        },\n",
    "        {\n",
    "            \"url\": \"https://archive.ics.uci.edu/ml/machine-learning-databases/adult/adult.data\",\n",
    "            \"column_names\": [\n",
    "                \"age\",\n",
    "                \"workclass\",\n",
    "                \"fnlwgt\",\n",
    "                \"education\",\n",
    "                \"education_num\",\n",
    "                \"marital_status\",\n",
    "                \"occupation\",\n",
    "                \"relationship\",\n",
    "                \"race\",\n",
    "                \"sex\",\n",
    "                \"capital_gain\",\n",
    "                \"capital_loss\",\n",
    "                \"hours_per_week\",\n",
    "                \"native_country\",\n",
    "                \"income\"\n",
    "            ],\n",
    "            \"filename\": \"adult.csv\",\n",
    "            \"target_name\": \"income\",\n",
    "            \"categoricals\": [\n",
    "                \"workclass\",\n",
    "                \"education\",\n",
    "                \"marital_status\",\n",
    "                \"occupation\",\n",
    "                \"relationship\",\n",
    "                \"race\",\n",
    "                \"sex\",\n",
    "                \"native_country\"\n",
    "            ],\n",
    "            \"continuous\": [\n",
    "                \"age\",\n",
    "                \"fnlwgt\",\n",
    "                \"education_num\",\n",
    "                \"capital_gain\",\n",
    "                \"capital_loss\",\n",
    "                \"hours_per_week\"\n",
    "            ],\n",
    "            \"problem_type\": \"classification\"\n",
    "        }\n",
    "    ]\n",
    "\n",
    "\n",
    "    encoding_methods = [\"binary\", \"ordinal\", \"one_hot\", \"count\"]\n",
    "\n",
    "    all_experiment_results = []\n",
    "    for dataset in datasets:\n",
    "        print('doing', dataset['filename'])\n",
    "        sep = dataset.get('separator', ',')\n",
    "        columns_to_save = dataset['continuous'] + dataset['categoricals'] + [dataset['target_name']]\n",
    "        df = load_and_save_dataset(dataset[\"url\"], dataset['column_names'], columns_to_save, dataset[\"filename\"], sep)\n",
    "        experiment_results = run_experiment(\n",
    "            dataset[\"filename\"],\n",
    "            dataset[\"column_names\"],\n",
    "            dataset[\"target_name\"],\n",
    "            dataset[\"categoricals\"],\n",
    "            dataset[\"continuous\"],\n",
    "            dataset[\"problem_type\"],\n",
    "            encoding_methods\n",
    "        )\n",
    "        all_experiment_results.extend(experiment_results)\n",
    "\n",
    "    return all_experiment_results\n",
    "\n",
    "\n",
    "all_experiment_results = run_all_experiments()"
   ]
  },
  {
   "cell_type": "markdown",
   "id": "51f2c40d",
   "metadata": {},
   "source": [
    "## Parse and Display Results as Table"
   ]
  },
  {
   "cell_type": "code",
   "execution_count": 13,
   "id": "38926c2f",
   "metadata": {},
   "outputs": [
    {
     "data": {
      "text/html": [
       "<div>\n",
       "<style scoped>\n",
       "    .dataframe tbody tr th:only-of-type {\n",
       "        vertical-align: middle;\n",
       "    }\n",
       "\n",
       "    .dataframe tbody tr th {\n",
       "        vertical-align: top;\n",
       "    }\n",
       "\n",
       "    .dataframe thead th {\n",
       "        text-align: right;\n",
       "    }\n",
       "</style>\n",
       "<table border=\"1\" class=\"dataframe\">\n",
       "  <thead>\n",
       "    <tr style=\"text-align: right;\">\n",
       "      <th></th>\n",
       "      <th>encoding_method</th>\n",
       "      <th>binary</th>\n",
       "      <th>count</th>\n",
       "      <th>one_hot</th>\n",
       "      <th>ordinal</th>\n",
       "    </tr>\n",
       "    <tr>\n",
       "      <th>dataset</th>\n",
       "      <th>problem_type</th>\n",
       "      <th></th>\n",
       "      <th></th>\n",
       "      <th></th>\n",
       "      <th></th>\n",
       "    </tr>\n",
       "  </thead>\n",
       "  <tbody>\n",
       "    <tr>\n",
       "      <th>abalone.csv</th>\n",
       "      <th>regression</th>\n",
       "      <td>4.742395</td>\n",
       "      <td>4.717736</td>\n",
       "      <td>4.760014</td>\n",
       "      <td>4.720766</td>\n",
       "    </tr>\n",
       "    <tr>\n",
       "      <th>adult.csv</th>\n",
       "      <th>classification</th>\n",
       "      <td>0.872937</td>\n",
       "      <td>0.876008</td>\n",
       "      <td>0.872937</td>\n",
       "      <td>0.872937</td>\n",
       "    </tr>\n",
       "    <tr>\n",
       "      <th>bank.csv</th>\n",
       "      <th>classification</th>\n",
       "      <td>0.912358</td>\n",
       "      <td>0.913741</td>\n",
       "      <td>0.911252</td>\n",
       "      <td>0.912358</td>\n",
       "    </tr>\n",
       "    <tr>\n",
       "      <th>mushroom.csv</th>\n",
       "      <th>classification</th>\n",
       "      <td>1.000000</td>\n",
       "      <td>1.000000</td>\n",
       "      <td>1.000000</td>\n",
       "      <td>1.000000</td>\n",
       "    </tr>\n",
       "    <tr>\n",
       "      <th>titanic.csv</th>\n",
       "      <th>classification</th>\n",
       "      <td>0.816901</td>\n",
       "      <td>0.816901</td>\n",
       "      <td>0.816901</td>\n",
       "      <td>0.816901</td>\n",
       "    </tr>\n",
       "  </tbody>\n",
       "</table>\n",
       "</div>"
      ],
      "text/plain": [
       "encoding_method                binary     count   one_hot   ordinal\n",
       "dataset      problem_type                                          \n",
       "abalone.csv  regression      4.742395  4.717736  4.760014  4.720766\n",
       "adult.csv    classification  0.872937  0.876008  0.872937  0.872937\n",
       "bank.csv     classification  0.912358  0.913741  0.911252  0.912358\n",
       "mushroom.csv classification  1.000000  1.000000  1.000000  1.000000\n",
       "titanic.csv  classification  0.816901  0.816901  0.816901  0.816901"
      ]
     },
     "execution_count": 13,
     "metadata": {},
     "output_type": "execute_result"
    }
   ],
   "source": [
    "def results_to_dataframe(all_experiment_results):\n",
    "    ''' construct dataframe, \n",
    "    extract best experimental result\n",
    "    for each encoding technique '''\n",
    "    def best_score(experiment):\n",
    "        best = min if experiment['problem_type'] == 'regression' else max if experiment['problem_type'] == 'classification' else None\n",
    "        return best(result['score'] for result in experiment['results' ])\n",
    "        \n",
    "    \n",
    "    df = pd.DataFrame(all_experiment_results)\n",
    "    df['score'] = [best_score(e) for e in all_experiment_results] \n",
    "\n",
    "    return df\n",
    "\n",
    "df = results_to_dataframe(all_experiment_results)\n",
    "df\n",
    "df.set_index(['dataset', 'problem_type', 'encoding_method'])['score'].unstack('encoding_method')"
   ]
  },
  {
   "cell_type": "markdown",
   "id": "d02fd4a1",
   "metadata": {},
   "source": [
    "# Analysis\n",
    "\n",
    "For regression problems, we're computing the mean squared error; lower is better.  \n",
    "\n",
    "For classification: it's \"accuracy\"; higher is better.  \n",
    "\n",
    "** Note: \"accuracy\" is not my favorite metric for understanding how well an ML algo is doing and has plenty of issues, but I think it's fair for comparing multiple algos.  I plan on dressing this up a bit later. \n",
    "\n",
    "According my experience and that of many others as well, \"Count Encoding\" a.k.a. \"Frequency Encoding\" is a very strong and robust technique.  You can see that here - it's consistently the best of the alternate encoding techniques auditioned. \n",
    "\n",
    "Best Results:\n",
    "- abalone: count encoding\n",
    "- adult: count / one-hot tied\n",
    "- bank: one-hot encoding\n",
    "- mushroom: too easy - all 100%\n",
    "- titanic: binary / count / one-hot tied\n",
    "\n",
    "\n",
    "The differences in accuracy here are very small.  On other datasets, it may be larger.\n",
    "\n",
    "The takeaway from this table is that count encoding is typically about as good on average as one-hot, but it has the advantages alluded to above including simplicity of representation.  \n",
    "\n",
    "# Conclusion\n",
    "\n",
    "I highly recommend that you use count/frequency encoding instead of one-hot encoding when working with tree-based models unless you've got a very good reason!\n",
    "\n",
    "# Followup\n",
    "\n",
    "I'd like to repeat these experiments with more datasets and improve the depth of comparisons between methods. \n",
    "\n",
    "There's a lot more to explore here. \n",
    "\n",
    "Thanks for reading!"
   ]
  },
  {
   "cell_type": "code",
   "execution_count": null,
   "id": "1c0c902f",
   "metadata": {},
   "outputs": [],
   "source": []
  }
 ],
 "metadata": {
  "kernelspec": {
   "display_name": "Python 3 (ipykernel)",
   "language": "python",
   "name": "python3"
  },
  "language_info": {
   "codemirror_mode": {
    "name": "ipython",
    "version": 3
   },
   "file_extension": ".py",
   "mimetype": "text/x-python",
   "name": "python",
   "nbconvert_exporter": "python",
   "pygments_lexer": "ipython3",
   "version": "3.9.7"
  }
 },
 "nbformat": 4,
 "nbformat_minor": 5
}
